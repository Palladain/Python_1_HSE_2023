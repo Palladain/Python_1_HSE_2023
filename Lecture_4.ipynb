{
  "nbformat": 4,
  "nbformat_minor": 0,
  "metadata": {
    "colab": {
      "provenance": []
    },
    "kernelspec": {
      "name": "python3",
      "display_name": "Python 3"
    },
    "language_info": {
      "name": "python"
    }
  },
  "cells": [
    {
      "cell_type": "markdown",
      "source": [
        "# Python-1, Лекция 4\n",
        "\n",
        "Лектор: Петров Тимур"
      ],
      "metadata": {
        "id": "vNu_IYXVKq7F"
      }
    },
    {
      "cell_type": "markdown",
      "source": [
        "Сегодня поговорим про функции, рекурсии, а также про такую вещь, как декораторы"
      ],
      "metadata": {
        "id": "QvBOchSFKwMR"
      }
    },
    {
      "cell_type": "markdown",
      "source": [
        "## Функции"
      ],
      "metadata": {
        "id": "xGR5BWjwyWFm"
      }
    },
    {
      "cell_type": "markdown",
      "source": [
        "Что такое функция? Функция - это некоторый объект, который принимает на вход значения и выполняющий некоторые действия (возможно, возвращая что-то). Почему на это нужно обратить внимание?\n",
        "\n",
        "Внутри многих языков (например, C++) есть разница между *функцией* и *процедурой*. В чем глобальная разница? Функция что-то возвращает, процедура - нет. Так вот:\n",
        "\n",
        "**В Python между процедурой и функцией нет совершенно никакой разницы**"
      ],
      "metadata": {
        "id": "27ksqJSCy6JC"
      }
    },
    {
      "cell_type": "markdown",
      "source": [
        "Нотация:\n",
        "\n",
        "```\n",
        "def <name>(args): #название функции (то, что это функция - говорит название def, args - это аргументы)\n",
        "    <actions>\n",
        "    [return <smth>] #(вернуть какое-то значение)\n",
        "```"
      ],
      "metadata": {
        "id": "7IZsyVtbzrpy"
      }
    },
    {
      "cell_type": "code",
      "execution_count": null,
      "metadata": {
        "colab": {
          "base_uri": "https://localhost:8080/",
          "height": 36
        },
        "id": "6C4pHYxJKn23",
        "outputId": "bac3ca59-da53-4f6f-e603-b4865e94ff55"
      },
      "outputs": [
        {
          "output_type": "execute_result",
          "data": {
            "text/plain": [
              "'Hello!'"
            ],
            "application/vnd.google.colaboratory.intrinsic+json": {
              "type": "string"
            }
          },
          "metadata": {},
          "execution_count": 1
        }
      ],
      "source": [
        "def hello():\n",
        "    return \"Hello!\" # В качестве return может быть что угодно\n",
        "\n",
        "hello()"
      ]
    },
    {
      "cell_type": "markdown",
      "source": [
        "Что такое аргументы и какие они бывают?\n",
        "\n",
        "Аргументы - это значения, которые принимает функция и использует их\n",
        "\n",
        "Аргументы бывают:\n",
        "\n",
        "* позиционные\n",
        "\n",
        "* именованные\n",
        "\n",
        "В чем различие? Именованные имеют некоторое значение по умолчанию, позицонные - нет"
      ],
      "metadata": {
        "id": "eQGrAVNZ0G9g"
      }
    },
    {
      "cell_type": "code",
      "source": [
        "def hello(name, surname=\"Mr/Mrs\"): # первый аргумент - позиционный, второй - именованный\n",
        "    return \"Hello, \" + surname + \" \" + name\n",
        "\n",
        "hello(\"Timur\", \"Petrov\")"
      ],
      "metadata": {
        "colab": {
          "base_uri": "https://localhost:8080/",
          "height": 36
        },
        "id": "RNLflXDq0vJS",
        "outputId": "2c309b56-6333-4a12-d569-0aad52e1b7de"
      },
      "execution_count": null,
      "outputs": [
        {
          "output_type": "execute_result",
          "data": {
            "text/plain": [
              "'Hello, Petrov Timur'"
            ],
            "application/vnd.google.colaboratory.intrinsic+json": {
              "type": "string"
            }
          },
          "metadata": {},
          "execution_count": 2
        }
      ]
    },
    {
      "cell_type": "markdown",
      "source": [
        "Зачем делать такое различие? На то есть несколько причин:\n",
        "\n",
        "1. Порядок. Позиционные аргументы всегда идут перед именованными! Также и при вызове: вначале указываем позиционные аргументы, а только потом именованные\n"
      ],
      "metadata": {
        "id": "Q_N-5v9T1CIc"
      }
    },
    {
      "cell_type": "code",
      "source": [
        "def hello(surname=\"Mr/Mrs\", name): # первый аргумент - позиционный, второй - именованный\n",
        "    return \"Hello, \" + surname + \" \" + name\n",
        "\n",
        "hello(\"Timur\", \"Petrov\")"
      ],
      "metadata": {
        "colab": {
          "base_uri": "https://localhost:8080/",
          "height": 147
        },
        "id": "ObBP7Def1NSO",
        "outputId": "52e22db0-5acc-4019-f851-d3f9340b26d0"
      },
      "execution_count": null,
      "outputs": [
        {
          "output_type": "error",
          "ename": "SyntaxError",
          "evalue": "ignored",
          "traceback": [
            "\u001b[0;36m  File \u001b[0;32m\"<ipython-input-3-3ccfffecd5d3>\"\u001b[0;36m, line \u001b[0;32m1\u001b[0m\n\u001b[0;31m    def hello(surname=\"Mr/Mrs\", name): # первый аргумент - позиционный, второй - именованный\u001b[0m\n\u001b[0m                                ^\u001b[0m\n\u001b[0;31mSyntaxError\u001b[0m\u001b[0;31m:\u001b[0m non-default argument follows default argument\n"
          ]
        }
      ]
    },
    {
      "cell_type": "code",
      "source": [
        "def hello(name, surname=\"Mr/Mrs\"): # первый аргумент - позиционный, второй - именованный\n",
        "    return \"Hello, \" + surname + \" \" + name\n",
        "\n",
        "hello(surname = \"Petrov\", \"Timur\")"
      ],
      "metadata": {
        "colab": {
          "base_uri": "https://localhost:8080/",
          "height": 147
        },
        "id": "d7joo66G1Xax",
        "outputId": "8584192c-b33a-4a29-a07f-0de8d306af5d"
      },
      "execution_count": null,
      "outputs": [
        {
          "output_type": "error",
          "ename": "SyntaxError",
          "evalue": "ignored",
          "traceback": [
            "\u001b[0;36m  File \u001b[0;32m\"<ipython-input-4-255b3e1ef852>\"\u001b[0;36m, line \u001b[0;32m4\u001b[0m\n\u001b[0;31m    hello(surname = \"Petrov\", \"Timur\")\u001b[0m\n\u001b[0m                                     ^\u001b[0m\n\u001b[0;31mSyntaxError\u001b[0m\u001b[0;31m:\u001b[0m positional argument follows keyword argument\n"
          ]
        }
      ]
    },
    {
      "cell_type": "code",
      "source": [
        "def hello(name, surname=\"Mr/Mrs\"): # первый аргумент - позиционный, второй - именованный\n",
        "    return \"Hello, \" + surname + \" \" + name\n",
        "\n",
        "hello(surname = \"Petrov\", name = \"Timur\") # а вот так сработает\n",
        "# Вне зависимости от того, позицонные или именованный аргумент, значение можно дать через обращение к названию аргументы"
      ],
      "metadata": {
        "colab": {
          "base_uri": "https://localhost:8080/",
          "height": 36
        },
        "id": "juKQUC0-1dfc",
        "outputId": "9231ec70-a729-4c76-a62e-4cb2ea125e2f"
      },
      "execution_count": null,
      "outputs": [
        {
          "output_type": "execute_result",
          "data": {
            "text/plain": [
              "'Hello, Petrov Timur'"
            ],
            "application/vnd.google.colaboratory.intrinsic+json": {
              "type": "string"
            }
          },
          "metadata": {},
          "execution_count": 5
        }
      ]
    },
    {
      "cell_type": "markdown",
      "source": [
        "2. Необходимость указывать его при вызове функции. В случае, если для позицонного обязательно надо задать значение, то для именованного - необязательно, тогда он подставит то значение, которое было по дефолту"
      ],
      "metadata": {
        "id": "lCS6smOt1sKx"
      }
    },
    {
      "cell_type": "code",
      "source": [
        "def hello(name, surname=\"Mr/Mrs\"): # первый аргумент - позиционный, второй - именованный\n",
        "    return \"Hello, \" + surname + \" \" + name\n",
        "\n",
        "hello(\"Timur\")"
      ],
      "metadata": {
        "colab": {
          "base_uri": "https://localhost:8080/",
          "height": 36
        },
        "id": "EUIutSt413GW",
        "outputId": "23a083d8-e026-4ccf-f319-9d45b8c5bfd6"
      },
      "execution_count": null,
      "outputs": [
        {
          "output_type": "execute_result",
          "data": {
            "text/plain": [
              "'Hello, Mr/Mrs Timur'"
            ],
            "application/vnd.google.colaboratory.intrinsic+json": {
              "type": "string"
            }
          },
          "metadata": {},
          "execution_count": 6
        }
      ]
    },
    {
      "cell_type": "markdown",
      "source": [
        "Таким образом мы можем задавать определенное число аргументов, которое можно передавать в функцию\n",
        "\n",
        "Но допустим, что мы передали неизвестное число аргументов, что тогда делать? Для этого еще есть args и kwargs:"
      ],
      "metadata": {
        "id": "nrNz5N5C2B3f"
      }
    },
    {
      "cell_type": "code",
      "source": [
        "def func(*args, **kwargs):\n",
        "    print(args, kwargs)\n",
        "\n",
        "func(1, 2, 3, 4, a = 5, b = 6)\n",
        "\n",
        "def func_new(a, b=2, *args, **kwargs):\n",
        "    print(a, b, args, kwargs)\n",
        "\n",
        "func_new(1, 3, 4, 5, k = 2, l = 3)"
      ],
      "metadata": {
        "colab": {
          "base_uri": "https://localhost:8080/"
        },
        "id": "qJ91Twi12Vrf",
        "outputId": "e92f75f8-5ba3-4b90-bdb6-397cbf1341b2"
      },
      "execution_count": null,
      "outputs": [
        {
          "output_type": "stream",
          "name": "stdout",
          "text": [
            "(1, 2, 3, 4) {'a': 5, 'b': 6}\n",
            "1 3 (4, 5) {'k': 2, 'l': 3}\n"
          ]
        }
      ]
    },
    {
      "cell_type": "markdown",
      "source": [
        "Что вообще происходит?\n",
        "\n",
        "*args - принимает все позиционные аргументы, которые не вошли в те значения, которые у нас есть\n",
        "\n",
        "**kwargs - принимает все именованные аргументы, которые не вошли в те значения, которые у нас есть"
      ],
      "metadata": {
        "id": "fB-JrMqy3k2U"
      }
    },
    {
      "cell_type": "markdown",
      "source": [
        "Вопрос на засыпку: что выведет вот этот код?"
      ],
      "metadata": {
        "id": "qdtNLnPI4CwU"
      }
    },
    {
      "cell_type": "code",
      "source": [
        "def func_new(a, b=2, *args, **kwargs):\n",
        "    print(a, b, args, kwargs)\n",
        "\n",
        "func_new(1, 2, 3, b = 5, k = 2, l = 3)"
      ],
      "metadata": {
        "id": "jlQ0rJHC4FUG"
      },
      "execution_count": null,
      "outputs": []
    },
    {
      "cell_type": "markdown",
      "source": [
        "Что такое операция * и **? (args и kwargs - это просто конвенция как их называть, на самом деле можно подставить что угодно)\n",
        "\n",
        "*-принять в себя переменное число значений\n",
        "\n",
        "**-принять в себя переменное число именнованных значений"
      ],
      "metadata": {
        "id": "CoBNXwPx5hbW"
      }
    },
    {
      "cell_type": "code",
      "source": [
        "a, *b = 1, 2, 3, 4 #не путать с ссылкой, как это работает с C++\n",
        "print(a, b)"
      ],
      "metadata": {
        "colab": {
          "base_uri": "https://localhost:8080/"
        },
        "id": "aVmloB6I54xU",
        "outputId": "39b0e0dd-c4a5-4148-c5a1-d01248e12dea"
      },
      "execution_count": null,
      "outputs": [
        {
          "output_type": "stream",
          "name": "stdout",
          "text": [
            "1 [2, 3, 4]\n"
          ]
        }
      ]
    },
    {
      "cell_type": "markdown",
      "source": [
        "Можно ли вернуть сразу несколько значений? Конечно можно!"
      ],
      "metadata": {
        "id": "c-c3cOab_GFX"
      }
    },
    {
      "cell_type": "code",
      "source": [
        "def func(a, b):\n",
        "    return a + 1, b + 1\n",
        "\n",
        "func(2, 3) #возвращается кортеж из значений, котоыре вы решили вернуть"
      ],
      "metadata": {
        "colab": {
          "base_uri": "https://localhost:8080/"
        },
        "id": "VGAxhZJQ_Iq-",
        "outputId": "38c6bc6c-0081-4dbd-c52a-12925c1df540"
      },
      "execution_count": null,
      "outputs": [
        {
          "output_type": "execute_result",
          "data": {
            "text/plain": [
              "(3, 4)"
            ]
          },
          "metadata": {},
          "execution_count": 42
        }
      ]
    },
    {
      "cell_type": "markdown",
      "source": [
        "### Локальные и глобальные переменные"
      ],
      "metadata": {
        "id": "0_N4A0CG7Zqy"
      }
    },
    {
      "cell_type": "markdown",
      "source": [
        "Каждый раз, когда мы говорим про функции, всегда всплывает вопрос: а какое тут разграничение между локальными и глобальными переменными?"
      ],
      "metadata": {
        "id": "mUjfK66v7dIg"
      }
    },
    {
      "cell_type": "code",
      "source": [
        "def f(a, b):\n",
        "    c = a + b # локальная переменная\n",
        "    k = [a, b] # локальная переменная\n",
        "    return c\n",
        "\n",
        "d = f(1, 2)\n",
        "print(c)"
      ],
      "metadata": {
        "colab": {
          "base_uri": "https://localhost:8080/",
          "height": 222
        },
        "id": "0LWu-b_w7kv3",
        "outputId": "61817108-dd42-4ba1-8499-74e0f0d59b4f"
      },
      "execution_count": null,
      "outputs": [
        {
          "output_type": "error",
          "ename": "NameError",
          "evalue": "ignored",
          "traceback": [
            "\u001b[0;31m---------------------------------------------------------------------------\u001b[0m",
            "\u001b[0;31mNameError\u001b[0m                                 Traceback (most recent call last)",
            "\u001b[0;32m<ipython-input-28-57d35a5815ca>\u001b[0m in \u001b[0;36m<cell line: 7>\u001b[0;34m()\u001b[0m\n\u001b[1;32m      5\u001b[0m \u001b[0;34m\u001b[0m\u001b[0m\n\u001b[1;32m      6\u001b[0m \u001b[0md\u001b[0m \u001b[0;34m=\u001b[0m \u001b[0mf\u001b[0m\u001b[0;34m(\u001b[0m\u001b[0;36m1\u001b[0m\u001b[0;34m,\u001b[0m \u001b[0;36m2\u001b[0m\u001b[0;34m)\u001b[0m\u001b[0;34m\u001b[0m\u001b[0;34m\u001b[0m\u001b[0m\n\u001b[0;32m----> 7\u001b[0;31m \u001b[0mprint\u001b[0m\u001b[0;34m(\u001b[0m\u001b[0mc\u001b[0m\u001b[0;34m)\u001b[0m\u001b[0;34m\u001b[0m\u001b[0;34m\u001b[0m\u001b[0m\n\u001b[0m",
            "\u001b[0;31mNameError\u001b[0m: name 'c' is not defined"
          ]
        }
      ]
    },
    {
      "cell_type": "markdown",
      "source": [
        "Все переменные, которые были созданы внутри функции - это локальные переменные (это значит, что вне функции к ним нельзя обратиться).\n",
        "\n",
        "Что с аргументами?"
      ],
      "metadata": {
        "id": "bzFqwjIU7zen"
      }
    },
    {
      "cell_type": "code",
      "source": [
        "def func(a, b, c):\n",
        "    a += 1\n",
        "    b += \"a\"\n",
        "    c.append(15)\n",
        "    return 42\n",
        "\n",
        "a = 2\n",
        "b = \"a\"\n",
        "c = [1, 2]\n",
        "print(func(a, b, c))\n",
        "print(a, b, c)"
      ],
      "metadata": {
        "colab": {
          "base_uri": "https://localhost:8080/"
        },
        "id": "0fW8xfLt7-vP",
        "outputId": "93e3703a-dfcd-453f-d23d-6b93ad193040"
      },
      "execution_count": null,
      "outputs": [
        {
          "output_type": "stream",
          "name": "stdout",
          "text": [
            "42\n",
            "2 a [1, 2, 15]\n"
          ]
        }
      ]
    },
    {
      "cell_type": "markdown",
      "source": [
        "Хоба, что-то странное. Параметр a и параметр b не изменились, а вот c изменилось. Как так? Ну давайте посмотрим:"
      ],
      "metadata": {
        "id": "3JYBV2yN8T9s"
      }
    },
    {
      "cell_type": "code",
      "source": [
        "def func(a, b, c):\n",
        "    print(\"inside func\")\n",
        "    print(\"a: \", id(a))\n",
        "    print(\"b: \", id(b))\n",
        "    print(\"c: \", id(c))\n",
        "    a += 1\n",
        "    b += \"a\"\n",
        "    c.append(15)\n",
        "    return 42\n",
        "\n",
        "a = 2\n",
        "b = \"a\"\n",
        "c = [1, 2]\n",
        "print(\"outside func\")\n",
        "print(\"a: \", id(a))\n",
        "print(\"b: \", id(b))\n",
        "print(\"c: \", id(c))\n",
        "print('-' * 30)\n",
        "print(func(a, b, c))\n",
        "print(a, b, c)"
      ],
      "metadata": {
        "colab": {
          "base_uri": "https://localhost:8080/"
        },
        "id": "uDzh22dY7rkk",
        "outputId": "2faf0fd4-fc93-4075-b91a-a5a442eb1623"
      },
      "execution_count": null,
      "outputs": [
        {
          "output_type": "stream",
          "name": "stdout",
          "text": [
            "outside func\n",
            "a:  137120898351376\n",
            "b:  137120897170864\n",
            "c:  137119626375808\n",
            "------------------------------\n",
            "inside func\n",
            "a:  137120898351376\n",
            "b:  137120897170864\n",
            "c:  137119626375808\n",
            "42\n",
            "2 a [1, 2, 15]\n"
          ]
        }
      ]
    },
    {
      "cell_type": "markdown",
      "source": [
        "Что происходит при передаче аргументов в функцию? Мы передаем ссылку на место, откуда брать данные. А что дальше?\n",
        "\n",
        "А дальше все зависит от того, является ли объект изменяемым или нет. Если он неизменяемый - то при любой операции мы создаем новый объект. В случае изменяемого - то при операции мы не создаем новый объект\n",
        "\n",
        "Поэтому в одном случае у нас исходное значение не меняется, а вот в другом - меняется. С этим же связан еще один \"баг\":"
      ],
      "metadata": {
        "id": "BQ0tCTts800j"
      }
    },
    {
      "cell_type": "code",
      "source": [
        "def add_product(products=[]):\n",
        "    print(id(products))\n",
        "    products.append(\"Jiafey sexy product\")\n",
        "    return products\n",
        "\n",
        "print(add_product())"
      ],
      "metadata": {
        "colab": {
          "base_uri": "https://localhost:8080/"
        },
        "id": "b7pLGImT9YmV",
        "outputId": "142bda87-9e60-4abd-82ae-faef1295a28f"
      },
      "execution_count": null,
      "outputs": [
        {
          "output_type": "stream",
          "name": "stdout",
          "text": [
            "137120196726784\n",
            "['Jiafey sexy product']\n"
          ]
        }
      ]
    },
    {
      "cell_type": "code",
      "source": [
        "print(add_product())"
      ],
      "metadata": {
        "colab": {
          "base_uri": "https://localhost:8080/"
        },
        "id": "6nKkky9j9rKy",
        "outputId": "95b5cae4-aa14-4a03-8de3-d83a226c444e"
      },
      "execution_count": null,
      "outputs": [
        {
          "output_type": "stream",
          "name": "stdout",
          "text": [
            "137120196726784\n",
            "['Jiafey sexy product', 'Jiafey sexy product']\n"
          ]
        }
      ]
    },
    {
      "cell_type": "markdown",
      "source": [
        "Зашибись, правда? Дефолтное значение имеет свою ячейку памяти! А это значит, что если в качестве дефолтного параметра передать что-то изменяемое, то вот, пожалуйста, оно будет храниться. Как с этим бороться?"
      ],
      "metadata": {
        "id": "NfX-VIwm941f"
      }
    },
    {
      "cell_type": "code",
      "source": [
        "def add_product(products=None):\n",
        "    if products is None:\n",
        "        products = [] # так мы всегда уверены, что создаем новый список\n",
        "    print(id(products))\n",
        "    products.append(\"Jiafey sexy product\")\n",
        "    return products\n",
        "\n",
        "print(add_product())\n",
        "print(add_product())"
      ],
      "metadata": {
        "colab": {
          "base_uri": "https://localhost:8080/"
        },
        "id": "o5FIEVHA-ePu",
        "outputId": "f562b702-0927-4348-dd1c-dc18921ed6de"
      },
      "execution_count": null,
      "outputs": [
        {
          "output_type": "stream",
          "name": "stdout",
          "text": [
            "137119627370496\n",
            "['Jiafey sexy product']\n",
            "137119626810432\n",
            "['Jiafey sexy product']\n"
          ]
        }
      ]
    },
    {
      "cell_type": "markdown",
      "source": [
        "Продолжаем с локальными и глобальными переменными:"
      ],
      "metadata": {
        "id": "FbMt_U7__aKV"
      }
    },
    {
      "cell_type": "code",
      "source": [
        "def country():\n",
        "    s = \"USA\" # здесь локальная\n",
        "    print(s)\n",
        "\n",
        "s = \"Russia\"\n",
        "country()\n",
        "print(s) #здесь глобальная"
      ],
      "metadata": {
        "colab": {
          "base_uri": "https://localhost:8080/"
        },
        "id": "XEtO_jtmBH2r",
        "outputId": "0d6e898a-2616-4c34-c101-1ffd9aeb9c37"
      },
      "execution_count": null,
      "outputs": [
        {
          "output_type": "stream",
          "name": "stdout",
          "text": [
            "USA\n",
            "Russia\n"
          ]
        }
      ]
    },
    {
      "cell_type": "code",
      "source": [
        "def country():\n",
        "    print(s) # Выведет ошибку, потому что видит, что такая локальная переменная будет\n",
        "    s = \"USA\" # здесь локальная\n",
        "    print(s)\n",
        "\n",
        "s = \"Russia\"\n",
        "country()\n",
        "print(s) #здесь глобальная"
      ],
      "metadata": {
        "colab": {
          "base_uri": "https://localhost:8080/",
          "height": 373
        },
        "id": "F8oJtqJkBTtE",
        "outputId": "b0e0ac72-7323-4d77-fcc3-3cb46915cc49"
      },
      "execution_count": null,
      "outputs": [
        {
          "output_type": "error",
          "ename": "UnboundLocalError",
          "evalue": "ignored",
          "traceback": [
            "\u001b[0;31m---------------------------------------------------------------------------\u001b[0m",
            "\u001b[0;31mUnboundLocalError\u001b[0m                         Traceback (most recent call last)",
            "\u001b[0;32m<ipython-input-45-9bb05d5bab29>\u001b[0m in \u001b[0;36m<cell line: 7>\u001b[0;34m()\u001b[0m\n\u001b[1;32m      5\u001b[0m \u001b[0;34m\u001b[0m\u001b[0m\n\u001b[1;32m      6\u001b[0m \u001b[0ms\u001b[0m \u001b[0;34m=\u001b[0m \u001b[0;34m\"Russia\"\u001b[0m\u001b[0;34m\u001b[0m\u001b[0;34m\u001b[0m\u001b[0m\n\u001b[0;32m----> 7\u001b[0;31m \u001b[0mcountry\u001b[0m\u001b[0;34m(\u001b[0m\u001b[0;34m)\u001b[0m\u001b[0;34m\u001b[0m\u001b[0;34m\u001b[0m\u001b[0m\n\u001b[0m\u001b[1;32m      8\u001b[0m \u001b[0mprint\u001b[0m\u001b[0;34m(\u001b[0m\u001b[0ms\u001b[0m\u001b[0;34m)\u001b[0m \u001b[0;31m#здесь глобальная\u001b[0m\u001b[0;34m\u001b[0m\u001b[0;34m\u001b[0m\u001b[0m\n",
            "\u001b[0;32m<ipython-input-45-9bb05d5bab29>\u001b[0m in \u001b[0;36mcountry\u001b[0;34m()\u001b[0m\n\u001b[1;32m      1\u001b[0m \u001b[0;32mdef\u001b[0m \u001b[0mcountry\u001b[0m\u001b[0;34m(\u001b[0m\u001b[0;34m)\u001b[0m\u001b[0;34m:\u001b[0m\u001b[0;34m\u001b[0m\u001b[0;34m\u001b[0m\u001b[0m\n\u001b[0;32m----> 2\u001b[0;31m     \u001b[0mprint\u001b[0m\u001b[0;34m(\u001b[0m\u001b[0ms\u001b[0m\u001b[0;34m)\u001b[0m\u001b[0;34m\u001b[0m\u001b[0;34m\u001b[0m\u001b[0m\n\u001b[0m\u001b[1;32m      3\u001b[0m     \u001b[0ms\u001b[0m \u001b[0;34m=\u001b[0m \u001b[0;34m\"USA\"\u001b[0m \u001b[0;31m# здесь локальная\u001b[0m\u001b[0;34m\u001b[0m\u001b[0;34m\u001b[0m\u001b[0m\n\u001b[1;32m      4\u001b[0m     \u001b[0mprint\u001b[0m\u001b[0;34m(\u001b[0m\u001b[0ms\u001b[0m\u001b[0;34m)\u001b[0m\u001b[0;34m\u001b[0m\u001b[0;34m\u001b[0m\u001b[0m\n\u001b[1;32m      5\u001b[0m \u001b[0;34m\u001b[0m\u001b[0m\n",
            "\u001b[0;31mUnboundLocalError\u001b[0m: local variable 's' referenced before assignment"
          ]
        }
      ]
    },
    {
      "cell_type": "code",
      "source": [
        "def country():\n",
        "    print(s) # Если локальной нет, то выведет глобальную\n",
        "\n",
        "s = \"Russia\"\n",
        "country()\n",
        "print(s) #здесь глобальная"
      ],
      "metadata": {
        "colab": {
          "base_uri": "https://localhost:8080/"
        },
        "id": "0xXQ7y1OBZck",
        "outputId": "da44efef-df6a-4ed3-90b4-9cb8f7c02b5b"
      },
      "execution_count": null,
      "outputs": [
        {
          "output_type": "stream",
          "name": "stdout",
          "text": [
            "Russia\n",
            "Russia\n"
          ]
        }
      ]
    },
    {
      "cell_type": "markdown",
      "source": [
        "Что здесь важно? Функция \"просматривает\" локальные переменные, и если такая переменная есть, то она считается только локальной. Если такой нет, то берем глобальную\n",
        "\n",
        "Что можно сделать? Отдельно объявить переменную \"глобальной\" (но делая ее глобальной, учитывайте, что она будет меняться и вне)"
      ],
      "metadata": {
        "id": "s_5nQSoBBfCw"
      }
    },
    {
      "cell_type": "code",
      "source": [
        "def country():\n",
        "    global s\n",
        "    print(s)\n",
        "    s = \"USA\"\n",
        "    print(s)\n",
        "\n",
        "s = \"Russia\"\n",
        "country()\n",
        "print(s) #здесь глобальная"
      ],
      "metadata": {
        "colab": {
          "base_uri": "https://localhost:8080/"
        },
        "id": "3Qj9FtggByCT",
        "outputId": "ed7f5f8c-cc56-4af5-ec5b-b56da34411a8"
      },
      "execution_count": null,
      "outputs": [
        {
          "output_type": "stream",
          "name": "stdout",
          "text": [
            "Russia\n",
            "USA\n",
            "USA\n"
          ]
        }
      ]
    },
    {
      "cell_type": "markdown",
      "source": [
        "### DocString"
      ],
      "metadata": {
        "id": "D3J8wqBmd27e"
      }
    },
    {
      "cell_type": "markdown",
      "source": [
        "Мы написали кучу функций, порадовались, закрыли проект. Приходит через неделю новый человек, которому надо в вашем коде что-то исправить или в целом использовать ваш код. Он смотрит на функции... И ничего не понимает: что, куда, как использовать. Что же делать?\n",
        "\n",
        "Наверное, нужно как-то описать функцию (помимо названия). Для этого существуют docstringи! Что это такое?\n",
        "\n",
        "Это описание функции!"
      ],
      "metadata": {
        "id": "csMdfUsVd4x1"
      }
    },
    {
      "cell_type": "code",
      "source": [
        "def f(x):\n",
        "    ''' Add 1 to our number''' # вот это docstring\n",
        "    return x + 1\n",
        "\n",
        "print(f(0))"
      ],
      "metadata": {
        "colab": {
          "base_uri": "https://localhost:8080/"
        },
        "id": "k3wMbcROeQOX",
        "outputId": "9f4743fd-e830-4574-c240-fd7b6fcd5852"
      },
      "execution_count": null,
      "outputs": [
        {
          "output_type": "stream",
          "name": "stdout",
          "text": [
            "1\n"
          ]
        }
      ]
    },
    {
      "cell_type": "markdown",
      "source": [
        "Для большинства функций всегда есть docstring:"
      ],
      "metadata": {
        "id": "Kr3MqjOzedBd"
      }
    },
    {
      "cell_type": "code",
      "source": [
        "import numpy as np\n",
        "\n",
        "np.dot()"
      ],
      "metadata": {
        "id": "JFgi2qwjegi_"
      },
      "execution_count": null,
      "outputs": []
    },
    {
      "cell_type": "markdown",
      "source": [
        "### Лямбда-функции"
      ],
      "metadata": {
        "id": "NtYyEBzq7Jzz"
      }
    },
    {
      "cell_type": "markdown",
      "source": [
        "Иногда наши фукции состоят из всего 1 строки, типа такого:"
      ],
      "metadata": {
        "id": "8HssTw237Lnl"
      }
    },
    {
      "cell_type": "code",
      "source": [
        "def pol(x, a, b, c):\n",
        "    return a * x ** 2 + b * x + c\n",
        "\n",
        "def make_input(s):\n",
        "    return list(map(int, s.split()))\n",
        "\n",
        "print(pol(1, 2, 3, 4))\n",
        "print(make_input(\"1 2 3 4\"))"
      ],
      "metadata": {
        "colab": {
          "base_uri": "https://localhost:8080/"
        },
        "id": "KlZCEXLUCydG",
        "outputId": "9d74334e-50bd-4a20-f2bf-e60e9d63e054"
      },
      "execution_count": null,
      "outputs": [
        {
          "output_type": "stream",
          "name": "stdout",
          "text": [
            "9\n",
            "[1, 2, 3, 4]\n"
          ]
        }
      ]
    },
    {
      "cell_type": "markdown",
      "source": [
        "Делать для нее отдельное название - удлинять код (хоть и выглядит достаточно логично и читабельно). Вот для таких штук созданы так называемые анонимные (или лямбда) функции. Как это выглядит?\n",
        "\n",
        "```\n",
        "lambda <args> : <action>\n",
        "```\n",
        "\n",
        "Для чего это удобно? Например, в ситуации, когда функция требуется нам всего лишь один раз"
      ],
      "metadata": {
        "id": "OFwv25grC_DS"
      }
    },
    {
      "cell_type": "code",
      "source": [
        "import math as m\n",
        "\n",
        "a = lambda x: x + m.sin(x)\n",
        "print(a(5))"
      ],
      "metadata": {
        "colab": {
          "base_uri": "https://localhost:8080/"
        },
        "id": "XPXUPeozD4VS",
        "outputId": "a668da3a-a596-491e-e614-c946c5816cd6"
      },
      "execution_count": null,
      "outputs": [
        {
          "output_type": "stream",
          "name": "stdout",
          "text": [
            "4.041075725336862\n"
          ]
        }
      ]
    },
    {
      "cell_type": "markdown",
      "source": [
        "Чем это удобно? Допустим, что у нас есть ввод, содержащий числа, а нам надо вывести все квадраты чисел\n",
        "\n",
        "Решаем традиционным способом:"
      ],
      "metadata": {
        "id": "BY7gzmfbErhi"
      }
    },
    {
      "cell_type": "code",
      "source": [
        "%%time\n",
        "\n",
        "s = '1 2 3 4 5 6 7 8 9 10'\n",
        "res = list(map(int, s.split()))\n",
        "for i in range(0, len(res)):\n",
        "    res[i] **= 2\n",
        "print(res)"
      ],
      "metadata": {
        "colab": {
          "base_uri": "https://localhost:8080/"
        },
        "id": "bgM7FeU-Ewar",
        "outputId": "e5518b99-6228-411d-f6d9-c1ee6e6de5a2"
      },
      "execution_count": null,
      "outputs": [
        {
          "output_type": "stream",
          "name": "stdout",
          "text": [
            "[1, 4, 9, 16, 25, 36, 49, 64, 81, 100]\n",
            "CPU times: user 0 ns, sys: 924 µs, total: 924 µs\n",
            "Wall time: 821 µs\n"
          ]
        }
      ]
    },
    {
      "cell_type": "markdown",
      "source": [
        "Делать лишний for - ну такое. А давайте вот так:"
      ],
      "metadata": {
        "id": "mVhfJe_xFJJf"
      }
    },
    {
      "cell_type": "code",
      "source": [
        "%%time\n",
        "\n",
        "s = '1 2 3 4 5 6 7 8 9 10'\n",
        "res = list(map(lambda x: int(x) ** 2, s.split()))\n",
        "print(res)"
      ],
      "metadata": {
        "colab": {
          "base_uri": "https://localhost:8080/"
        },
        "id": "6PuQLpwCFNJ0",
        "outputId": "7316ab7c-7fb7-49fe-fb9c-a1b51914b37e"
      },
      "execution_count": null,
      "outputs": [
        {
          "output_type": "stream",
          "name": "stdout",
          "text": [
            "[1, 4, 9, 16, 25, 36, 49, 64, 81, 100]\n",
            "CPU times: user 120 µs, sys: 0 ns, total: 120 µs\n",
            "Wall time: 125 µs\n"
          ]
        }
      ]
    },
    {
      "cell_type": "markdown",
      "source": [
        "Хоба! А мы тут функцию написали, и все сработало! (А еще лямбда-функция в целом быстрее)"
      ],
      "metadata": {
        "id": "2Hx93hhmFxaM"
      }
    },
    {
      "cell_type": "code",
      "source": [
        "%%time\n",
        "\n",
        "def f(x):\n",
        "    return int(x) ** 2\n",
        "\n",
        "s = '1 2 3 4 5 6 7 8 9 10'\n",
        "res = list(map(f, s.split()))\n",
        "print(res)"
      ],
      "metadata": {
        "colab": {
          "base_uri": "https://localhost:8080/"
        },
        "id": "s-_nNRODF0zw",
        "outputId": "686125e3-3234-43f6-8aea-09e016f9f7a0"
      },
      "execution_count": null,
      "outputs": [
        {
          "output_type": "stream",
          "name": "stdout",
          "text": [
            "[1, 4, 9, 16, 25, 36, 49, 64, 81, 100]\n",
            "CPU times: user 485 µs, sys: 30 µs, total: 515 µs\n",
            "Wall time: 465 µs\n"
          ]
        }
      ]
    },
    {
      "cell_type": "markdown",
      "source": [
        "Для каких еще функций хорошо подходят лямбда-функции? Разберем еще 2 функции:\n",
        "\n",
        "* filter(f, values) - отфильтровать значения с помощью функции f"
      ],
      "metadata": {
        "id": "abnYKO-MDdCs"
      }
    },
    {
      "cell_type": "code",
      "source": [
        "a = [1, 2, 3, 4, 5]\n",
        "list(filter(lambda x: (x % 3 == 0) or (x % 2 == 0), a))"
      ],
      "metadata": {
        "colab": {
          "base_uri": "https://localhost:8080/"
        },
        "id": "RAZkRnpGEh8W",
        "outputId": "96ea504d-a1bf-4689-f7c9-9ddb8c428097"
      },
      "execution_count": null,
      "outputs": [
        {
          "output_type": "execute_result",
          "data": {
            "text/plain": [
              "[2, 3, 4]"
            ]
          },
          "metadata": {},
          "execution_count": 9
        }
      ]
    },
    {
      "cell_type": "markdown",
      "source": [
        "* reduce(f, values) - поэлементная операция. Тут проще пояснить на примере (эту функцию ненавид даже создатель Python, Гвидо ван Россум)"
      ],
      "metadata": {
        "id": "1fGXTcqlEItj"
      }
    },
    {
      "cell_type": "code",
      "source": [
        "from functools import reduce\n",
        "\n",
        "a = [1, 2, 3, 4, 5]\n",
        "reduce(lambda x, y: x + y, a) #аналогично сумме всех элементов в списке"
      ],
      "metadata": {
        "colab": {
          "base_uri": "https://localhost:8080/"
        },
        "id": "lJ9tnlBwEtE2",
        "outputId": "7224cde5-0284-4e7d-8b6f-2db1e0c4df3e"
      },
      "execution_count": null,
      "outputs": [
        {
          "output_type": "execute_result",
          "data": {
            "text/plain": [
              "15"
            ]
          },
          "metadata": {},
          "execution_count": 6
        }
      ]
    },
    {
      "cell_type": "code",
      "source": [
        "a = [1, 2, 3, 4, 5]\n",
        "reduce(lambda x, y: x + y if x + y < 5 else 5, a)"
      ],
      "metadata": {
        "colab": {
          "base_uri": "https://localhost:8080/"
        },
        "id": "ZRgIXLI-FfoR",
        "outputId": "390d9d2b-c43e-4659-fc5d-35d6fc6041f4"
      },
      "execution_count": null,
      "outputs": [
        {
          "output_type": "execute_result",
          "data": {
            "text/plain": [
              "5"
            ]
          },
          "metadata": {},
          "execution_count": 10
        }
      ]
    },
    {
      "cell_type": "markdown",
      "source": [
        "## Рекурсия"
      ],
      "metadata": {
        "id": "cMWicYHVyXcx"
      }
    },
    {
      "cell_type": "markdown",
      "source": [
        "Итак, у нас теперь есть функции, а значит мы можем делать рекурсии!\n",
        "\n",
        "Что такое рекурсия? Это функция, которая вызывает сама себя. А зачем это надо?\n",
        "\n",
        "Давайте разберем следующую задачу:\n",
        "\n",
        "У нас есть доска, 8x8. И есть кузнечик, который начинает в левом нижнем углу. он умеет ходить только на один шаг вправо или на 1 шаг вверх. Сколько вариантов у кузнечика дойти до правого верхнего угла?\n",
        "\n",
        "Вот здесь нам и помогают рекурсии!"
      ],
      "metadata": {
        "id": "STGzQ6j-EoVk"
      }
    },
    {
      "cell_type": "code",
      "source": [
        "def jump_comb(f_x = 0, f_y = 0, l_x = 7, l_y = 7):\n",
        "    if (f_x == l_x) and (f_y == l_y):\n",
        "        return 1\n",
        "    elif f_x == l_x:\n",
        "        return jump_comb(f_x, f_y + 1, l_x, l_y)\n",
        "    elif f_y == l_y:\n",
        "        return jump_comb(f_x + 1, f_y, l_x, l_y)\n",
        "    return jump_comb(f_x + 1, f_y, l_x, l_y) + jump_comb(f_x, f_y + 1, l_x, l_y)\n",
        "\n",
        "print(jump_comb())"
      ],
      "metadata": {
        "colab": {
          "base_uri": "https://localhost:8080/"
        },
        "id": "W2aBSj-4VDs0",
        "outputId": "af5716ee-573f-4498-bce7-d799e129231e"
      },
      "execution_count": null,
      "outputs": [
        {
          "output_type": "stream",
          "name": "stdout",
          "text": [
            "3432\n"
          ]
        }
      ]
    },
    {
      "cell_type": "markdown",
      "source": [
        "То есть это хорошо работает в ситуациях, когда у нас решение задачи зависит от решения **подзадач**, которые по существу то же самое, но с другим набором начальнго положения. Что важно для рекурсии?\n",
        "\n",
        "* Наличие критерия остановы (то есть некоторой ситуации, когда рекурсия кончается)\n",
        "\n",
        "* Решение исходной задачи зависит от подзадач"
      ],
      "metadata": {
        "id": "WGKIHYx_V9Te"
      }
    },
    {
      "cell_type": "markdown",
      "source": [
        "Что нам важно в контексте Python с точки зрения рекурсии?\n",
        "\n",
        "Давайте попробуем запустить вот такой код:"
      ],
      "metadata": {
        "id": "6AwNOFU6WYV3"
      }
    },
    {
      "cell_type": "code",
      "source": [
        "def add(x):\n",
        "    if x == 10000:\n",
        "        return x\n",
        "    return add(x + 1)\n",
        "\n",
        "add(0)"
      ],
      "metadata": {
        "colab": {
          "base_uri": "https://localhost:8080/",
          "height": 416
        },
        "id": "HD7AddMEWip5",
        "outputId": "cdd24da9-e900-41a3-88ed-0d22f280bbad"
      },
      "execution_count": null,
      "outputs": [
        {
          "output_type": "error",
          "ename": "RecursionError",
          "evalue": "ignored",
          "traceback": [
            "\u001b[0;31m---------------------------------------------------------------------------\u001b[0m",
            "\u001b[0;31mRecursionError\u001b[0m                            Traceback (most recent call last)",
            "\u001b[0;32m<ipython-input-69-3f493268716a>\u001b[0m in \u001b[0;36m<cell line: 6>\u001b[0;34m()\u001b[0m\n\u001b[1;32m      4\u001b[0m     \u001b[0;32mreturn\u001b[0m \u001b[0madd\u001b[0m\u001b[0;34m(\u001b[0m\u001b[0mx\u001b[0m \u001b[0;34m+\u001b[0m \u001b[0;36m1\u001b[0m\u001b[0;34m)\u001b[0m\u001b[0;34m\u001b[0m\u001b[0;34m\u001b[0m\u001b[0m\n\u001b[1;32m      5\u001b[0m \u001b[0;34m\u001b[0m\u001b[0m\n\u001b[0;32m----> 6\u001b[0;31m \u001b[0madd\u001b[0m\u001b[0;34m(\u001b[0m\u001b[0;36m0\u001b[0m\u001b[0;34m)\u001b[0m\u001b[0;34m\u001b[0m\u001b[0;34m\u001b[0m\u001b[0m\n\u001b[0m",
            "\u001b[0;32m<ipython-input-69-3f493268716a>\u001b[0m in \u001b[0;36madd\u001b[0;34m(x)\u001b[0m\n\u001b[1;32m      2\u001b[0m     \u001b[0;32mif\u001b[0m \u001b[0mx\u001b[0m \u001b[0;34m==\u001b[0m \u001b[0;36m10000\u001b[0m\u001b[0;34m:\u001b[0m\u001b[0;34m\u001b[0m\u001b[0;34m\u001b[0m\u001b[0m\n\u001b[1;32m      3\u001b[0m         \u001b[0;32mreturn\u001b[0m \u001b[0mx\u001b[0m\u001b[0;34m\u001b[0m\u001b[0;34m\u001b[0m\u001b[0m\n\u001b[0;32m----> 4\u001b[0;31m     \u001b[0;32mreturn\u001b[0m \u001b[0madd\u001b[0m\u001b[0;34m(\u001b[0m\u001b[0mx\u001b[0m \u001b[0;34m+\u001b[0m \u001b[0;36m1\u001b[0m\u001b[0;34m)\u001b[0m\u001b[0;34m\u001b[0m\u001b[0;34m\u001b[0m\u001b[0m\n\u001b[0m\u001b[1;32m      5\u001b[0m \u001b[0;34m\u001b[0m\u001b[0m\n\u001b[1;32m      6\u001b[0m \u001b[0madd\u001b[0m\u001b[0;34m(\u001b[0m\u001b[0;36m0\u001b[0m\u001b[0;34m)\u001b[0m\u001b[0;34m\u001b[0m\u001b[0;34m\u001b[0m\u001b[0m\n",
            "... last 1 frames repeated, from the frame below ...\n",
            "\u001b[0;32m<ipython-input-69-3f493268716a>\u001b[0m in \u001b[0;36madd\u001b[0;34m(x)\u001b[0m\n\u001b[1;32m      2\u001b[0m     \u001b[0;32mif\u001b[0m \u001b[0mx\u001b[0m \u001b[0;34m==\u001b[0m \u001b[0;36m10000\u001b[0m\u001b[0;34m:\u001b[0m\u001b[0;34m\u001b[0m\u001b[0;34m\u001b[0m\u001b[0m\n\u001b[1;32m      3\u001b[0m         \u001b[0;32mreturn\u001b[0m \u001b[0mx\u001b[0m\u001b[0;34m\u001b[0m\u001b[0;34m\u001b[0m\u001b[0m\n\u001b[0;32m----> 4\u001b[0;31m     \u001b[0;32mreturn\u001b[0m \u001b[0madd\u001b[0m\u001b[0;34m(\u001b[0m\u001b[0mx\u001b[0m \u001b[0;34m+\u001b[0m \u001b[0;36m1\u001b[0m\u001b[0;34m)\u001b[0m\u001b[0;34m\u001b[0m\u001b[0;34m\u001b[0m\u001b[0m\n\u001b[0m\u001b[1;32m      5\u001b[0m \u001b[0;34m\u001b[0m\u001b[0m\n\u001b[1;32m      6\u001b[0m \u001b[0madd\u001b[0m\u001b[0;34m(\u001b[0m\u001b[0;36m0\u001b[0m\u001b[0;34m)\u001b[0m\u001b[0;34m\u001b[0m\u001b[0;34m\u001b[0m\u001b[0m\n",
            "\u001b[0;31mRecursionError\u001b[0m: maximum recursion depth exceeded in comparison"
          ]
        }
      ]
    },
    {
      "cell_type": "markdown",
      "source": [
        "Код валидный, все нормально работает, что пошло не так? Внутри Python есть ограничение на глубину рекурсий (то есть сколько можно вызвать внутри себя функцию)"
      ],
      "metadata": {
        "id": "V0J-IZSvWqhb"
      }
    },
    {
      "cell_type": "code",
      "source": [
        "import sys #библиотека sys позволяет посмотреть на различные специфические для системы значения\n",
        "# Более подробно: https://docs.python.org/3/library/sys.html\n",
        "\n",
        "print(sys.getrecursionlimit())  # позволяет получить максимальную глубину рекурсии"
      ],
      "metadata": {
        "colab": {
          "base_uri": "https://localhost:8080/"
        },
        "id": "XjpAjjpyW4uH",
        "outputId": "fb754e5e-9217-4110-a2cc-0bacebdad9db"
      },
      "execution_count": null,
      "outputs": [
        {
          "output_type": "stream",
          "name": "stdout",
          "text": [
            "1000\n"
          ]
        }
      ]
    },
    {
      "cell_type": "markdown",
      "source": [
        "Внутреннее ограничение Python - 1000 (где-то может быть другим, можете посмотреть у себя, но обычно 1000)\n",
        "\n",
        "Допустим, что мы с вами знаем, что нам нужно больше (точно нельзя лучше). Что тогда делать? Праивльно - установить собственный лимит!"
      ],
      "metadata": {
        "id": "CxRCSaZGW5rx"
      }
    },
    {
      "cell_type": "code",
      "source": [
        "sys.setrecursionlimit(100000)\n",
        "print(sys.getrecursionlimit())"
      ],
      "metadata": {
        "colab": {
          "base_uri": "https://localhost:8080/"
        },
        "id": "vOUn6lrfXYX8",
        "outputId": "1dce6041-ee57-471f-e64a-fd6e8edb8383"
      },
      "execution_count": null,
      "outputs": [
        {
          "output_type": "stream",
          "name": "stdout",
          "text": [
            "100000\n"
          ]
        }
      ]
    },
    {
      "cell_type": "code",
      "source": [
        "def add(x):\n",
        "    if x == 10000:\n",
        "        return x\n",
        "    return add(x + 1)\n",
        "\n",
        "add(0)"
      ],
      "metadata": {
        "colab": {
          "base_uri": "https://localhost:8080/"
        },
        "id": "QsT6ULYTXdHg",
        "outputId": "fb984192-2d9e-4835-8902-f62a7963fa35"
      },
      "execution_count": null,
      "outputs": [
        {
          "output_type": "execute_result",
          "data": {
            "text/plain": [
              "10000"
            ]
          },
          "metadata": {},
          "execution_count": 72
        }
      ]
    },
    {
      "cell_type": "markdown",
      "source": [
        "А вот теперь запустилось!\n",
        "\n",
        "Какие есть плюсы у рекурсии? Это достаточно просто написать)\n",
        "\n",
        "Какие минусы у рекурсии? Скорость\n",
        "\n",
        "То есть система запускает много вызов, их надо поддерживать, следить и так далее. Поэтому если вы знаете, что можно что-то сделать не рекурсией, то не делайте так\n",
        "\n",
        "На примере вычисления чисел Фибоначчи:"
      ],
      "metadata": {
        "id": "DTYddAqHXe22"
      }
    },
    {
      "cell_type": "code",
      "source": [
        "def recursive_fib(n):\n",
        "    if n in (1, 2):\n",
        "        return 1\n",
        "    return recursive_fib(n - 1) + recursive_fib(n - 2)\n",
        "\n",
        "def func_fib(n):\n",
        "    if n in (1, 2):\n",
        "        return 1\n",
        "    res = [0 for _ in range(n)]\n",
        "    res[0], res[1] = 1, 1\n",
        "    for i in range(2, n):\n",
        "        res[i] = res[i - 1] + res[i - 2]\n",
        "    return res[n - 1]"
      ],
      "metadata": {
        "id": "9T9FJjZxX_bF"
      },
      "execution_count": null,
      "outputs": []
    },
    {
      "cell_type": "code",
      "source": [
        "%%time\n",
        "\n",
        "print(recursive_fib(30))"
      ],
      "metadata": {
        "colab": {
          "base_uri": "https://localhost:8080/"
        },
        "id": "ZJF1QaKxYtbP",
        "outputId": "4c95d150-3eb2-4a41-92c2-821170170fd3"
      },
      "execution_count": null,
      "outputs": [
        {
          "output_type": "stream",
          "name": "stdout",
          "text": [
            "832040\n",
            "CPU times: user 226 ms, sys: 0 ns, total: 226 ms\n",
            "Wall time: 230 ms\n"
          ]
        }
      ]
    },
    {
      "cell_type": "code",
      "source": [
        "%%time\n",
        "\n",
        "print(func_fib(30))"
      ],
      "metadata": {
        "colab": {
          "base_uri": "https://localhost:8080/"
        },
        "id": "Y3VQn2nGYyjt",
        "outputId": "75ea45db-83af-4aad-e09d-51563fd1cf26"
      },
      "execution_count": null,
      "outputs": [
        {
          "output_type": "stream",
          "name": "stdout",
          "text": [
            "832040\n",
            "CPU times: user 1.87 ms, sys: 0 ns, total: 1.87 ms\n",
            "Wall time: 1.87 ms\n"
          ]
        }
      ]
    },
    {
      "cell_type": "markdown",
      "source": [
        "Разница в 200 раз... Ну вот как-то так)\n",
        "\n",
        "Давайте решим еще одну задачу (достаточно известную) - задачу о Ханойской башне (если успеем)\n",
        "\n",
        "![](https://upload.wikimedia.org/wikipedia/commons/thumb/0/07/Tower_of_Hanoi.jpeg/600px-Tower_of_Hanoi.jpeg)"
      ],
      "metadata": {
        "id": "vzgl3YucY8YB"
      }
    },
    {
      "cell_type": "code",
      "source": [
        "# number of third disk: 6 - from_ - to_\n",
        "\n",
        "def hanoi(n, from_=1, to_=3):\n",
        "    if n == 1:\n",
        "        print(f'Disk {1} from {from_} to {to_}')\n",
        "        return\n",
        "    hanoi(n - 1, from_, 6 - from_ - to_)\n",
        "    print(f'Disk {n} from {from_} to {to_}')\n",
        "    hanoi(n - 1, 6 - from_ - to_, to_)\n",
        "\n",
        "hanoi(5)"
      ],
      "metadata": {
        "id": "bwQIdBEjF18J"
      },
      "execution_count": null,
      "outputs": []
    },
    {
      "cell_type": "markdown",
      "source": [
        "## Декораторы"
      ],
      "metadata": {
        "id": "Bqs2Ev7SyY6F"
      }
    },
    {
      "cell_type": "markdown",
      "source": [
        "Возвращаемся к мощности функций\n",
        "\n",
        "Можно ли вызвать функцию внутри функции? Да в целом да, нам ничего не мешает:"
      ],
      "metadata": {
        "id": "_dZ_aLmwZEtl"
      }
    },
    {
      "cell_type": "code",
      "source": [
        "def get_far_temp(t):\n",
        "    '''Convert Celsius temperature to Fahrenheit'''\n",
        "    def convert_temp(x):\n",
        "        return 9 * x / 5 + 32\n",
        "\n",
        "    return convert_temp(t)\n",
        "\n",
        "get_far_temp(20)"
      ],
      "metadata": {
        "colab": {
          "base_uri": "https://localhost:8080/"
        },
        "id": "I9yl-A77dn1x",
        "outputId": "cba048d4-29af-4566-e078-ba818bc0f756"
      },
      "execution_count": null,
      "outputs": [
        {
          "output_type": "execute_result",
          "data": {
            "text/plain": [
              "68.0"
            ]
          },
          "metadata": {},
          "execution_count": 83
        }
      ]
    },
    {
      "cell_type": "markdown",
      "source": [
        "Можно ли обратиться к этой функции извне? Нельзя (опять-таки, все локально)"
      ],
      "metadata": {
        "id": "JgZaK3B2e22R"
      }
    },
    {
      "cell_type": "code",
      "source": [
        "convert_temp(150)"
      ],
      "metadata": {
        "colab": {
          "base_uri": "https://localhost:8080/",
          "height": 185
        },
        "id": "C9I5_oZ1e5NY",
        "outputId": "92ac3c16-2548-44c2-bd0b-48f2c62bd078"
      },
      "execution_count": null,
      "outputs": [
        {
          "output_type": "error",
          "ename": "NameError",
          "evalue": "ignored",
          "traceback": [
            "\u001b[0;31m---------------------------------------------------------------------------\u001b[0m",
            "\u001b[0;31mNameError\u001b[0m                                 Traceback (most recent call last)",
            "\u001b[0;32m<ipython-input-84-3ce98c278910>\u001b[0m in \u001b[0;36m<cell line: 1>\u001b[0;34m()\u001b[0m\n\u001b[0;32m----> 1\u001b[0;31m \u001b[0mconvert_temp\u001b[0m\u001b[0;34m(\u001b[0m\u001b[0;36m150\u001b[0m\u001b[0;34m)\u001b[0m\u001b[0;34m\u001b[0m\u001b[0;34m\u001b[0m\u001b[0m\n\u001b[0m",
            "\u001b[0;31mNameError\u001b[0m: name 'convert_temp' is not defined"
          ]
        }
      ]
    },
    {
      "cell_type": "markdown",
      "source": [
        "Зачем это нужно? Давайте разбираться\n",
        "\n",
        "Сама функция - это объект:"
      ],
      "metadata": {
        "id": "2xWi2r95fEAk"
      }
    },
    {
      "cell_type": "code",
      "source": [
        "print(type(get_far_temp))"
      ],
      "metadata": {
        "colab": {
          "base_uri": "https://localhost:8080/"
        },
        "id": "Bx26oNlFfTEM",
        "outputId": "90d77fe1-ab1f-4ebc-c1f8-a41946444c4f"
      },
      "execution_count": null,
      "outputs": [
        {
          "output_type": "stream",
          "name": "stdout",
          "text": [
            "<class 'function'>\n"
          ]
        }
      ]
    },
    {
      "cell_type": "markdown",
      "source": [
        "А значит, что и переменная может быть функцией!"
      ],
      "metadata": {
        "id": "SZfpiC0yfZF3"
      }
    },
    {
      "cell_type": "code",
      "source": [
        "a = get_far_temp\n",
        "print(type(a))"
      ],
      "metadata": {
        "colab": {
          "base_uri": "https://localhost:8080/"
        },
        "id": "7K4YpydEfb9K",
        "outputId": "2ebf99e2-a027-44a0-b7f3-6af945ce3ace"
      },
      "execution_count": null,
      "outputs": [
        {
          "output_type": "stream",
          "name": "stdout",
          "text": [
            "<class 'function'>\n"
          ]
        }
      ]
    },
    {
      "cell_type": "markdown",
      "source": [
        "А это значит, что можно использовать функции для создания функций. Давайте на примере (иначе, наверное, ничего непонятно)\n",
        "\n",
        "Хотим создать полином и проверять разные значения функции в точках. Делаем по классике:"
      ],
      "metadata": {
        "id": "Vtt-odvjffZE"
      }
    },
    {
      "cell_type": "code",
      "source": [
        "def get_value(x, *args):\n",
        "    result = 0\n",
        "    for i in range(len(args)):\n",
        "        result += x ** (len(args) - 1 - i) * args[i]\n",
        "    return result\n",
        "\n",
        "print(get_value(1, 1, 2, 3))\n",
        "print(get_value(5, 1, 2, 3))"
      ],
      "metadata": {
        "colab": {
          "base_uri": "https://localhost:8080/"
        },
        "id": "WDpX1DuKfsw8",
        "outputId": "66998ffa-2b7e-40f6-9c30-82d2824f5b4f"
      },
      "execution_count": null,
      "outputs": [
        {
          "output_type": "stream",
          "name": "stdout",
          "text": [
            "6\n",
            "38\n"
          ]
        }
      ]
    },
    {
      "cell_type": "markdown",
      "source": [
        "Каждый раз писать все аргументы и в целом их передавать.. Ну как-то слишком. Но для этого как раз и есть возможность писать функции внутри функции"
      ],
      "metadata": {
        "id": "zjiG_WOggNeR"
      }
    },
    {
      "cell_type": "code",
      "source": [
        "def get_polinom(*args):\n",
        "    def get_value(x):\n",
        "        result = 0\n",
        "        for i in range(len(args)):\n",
        "            result += x ** (len(args) - 1 - i) * args[i]\n",
        "        return result\n",
        "    return get_value\n",
        "\n",
        "a = get_polinom(1, 2, 3)\n",
        "print(a(5), a(1))"
      ],
      "metadata": {
        "colab": {
          "base_uri": "https://localhost:8080/"
        },
        "id": "6MgquqDzgVY5",
        "outputId": "95178ed1-6c21-43e6-bf40-2f1f9bdec2b0"
      },
      "execution_count": null,
      "outputs": [
        {
          "output_type": "stream",
          "name": "stdout",
          "text": [
            "38 6\n"
          ]
        }
      ]
    },
    {
      "cell_type": "markdown",
      "source": [
        "Гораздо удобнее! На самом деле мы создали такую штуку, как декоратор\n",
        "\n",
        "Что такое декоратор? Если по-простому, то это обертка над функцией, которая расширяет функционал кода. Принимает в себя функцию и что-то делает.\n",
        "\n",
        "В качестве примера давайте попробуем создать какую-нибудь обертку, которая позволяет посчитать, сколько раз мы вызвали ту или иную функцию:"
      ],
      "metadata": {
        "id": "_O4w3AxJgu3C"
      }
    },
    {
      "cell_type": "code",
      "source": [
        "def counter(f):\n",
        "    counter = 0\n",
        "    def wrapper():\n",
        "        nonlocal counter #обратите внимание на слово nonlocal - позволяет использовать переменные вне функции (по сути на уровень выше)\n",
        "        counter += 1\n",
        "        print(\"Inside decorator\")\n",
        "        f()\n",
        "        print(\"Outside decorator\")\n",
        "        print(counter)\n",
        "    return wrapper\n",
        "\n",
        "@counter #как можно записывать декораторы\n",
        "def hello():\n",
        "    print(\"Hi bestie!\")\n",
        "\n",
        "hello()\n",
        "hello()\n",
        "hello()"
      ],
      "metadata": {
        "colab": {
          "base_uri": "https://localhost:8080/"
        },
        "id": "Wt6kLvalhwAW",
        "outputId": "e5f65b24-170b-415f-de49-7aae9d69406a"
      },
      "execution_count": null,
      "outputs": [
        {
          "output_type": "stream",
          "name": "stdout",
          "text": [
            "Inside decorator\n",
            "Hi bestie!\n",
            "Outside decorator\n",
            "1\n",
            "Inside decorator\n",
            "Hi bestie!\n",
            "Outside decorator\n",
            "2\n",
            "Inside decorator\n",
            "Hi bestie!\n",
            "Outside decorator\n",
            "3\n"
          ]
        }
      ]
    },
    {
      "cell_type": "markdown",
      "source": [
        "Что происходит?\n",
        "\n",
        "Над функцией hello находится декоратор counter, которая вызывается каждый раз, когда мы делаем вызов функции hello\n",
        "\n",
        "То есть вначале происходит вызов counter -> wrapper -> hello (который уже внутри)"
      ],
      "metadata": {
        "id": "fJmK1D8okge8"
      }
    },
    {
      "cell_type": "markdown",
      "source": [
        "Зачем нужны декораторы?\n",
        "\n",
        "Во-первых, они помогают сделать некоторые дополнительные проверки. Например, если мы делаем функцию для вычисления чисел Фибоначчи, то нам нужно дополнительно проверять, что введенное число неотрицательное:"
      ],
      "metadata": {
        "id": "loqFKJQ9iimi"
      }
    },
    {
      "cell_type": "code",
      "source": [
        "def argument_test_natural_number(f):\n",
        "    def helper(x):\n",
        "        if type(x) == int and x > 0:\n",
        "            return f(x)\n",
        "        else:\n",
        "            raise Exception(\"Argument is not an integer\") # Вызов ошибки\n",
        "    return helper\n",
        "\n",
        "@argument_test_natural_number\n",
        "def factorial(n):\n",
        "    if n == 1:\n",
        "        return 1\n",
        "    else:\n",
        "        return n * factorial(n-1)\n",
        "\n",
        "for i in range(1,10):\n",
        "\tprint(i, factorial(i))\n",
        "\n",
        "print(factorial(-1))"
      ],
      "metadata": {
        "colab": {
          "base_uri": "https://localhost:8080/",
          "height": 524
        },
        "id": "5Yxews7Mj8j8",
        "outputId": "6a8da303-7504-47f2-e3e6-33f70ad60772"
      },
      "execution_count": null,
      "outputs": [
        {
          "output_type": "stream",
          "name": "stdout",
          "text": [
            "1 1\n",
            "2 2\n",
            "3 6\n",
            "4 24\n",
            "5 120\n",
            "6 720\n",
            "7 5040\n",
            "8 40320\n",
            "9 362880\n"
          ]
        },
        {
          "output_type": "error",
          "ename": "Exception",
          "evalue": "ignored",
          "traceback": [
            "\u001b[0;31m---------------------------------------------------------------------------\u001b[0m",
            "\u001b[0;31mException\u001b[0m                                 Traceback (most recent call last)",
            "\u001b[0;32m<ipython-input-1-efc282e663b2>\u001b[0m in \u001b[0;36m<cell line: 19>\u001b[0;34m()\u001b[0m\n\u001b[1;32m     17\u001b[0m         \u001b[0mprint\u001b[0m\u001b[0;34m(\u001b[0m\u001b[0mi\u001b[0m\u001b[0;34m,\u001b[0m \u001b[0mfactorial\u001b[0m\u001b[0;34m(\u001b[0m\u001b[0mi\u001b[0m\u001b[0;34m)\u001b[0m\u001b[0;34m)\u001b[0m\u001b[0;34m\u001b[0m\u001b[0;34m\u001b[0m\u001b[0m\n\u001b[1;32m     18\u001b[0m \u001b[0;34m\u001b[0m\u001b[0m\n\u001b[0;32m---> 19\u001b[0;31m \u001b[0mprint\u001b[0m\u001b[0;34m(\u001b[0m\u001b[0mfactorial\u001b[0m\u001b[0;34m(\u001b[0m\u001b[0;34m-\u001b[0m\u001b[0;36m1\u001b[0m\u001b[0;34m)\u001b[0m\u001b[0;34m)\u001b[0m\u001b[0;34m\u001b[0m\u001b[0;34m\u001b[0m\u001b[0m\n\u001b[0m",
            "\u001b[0;32m<ipython-input-1-efc282e663b2>\u001b[0m in \u001b[0;36mhelper\u001b[0;34m(x)\u001b[0m\n\u001b[1;32m      4\u001b[0m             \u001b[0;32mreturn\u001b[0m \u001b[0mf\u001b[0m\u001b[0;34m(\u001b[0m\u001b[0mx\u001b[0m\u001b[0;34m)\u001b[0m\u001b[0;34m\u001b[0m\u001b[0;34m\u001b[0m\u001b[0m\n\u001b[1;32m      5\u001b[0m         \u001b[0;32melse\u001b[0m\u001b[0;34m:\u001b[0m\u001b[0;34m\u001b[0m\u001b[0;34m\u001b[0m\u001b[0m\n\u001b[0;32m----> 6\u001b[0;31m             \u001b[0;32mraise\u001b[0m \u001b[0mException\u001b[0m\u001b[0;34m(\u001b[0m\u001b[0;34m\"Argument is not an integer\"\u001b[0m\u001b[0;34m)\u001b[0m \u001b[0;31m# Вызов ошибки\u001b[0m\u001b[0;34m\u001b[0m\u001b[0;34m\u001b[0m\u001b[0m\n\u001b[0m\u001b[1;32m      7\u001b[0m     \u001b[0;32mreturn\u001b[0m \u001b[0mhelper\u001b[0m\u001b[0;34m\u001b[0m\u001b[0;34m\u001b[0m\u001b[0m\n\u001b[1;32m      8\u001b[0m \u001b[0;34m\u001b[0m\u001b[0m\n",
            "\u001b[0;31mException\u001b[0m: Argument is not an integer"
          ]
        }
      ]
    },
    {
      "cell_type": "markdown",
      "source": [
        "Декораторы также достаточно часто использются в ООП (когда будем разговаривать про getters и setters), а также для того, чтобы, например, измерять время работа функции:"
      ],
      "metadata": {
        "id": "VJwP-aMHjf35"
      }
    },
    {
      "cell_type": "code",
      "source": [
        "import time\n",
        "\n",
        "def my_timer(f):\n",
        "    def wrapper(*args, **kwargs):\n",
        "        t_1 = time.time()\n",
        "        result = f(*args, **kwargs)\n",
        "        t_2 = time.time() - t_1\n",
        "        print(f'{f.__name__} ran in: {t_2} sec')\n",
        "        return result\n",
        "    return wrapper\n",
        "\n",
        "@my_timer\n",
        "def func_fib(n):\n",
        "    if n in (1, 2):\n",
        "        return 1\n",
        "    res = [0 for _ in range(n)]\n",
        "    res[0], res[1] = 1, 1\n",
        "    for i in range(2, n):\n",
        "        res[i] = res[i - 1] + res[i - 2]\n",
        "    return res[n - 1]\n",
        "\n",
        "func_fib(300)"
      ],
      "metadata": {
        "colab": {
          "base_uri": "https://localhost:8080/"
        },
        "id": "JmPGi9UGnXF2",
        "outputId": "af73d470-613f-445d-ac87-cc2b3857530d"
      },
      "execution_count": null,
      "outputs": [
        {
          "output_type": "stream",
          "name": "stdout",
          "text": [
            "func_fib ran in: 0.00011706352233886719 sec\n"
          ]
        },
        {
          "output_type": "execute_result",
          "data": {
            "text/plain": [
              "222232244629420445529739893461909967206666939096499764990979600"
            ]
          },
          "metadata": {},
          "execution_count": 7
        }
      ]
    },
    {
      "cell_type": "markdown",
      "source": [
        "Также сам декоратор позволяет менять полученный результат. Допустим, что нам необходимо все ответы переводить в капс:"
      ],
      "metadata": {
        "id": "lSI-4DULoPi6"
      }
    },
    {
      "cell_type": "code",
      "source": [
        "def uppercase(f):\n",
        "    def wrapper(*args, **kwargs):\n",
        "        result = f(*args, **kwargs)\n",
        "        return result.upper()\n",
        "    return wrapper\n",
        "\n",
        "@uppercase\n",
        "def hello():\n",
        "    return \"Hello!\"\n",
        "\n",
        "@uppercase\n",
        "def hello_name(name):\n",
        "    return \"Hello, \" + name\n",
        "\n",
        "print(hello())\n",
        "print(hello_name(\"Timur\"))\n",
        "print(\"Don't yell at me\")"
      ],
      "metadata": {
        "colab": {
          "base_uri": "https://localhost:8080/"
        },
        "id": "wxQQVjH-ofSD",
        "outputId": "2893ef91-7fc3-4710-e5bc-b85fd17f80dd"
      },
      "execution_count": null,
      "outputs": [
        {
          "output_type": "stream",
          "name": "stdout",
          "text": [
            "HELLO!\n",
            "HELLO, TIMUR\n",
            "Don't yell at me\n"
          ]
        }
      ]
    },
    {
      "cell_type": "markdown",
      "source": [
        "## Попугай дня"
      ],
      "metadata": {
        "id": "y8hJCsx4yaZ2"
      }
    },
    {
      "cell_type": "markdown",
      "source": [
        "![Monk](https://upload.wikimedia.org/wikipedia/commons/b/b3/MonkParakeetsSantaPonsa.jpg)"
      ],
      "metadata": {
        "id": "XIdmYkJouOVd"
      }
    },
    {
      "cell_type": "markdown",
      "source": [
        "А это Калита (или же попугай-монах)\n",
        "\n",
        "Примечательны эти попугаи несколькими вещами:\n",
        "\n",
        "1. Эти попугаи изначально заселяли только Южную Америку (Парагвай, южная часть Бразилии). Однако в 1970-х годах их начали массово привозить в Европу оттуда и пытались содержать как домашних животных. Но проблема в том, что они до боли крикливые, и поэтому их просто выпускали, что привело к тому, что они стали размножаться и жить в Европе и стали что-то типа голубей (в той же Барселоне или Мадриде)\n",
        "\n",
        "2. Единственные попугаи, которые гнездятся на ветвях деревьях (а не в дуплах или укрытиях). Строят они их коллектиквом (получается типа коммуналки), которая может весить до 200кг\n",
        "\n",
        "3. А называются они монахами, потому что их окрас напоминает одежду квакеров (это религиозный орден, но подходяшей картинки для сравнения я не нашел). Собственно, в Аргентине их и зовут \"попугаи квакеры\""
      ],
      "metadata": {
        "id": "1wfTwtZ9uQML"
      }
    },
    {
      "cell_type": "markdown",
      "source": [
        "![](https://image.jimcdn.com/app/cms/image/transf/dimension=1280x10000:format=jpg/path/s6b61d3476b988e81/image/ied0b14179f0e9857/version/1611582975/image.jpg)"
      ],
      "metadata": {
        "id": "5fEzGg86um1j"
      }
    }
  ]
}