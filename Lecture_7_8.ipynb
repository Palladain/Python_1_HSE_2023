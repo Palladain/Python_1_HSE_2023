{
  "nbformat": 4,
  "nbformat_minor": 0,
  "metadata": {
    "colab": {
      "provenance": [],
      "collapsed_sections": [
        "701XqTALCfco",
        "XNlpYhnCDkbV",
        "HnlDtttYDnrK",
        "yX1sPDJnD8ge",
        "0bqSbZkWEDAb",
        "k6DyOCsZEcwQ",
        "IsFzNHtCFiUu",
        "Rc4WGSTiFzom",
        "wmvm1w56HeuU",
        "pZdO32z3Iz4Q",
        "z9wYBuz9Jf1I",
        "jQXBEX4PKLoY",
        "GBTVMgwrKpd-",
        "XHDPSHl2rVcE",
        "XUZXqi-y-_Ii",
        "9LS7sd0kyL6N",
        "BwiKavxPVBzt",
        "VKLzVs4W3Mfy"
      ]
    },
    "kernelspec": {
      "name": "python3",
      "display_name": "Python 3"
    },
    "language_info": {
      "name": "python"
    }
  },
  "cells": [
    {
      "cell_type": "markdown",
      "source": [
        "#Python-1, лекция 7-8\n",
        "\n",
        "Лектор: Петров Тимур"
      ],
      "metadata": {
        "id": "o8lw1pDbCUjW"
      }
    },
    {
      "cell_type": "markdown",
      "source": [
        "Сегодня поговорим про ООП, а также про классы и все, что с ними связано в Python"
      ],
      "metadata": {
        "id": "kXEdG1p5CaXc"
      }
    },
    {
      "cell_type": "markdown",
      "source": [
        "## OOP (Object-oriented programming)"
      ],
      "metadata": {
        "id": "701XqTALCfco"
      }
    },
    {
      "cell_type": "markdown",
      "source": [
        "Что это? Это парадигма программирования, при которой программа представляет из себя объекты и взаимодействие между ними. Например: общество состоит из людей и правительств, которые взаимодействуют друг с другом. У правительства есть свои черты, у людей - свои черты. И взаимодействуют они по-разному, как друг с другом, так и отдельно сами по себе.\n",
        "\n",
        "В данном случае объект - это представитель какого-то класса (или шаблона), который обобщает под собой объекты (есть попугаи, но есть отдельно кореллы, отдельно ара, отдельно жако как представители)\n",
        "\n",
        "Такой своеобразный метод моделирования строится на 4 китах:\n",
        "\n",
        "* Абстракция - использование только тех параметров в классах, которые являются существенными (например, для моделирования попугая не нужно знать, что ест каждый попугай отдельно. Важно, что он ест)\n",
        "\n",
        "* Инкапсуляция - сокрытие методов и данных класса внутри него самого, которые не необходимы для взаимодействия с ним (например, для взаимодействия человека и попугая не нужно знать полное устройство попугая и внутренних процессов, как и попугаю не нужно устройство человека для взаимодействия)\n",
        "\n",
        "* Наследование - возможность расширить или сузить класс и дополнить его (например, из класса попугаев мы создаем отдельно подкласс какаду, внутри которого есть большие какаду и есть отдельно еще маленькие кореллы)\n",
        "\n",
        "* Полиморфизм - возможность реализовать один и тот же метод разными способами (например, для жизни одни попугаи ищут дупло, другие строят гнездо)"
      ],
      "metadata": {
        "id": "ef6h6JnoCkfu"
      }
    },
    {
      "cell_type": "markdown",
      "source": [
        "## Class"
      ],
      "metadata": {
        "id": "XNlpYhnCDkbV"
      }
    },
    {
      "cell_type": "markdown",
      "source": [
        "### Терминология\n",
        "\n",
        "Тип - некоторое общее понятие, которое нам говорит о значениях и возможных операциях над ним (например, тип вещественных чисел)\n",
        "\n",
        "Класс - реализация типа (например, класс float в Python)\n",
        "\n",
        "Объект (или instance) - представитель или экземпляр класса (например, число 1.5)"
      ],
      "metadata": {
        "id": "HnlDtttYDnrK"
      }
    },
    {
      "cell_type": "code",
      "execution_count": null,
      "metadata": {
        "colab": {
          "base_uri": "https://localhost:8080/"
        },
        "id": "emBJ0EzECUKG",
        "outputId": "d1c2fce6-5e2e-450d-923b-ebc641c41394"
      },
      "outputs": [
        {
          "output_type": "stream",
          "name": "stdout",
          "text": [
            "<class 'float'> <class 'float'>\n",
            "------------------------------\n",
            "<class 'type'>\n"
          ]
        }
      ],
      "source": [
        "# Пример\n",
        "# 1.5 - пример вещественного числа (инстанс)\n",
        "\n",
        "print((1.5).__class__, type(1.5)) # одно и то же в Python\n",
        "print('-' * 30)\n",
        "\n",
        "# Тип класса - это type\n",
        "print(type(float))"
      ]
    },
    {
      "cell_type": "markdown",
      "source": [
        "### Как написать самому класс?\n",
        "\n",
        "Создаем с помощью объявления class (прямо как функцию):"
      ],
      "metadata": {
        "id": "yX1sPDJnD8ge"
      }
    },
    {
      "cell_type": "code",
      "source": [
        "class foo:\n",
        "    \"\"\"example class\"\"\"\n",
        "    pass # означает ничего не делать\n",
        "\n",
        "a = foo()\n",
        "b = foo()\n",
        "\n",
        "a.__class__, type(b), foo.__class__"
      ],
      "metadata": {
        "colab": {
          "base_uri": "https://localhost:8080/"
        },
        "id": "l5FtQqTZD-y2",
        "outputId": "0f08e6c9-2358-4c58-8b7c-582c4ea7e33c"
      },
      "execution_count": null,
      "outputs": [
        {
          "output_type": "execute_result",
          "data": {
            "text/plain": [
              "(__main__.foo, __main__.foo, type)"
            ]
          },
          "metadata": {},
          "execution_count": 5
        }
      ]
    },
    {
      "cell_type": "markdown",
      "source": [
        "### Что есть у классов?\n",
        "\n",
        "Для начала - атрибуты (это методы, которые можно вызвать через точку при обращении к данному классу или его объекту). В случае, если у нашего объекта нет своего атрибута, то он ищет внутри класса этот атрибут\n",
        "\n",
        "По умолчанию у любого класса есть 4 атрибута:\n",
        "\n",
        "* dict - атрибут в виде словаря значений\n",
        "* module - модуль, в котором хранится класс\n",
        "* doc - описание класса\n",
        "* weakref - технический атрибут для сборщика мусора"
      ],
      "metadata": {
        "id": "0bqSbZkWEDAb"
      }
    },
    {
      "cell_type": "code",
      "source": [
        "foo.__dict__"
      ],
      "metadata": {
        "colab": {
          "base_uri": "https://localhost:8080/"
        },
        "id": "hD-jjnMbEHoM",
        "outputId": "6e998d38-54d8-476d-8e5c-3c0866e9918c"
      },
      "execution_count": null,
      "outputs": [
        {
          "output_type": "execute_result",
          "data": {
            "text/plain": [
              "mappingproxy({'__module__': '__main__',\n",
              "              '__doc__': 'example class',\n",
              "              '__dict__': <attribute '__dict__' of 'foo' objects>,\n",
              "              '__weakref__': <attribute '__weakref__' of 'foo' objects>})"
            ]
          },
          "metadata": {},
          "execution_count": 6
        }
      ]
    },
    {
      "cell_type": "code",
      "source": [
        "print(a.__dict__) # есть свой и он пустой\n",
        "print(a.__doc__) # своего нет, идет обращение к элементу класса foo\n",
        "print(getattr(a, '__doc__')) # аналогично a.__doc__ функция, которая возвращает значение атрибута"
      ],
      "metadata": {
        "colab": {
          "base_uri": "https://localhost:8080/"
        },
        "id": "VXLYsd9EENNY",
        "outputId": "ffe51a23-c542-4b01-8df9-c50876ca827b"
      },
      "execution_count": null,
      "outputs": [
        {
          "output_type": "stream",
          "name": "stdout",
          "text": [
            "{}\n",
            "example class\n",
            "example class\n"
          ]
        }
      ]
    },
    {
      "cell_type": "markdown",
      "source": [
        "### Каким образом создается объект?\n",
        "\n",
        "1. Создаем класс\n",
        "2. Конструируется объект (через new) - создается сама коробка, внутри которой будет лежать объект\n",
        "3. Инициализируется объект (через init) - наполняем его изначальными значениями, которые могут нам потребоваться"
      ],
      "metadata": {
        "id": "k6DyOCsZEcwQ"
      }
    },
    {
      "cell_type": "code",
      "source": [
        "class foo:\n",
        "    \"\"\"class example\"\"\"\n",
        "    def __init__(self):  # self - это сам объект-коробка, который нужно передать\n",
        "        self.c = 5\n",
        "        print(\"Hello\")\n",
        "\n",
        "a = foo()\n",
        "b = foo()"
      ],
      "metadata": {
        "colab": {
          "base_uri": "https://localhost:8080/"
        },
        "id": "l5QH4b0eEn_Q",
        "outputId": "9ff4d640-3893-4552-fa34-6dc26022168e"
      },
      "execution_count": null,
      "outputs": [
        {
          "output_type": "stream",
          "name": "stdout",
          "text": [
            "Hello\n",
            "Hello\n"
          ]
        }
      ]
    },
    {
      "cell_type": "markdown",
      "source": [
        "Посмотрим, что лежит внутри класса:"
      ],
      "metadata": {
        "id": "3wu_L94jE07a"
      }
    },
    {
      "cell_type": "code",
      "source": [
        "foo.__dict__ #появился init как функция инициализации"
      ],
      "metadata": {
        "colab": {
          "base_uri": "https://localhost:8080/"
        },
        "id": "pr_ootOqEzAj",
        "outputId": "af71802f-0351-42ce-96c1-c747de3bc3db"
      },
      "execution_count": null,
      "outputs": [
        {
          "output_type": "execute_result",
          "data": {
            "text/plain": [
              "mappingproxy({'__module__': '__main__',\n",
              "              '__doc__': 'class example',\n",
              "              '__init__': <function __main__.foo.__init__(self)>,\n",
              "              '__dict__': <attribute '__dict__' of 'foo' objects>,\n",
              "              '__weakref__': <attribute '__weakref__' of 'foo' objects>})"
            ]
          },
          "metadata": {},
          "execution_count": 12
        }
      ]
    },
    {
      "cell_type": "markdown",
      "source": [
        "Что лежит внутри объекта?"
      ],
      "metadata": {
        "id": "5nzEzlvQE_Kd"
      }
    },
    {
      "cell_type": "code",
      "source": [
        "print(a.__dict__) #опа, лежит атрибут c, который принадлежит именно нашему объекту, но не классу"
      ],
      "metadata": {
        "colab": {
          "base_uri": "https://localhost:8080/"
        },
        "id": "SOXPjuYGE9bY",
        "outputId": "d92ae0c5-3088-41a9-c2ea-a9b878c5fd1d"
      },
      "execution_count": null,
      "outputs": [
        {
          "output_type": "stream",
          "name": "stdout",
          "text": [
            "{'c': 5}\n"
          ]
        }
      ]
    },
    {
      "cell_type": "markdown",
      "source": [
        "Так как init - это у нас метод внутри класса, то к нему можно обратиться через объект:"
      ],
      "metadata": {
        "id": "onVtuDjrFMlA"
      }
    },
    {
      "cell_type": "code",
      "source": [
        "a.__init__()"
      ],
      "metadata": {
        "colab": {
          "base_uri": "https://localhost:8080/"
        },
        "id": "axsujXyCFU1M",
        "outputId": "fa1eabb9-3308-4fd9-9146-133319db2f7b"
      },
      "execution_count": null,
      "outputs": [
        {
          "output_type": "stream",
          "name": "stdout",
          "text": [
            "Hello\n"
          ]
        }
      ]
    },
    {
      "cell_type": "markdown",
      "source": [
        "### А где у нас появляются атрибуты объекта, а не класса?\n",
        "\n",
        "Ответ: в методе init они и создаются"
      ],
      "metadata": {
        "id": "IsFzNHtCFiUu"
      }
    },
    {
      "cell_type": "code",
      "source": [
        "class foo:\n",
        "    \"\"\"class example\"\"\"\n",
        "    def __init__(self, x):  # self - это сам объект, сам __init__ никогда ничего не возвращает\n",
        "        self.x = x #функция, куда мы передали аргумент и записываем его как атрибут нашего объекта\n",
        "        print(\"Hello\")\n",
        "\n",
        "a = foo(1)\n",
        "b = foo(2)"
      ],
      "metadata": {
        "colab": {
          "base_uri": "https://localhost:8080/"
        },
        "id": "OjrUs5sHFlPJ",
        "outputId": "5a1c2aef-7844-4679-817f-cc94e47e5720"
      },
      "execution_count": null,
      "outputs": [
        {
          "output_type": "stream",
          "name": "stdout",
          "text": [
            "Hello\n",
            "Hello\n"
          ]
        }
      ]
    },
    {
      "cell_type": "code",
      "source": [
        "print(a.__dict__, b.__dict__)"
      ],
      "metadata": {
        "colab": {
          "base_uri": "https://localhost:8080/"
        },
        "id": "NEGC950cFtan",
        "outputId": "92e67dd0-da5e-42a6-f626-e416c06c8404"
      },
      "execution_count": null,
      "outputs": [
        {
          "output_type": "stream",
          "name": "stdout",
          "text": [
            "{'x': 1} {'x': 2}\n"
          ]
        }
      ]
    },
    {
      "cell_type": "markdown",
      "source": [
        "### Могу ли я задать извне аттрибуты для объекта?\n",
        "\n",
        "Конечно можно с помощью прямой инициализации, работает динамическое добавление.\n",
        "\n",
        "Но если хочется подобное ограничить, что для этого есть такая вещь, как слоты (slots). Они ограничивают возможность создать любую переменную для объекта. Таким образом, вы уничтожаете динамическое добавление атрибутов"
      ],
      "metadata": {
        "id": "Rc4WGSTiFzom"
      }
    },
    {
      "cell_type": "code",
      "source": [
        "class foo:\n",
        "    \"\"\"class example\"\"\"\n",
        "    def __init__(self, x, y=5):  # self - это сам объект, сам __init__ никогда ничего не возвращает\n",
        "        self.x = x\n",
        "        print(\"Hello\")\n",
        "\n",
        "a = foo(1, 2)\n",
        "b = foo(2)\n",
        "print(a.__dict__, b.__dict__) ##А почему вдруг у b нет никакого y?\n",
        "b.y = 42\n",
        "print(a.__dict__, b.__dict__)"
      ],
      "metadata": {
        "colab": {
          "base_uri": "https://localhost:8080/"
        },
        "id": "_-EHca5KF6m0",
        "outputId": "b47d22ef-a6f8-4196-95a5-3d9277f5e05e"
      },
      "execution_count": null,
      "outputs": [
        {
          "output_type": "stream",
          "name": "stdout",
          "text": [
            "Hello\n",
            "Hello\n",
            "{'x': 1} {'x': 2}\n",
            "{'x': 1} {'x': 2, 'y': 42}\n"
          ]
        }
      ]
    },
    {
      "cell_type": "markdown",
      "source": [
        "Слоты - прекрасная штука, если вам необходимо защитить собственный класс от всякого рода вмешательств в объект класса:"
      ],
      "metadata": {
        "id": "RUTOyAYyGOO2"
      }
    },
    {
      "cell_type": "code",
      "source": [
        "class foo:\n",
        "\n",
        "    __slots__ = ['x', 'z']\n",
        "\n",
        "    \"\"\"class example\"\"\"\n",
        "    def __init__(self, x, y):  # self - это сам объект, сам __init__ никогда ничего не возвращает\n",
        "        self.x = x\n",
        "        self.z = y\n",
        "        print(\"Hello\")\n",
        "\n",
        "a = foo(1, 2)\n",
        "b = foo(3, 2)\n",
        "a.z = 42\n",
        "print(a.x, a.z)"
      ],
      "metadata": {
        "colab": {
          "base_uri": "https://localhost:8080/"
        },
        "id": "BXBKmJxQGa6a",
        "outputId": "3d907361-1a64-499a-bc8a-0d135979ac87"
      },
      "execution_count": null,
      "outputs": [
        {
          "output_type": "stream",
          "name": "stdout",
          "text": [
            "Hello\n",
            "Hello\n",
            "1 42\n"
          ]
        }
      ]
    },
    {
      "cell_type": "markdown",
      "source": [
        "А что поменялось? Обратимся к тому, что внутри класса:"
      ],
      "metadata": {
        "id": "MRJk5B1QGl3c"
      }
    },
    {
      "cell_type": "code",
      "source": [
        "foo.__dict__ #исчез dict, но появились x и z (а также обозначение слотов)"
      ],
      "metadata": {
        "colab": {
          "base_uri": "https://localhost:8080/"
        },
        "id": "m6qkfSRaGpcc",
        "outputId": "2236383b-dc15-4be0-b1ea-f75fbeef66e9"
      },
      "execution_count": null,
      "outputs": [
        {
          "output_type": "execute_result",
          "data": {
            "text/plain": [
              "mappingproxy({'__module__': '__main__',\n",
              "              '__slots__': ['x', 'z'],\n",
              "              '__init__': <function __main__.foo.__init__(self, x, y)>,\n",
              "              'x': <member 'x' of 'foo' objects>,\n",
              "              'z': <member 'z' of 'foo' objects>,\n",
              "              '__doc__': None,\n",
              "              '__annotations__': {}})"
            ]
          },
          "metadata": {},
          "execution_count": 27
        }
      ]
    },
    {
      "cell_type": "code",
      "source": [
        "a.__dict__ #уничтожили словарь"
      ],
      "metadata": {
        "colab": {
          "base_uri": "https://localhost:8080/",
          "height": 185
        },
        "id": "wWyZuAJdGyRQ",
        "outputId": "645d9854-9690-4bce-cbfc-5b4023ff22aa"
      },
      "execution_count": null,
      "outputs": [
        {
          "output_type": "error",
          "ename": "AttributeError",
          "evalue": "ignored",
          "traceback": [
            "\u001b[0;31m---------------------------------------------------------------------------\u001b[0m",
            "\u001b[0;31mAttributeError\u001b[0m                            Traceback (most recent call last)",
            "\u001b[0;32m<ipython-input-28-24d50c1843f4>\u001b[0m in \u001b[0;36m<cell line: 1>\u001b[0;34m()\u001b[0m\n\u001b[0;32m----> 1\u001b[0;31m \u001b[0ma\u001b[0m\u001b[0;34m.\u001b[0m\u001b[0m__dict__\u001b[0m\u001b[0;34m\u001b[0m\u001b[0;34m\u001b[0m\u001b[0m\n\u001b[0m",
            "\u001b[0;31mAttributeError\u001b[0m: 'foo' object has no attribute '__dict__'"
          ]
        }
      ]
    },
    {
      "cell_type": "code",
      "source": [
        "a.y = 15 # и вот так теперь не получится"
      ],
      "metadata": {
        "colab": {
          "base_uri": "https://localhost:8080/",
          "height": 185
        },
        "id": "QTGYD_xPHWob",
        "outputId": "2fcb693a-1fd6-41a9-816c-b8bf0c854c53"
      },
      "execution_count": null,
      "outputs": [
        {
          "output_type": "error",
          "ename": "AttributeError",
          "evalue": "ignored",
          "traceback": [
            "\u001b[0;31m---------------------------------------------------------------------------\u001b[0m",
            "\u001b[0;31mAttributeError\u001b[0m                            Traceback (most recent call last)",
            "\u001b[0;32m<ipython-input-29-9b35295d8c7d>\u001b[0m in \u001b[0;36m<cell line: 1>\u001b[0;34m()\u001b[0m\n\u001b[0;32m----> 1\u001b[0;31m \u001b[0ma\u001b[0m\u001b[0;34m.\u001b[0m\u001b[0my\u001b[0m \u001b[0;34m=\u001b[0m \u001b[0;36m15\u001b[0m \u001b[0;31m# и вот так теперь не получится\u001b[0m\u001b[0;34m\u001b[0m\u001b[0;34m\u001b[0m\u001b[0m\n\u001b[0m",
            "\u001b[0;31mAttributeError\u001b[0m: 'foo' object has no attribute 'y'"
          ]
        }
      ]
    },
    {
      "cell_type": "markdown",
      "source": [
        "### Хочу атрибут для класса отдельно, как это сделать?\n",
        "\n",
        "Ответ: можно задать внутри класса"
      ],
      "metadata": {
        "id": "wmvm1w56HeuU"
      }
    },
    {
      "cell_type": "code",
      "source": [
        "class foo:\n",
        "    \"\"\"class example\"\"\"\n",
        "\n",
        "    S = 3 # просто отдельная переменная, которая хранится внутри класса\n",
        "\n",
        "    def __init__(self, x):\n",
        "        self.x = x + foo.S\n",
        "        print(\"Hello\")\n",
        "\n",
        "a = foo(1)\n",
        "b = foo(2)"
      ],
      "metadata": {
        "colab": {
          "base_uri": "https://localhost:8080/"
        },
        "id": "5JczqYtQHgZ5",
        "outputId": "e55bf311-e505-462f-fecc-be3608d48bb2"
      },
      "execution_count": null,
      "outputs": [
        {
          "output_type": "stream",
          "name": "stdout",
          "text": [
            "Hello\n",
            "Hello\n"
          ]
        }
      ]
    },
    {
      "cell_type": "code",
      "source": [
        "a.__dict__, b.__dict__, foo.__dict__"
      ],
      "metadata": {
        "colab": {
          "base_uri": "https://localhost:8080/"
        },
        "id": "8GcpEYSJHrXJ",
        "outputId": "818a3b3b-a6f8-41d0-fcfc-ad373395a2b3"
      },
      "execution_count": null,
      "outputs": [
        {
          "output_type": "execute_result",
          "data": {
            "text/plain": [
              "({'x': 4},\n",
              " {'x': 5},\n",
              " mappingproxy({'__module__': '__main__',\n",
              "               '__doc__': 'class example',\n",
              "               'S': 3,\n",
              "               '__init__': <function __main__.foo.__init__(self, x)>,\n",
              "               '__dict__': <attribute '__dict__' of 'foo' objects>,\n",
              "               '__weakref__': <attribute '__weakref__' of 'foo' objects>}))"
            ]
          },
          "metadata": {},
          "execution_count": 32
        }
      ]
    },
    {
      "cell_type": "code",
      "source": [
        "class foo:\n",
        "\n",
        "    __slots__ = ['x', 'z']\n",
        "    S = 3\n",
        "\n",
        "    \"\"\"class example\"\"\"\n",
        "    def __init__(self, x, y):  # self - это сам объект, сам __init__ никогда ничего не возвращает\n",
        "        self.x = x\n",
        "        self.z = y\n",
        "        print(\"Hello\")\n",
        "\n",
        "a = foo(1, 2)"
      ],
      "metadata": {
        "colab": {
          "base_uri": "https://localhost:8080/"
        },
        "id": "0xBCaiG-H0KC",
        "outputId": "f30bed08-2549-449e-dcac-1699bcd319fe"
      },
      "execution_count": null,
      "outputs": [
        {
          "output_type": "stream",
          "name": "stdout",
          "text": [
            "Hello\n"
          ]
        }
      ]
    },
    {
      "cell_type": "code",
      "source": [
        "a.S # опа, в слотах не указали, а оно есть, как же так?"
      ],
      "metadata": {
        "colab": {
          "base_uri": "https://localhost:8080/"
        },
        "id": "ETPqioG1H_j1",
        "outputId": "42b6c170-7c1e-46d2-9956-1738a67d30ff"
      },
      "execution_count": null,
      "outputs": [
        {
          "output_type": "execute_result",
          "data": {
            "text/plain": [
              "3"
            ]
          },
          "metadata": {},
          "execution_count": 36
        }
      ]
    },
    {
      "cell_type": "markdown",
      "source": [
        "Ответ прост: если объект класса не может найти что-либо внутри себя, то он ищет в классе. Пошел в foo - а там оно есть! Шок\n",
        "\n",
        "Давайте извратимся:"
      ],
      "metadata": {
        "id": "2KYBdBNxIHVF"
      }
    },
    {
      "cell_type": "code",
      "source": [
        "a.S = \"abc\" # вот для этого в том числе и нужны слоты: чтобы не перезатирать переменные класса"
      ],
      "metadata": {
        "colab": {
          "base_uri": "https://localhost:8080/",
          "height": 185
        },
        "id": "_KKPqth4IOxL",
        "outputId": "fd41ea9a-2b2f-4397-c3ad-739ca21d8440"
      },
      "execution_count": null,
      "outputs": [
        {
          "output_type": "error",
          "ename": "AttributeError",
          "evalue": "ignored",
          "traceback": [
            "\u001b[0;31m---------------------------------------------------------------------------\u001b[0m",
            "\u001b[0;31mAttributeError\u001b[0m                            Traceback (most recent call last)",
            "\u001b[0;32m<ipython-input-37-e1368d0fda52>\u001b[0m in \u001b[0;36m<cell line: 1>\u001b[0;34m()\u001b[0m\n\u001b[0;32m----> 1\u001b[0;31m \u001b[0ma\u001b[0m\u001b[0;34m.\u001b[0m\u001b[0mS\u001b[0m \u001b[0;34m=\u001b[0m \u001b[0;34m\"abc\"\u001b[0m\u001b[0;34m\u001b[0m\u001b[0;34m\u001b[0m\u001b[0m\n\u001b[0m",
            "\u001b[0;31mAttributeError\u001b[0m: 'foo' object attribute 'S' is read-only"
          ]
        }
      ]
    },
    {
      "cell_type": "markdown",
      "source": [
        "А если бы у нас не было слотов?"
      ],
      "metadata": {
        "id": "Rl6tl265IYnp"
      }
    },
    {
      "cell_type": "code",
      "source": [
        "class foo:\n",
        "    S = 3\n",
        "\n",
        "    \"\"\"class example\"\"\"\n",
        "    def __init__(self, x, y):  # self - это сам объект, сам __init__ никогда ничего не возвращает\n",
        "        self.x = x\n",
        "        self.z = y\n",
        "\n",
        "a = foo(1, 2)\n",
        "a.S = \"abc\"\n",
        "print(a.__dict__)\n",
        "print(foo.S)"
      ],
      "metadata": {
        "colab": {
          "base_uri": "https://localhost:8080/"
        },
        "id": "0bvKqR6YIcRi",
        "outputId": "8a1c4dad-c98f-4540-ffa8-ccfea5a3b510"
      },
      "execution_count": null,
      "outputs": [
        {
          "output_type": "stream",
          "name": "stdout",
          "text": [
            "{'x': 1, 'z': 2, 'S': 'abc'}\n",
            "3\n"
          ]
        }
      ]
    },
    {
      "cell_type": "markdown",
      "source": [
        "Мы меняем значение внутри объекта, при этом для класса ничего не меняется (поскольку по существу мы создаем новый атрибут внутри a)"
      ],
      "metadata": {
        "id": "3IOiueQ0Ikdk"
      }
    },
    {
      "cell_type": "markdown",
      "source": [
        "### А что после атрибутов?\n",
        "\n",
        "Теперь добавим еще методы для класса. Метод - это некоторая функция внутри класса, которую можно вызвать для объекта"
      ],
      "metadata": {
        "id": "pZdO32z3Iz4Q"
      }
    },
    {
      "cell_type": "code",
      "source": [
        "class foo:\n",
        "    \"\"\"class example\"\"\"\n",
        "\n",
        "    S = 3\n",
        "    def __init__(self, x):\n",
        "        self.x = x\n",
        "        self.a = 6\n",
        "\n",
        "    def foo_1(self, x=5, y=5, z=5): # закидываем self, чтобы изменять значение у объекта\n",
        "        self.x += x # если не указать self, то переменная x будет считаться как локальная переменная\n",
        "        return x\n",
        "\n",
        "a = foo(1)\n",
        "b = foo(2)\n",
        "print(a.foo_1(4,5,6)) # Вызываем метод (по сути как функцию)\n",
        "print(a.x)\n",
        "\n",
        "##a.foo_1() -> foo_1(a, x, y, z)\n",
        "\n",
        "# Можем вызвать напрямую:\n",
        "\n",
        "print('-' * 30)\n",
        "print(foo.foo_1(a))\n",
        "print(a.x)"
      ],
      "metadata": {
        "colab": {
          "base_uri": "https://localhost:8080/"
        },
        "id": "MFNKBKDYI95g",
        "outputId": "e4186d8c-9154-4fd7-dd77-6fbe00c30ce0"
      },
      "execution_count": null,
      "outputs": [
        {
          "output_type": "stream",
          "name": "stdout",
          "text": [
            "4\n",
            "5\n",
            "------------------------------\n",
            "5\n",
            "10\n"
          ]
        }
      ]
    },
    {
      "cell_type": "code",
      "source": [
        "foo.__dict__ #здесь лежит наша функция"
      ],
      "metadata": {
        "colab": {
          "base_uri": "https://localhost:8080/"
        },
        "id": "tOZbUIYLJSd3",
        "outputId": "f90eaf26-9d4d-42e4-e3aa-242991e01f21"
      },
      "execution_count": null,
      "outputs": [
        {
          "output_type": "execute_result",
          "data": {
            "text/plain": [
              "mappingproxy({'__module__': '__main__',\n",
              "              '__doc__': 'class example',\n",
              "              'S': 3,\n",
              "              '__init__': <function __main__.foo.__init__(self, x)>,\n",
              "              'foo_1': <function __main__.foo.foo_1(self, x=5, y=5, z=5)>,\n",
              "              '__dict__': <attribute '__dict__' of 'foo' objects>,\n",
              "              '__weakref__': <attribute '__weakref__' of 'foo' objects>})"
            ]
          },
          "metadata": {},
          "execution_count": 42
        }
      ]
    },
    {
      "cell_type": "markdown",
      "source": [
        "### Усложним и добавим теперь static методы\n",
        "\n",
        "Что такое staticmethod? Это метод, который можно вызывать без объекта (то есть когда для вызова не требуется инстанс класса)\n",
        "\n",
        "Зачем нам это нужно? Например, чтобы сделать альтернативу init (и не надо писать новый)\n",
        "\n",
        "Или нам просто в классе нужен какой-то технический метод для подсчетов, которую будем дергать изнутри"
      ],
      "metadata": {
        "id": "z9wYBuz9Jf1I"
      }
    },
    {
      "cell_type": "code",
      "source": [
        "class foo:\n",
        "    \"\"\"class example\"\"\"\n",
        "\n",
        "    S = 3\n",
        "    def __init__(self, x):\n",
        "        self.x = x\n",
        "\n",
        "    def foo_1(self):\n",
        "        self.x += 1\n",
        "        return 10\n",
        "\n",
        "    @staticmethod\n",
        "    def foo_2(): # здесь нет self, потому что он не зависит от объекта\n",
        "        return 15\n",
        "\n",
        "a = foo(1)\n",
        "b = foo(2)\n",
        "a.foo_2(), b.foo_2()"
      ],
      "metadata": {
        "colab": {
          "base_uri": "https://localhost:8080/"
        },
        "id": "HuDjcySSJhfi",
        "outputId": "1bd42898-a030-4d17-e0e6-fb5d0999a1ac"
      },
      "execution_count": null,
      "outputs": [
        {
          "output_type": "execute_result",
          "data": {
            "text/plain": [
              "(15, 15)"
            ]
          },
          "metadata": {},
          "execution_count": 43
        }
      ]
    },
    {
      "cell_type": "markdown",
      "source": [
        "Почему надо указывать такой декоратор? А затем, что если не указать, то увидим вот такое:"
      ],
      "metadata": {
        "id": "1j55hJkYJpIg"
      }
    },
    {
      "cell_type": "code",
      "source": [
        "class foo:\n",
        "    \"\"\"class example\"\"\"\n",
        "\n",
        "    S = 3\n",
        "    def __init__(self, x):\n",
        "        self.x = x\n",
        "\n",
        "    def foo_1(self):\n",
        "        self.x += self.S\n",
        "        return 10\n",
        "\n",
        "    def foo_2(): # здесь нет self, потому что он не зависит от объекта\n",
        "        return 15\n",
        "\n",
        "a = foo(1)\n",
        "b = foo(2)\n",
        "a.foo_1()\n",
        "a.foo_2(), b.foo_2() #а что же было given?"
      ],
      "metadata": {
        "colab": {
          "base_uri": "https://localhost:8080/",
          "height": 222
        },
        "id": "PBeQC3I2JlWC",
        "outputId": "bdbbb27e-fb3e-49dd-ca3b-22512f937ce2"
      },
      "execution_count": null,
      "outputs": [
        {
          "output_type": "error",
          "ename": "TypeError",
          "evalue": "ignored",
          "traceback": [
            "\u001b[0;31m---------------------------------------------------------------------------\u001b[0m",
            "\u001b[0;31mTypeError\u001b[0m                                 Traceback (most recent call last)",
            "\u001b[0;32m<ipython-input-47-e0cb4a464f75>\u001b[0m in \u001b[0;36m<cell line: 18>\u001b[0;34m()\u001b[0m\n\u001b[1;32m     16\u001b[0m \u001b[0mb\u001b[0m \u001b[0;34m=\u001b[0m \u001b[0mfoo\u001b[0m\u001b[0;34m(\u001b[0m\u001b[0;36m2\u001b[0m\u001b[0;34m)\u001b[0m\u001b[0;34m\u001b[0m\u001b[0;34m\u001b[0m\u001b[0m\n\u001b[1;32m     17\u001b[0m \u001b[0ma\u001b[0m\u001b[0;34m.\u001b[0m\u001b[0mfoo_1\u001b[0m\u001b[0;34m(\u001b[0m\u001b[0;34m)\u001b[0m\u001b[0;34m\u001b[0m\u001b[0;34m\u001b[0m\u001b[0m\n\u001b[0;32m---> 18\u001b[0;31m \u001b[0ma\u001b[0m\u001b[0;34m.\u001b[0m\u001b[0mfoo_2\u001b[0m\u001b[0;34m(\u001b[0m\u001b[0;34m)\u001b[0m\u001b[0;34m,\u001b[0m \u001b[0mb\u001b[0m\u001b[0;34m.\u001b[0m\u001b[0mfoo_2\u001b[0m\u001b[0;34m(\u001b[0m\u001b[0;34m)\u001b[0m \u001b[0;31m#а что же было given?\u001b[0m\u001b[0;34m\u001b[0m\u001b[0;34m\u001b[0m\u001b[0m\n\u001b[0m",
            "\u001b[0;31mTypeError\u001b[0m: foo.foo_2() takes 0 positional arguments but 1 was given"
          ]
        }
      ]
    },
    {
      "cell_type": "markdown",
      "source": [
        "Пример как альтернатива для init:"
      ],
      "metadata": {
        "id": "22BDhtW-J-aN"
      }
    },
    {
      "cell_type": "code",
      "source": [
        "class foo:\n",
        "    def __init__(self, folder=None, file_name=None):\n",
        "        self.folder = folder\n",
        "        self.file_name = file_name\n",
        "\n",
        "    @staticmethod\n",
        "    def from_path(path):\n",
        "        folder, file_name = path.split('/')\n",
        "        return foo(folder, file_name)\n",
        "\n",
        "a = foo('palladain', 'i_know_nothing.txt')\n",
        "b = foo.from_path('palladain/i_know_nothing.txt') # классный синтаксический сахар\n",
        "print(a.__dict__, b.__dict__)"
      ],
      "metadata": {
        "colab": {
          "base_uri": "https://localhost:8080/"
        },
        "id": "UOOR1OQ9KCEz",
        "outputId": "7040e763-0cbb-4fd2-bbee-02b64129d7c2"
      },
      "execution_count": null,
      "outputs": [
        {
          "output_type": "stream",
          "name": "stdout",
          "text": [
            "{'folder': 'palladain', 'file_name': 'i_know_nothing.txt'} {'folder': 'palladain', 'file_name': 'i_know_nothing.txt'}\n"
          ]
        }
      ]
    },
    {
      "cell_type": "markdown",
      "source": [
        "### Окей, статичные методы скучно, давай что повеселее\n",
        "\n",
        "Окей, добавим еще classmethod - это метод, который в качестве аргумента принимает класс (сам класс - это тоже объект!) и что-то с ним делает (это нужно для наследования, например, если хочешь взять что-то от класса)"
      ],
      "metadata": {
        "id": "jQXBEX4PKLoY"
      }
    },
    {
      "cell_type": "code",
      "source": [
        "class foo:\n",
        "    \"\"\"class example\"\"\"\n",
        "\n",
        "    S = 3\n",
        "    def __init__(self, x):\n",
        "        self.x = x\n",
        "\n",
        "    def foo_1(self, x):\n",
        "        self.x += 1\n",
        "        return 10\n",
        "\n",
        "    @staticmethod\n",
        "    def foo_2():\n",
        "        return 15\n",
        "\n",
        "    @classmethod\n",
        "    def foo_3(cls):\n",
        "        print(cls.__dict__)\n",
        "        return cls.__name__ #Выводит название класса\n",
        "\n",
        "class boo(foo):\n",
        "    pass\n",
        "\n",
        "a = foo(5)\n",
        "b = foo(6)\n",
        "print(a.foo_3())\n",
        "print(foo.foo_3())\n",
        "c = boo(5)\n",
        "print(c.foo_3())"
      ],
      "metadata": {
        "colab": {
          "base_uri": "https://localhost:8080/"
        },
        "id": "0Gz2wfZGKQY-",
        "outputId": "9998774b-9b0a-44a3-e042-90a715a1d2d2"
      },
      "execution_count": null,
      "outputs": [
        {
          "output_type": "stream",
          "name": "stdout",
          "text": [
            "{'__module__': '__main__', '__doc__': 'class example', 'S': 3, '__init__': <function foo.__init__ at 0x784f4fd6d990>, 'foo_1': <function foo.foo_1 at 0x784f4fd6f9a0>, 'foo_2': <staticmethod(<function foo.foo_2 at 0x784f4fd6f910>)>, 'foo_3': <classmethod(<function foo.foo_3 at 0x784f4fd6f880>)>, '__dict__': <attribute '__dict__' of 'foo' objects>, '__weakref__': <attribute '__weakref__' of 'foo' objects>}\n",
            "foo\n",
            "{'__module__': '__main__', '__doc__': 'class example', 'S': 3, '__init__': <function foo.__init__ at 0x784f4fd6d990>, 'foo_1': <function foo.foo_1 at 0x784f4fd6f9a0>, 'foo_2': <staticmethod(<function foo.foo_2 at 0x784f4fd6f910>)>, 'foo_3': <classmethod(<function foo.foo_3 at 0x784f4fd6f880>)>, '__dict__': <attribute '__dict__' of 'foo' objects>, '__weakref__': <attribute '__weakref__' of 'foo' objects>}\n",
            "foo\n",
            "{'__module__': '__main__', '__doc__': None}\n",
            "boo\n"
          ]
        }
      ]
    },
    {
      "cell_type": "markdown",
      "source": [
        "### А что еще есть? (property)"
      ],
      "metadata": {
        "id": "GBTVMgwrKpd-"
      }
    },
    {
      "cell_type": "markdown",
      "source": [
        "Есть property - это метод для обращения к атрибутам объектов. Прелесть в том, что таким образом вы запрещаете напрямую к этим атрибутам обращаться (или же вы хотите вызывать какое-то другое значение на основании значений параметра)\n",
        "\n",
        "Для чего это нужно? Возвращаясь к основам ООП, это обеспечивает инкапсуляцию (сокрытие внутреннего)\n",
        "\n",
        "property(fget, fset, fdel, doc) - функция, которая принимает 4 аргумента:\n",
        "\n",
        "* fget - функция для получения значения\n",
        "\n",
        "* fset - функция для изменения значения\n",
        "\n",
        "* fdel - функция для удаления значения\n",
        "\n",
        "* doc - документация для значения\n",
        "\n",
        "Давайте на примере:"
      ],
      "metadata": {
        "id": "0wvqoVflLxKm"
      }
    },
    {
      "cell_type": "code",
      "source": [
        "class foo:\n",
        "    \"\"\"class example\"\"\"\n",
        "\n",
        "    S = 3\n",
        "    def __init__(self, x):\n",
        "        self._x = x\n",
        "\n",
        "    def set_x(self, x):\n",
        "        self._x = x * x\n",
        "\n",
        "    def get_x(self):\n",
        "        return self._x\n",
        "\n",
        "    def del_x(self):\n",
        "        del self._x #удаляем атрибут\n",
        "\n",
        "    x = property(get_x, set_x, del_x, \"Our precious variable\")\n",
        "\n",
        "a = foo(3)\n",
        "print(a.x)\n",
        "a.x = 5\n",
        "print(a.x)\n",
        "del a.x\n",
        "print(a.x)"
      ],
      "metadata": {
        "colab": {
          "base_uri": "https://localhost:8080/",
          "height": 392
        },
        "id": "eEk5x1bALXCb",
        "outputId": "d6e6d191-cf5f-4040-9380-4ed52725210b"
      },
      "execution_count": null,
      "outputs": [
        {
          "output_type": "stream",
          "name": "stdout",
          "text": [
            "3\n",
            "25\n"
          ]
        },
        {
          "output_type": "error",
          "ename": "AttributeError",
          "evalue": "ignored",
          "traceback": [
            "\u001b[0;31m---------------------------------------------------------------------------\u001b[0m",
            "\u001b[0;31mAttributeError\u001b[0m                            Traceback (most recent call last)",
            "\u001b[0;32m<ipython-input-53-f5e5a6293d05>\u001b[0m in \u001b[0;36m<cell line: 24>\u001b[0;34m()\u001b[0m\n\u001b[1;32m     22\u001b[0m \u001b[0mprint\u001b[0m\u001b[0;34m(\u001b[0m\u001b[0ma\u001b[0m\u001b[0;34m.\u001b[0m\u001b[0mx\u001b[0m\u001b[0;34m)\u001b[0m\u001b[0;34m\u001b[0m\u001b[0;34m\u001b[0m\u001b[0m\n\u001b[1;32m     23\u001b[0m \u001b[0;32mdel\u001b[0m \u001b[0ma\u001b[0m\u001b[0;34m.\u001b[0m\u001b[0mx\u001b[0m\u001b[0;34m\u001b[0m\u001b[0;34m\u001b[0m\u001b[0m\n\u001b[0;32m---> 24\u001b[0;31m \u001b[0mprint\u001b[0m\u001b[0;34m(\u001b[0m\u001b[0ma\u001b[0m\u001b[0;34m.\u001b[0m\u001b[0mx\u001b[0m\u001b[0;34m)\u001b[0m\u001b[0;34m\u001b[0m\u001b[0;34m\u001b[0m\u001b[0m\n\u001b[0m",
            "\u001b[0;32m<ipython-input-53-f5e5a6293d05>\u001b[0m in \u001b[0;36mget_x\u001b[0;34m(self)\u001b[0m\n\u001b[1;32m     10\u001b[0m \u001b[0;34m\u001b[0m\u001b[0m\n\u001b[1;32m     11\u001b[0m     \u001b[0;32mdef\u001b[0m \u001b[0mget_x\u001b[0m\u001b[0;34m(\u001b[0m\u001b[0mself\u001b[0m\u001b[0;34m)\u001b[0m\u001b[0;34m:\u001b[0m\u001b[0;34m\u001b[0m\u001b[0;34m\u001b[0m\u001b[0m\n\u001b[0;32m---> 12\u001b[0;31m         \u001b[0;32mreturn\u001b[0m \u001b[0mself\u001b[0m\u001b[0;34m.\u001b[0m\u001b[0m_x\u001b[0m\u001b[0;34m\u001b[0m\u001b[0;34m\u001b[0m\u001b[0m\n\u001b[0m\u001b[1;32m     13\u001b[0m \u001b[0;34m\u001b[0m\u001b[0m\n\u001b[1;32m     14\u001b[0m     \u001b[0;32mdef\u001b[0m \u001b[0mdel_x\u001b[0m\u001b[0;34m(\u001b[0m\u001b[0mself\u001b[0m\u001b[0;34m)\u001b[0m\u001b[0;34m:\u001b[0m\u001b[0;34m\u001b[0m\u001b[0;34m\u001b[0m\u001b[0m\n",
            "\u001b[0;31mAttributeError\u001b[0m: 'foo' object has no attribute '_x'"
          ]
        }
      ]
    },
    {
      "cell_type": "markdown",
      "source": [
        "Естественно, так собирать и делать полезно, но есть более удобное решение в виде декораторов!"
      ],
      "metadata": {
        "id": "5kRJiBa_Mbt5"
      }
    },
    {
      "cell_type": "code",
      "source": [
        "class boo:\n",
        "    \"\"\"class example\"\"\"\n",
        "\n",
        "    S = 3\n",
        "    def __init__(self, x):\n",
        "        self._x = x\n",
        "\n",
        "    @property #аналогия для get\n",
        "    def x(self):\n",
        "        return self._x\n",
        "\n",
        "    @x.setter #аналогия для set\n",
        "    def x(self, x):\n",
        "        self._x = x * x\n",
        "\n",
        "    @x.deleter #аналогия для delete\n",
        "    def x(self):\n",
        "        del self._x #удаляем атрибут\n",
        "\n",
        "a = boo(3)\n",
        "print(a.x)\n",
        "a.x = 5\n",
        "print(a.x)\n",
        "del a.x"
      ],
      "metadata": {
        "colab": {
          "base_uri": "https://localhost:8080/"
        },
        "id": "PKiu3iT6Mhan",
        "outputId": "73c9d9b6-2dc4-41d4-e836-d04b56d12ff3"
      },
      "execution_count": null,
      "outputs": [
        {
          "output_type": "stream",
          "name": "stdout",
          "text": [
            "3\n",
            "25\n"
          ]
        }
      ]
    },
    {
      "cell_type": "markdown",
      "source": [
        "### Сложно как-то для сокрытия. Может есть способ попроще?\n",
        "\n",
        "Да, есть, например, public и private метки для переменных"
      ],
      "metadata": {
        "id": "-0XN-VASNjSF"
      }
    },
    {
      "cell_type": "code",
      "source": [
        "class foo:\n",
        "    def __init__(self):\n",
        "        self.x = 1 # публичный\n",
        "        self._x = 2 # приватный (по соглашению не надо менять, хоть и можно обратиться)\n",
        "        self.__x = 3 # супер приватный, нельзя обратиться напрямую (но можно через класс)\n",
        "\n",
        "    def __foo(self):\n",
        "        return \"A\"\n",
        "\n",
        "\n",
        "y = foo()\n",
        "print(y.x)\n",
        "print(y._x)\n",
        "print(y.__x)"
      ],
      "metadata": {
        "colab": {
          "base_uri": "https://localhost:8080/",
          "height": 260
        },
        "id": "xxcP_CPKNnuP",
        "outputId": "a901ab69-0895-4390-a420-01f0dea283f7"
      },
      "execution_count": null,
      "outputs": [
        {
          "output_type": "stream",
          "name": "stdout",
          "text": [
            "1\n",
            "2\n"
          ]
        },
        {
          "output_type": "error",
          "ename": "AttributeError",
          "evalue": "ignored",
          "traceback": [
            "\u001b[0;31m---------------------------------------------------------------------------\u001b[0m",
            "\u001b[0;31mAttributeError\u001b[0m                            Traceback (most recent call last)",
            "\u001b[0;32m<ipython-input-63-6ca9206934ed>\u001b[0m in \u001b[0;36m<cell line: 14>\u001b[0;34m()\u001b[0m\n\u001b[1;32m     12\u001b[0m \u001b[0mprint\u001b[0m\u001b[0;34m(\u001b[0m\u001b[0my\u001b[0m\u001b[0;34m.\u001b[0m\u001b[0mx\u001b[0m\u001b[0;34m)\u001b[0m\u001b[0;34m\u001b[0m\u001b[0;34m\u001b[0m\u001b[0m\n\u001b[1;32m     13\u001b[0m \u001b[0mprint\u001b[0m\u001b[0;34m(\u001b[0m\u001b[0my\u001b[0m\u001b[0;34m.\u001b[0m\u001b[0m_x\u001b[0m\u001b[0;34m)\u001b[0m\u001b[0;34m\u001b[0m\u001b[0;34m\u001b[0m\u001b[0m\n\u001b[0;32m---> 14\u001b[0;31m \u001b[0mprint\u001b[0m\u001b[0;34m(\u001b[0m\u001b[0my\u001b[0m\u001b[0;34m.\u001b[0m\u001b[0m__x\u001b[0m\u001b[0;34m)\u001b[0m\u001b[0;34m\u001b[0m\u001b[0;34m\u001b[0m\u001b[0m\n\u001b[0m",
            "\u001b[0;31mAttributeError\u001b[0m: 'foo' object has no attribute '__x'"
          ]
        }
      ]
    },
    {
      "cell_type": "code",
      "source": [
        "print(y.__dict__)\n",
        "print(y._foo__x)"
      ],
      "metadata": {
        "colab": {
          "base_uri": "https://localhost:8080/"
        },
        "id": "3vRqUFZTNxCw",
        "outputId": "43d7116a-73de-4d14-f237-12af9d8c11d0"
      },
      "execution_count": null,
      "outputs": [
        {
          "output_type": "stream",
          "name": "stdout",
          "text": [
            "{'x': 1, '_x': 2, '_foo__x': 3}\n",
            "3\n"
          ]
        }
      ]
    },
    {
      "cell_type": "markdown",
      "source": [
        "### Два нижних подчеркивания везде... Что это за магия?\n",
        "\n",
        "Для методов классов такие штуки называются dunder (или магические) методы, они всегда начинаются с двух нижних подчеркиваний (например, init)\n",
        "\n",
        "Вызов этих методов происходит неявно\n",
        "\n",
        "Какие есть:\n",
        "\n",
        "* repr - строка, которую обычно можно скопировать и вставить для использования (например, создания объекта, выводится при попытке напрямую вызвать переменную)\n",
        "\n",
        "* str - строковое представление объекта (неявно вызывается в print, например)\n",
        "\n",
        "В теории можно выводить на них что угодно"
      ],
      "metadata": {
        "id": "oyUvrOqlSqlJ"
      }
    },
    {
      "cell_type": "code",
      "source": [
        "class foo:\n",
        "    \"\"\"class example\"\"\"\n",
        "\n",
        "    S = 3\n",
        "    def __init__(self, x, y):\n",
        "        self._x = x\n",
        "        self._y = y\n",
        "\n",
        "    def __str__(self):\n",
        "        return f\"object with x = {self._x} and y = {self._y}\"\n",
        "\n",
        "    def __repr__(self):\n",
        "        return f\"foo({self._x}, {self._y})\"\n",
        "\n",
        "a = foo(5, 6)\n",
        "print(a) # print(a) -> print(str(a))\n",
        "a"
      ],
      "metadata": {
        "colab": {
          "base_uri": "https://localhost:8080/"
        },
        "id": "T0SvspaNSyso",
        "outputId": "c19c4832-9a81-4bd7-b44f-d4b5c0f4ce4d"
      },
      "execution_count": null,
      "outputs": [
        {
          "output_type": "stream",
          "name": "stdout",
          "text": [
            "object with x = 5 and y = 6\n"
          ]
        },
        {
          "output_type": "execute_result",
          "data": {
            "text/plain": [
              "foo(5, 6)"
            ]
          },
          "metadata": {},
          "execution_count": 70
        }
      ]
    },
    {
      "cell_type": "markdown",
      "source": [
        "Какие есть dunder методы? Можно посмотреть внутри класса:"
      ],
      "metadata": {
        "id": "QWU1zw2JS803"
      }
    },
    {
      "cell_type": "code",
      "source": [
        "dir(foo)"
      ],
      "metadata": {
        "colab": {
          "base_uri": "https://localhost:8080/"
        },
        "id": "n6rQECCdTAbK",
        "outputId": "9b5b68bc-1d87-4ccf-e317-660a0aefc8c7"
      },
      "execution_count": null,
      "outputs": [
        {
          "output_type": "execute_result",
          "data": {
            "text/plain": [
              "['S',\n",
              " '__class__',\n",
              " '__delattr__',\n",
              " '__dict__',\n",
              " '__dir__',\n",
              " '__doc__',\n",
              " '__eq__',\n",
              " '__format__',\n",
              " '__ge__',\n",
              " '__getattribute__',\n",
              " '__gt__',\n",
              " '__hash__',\n",
              " '__init__',\n",
              " '__init_subclass__',\n",
              " '__le__',\n",
              " '__lt__',\n",
              " '__module__',\n",
              " '__ne__',\n",
              " '__new__',\n",
              " '__reduce__',\n",
              " '__reduce_ex__',\n",
              " '__repr__',\n",
              " '__setattr__',\n",
              " '__sizeof__',\n",
              " '__str__',\n",
              " '__subclasshook__',\n",
              " '__weakref__']"
            ]
          },
          "metadata": {},
          "execution_count": 71
        }
      ]
    },
    {
      "cell_type": "markdown",
      "source": [
        "### Звучит прикольно, а что этими методами можно делать?\n",
        "\n",
        "Переопределять арифметические операции и не только!\n",
        "\n",
        "* add (iadd, radd) - сложение слева (инкрементальное, справа)\n",
        "\n",
        "* sub (isub, rsub) - вычитание слева (инкрементальное, справа)\n",
        "\n",
        "* mul (imul, rmul) - умножение слева (инкрементальное, справа)\n",
        "\n",
        "* div (idiv, rdiv) - деление слева (инкрементальное, справа)\n",
        "\n",
        "* len - длина\n",
        "\n",
        "* getattr, setattr - получить/поставить значение аттрибута\n",
        "\n",
        "* eq, ne - равенство, неравенство (eq может быть без ne, ne без eq работать нормально не будет)\n",
        "\n",
        "* lt, gt - меньше, больше"
      ],
      "metadata": {
        "id": "UAiG7SbpTFLg"
      }
    },
    {
      "cell_type": "code",
      "source": [
        "class foo:\n",
        "    \"\"\"class example\"\"\"\n",
        "    def __init__(self, x, y):\n",
        "        self._x = x\n",
        "        self._y = y\n",
        "\n",
        "    def __str__(self):\n",
        "        return f\"object with x = {self._x} and y = {self._y}\"\n",
        "\n",
        "    def __repr__(self):\n",
        "        return f\"foo({self._x}, {self._y})\"\n",
        "\n",
        "    def __add__(self, other):\n",
        "        if isinstance(other, int):\n",
        "            return self\n",
        "        return foo(self._x + other._x, self._y + other._y)\n",
        "\n",
        "    def __iadd__(self, other):\n",
        "        self._x += other._x\n",
        "        self._y += other._y\n",
        "        return self\n",
        "\n",
        "    def __radd__(self, other):\n",
        "        return foo(self._x + other, self._y)\n",
        "\n",
        "    def __len__(self):\n",
        "        return self._x + self._y\n",
        "\n",
        "a = foo(5, 6)\n",
        "b = foo(7, 8)\n",
        "\n",
        "print(a)\n",
        "a += b\n",
        "print(a)\n",
        "a = 7 + a\n",
        "print(a)\n",
        "print(len(a))"
      ],
      "metadata": {
        "id": "OgH0zAhaTLLY"
      },
      "execution_count": null,
      "outputs": []
    },
    {
      "cell_type": "code",
      "source": [
        "class foo:\n",
        "    \"\"\"class example\"\"\"\n",
        "    def __init__(self, x, y):\n",
        "        self._x = x\n",
        "        self._y = y\n",
        "\n",
        "    def __str__(self):\n",
        "        return f\"object with x = {self._x} and y = {self._y}\"\n",
        "\n",
        "    def __repr__(self):\n",
        "        return f\"foo({self._x}, {self._y})\"\n",
        "\n",
        "    def __add__(self, other):\n",
        "        return foo(self._x + other._x, self._y + other._y)\n",
        "\n",
        "    def __iadd__(self, other):\n",
        "        self._x += other._x\n",
        "        self._y += other._y\n",
        "        return self\n",
        "\n",
        "    def __radd__(self, other):\n",
        "        return foo(self._x + other, self._y)\n",
        "\n",
        "    def __eq__(self, other):\n",
        "        return self._x == other._x and self._y == other._y\n",
        "\n",
        "a = foo(5, 6)\n",
        "b = foo(5, 6)\n",
        "print(a == b)\n",
        "print(a < b)"
      ],
      "metadata": {
        "id": "fRQxE2rQTdJr"
      },
      "execution_count": null,
      "outputs": []
    },
    {
      "cell_type": "markdown",
      "source": [
        "### Блин, как много всего... А что самое важное из этого есть?\n",
        "\n",
        "Ответ: вышеперечисленное + hash\n",
        "\n",
        "Зачем hash нам нужен? Чтобы запихнуть все в множества"
      ],
      "metadata": {
        "id": "Wb4BTz6qTfkP"
      }
    },
    {
      "cell_type": "code",
      "source": [
        "class foo:\n",
        "    \"\"\"class example\"\"\"\n",
        "    def __init__(self, x, y):\n",
        "        self._x = x\n",
        "        self._y = y\n",
        "\n",
        "    def __str__(self):\n",
        "        return f\"object with x = {self._x} and y = {self._y}\"\n",
        "\n",
        "    def __repr__(self):\n",
        "        return f\"foo({self._x}, {self._y})\"\n",
        "\n",
        "    def __add__(self, other):\n",
        "        return foo(self._x + other._x, self._y + other._y)\n",
        "\n",
        "    def __iadd__(self, other):\n",
        "        self._x += other._x\n",
        "        self._y += other._y\n",
        "        return self\n",
        "\n",
        "    def __radd__(self, other):\n",
        "        return foo(self._x + other, self._y)\n",
        "\n",
        "    def __eq__(self, other):\n",
        "        return self._x == other._x and self._y == other._y\n",
        "\n",
        "a = foo(5, 6)\n",
        "b = foo(5, 6)\n",
        "s = set()\n",
        "s.add(a) ## переназначение eq приводит к занулению хэша"
      ],
      "metadata": {
        "colab": {
          "base_uri": "https://localhost:8080/",
          "height": 222
        },
        "id": "GK6iPHvBTjAz",
        "outputId": "f4326caf-2604-4df0-d2ae-2b102ed3f155"
      },
      "execution_count": null,
      "outputs": [
        {
          "output_type": "error",
          "ename": "TypeError",
          "evalue": "ignored",
          "traceback": [
            "\u001b[0;31m---------------------------------------------------------------------------\u001b[0m",
            "\u001b[0;31mTypeError\u001b[0m                                 Traceback (most recent call last)",
            "\u001b[0;32m<ipython-input-73-ad720bfc72eb>\u001b[0m in \u001b[0;36m<cell line: 30>\u001b[0;34m()\u001b[0m\n\u001b[1;32m     28\u001b[0m \u001b[0mb\u001b[0m \u001b[0;34m=\u001b[0m \u001b[0mfoo\u001b[0m\u001b[0;34m(\u001b[0m\u001b[0;36m5\u001b[0m\u001b[0;34m,\u001b[0m \u001b[0;36m6\u001b[0m\u001b[0;34m)\u001b[0m\u001b[0;34m\u001b[0m\u001b[0;34m\u001b[0m\u001b[0m\n\u001b[1;32m     29\u001b[0m \u001b[0ms\u001b[0m \u001b[0;34m=\u001b[0m \u001b[0mset\u001b[0m\u001b[0;34m(\u001b[0m\u001b[0;34m)\u001b[0m\u001b[0;34m\u001b[0m\u001b[0;34m\u001b[0m\u001b[0m\n\u001b[0;32m---> 30\u001b[0;31m \u001b[0ms\u001b[0m\u001b[0;34m.\u001b[0m\u001b[0madd\u001b[0m\u001b[0;34m(\u001b[0m\u001b[0ma\u001b[0m\u001b[0;34m)\u001b[0m \u001b[0;31m## переназначение eq приводит к занулению хэша\u001b[0m\u001b[0;34m\u001b[0m\u001b[0;34m\u001b[0m\u001b[0m\n\u001b[0m",
            "\u001b[0;31mTypeError\u001b[0m: unhashable type: 'foo'"
          ]
        }
      ]
    },
    {
      "cell_type": "code",
      "source": [
        "class foo:\n",
        "    \"\"\"class example\"\"\"\n",
        "    def __init__(self, x, y):\n",
        "        self._x = x\n",
        "        self._y = y\n",
        "\n",
        "    def __str__(self):\n",
        "        return f\"object with x = {self._x} and y = {self._y}\"\n",
        "\n",
        "    def __repr__(self):\n",
        "        return f\"foo({self._x}, {self._y})\"\n",
        "\n",
        "    def __add__(self, other):\n",
        "        return foo(self._x + other._x, self._y + other._y)\n",
        "\n",
        "    def __iadd__(self, other):\n",
        "        self._x += other._x\n",
        "        self._y += other._y\n",
        "        return self\n",
        "\n",
        "    def __radd__(self, other):\n",
        "        if isinstance(other, i):\n",
        "            return foo(self._x + other, self._y)\n",
        "        return NotImplemented\n",
        "\n",
        "    def __eq__(self, other):\n",
        "        return self._x == other._x and self._y == other._y\n",
        "\n",
        "    def __hash__(self):\n",
        "        return hash(self._x) # ну или что еще. Если хэши равны, то он идет в eq\n",
        "\n",
        "a = foo(5, 6)\n",
        "b = foo(5, 6)\n",
        "c = foo(5, 3)\n",
        "s = set()\n",
        "s.add(a)\n",
        "s.add(b)\n",
        "s.add(c)\n",
        "print(s)"
      ],
      "metadata": {
        "colab": {
          "base_uri": "https://localhost:8080/"
        },
        "id": "Y4qVtN8oTn-Z",
        "outputId": "b1a45b76-5072-4e5e-d17b-cd5219fcb4f1"
      },
      "execution_count": null,
      "outputs": [
        {
          "output_type": "stream",
          "name": "stdout",
          "text": [
            "{foo(5, 3), foo(5, 6)}\n"
          ]
        }
      ]
    },
    {
      "cell_type": "markdown",
      "source": [
        "### Супер. А я могу обратиться к объекту как к функции, допустим?\n",
        "\n",
        "Можно, с помощью функции call (такие классы называются callable)"
      ],
      "metadata": {
        "id": "kXQVlRjBTszs"
      }
    },
    {
      "cell_type": "code",
      "source": [
        "class foo:\n",
        "    \"\"\"class example\"\"\"\n",
        "    def __init__(self, x, y):\n",
        "        self._x = x\n",
        "        self._y = y\n",
        "\n",
        "    def __str__(self):\n",
        "        return f\"object with x = {self._x} and y = {self._y}\"\n",
        "\n",
        "    def __repr__(self):\n",
        "        return f\"foo({self._x}, {self._y})\"\n",
        "\n",
        "    def __add__(self, other):\n",
        "        return foo(self._x + other._x, self._y + other._y)\n",
        "\n",
        "    def __iadd__(self, other):\n",
        "        self._x += other._x\n",
        "        self._y += other._y\n",
        "        return self\n",
        "\n",
        "    def __radd__(self, other):\n",
        "        if isinstance(other, i):\n",
        "            return foo(self._x + other, self._y)\n",
        "        return NotImplemented\n",
        "\n",
        "    def __eq__(self, other):\n",
        "        return self._x == other._x and self._y == other._y\n",
        "\n",
        "    def __hash__(self):\n",
        "        return hash(self._x)\n",
        "\n",
        "    def __call__(self, x):\n",
        "        return (self._x + self._y) * x\n",
        "\n",
        "a = foo(1, 2)\n",
        "a(3)"
      ],
      "metadata": {
        "id": "vHc4Gq-lTu-a"
      },
      "execution_count": null,
      "outputs": []
    },
    {
      "cell_type": "markdown",
      "source": [
        "### Класс! Какие есть подводводные камни?\n",
        "\n",
        "Все подводные камни можно избежать, если:\n",
        "\n",
        "* не устанаваливать атрибуты после конструирования (то есть все аттрибуты объекта должны быть в init)\n",
        "\n",
        "* не обращаться к атрибутам объекта, которых нет в init\n",
        "\n",
        "* не модифицировать аттрибуты класса (например, называть все аттрибуты класса капсом)"
      ],
      "metadata": {
        "id": "uePPiFQqUHWs"
      }
    },
    {
      "cell_type": "code",
      "source": [
        "# пример bad case\n",
        "\n",
        "class foo:\n",
        "\n",
        "    names = [] #атрибут класса\n",
        "\n",
        "    def add_name(self, name):\n",
        "        self.names.append(name)\n",
        "\n",
        "a = foo()\n",
        "b = foo()\n",
        "\n",
        "a.add_name('A')\n",
        "b.add_name('B')\n",
        "\n",
        "c = foo()\n",
        "\n",
        "print(a.names, b.names, c.names)"
      ],
      "metadata": {
        "id": "-JLdQLSvUJ2u"
      },
      "execution_count": null,
      "outputs": []
    },
    {
      "cell_type": "markdown",
      "source": [
        "## Дескрипторы"
      ],
      "metadata": {
        "id": "XHDPSHl2rVcE"
      }
    },
    {
      "cell_type": "markdown",
      "source": [
        "Мы более-менее поняли, как задавать dunder методы, умеем создавать собственные методы и каким-то образом играться с нашими атрибутами (ограничивать, делать их скрытыми etc).\n",
        "\n",
        "Но одна вещь остается загадкой: а можем ли мы еще как-то менять в общем задавание и вывод наших атрибутов?\n",
        "\n",
        "Что имеется в виду: мы с вами знаем setter-getter-property, но он позволяет сделать это, ну, одному значению. А допустим, что мы хотим так для всего сделать? Не писать же нам каждый раз это все\n",
        "\n",
        "Вот за это, на самом деле, отвечают так называемые дескрипторы. Что это такое?\n",
        "\n",
        "Три метода:\n",
        "\n",
        "* __ get __\n",
        "\n",
        "* __ set __\n",
        "\n",
        "* __ delete __\n",
        "\n",
        "Если мы определям один из методов, то наш класс сразу становится дескриптором. В чем прикол?"
      ],
      "metadata": {
        "id": "tEURWAjCrXel"
      }
    },
    {
      "cell_type": "markdown",
      "source": [
        "Давайте вспомним, как у нас идет поиск и задание значений внутри объекта:\n",
        "\n",
        "```\n",
        "a.x -> a.__dict__['x']\n",
        "# обращаемся к dict и ищем нужное нам значение (если в слотах, то просто a['x']\n",
        "```\n",
        "\n",
        "Что происходит в дескрипторе\n",
        "\n",
        "```\n",
        "a.x -> a.__get__('x')\n",
        "# непосредственно обращаемся к методу get\n",
        "```"
      ],
      "metadata": {
        "id": "61-_bx9issU_"
      }
    },
    {
      "cell_type": "markdown",
      "source": [
        "Можно написать кастомный property! (библиотека [operator](https://docs.python.org/3/library/operator.html) - это удобная вещь для того, чтобы доставать необходимые атрибуты, а также операции, посмотрите обязательно). Давайте на примере:"
      ],
      "metadata": {
        "id": "ftb7CSPihHX6"
      }
    },
    {
      "cell_type": "code",
      "source": [
        "from operator import attrgetter\n",
        "\n",
        "class CustomProperty(object):\n",
        "    def __init__(self, attr):\n",
        "        self.attr = attr\n",
        "\n",
        "    def __get__(self, ins, type):\n",
        "        if ins is None:\n",
        "            return self\n",
        "        else:\n",
        "            return attrgetter(self.attr)(ins) * 2\n",
        "\n",
        "    def __set__(self, ins, value):\n",
        "        value /= 2\n",
        "        setattr(ins, self.attr, value)\n",
        "\n",
        "class C:\n",
        "    def __init__(self, x):\n",
        "        self.__x = x\n",
        "\n",
        "    x = CustomProperty('__x')"
      ],
      "metadata": {
        "id": "OA3Ny7Gatl8p"
      },
      "execution_count": null,
      "outputs": []
    },
    {
      "cell_type": "code",
      "source": [
        "a = C(15)\n",
        "a.x = 12\n",
        "a.x"
      ],
      "metadata": {
        "colab": {
          "base_uri": "https://localhost:8080/"
        },
        "id": "lU1Fs1iFhVuT",
        "outputId": "de02e191-b954-4524-8826-da93364f3459"
      },
      "execution_count": null,
      "outputs": [
        {
          "output_type": "stream",
          "name": "stdout",
          "text": [
            "<__main__.C object at 0x7e2715315210>\n"
          ]
        },
        {
          "output_type": "execute_result",
          "data": {
            "text/plain": [
              "12.0"
            ]
          },
          "metadata": {},
          "execution_count": 8
        }
      ]
    },
    {
      "cell_type": "markdown",
      "metadata": {
        "id": "XUZXqi-y-_Ii"
      },
      "source": [
        "## Наследование"
      ]
    },
    {
      "cell_type": "markdown",
      "metadata": {
        "id": "Iq3dkji5_FDG"
      },
      "source": [
        "Все классы, если не указываем родителя, наследуются от класса object (метакласс)"
      ]
    },
    {
      "cell_type": "code",
      "metadata": {
        "id": "btjPLQfF_DWy"
      },
      "source": [
        "class A():\n",
        "    pass\n",
        "\n",
        "a = A()"
      ],
      "execution_count": null,
      "outputs": []
    },
    {
      "cell_type": "code",
      "metadata": {
        "colab": {
          "base_uri": "https://localhost:8080/"
        },
        "id": "6MECZpRF_QTp",
        "outputId": "15e46d7d-c465-4b12-8690-7a6a1b5e1bcd"
      },
      "source": [
        "object.__dict__"
      ],
      "execution_count": null,
      "outputs": [
        {
          "output_type": "execute_result",
          "data": {
            "text/plain": [
              "mappingproxy({'__repr__': <slot wrapper '__repr__' of 'object' objects>,\n",
              "              '__hash__': <slot wrapper '__hash__' of 'object' objects>,\n",
              "              '__str__': <slot wrapper '__str__' of 'object' objects>,\n",
              "              '__getattribute__': <slot wrapper '__getattribute__' of 'object' objects>,\n",
              "              '__setattr__': <slot wrapper '__setattr__' of 'object' objects>,\n",
              "              '__delattr__': <slot wrapper '__delattr__' of 'object' objects>,\n",
              "              '__lt__': <slot wrapper '__lt__' of 'object' objects>,\n",
              "              '__le__': <slot wrapper '__le__' of 'object' objects>,\n",
              "              '__eq__': <slot wrapper '__eq__' of 'object' objects>,\n",
              "              '__ne__': <slot wrapper '__ne__' of 'object' objects>,\n",
              "              '__gt__': <slot wrapper '__gt__' of 'object' objects>,\n",
              "              '__ge__': <slot wrapper '__ge__' of 'object' objects>,\n",
              "              '__init__': <slot wrapper '__init__' of 'object' objects>,\n",
              "              '__new__': <function object.__new__(*args, **kwargs)>,\n",
              "              '__reduce_ex__': <method '__reduce_ex__' of 'object' objects>,\n",
              "              '__reduce__': <method '__reduce__' of 'object' objects>,\n",
              "              '__subclasshook__': <method '__subclasshook__' of 'object' objects>,\n",
              "              '__init_subclass__': <method '__init_subclass__' of 'object' objects>,\n",
              "              '__format__': <method '__format__' of 'object' objects>,\n",
              "              '__sizeof__': <method '__sizeof__' of 'object' objects>,\n",
              "              '__dir__': <method '__dir__' of 'object' objects>,\n",
              "              '__class__': <attribute '__class__' of 'object' objects>,\n",
              "              '__doc__': 'The most base type'})"
            ]
          },
          "metadata": {},
          "execution_count": 24
        }
      ]
    },
    {
      "cell_type": "code",
      "metadata": {
        "colab": {
          "base_uri": "https://localhost:8080/"
        },
        "id": "xJLTD9XF_SBw",
        "outputId": "3b7fa29a-afe6-4a66-c7c8-8dba52531521"
      },
      "source": [
        "A.__dict__"
      ],
      "execution_count": null,
      "outputs": [
        {
          "output_type": "execute_result",
          "data": {
            "text/plain": [
              "mappingproxy({'__module__': '__main__',\n",
              "              '__dict__': <attribute '__dict__' of 'A' objects>,\n",
              "              '__weakref__': <attribute '__weakref__' of 'A' objects>,\n",
              "              '__doc__': None})"
            ]
          },
          "metadata": {},
          "execution_count": 25
        }
      ]
    },
    {
      "cell_type": "code",
      "metadata": {
        "colab": {
          "base_uri": "https://localhost:8080/"
        },
        "id": "sZRB1KuV_T-Y",
        "outputId": "1a5028e6-2d07-4fb8-9ea4-edeed74c8aba"
      },
      "source": [
        "dir(A) # видим методы объекта"
      ],
      "execution_count": null,
      "outputs": [
        {
          "output_type": "execute_result",
          "data": {
            "text/plain": [
              "['__class__',\n",
              " '__delattr__',\n",
              " '__dict__',\n",
              " '__dir__',\n",
              " '__doc__',\n",
              " '__eq__',\n",
              " '__format__',\n",
              " '__ge__',\n",
              " '__getattribute__',\n",
              " '__gt__',\n",
              " '__hash__',\n",
              " '__init__',\n",
              " '__init_subclass__',\n",
              " '__le__',\n",
              " '__lt__',\n",
              " '__module__',\n",
              " '__ne__',\n",
              " '__new__',\n",
              " '__reduce__',\n",
              " '__reduce_ex__',\n",
              " '__repr__',\n",
              " '__setattr__',\n",
              " '__sizeof__',\n",
              " '__str__',\n",
              " '__subclasshook__',\n",
              " '__weakref__']"
            ]
          },
          "metadata": {},
          "execution_count": 26
        }
      ]
    },
    {
      "cell_type": "markdown",
      "metadata": {
        "id": "SEpNrdIj_ihZ"
      },
      "source": [
        "### Как работает наследование от класса?\n",
        "\n",
        "Ответ: задается при определении класса"
      ]
    },
    {
      "cell_type": "code",
      "metadata": {
        "id": "zg4oB9_0_sTb"
      },
      "source": [
        "class A:\n",
        "    def __init__(self, x):\n",
        "        self.x = x\n",
        "\n",
        "class B(A):\n",
        "    pass\n",
        "\n",
        "b = B(1)"
      ],
      "execution_count": null,
      "outputs": []
    },
    {
      "cell_type": "code",
      "metadata": {
        "colab": {
          "base_uri": "https://localhost:8080/"
        },
        "id": "akfwO69i_2-V",
        "outputId": "149c6ed5-d405-4a71-ed5c-ab2e19899ba3"
      },
      "source": [
        "A.__dict__"
      ],
      "execution_count": null,
      "outputs": [
        {
          "output_type": "execute_result",
          "data": {
            "text/plain": [
              "mappingproxy({'__module__': '__main__',\n",
              "              '__init__': <function __main__.A.__init__(self, x)>,\n",
              "              '__dict__': <attribute '__dict__' of 'A' objects>,\n",
              "              '__weakref__': <attribute '__weakref__' of 'A' objects>,\n",
              "              '__doc__': None})"
            ]
          },
          "metadata": {},
          "execution_count": 29
        }
      ]
    },
    {
      "cell_type": "code",
      "metadata": {
        "colab": {
          "base_uri": "https://localhost:8080/"
        },
        "id": "7GyccXs__-7l",
        "outputId": "621ef5e3-d8aa-4a9a-8890-1ebe34b54030"
      },
      "source": [
        "B.__dict__ # берет init от своего родителя"
      ],
      "execution_count": null,
      "outputs": [
        {
          "output_type": "execute_result",
          "data": {
            "text/plain": [
              "mappingproxy({'__module__': '__main__', '__doc__': None})"
            ]
          },
          "metadata": {},
          "execution_count": 28
        }
      ]
    },
    {
      "cell_type": "code",
      "metadata": {
        "colab": {
          "base_uri": "https://localhost:8080/"
        },
        "id": "nJTZhfFzAGqv",
        "outputId": "5b16133e-6047-4b2f-9f4b-be2c5fcd1696"
      },
      "source": [
        "b.__dict__"
      ],
      "execution_count": null,
      "outputs": [
        {
          "output_type": "execute_result",
          "data": {
            "text/plain": [
              "{'x': 1}"
            ]
          },
          "metadata": {},
          "execution_count": 30
        }
      ]
    },
    {
      "cell_type": "markdown",
      "metadata": {
        "id": "6c_mM2gFDiJu"
      },
      "source": [
        "### А что, если я хочу новый метод в наследнике?\n",
        "\n",
        "Тогда просто делаем overwrtiting (переписывание) метода"
      ]
    },
    {
      "cell_type": "code",
      "metadata": {
        "id": "6MtXbaC8DowL",
        "colab": {
          "base_uri": "https://localhost:8080/"
        },
        "outputId": "0eacc215-864d-45cf-df52-22b21b28ed3c"
      },
      "source": [
        "class foo:\n",
        "    def __init__(self, x):\n",
        "        self.x = x\n",
        "        self.z = 6\n",
        "\n",
        "    def print_x(self):\n",
        "        return self.x\n",
        "\n",
        "    def print_z(self):\n",
        "        return self.z\n",
        "\n",
        "class B(foo):\n",
        "    def __init__(self, z, y):\n",
        "        self.z = z\n",
        "        self.y = y\n",
        "\n",
        "    def print_x(self):\n",
        "        return self.y\n",
        "\n",
        "    # если убираем, то очевидно, что не выполнится\n",
        "\n",
        "b = B(1, 2)\n",
        "print(b.print_x())\n",
        "print(b.print_z())"
      ],
      "execution_count": null,
      "outputs": [
        {
          "output_type": "stream",
          "name": "stdout",
          "text": [
            "2\n",
            "1\n"
          ]
        }
      ]
    },
    {
      "cell_type": "markdown",
      "metadata": {
        "id": "mfYcIMAbEEn8"
      },
      "source": [
        "### А если переписываем, но хотим использовать методы родителя?\n",
        "\n",
        "Тогда внутри переписанного можно инциализировать объект родительского класса внутри наследника"
      ]
    },
    {
      "cell_type": "code",
      "metadata": {
        "colab": {
          "base_uri": "https://localhost:8080/"
        },
        "id": "ENrxyt4OEP_v",
        "outputId": "b0e5b508-c8be-4b7e-b5c5-a96b4e14e4f8"
      },
      "source": [
        "class foo:\n",
        "    def __init__(self, x):\n",
        "        self.x = x\n",
        "\n",
        "    def __call__(self):\n",
        "        return self.x\n",
        "\n",
        "class B(foo):\n",
        "    def __init__(self, z, y):\n",
        "        super().__init__(z) ## super - вызов родительского класса (можно еще как foo.__init__(self, z))\n",
        "        self.z = z\n",
        "        self.y = y\n",
        "\n",
        "b = B(1, 2)\n",
        "# b = foo(1)\n",
        "b()"
      ],
      "execution_count": null,
      "outputs": [
        {
          "output_type": "execute_result",
          "data": {
            "text/plain": [
              "1"
            ]
          },
          "metadata": {},
          "execution_count": 37
        }
      ]
    },
    {
      "cell_type": "markdown",
      "source": [
        "b() -> b.__ call __() -> foo. __ call __() -> self.x -> 1"
      ],
      "metadata": {
        "id": "R6IPFt8t2nQZ"
      }
    },
    {
      "cell_type": "code",
      "metadata": {
        "colab": {
          "base_uri": "https://localhost:8080/"
        },
        "id": "1f4ukjujEUT8",
        "outputId": "fd38678f-e7ad-464d-bf96-57f93678500c"
      },
      "source": [
        "b.__dict__"
      ],
      "execution_count": null,
      "outputs": [
        {
          "output_type": "execute_result",
          "data": {
            "text/plain": [
              "{'x': 1, 'y': 2, 'z': 1}"
            ]
          },
          "metadata": {},
          "execution_count": 165
        }
      ]
    },
    {
      "cell_type": "markdown",
      "metadata": {
        "id": "xEnLxbxNRyyX"
      },
      "source": [
        "### А могу ли я наследоваться от нескольких классов?\n",
        "\n",
        "Да, конечно, такая вещь называется множественно наследование. Для того в инициализации надо через запятую указать все классы, от которых он наследуется"
      ]
    },
    {
      "cell_type": "code",
      "metadata": {
        "colab": {
          "base_uri": "https://localhost:8080/"
        },
        "id": "Ubbytr57SAWS",
        "outputId": "70bb1169-8a37-409f-dcdc-3ab864e209c0"
      },
      "source": [
        "class A:\n",
        "    def __init__(self, x):\n",
        "        self.x = x\n",
        "\n",
        "    def __len__(self):\n",
        "        return self.x\n",
        "\n",
        "class B:\n",
        "    def __init__(self, y):\n",
        "        self.y = y\n",
        "\n",
        "    def __len__(self):\n",
        "        return self.y\n",
        "\n",
        "    def __str__(self):\n",
        "        return str(self.y)\n",
        "\n",
        "class C(B, A):\n",
        "    def __init__(self, x, y):\n",
        "        B.__init__(self, x)\n",
        "        A.__init__(self, y)\n",
        "\n",
        "    def __len__(self):\n",
        "        return A.__len__(self)\n",
        "\n",
        "\n",
        "a = C(5, 2)\n",
        "print(len(a))\n",
        "print(str(a))"
      ],
      "execution_count": null,
      "outputs": [
        {
          "output_type": "stream",
          "name": "stdout",
          "text": [
            "2\n",
            "5\n"
          ]
        }
      ]
    },
    {
      "cell_type": "markdown",
      "metadata": {
        "id": "SABfPa_9FDBN"
      },
      "source": [
        "### Так, а если я буду наследовать от нескольких классов (или класс внутри класса внутри класса), то как понять, от кого и что он будет делать?\n",
        "\n",
        "Ответ: для этих вещей есть MRO (method resolution order). Это последовательность классов, где у нас будет искаться метод. Не будем подробно говорить, как именно это происходит ([для интересующихся](https://ru.wikipedia.org/wiki/C3-линеаризация))"
      ]
    },
    {
      "cell_type": "code",
      "metadata": {
        "colab": {
          "base_uri": "https://localhost:8080/"
        },
        "id": "LPjJ36QqFjEd",
        "outputId": "0e3cbf52-7c30-441f-92cf-eedb7d7b3775"
      },
      "source": [
        "C.mro() #с помощью mro() можем видеть последовательность"
      ],
      "execution_count": null,
      "outputs": [
        {
          "output_type": "execute_result",
          "data": {
            "text/plain": [
              "[__main__.C, __main__.B, __main__.A, object]"
            ]
          },
          "metadata": {},
          "execution_count": 44
        }
      ]
    },
    {
      "cell_type": "markdown",
      "source": [
        "Так называемая diamond problem:"
      ],
      "metadata": {
        "id": "Zh6_n_45pBEM"
      }
    },
    {
      "cell_type": "markdown",
      "source": [
        "A <- B\n",
        "\n",
        "A <- C\n",
        "\n",
        "B <- D\n",
        "\n",
        "C <- D"
      ],
      "metadata": {
        "id": "G9yzvi6c4H5-"
      }
    },
    {
      "cell_type": "code",
      "metadata": {
        "colab": {
          "base_uri": "https://localhost:8080/"
        },
        "id": "4a7DRyOBFjzP",
        "outputId": "b6d43a10-7ccf-4ae5-e614-02b6e7efc902"
      },
      "source": [
        "class A:\n",
        "    def __init__(self):\n",
        "        print(\"A\")\n",
        "        self.y = 0\n",
        "\n",
        "class B(A):\n",
        "    def __init__(self):\n",
        "        print(\"B\")\n",
        "        A.__init__(self)\n",
        "        self.x = 3\n",
        "\n",
        "class C(A):\n",
        "    def __init__(self):\n",
        "        print(\"C\")\n",
        "        A.__init__(self)\n",
        "        self.x = 2\n",
        "\n",
        "class D(B, C):\n",
        "    def __init__(self):\n",
        "        print(\"D\")\n",
        "        C.__init__(self)\n",
        "        B.__init__(self)\n",
        "\n",
        "print(D.mro())\n",
        "d = D()\n",
        "d.y"
      ],
      "execution_count": null,
      "outputs": [
        {
          "output_type": "stream",
          "name": "stdout",
          "text": [
            "[<class '__main__.D'>, <class '__main__.B'>, <class '__main__.C'>, <class '__main__.A'>, <class 'object'>]\n",
            "D\n",
            "C\n",
            "A\n",
            "B\n",
            "A\n"
          ]
        },
        {
          "output_type": "execute_result",
          "data": {
            "text/plain": [
              "0"
            ]
          },
          "metadata": {},
          "execution_count": 46
        }
      ]
    },
    {
      "cell_type": "code",
      "metadata": {
        "colab": {
          "base_uri": "https://localhost:8080/"
        },
        "id": "ism4dbw4HBY0",
        "outputId": "cb64fc61-9728-4c29-a0b3-08d27932f28c"
      },
      "source": [
        "class A:\n",
        "    def __init__(self):\n",
        "        print(\"A\")\n",
        "        self.x = 0\n",
        "\n",
        "class B(A):\n",
        "    def __init__(self):\n",
        "        print(\"B\")\n",
        "        super().__init__()\n",
        "        self.x = 4\n",
        "\n",
        "class C(A):\n",
        "    def __init__(self):\n",
        "        print(\"C\")\n",
        "        super().__init__()\n",
        "        self.x = 5\n",
        "        self.y = 3\n",
        "\n",
        "class D(B, C):\n",
        "    def __init__(self):\n",
        "        print(\"D\")\n",
        "        super().__init__()\n",
        "\n",
        "print(D.mro())\n",
        "d = D()\n",
        "print(d.x)\n",
        "print(d.y)"
      ],
      "execution_count": null,
      "outputs": [
        {
          "output_type": "stream",
          "name": "stdout",
          "text": [
            "[<class '__main__.D'>, <class '__main__.B'>, <class '__main__.C'>, <class '__main__.A'>, <class 'object'>]\n",
            "D\n",
            "B\n",
            "C\n",
            "A\n",
            "4\n",
            "3\n"
          ]
        }
      ]
    },
    {
      "cell_type": "markdown",
      "source": [
        "## Контекстные менеджеры"
      ],
      "metadata": {
        "id": "9LS7sd0kyL6N"
      }
    },
    {
      "cell_type": "markdown",
      "source": [
        "Что есть контекстный менеджер? Давайте разберемся на примере:"
      ],
      "metadata": {
        "id": "GrWOQnj-yO6I"
      }
    },
    {
      "cell_type": "code",
      "source": [
        "with open(\"read.txt\", \"w\") as f: # открой файл, сохрани в f\n",
        "    f.write(\"15\")\n",
        "# закрой f\n",
        "\n",
        "!cat read.txt"
      ],
      "metadata": {
        "colab": {
          "base_uri": "https://localhost:8080/"
        },
        "id": "yhbTXbvuyrAj",
        "outputId": "498e93db-4391-478d-d0be-430f6109a09c"
      },
      "execution_count": null,
      "outputs": [
        {
          "output_type": "stream",
          "name": "stdout",
          "text": [
            "15"
          ]
        }
      ]
    },
    {
      "cell_type": "markdown",
      "source": [
        "Как мы говорили, что с помощью with можно не закрывать файлы (он откроет внутри, что-то сделает и закроет). Вот как раз вот это поведение и есть контекстный менеджер!\n",
        "\n",
        "С его помощью можно использовать with, открыть-запустить что-то внутри и затем после выхода из with что-то еще с этим сделать"
      ],
      "metadata": {
        "id": "ceGf-wZZyzI2"
      }
    },
    {
      "cell_type": "markdown",
      "source": [
        "Остается вопрос только а как это сделать внутри класса?\n",
        "\n",
        "Ответ просто: еще 2 dunder метода)\n",
        "\n",
        "__ enter __\n",
        "\n",
        "__ exit __"
      ],
      "metadata": {
        "id": "ym6Am1ftGNAn"
      }
    },
    {
      "cell_type": "code",
      "source": [
        "class ContextManager():\n",
        "    def __init__(self):\n",
        "        print('init method called')\n",
        "\n",
        "    def __enter__(self):\n",
        "        print('enter method called')\n",
        "        return self\n",
        "\n",
        "    def __exit__(self, exc_type, exc_value, exc_traceback):\n",
        "        print('exit method called')\n",
        "\n",
        "with ContextManager() as manager: # Здесь происходит init,а затем enter (входим в контекст)\n",
        "    print('with statement block')\n",
        "\n",
        "# Здесь происходит exit, выходим из контекста"
      ],
      "metadata": {
        "colab": {
          "base_uri": "https://localhost:8080/"
        },
        "id": "byMSVuoVGKsW",
        "outputId": "f23e7a14-239c-410b-cfce-157294020e0f"
      },
      "execution_count": null,
      "outputs": [
        {
          "output_type": "stream",
          "name": "stdout",
          "text": [
            "init method called\n",
            "enter method called\n",
            "with statement block\n",
            "exit method called\n"
          ]
        }
      ]
    },
    {
      "cell_type": "markdown",
      "source": [
        "Хорошо, видим, что в __ exit __ как-то больно много параметров прописано. Что это за покемоны?\n",
        "\n",
        "Есть 3 параметра, который принимаем в себя exit:\n",
        "\n",
        "* exc_type - ошибки, которые были пойманы за время работы\n",
        "\n",
        "* exc_value - значения ошибок (помним, например, текст)\n",
        "\n",
        "* exc_traceback - объект с тем, где это было (чаще всего не используется)"
      ],
      "metadata": {
        "id": "zlHANSxeG6MU"
      }
    },
    {
      "cell_type": "code",
      "source": [
        "class ContextManager():\n",
        "    def __init__(self):\n",
        "        print('init method called')\n",
        "\n",
        "    def __enter__(self):\n",
        "        print('enter method called')\n",
        "        return self\n",
        "\n",
        "    def __exit__(self, exc_type, exc_value, exc_traceback):\n",
        "        print(exc_type)\n",
        "        print(exc_value)\n",
        "        print(exc_traceback)\n",
        "        print('exit method called')\n",
        "\n",
        "with ContextManager() as manager: # Здесь происходит init,а затем enter (входим в контекст)\n",
        "    w = open(\"new_file.txt\", 'r')\n",
        "    print('with statement block')"
      ],
      "metadata": {
        "colab": {
          "base_uri": "https://localhost:8080/"
        },
        "id": "PYEMF_XfHXWW",
        "outputId": "ffe06d76-3438-4415-df12-c4232154c23b"
      },
      "execution_count": null,
      "outputs": [
        {
          "output_type": "stream",
          "name": "stdout",
          "text": [
            "init method called\n",
            "enter method called\n",
            "<class 'FileNotFoundError'>\n",
            "[Errno 2] No such file or directory: 'new_file.txt'\n",
            "<traceback object at 0x7f41a19cab90>\n",
            "exit method called\n"
          ]
        },
        {
          "output_type": "error",
          "ename": "FileNotFoundError",
          "evalue": "ignored",
          "traceback": [
            "\u001b[0;31m---------------------------------------------------------------------------\u001b[0m",
            "\u001b[0;31mFileNotFoundError\u001b[0m                         Traceback (most recent call last)",
            "\u001b[0;32m<ipython-input-17-0ef4638841f0>\u001b[0m in \u001b[0;36m<module>\u001b[0;34m\u001b[0m\n\u001b[1;32m     14\u001b[0m \u001b[0;34m\u001b[0m\u001b[0m\n\u001b[1;32m     15\u001b[0m \u001b[0;32mwith\u001b[0m \u001b[0mContextManager\u001b[0m\u001b[0;34m(\u001b[0m\u001b[0;34m)\u001b[0m \u001b[0;32mas\u001b[0m \u001b[0mmanager\u001b[0m\u001b[0;34m:\u001b[0m \u001b[0;31m# Здесь происходит init,а затем enter (входим в контекст)\u001b[0m\u001b[0;34m\u001b[0m\u001b[0;34m\u001b[0m\u001b[0m\n\u001b[0;32m---> 16\u001b[0;31m     \u001b[0mw\u001b[0m \u001b[0;34m=\u001b[0m \u001b[0mopen\u001b[0m\u001b[0;34m(\u001b[0m\u001b[0;34m\"new_file.txt\"\u001b[0m\u001b[0;34m,\u001b[0m \u001b[0;34m'r'\u001b[0m\u001b[0;34m)\u001b[0m\u001b[0;34m\u001b[0m\u001b[0;34m\u001b[0m\u001b[0m\n\u001b[0m\u001b[1;32m     17\u001b[0m     \u001b[0mprint\u001b[0m\u001b[0;34m(\u001b[0m\u001b[0;34m'with statement block'\u001b[0m\u001b[0;34m)\u001b[0m\u001b[0;34m\u001b[0m\u001b[0;34m\u001b[0m\u001b[0m\n",
            "\u001b[0;31mFileNotFoundError\u001b[0m: [Errno 2] No such file or directory: 'new_file.txt'"
          ]
        }
      ]
    },
    {
      "cell_type": "markdown",
      "source": [
        "Выдал ошибку, давайте обработаем:"
      ],
      "metadata": {
        "id": "enT1LsqzIBkF"
      }
    },
    {
      "cell_type": "code",
      "source": [
        "class ContextManager():\n",
        "    def __init__(self):\n",
        "        print('init method called')\n",
        "\n",
        "    def __enter__(self):\n",
        "        print('enter method called')\n",
        "        return self\n",
        "\n",
        "    def __exit__(self, exc_type, exc_value, exc_traceback):\n",
        "        if exc_type is FileNotFoundError:\n",
        "            print('exit method called')\n",
        "            return True\n",
        "\n",
        "with ContextManager() as manager: # Здесь происходит init,а затем enter (входим в контекст)\n",
        "    w = open(\"new_file.txt\", 'r') # __exit__ -> я устал, я мухожук\n",
        "    print('with statement block')"
      ],
      "metadata": {
        "colab": {
          "base_uri": "https://localhost:8080/"
        },
        "id": "no40ns5pIFp-",
        "outputId": "269d68e5-0fbf-4a1a-d37f-5e0f018742cc"
      },
      "execution_count": null,
      "outputs": [
        {
          "output_type": "stream",
          "name": "stdout",
          "text": [
            "init method called\n",
            "enter method called\n",
            "exit method called\n"
          ]
        }
      ]
    },
    {
      "cell_type": "markdown",
      "source": [
        "Попробуем на реальном примере (зачем он вообще нужен - ну, например, для подключения ко всяким БД)"
      ],
      "metadata": {
        "id": "QVlvt6skJdNQ"
      }
    },
    {
      "cell_type": "code",
      "source": [
        "from pymongo import MongoClient\n",
        "\n",
        "class MongoDBConnectionManager():\n",
        "    def __init__(self, hostname, port):\n",
        "        self.hostname = hostname\n",
        "        self.port = port\n",
        "        self.connection = None\n",
        "\n",
        "    def __enter__(self):\n",
        "        self.connection = MongoClient(self.hostname, self.port)\n",
        "        return self\n",
        "\n",
        "    def __exit__(self, exc_type, exc_value, exc_traceback):\n",
        "        self.connection.close()\n",
        "\n",
        "with MongoDBConnectionManager('localhost', 27017) as mongo:\n",
        "    collection = mongo.connection.SampleDb.test\n",
        "    data = collection.find({'_id': 1})\n",
        "# exit"
      ],
      "metadata": {
        "id": "xTEVyx0aIwRM"
      },
      "execution_count": null,
      "outputs": []
    },
    {
      "cell_type": "markdown",
      "source": [
        "## DataClass"
      ],
      "metadata": {
        "id": "BwiKavxPVBzt"
      }
    },
    {
      "cell_type": "markdown",
      "source": [
        "Иногда нам нужны классы, которые по сущетсву представляют из себя словари (например, какие-то константные значения etc)\n",
        "\n",
        "Для этого отлично подойдет [DataClass](https://docs.python.org/3/library/dataclasses.html) - тип классов, который из себя представляет словарик, в виде которого мы и можем хранить предметы"
      ],
      "metadata": {
        "id": "3eXRfaVoVHr9"
      }
    },
    {
      "cell_type": "code",
      "source": [
        "from dataclasses import dataclass, field\n",
        "\n",
        "@dataclass\n",
        "class Item:\n",
        "    \"\"\"Class for keeping track of an item in inventory.\"\"\"\n",
        "    name: str\n",
        "    unit_price: float\n",
        "    quantity_on_hand: list\n",
        "\n",
        "    def total_cost(self):\n",
        "        return self.unit_price * self.quantity_on_hand"
      ],
      "metadata": {
        "id": "le3-dCJeViaF"
      },
      "execution_count": null,
      "outputs": []
    },
    {
      "cell_type": "code",
      "source": [
        "k = Item(15, 13.0, [1,2,3])\n",
        "print(k)"
      ],
      "metadata": {
        "colab": {
          "base_uri": "https://localhost:8080/"
        },
        "id": "ZatXHd8pBfJX",
        "outputId": "0236904c-e4bc-45ec-cb1e-22088bd8d284"
      },
      "execution_count": null,
      "outputs": [
        {
          "output_type": "stream",
          "name": "stdout",
          "text": [
            "Item(name=15, unit_price=13.0)\n"
          ]
        }
      ]
    },
    {
      "cell_type": "markdown",
      "source": [
        "Смотрите, как отличается от обычного класс. На самом деле это просто ЕЩЕ одна обертка над классом, которая самостоятельно строит init, repr, str etc"
      ],
      "metadata": {
        "id": "dEelbImMWkIf"
      }
    },
    {
      "cell_type": "code",
      "source": [
        "a = Item(\"cool\", 15.0)\n",
        "print(a)"
      ],
      "metadata": {
        "colab": {
          "base_uri": "https://localhost:8080/"
        },
        "id": "9Ug841xNW0rX",
        "outputId": "0df1e5c6-ffef-4fd6-f680-e68b494846c8"
      },
      "execution_count": null,
      "outputs": [
        {
          "output_type": "stream",
          "name": "stdout",
          "text": [
            "Item(name='cool', unit_price=15.0, quantity_on_hand=0)\n"
          ]
        }
      ]
    },
    {
      "cell_type": "markdown",
      "source": [
        "Но если он сам делает init, как делать наследование? Ну, есть post_init!"
      ],
      "metadata": {
        "id": "Uy0aLE5hXU5l"
      }
    },
    {
      "cell_type": "code",
      "source": [
        "@dataclass\n",
        "class Rectangle:\n",
        "    height: float\n",
        "    width: float\n",
        "\n",
        "@dataclass\n",
        "class Square(Rectangle):\n",
        "    side: float\n",
        "\n",
        "    def __post_init__(self): # по сути добавление к __init__\n",
        "        super().__init__(self.side, self.side)"
      ],
      "metadata": {
        "id": "M83lvvlQXa1f"
      },
      "execution_count": null,
      "outputs": []
    },
    {
      "cell_type": "markdown",
      "source": [
        "Окей, с простыми типами все понятно. А если мы хотим добавить список?"
      ],
      "metadata": {
        "id": "xaGMkKxGXwog"
      }
    },
    {
      "cell_type": "code",
      "source": [
        "from typing import List\n",
        "\n",
        "@dataclass\n",
        "class Item:\n",
        "    \"\"\"\n",
        "    Parameters:\n",
        "        name: string, descr\n",
        "        unit_price: float, sdfkeoifkeopf\n",
        "    Class for keeping track of an item in inventory.\n",
        "\n",
        "    \"\"\"\n",
        "    name: str\n",
        "    unit_price: float\n",
        "    depend: List[Rectangle]\n",
        "\n",
        "a = Rectangle(15, 20)\n",
        "b = Item(\"b\", 17, [a])\n",
        "print(b)"
      ],
      "metadata": {
        "colab": {
          "base_uri": "https://localhost:8080/"
        },
        "id": "GADaFQTYX2i_",
        "outputId": "8851aa8c-0b19-4a9d-8dae-6d55bfcc9e9b"
      },
      "execution_count": null,
      "outputs": [
        {
          "output_type": "stream",
          "name": "stdout",
          "text": [
            "Item(name='b', unit_price=17, depend=[Rectangle(height=15, width=20)])\n"
          ]
        }
      ]
    },
    {
      "cell_type": "markdown",
      "source": [
        "## Попугай дня"
      ],
      "metadata": {
        "id": "VKLzVs4W3Mfy"
      }
    },
    {
      "cell_type": "markdown",
      "source": [
        "![](https://upload.wikimedia.org/wikipedia/commons/thumb/5/5f/Kea.jpg/1024px-Kea.jpg)"
      ],
      "metadata": {
        "id": "0V1ctQWv3dxh"
      }
    },
    {
      "cell_type": "markdown",
      "source": [
        "Это кеа, или же клоуны гор\n",
        "\n",
        "Их так назвали из-за их особенной сообразительности (они умеют решать загадки, например) и любознательности. Они не упускают случая исследовать содержимое рюкзаков или автомобилей, которые им приглянулись, чем портят вещи, машины, да что угодно\n",
        "\n",
        "Но при этом они очень хорошо и быстро привыкают к людям и в целов очень игривые :з"
      ],
      "metadata": {
        "id": "6Dn6yXiu3hUH"
      }
    }
  ]
}