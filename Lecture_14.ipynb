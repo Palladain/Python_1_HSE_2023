{
  "nbformat": 4,
  "nbformat_minor": 0,
  "metadata": {
    "colab": {
      "provenance": [],
      "collapsed_sections": [
        "gMkzsR17NPs_",
        "rNekr0RvisFN"
      ]
    },
    "kernelspec": {
      "name": "python3",
      "display_name": "Python 3"
    },
    "language_info": {
      "name": "python"
    }
  },
  "cells": [
    {
      "cell_type": "markdown",
      "source": [
        "# Python-1, лекция 14\n",
        "\n",
        "**Лектор:** Петров Тимур"
      ],
      "metadata": {
        "id": "k1882OtCbMPl"
      }
    },
    {
      "cell_type": "markdown",
      "source": [
        "## HTTP и иже с ним"
      ],
      "metadata": {
        "id": "gMkzsR17NPs_"
      }
    },
    {
      "cell_type": "markdown",
      "source": [
        "Теперь приступим к новым вещам, а именно - к вебом и взаимодействием с ним!"
      ],
      "metadata": {
        "id": "55D0cqkeNIxf"
      }
    },
    {
      "cell_type": "markdown",
      "source": [
        "![](https://www.thebozho.com/wp-content/uploads/2017/04/Free-Open-Internet.jpg)"
      ],
      "metadata": {
        "id": "dPc9h44RNhKW"
      }
    },
    {
      "cell_type": "markdown",
      "source": [
        "Давайте начнем просто с того, что же такое HTTP? В переводе это HyperText Transfer Protocol, или же протокол для передачи т.н. HyperText (гиепртекст - это текст с наличием ссылок для перехода на другие странички, изи)\n",
        "\n",
        "Что в таком случае https, который мы сейчас везде видим? Это тот же HTTP, но еще и S (secure) - данные передаются не просто открыто, а через протокол шифрования [TLS](https://habr.com/ru/post/258285/) (не будет вдаваться в подробности, как оно работает, речь не про это)\n",
        "\n",
        "По сути своей, это модель \"клиент-сервер\". Клиент дает запрос, сервер отвечает, еще запрос, еще ответ etc хоть до бесконечности. Выглядит максимально просто и понятно\n",
        "\n",
        "К примеру, когда вы заходите на сайт, вы отправляете запрос по типу \"покажи сайт\". Сервер такой: \"Держи\". Потом тыкаете на ссылку, опять запрос etc\n",
        "\n"
      ],
      "metadata": {
        "id": "hQayFiceOrqX"
      }
    },
    {
      "cell_type": "markdown",
      "source": [
        "Что происходит при открытии сайта?\n",
        "\n",
        "Например, вы заходите в [питон](https://python.org/). Что необходимо сделать для этого браузеру?\n",
        "\n",
        "Браузер отправляет запрос на сервер, который расположен по адресу python.org. Удивительно, но это можно сделать даже без браузера (кто бы мог подумать)"
      ],
      "metadata": {
        "id": "utjc-VbjQmcd"
      }
    },
    {
      "cell_type": "code",
      "execution_count": null,
      "metadata": {
        "id": "M4JfXCpkMwZ3"
      },
      "outputs": [],
      "source": [
        "!brew install telnet\n",
        "!telnet python.org 80 # утилита, которая осуществляет запрос как клиентская часть"
      ]
    },
    {
      "cell_type": "markdown",
      "source": [
        "Подсоединились, теперь нам надо отправлять запросы, чтобы получать какие-то ответы. Как выглядят запросы в HTTP?\n",
        "\n",
        "На самом деле тут все достаточно просто. Любой запрос в HTTP выглядит следующим образом:\n",
        "\n",
        "```\n",
        "Метод URI HTTP/1.1\\n\n",
        "Host: hostname\\n\n",
        "\\n\n",
        "\n",
        "```\n",
        "\n",
        "* Метод - собственно операция, которую хотим осуществить\n",
        "\n",
        "* URI - путь до документа/страницы, которая нам нужна\n",
        "\n",
        "* HTTP/1.1 - указываем версию HTTP\n",
        "\n",
        "* hostname - название хоста (так как удалённый сервер не обладает никакой информацией о том, какой именно адрес использовался для соединения, то его надо указывать)\n",
        "\n",
        "На самом деле можно указывать также дополнительные параметры (например, какой у нас User-Agent (браузер) etc)"
      ],
      "metadata": {
        "id": "JDNRJVPoVLTC"
      }
    },
    {
      "cell_type": "markdown",
      "source": [
        "Что мы всегда видим в качестве ответа? В первую очередь строку следующего вида:\n",
        "\n",
        "```\n",
        "HTTP/1.1 Код Пояснение\n",
        "```\n",
        "\n",
        "* HTTP/1.1 - версия HTTP\n",
        "\n",
        "* Код - [код выполнения запроса](https://developer.mozilla.org/ru/docs/Web/HTTP/Status)\n",
        "\n",
        "Вот наши любимые:\n",
        "\n",
        "1. 200 - все ок\n",
        "\n",
        "2. 4** - вы лохи (сюда относится и 403, 404 - запрещено/не найдено)\n",
        "\n",
        "3. 5** - мы лохи\n",
        "\n",
        "* Пояснение - название кода ответа (типа OK, Not Found etc)\n"
      ],
      "metadata": {
        "id": "TJsGKgTHZoxU"
      }
    },
    {
      "cell_type": "markdown",
      "source": [
        "Какие есть основные методы для HTTP?\n",
        "\n",
        "* GET - получи инфу\n",
        "\n",
        "* POST - запость инфу\n",
        "\n",
        "* PUT - обнови инфу\n",
        "\n",
        "* DELETE - удали инфу\n",
        "\n",
        "Если вы решили, что можно взять и тогда удалить Python, то вот нет. Единственное, что обязан обрабатывать веб-сервер - это GET. Остального может не быть (и тогда сервер вас просто не поймет). А еще могут быть всякие другие методы"
      ],
      "metadata": {
        "id": "BPUOrM8oa0YZ"
      }
    },
    {
      "cell_type": "markdown",
      "source": [
        "Понятное дело, что для этого должна быть какая-нибудь удобная библиотека (а не тупо telnet, в который еще как-то странно надо передавать данные). Для этого есть requests!"
      ],
      "metadata": {
        "id": "idLiCpmiii2q"
      }
    },
    {
      "cell_type": "markdown",
      "source": [
        "## Requests"
      ],
      "metadata": {
        "id": "rNekr0RvisFN"
      }
    },
    {
      "cell_type": "markdown",
      "source": [
        "[Requests](https://requests.readthedocs.io/en/latest/api/) - это отличная библиотека для работы с подключениями к сайту. Давайте разбираться на примерах:"
      ],
      "metadata": {
        "id": "jQ7PpKu6udNS"
      }
    },
    {
      "cell_type": "code",
      "source": [
        "import requests\n",
        "\n",
        "requests.get('https://api.github.com') #аналогия get, получаем ответ"
      ],
      "metadata": {
        "colab": {
          "base_uri": "https://localhost:8080/"
        },
        "id": "HvhDc0lqumTX",
        "outputId": "51124fbb-89f0-419b-9926-eaf8db4a9d19"
      },
      "execution_count": null,
      "outputs": [
        {
          "output_type": "execute_result",
          "data": {
            "text/plain": [
              "<Response [200]>"
            ]
          },
          "metadata": {},
          "execution_count": 1
        }
      ]
    },
    {
      "cell_type": "markdown",
      "source": [
        "Какие атрибуты есть у get?"
      ],
      "metadata": {
        "id": "CKpspR-NvFm7"
      }
    },
    {
      "cell_type": "code",
      "source": [
        "r = requests.get('https://api.github.com')\n",
        "print(r.status_code, r.reason) # статус ответа (200 - все ОК)\n",
        "print('-' * 30)\n",
        "for i in r.headers.items(): # информация\n",
        "    print(i[0], ':', i[1])\n",
        "print('-' * 30)\n",
        "print(r.encoding)\n",
        "print('-' * 30)\n",
        "print(r.text) # что вывели (тело) (в чистом виде можно с помощью .content, text сразу декодирует)\n",
        "print('-' * 30)\n",
        "print(r.url) # где находимся\n",
        "print('-' * 30)\n",
        "print(r.json()) # и можно сразу в виде json"
      ],
      "metadata": {
        "colab": {
          "base_uri": "https://localhost:8080/"
        },
        "id": "Tc7i0bd2u_UR",
        "outputId": "c68f3873-bbeb-4143-d22d-57c5c1151f8d"
      },
      "execution_count": null,
      "outputs": [
        {
          "output_type": "stream",
          "name": "stdout",
          "text": [
            "200 OK\n",
            "------------------------------\n",
            "Server : GitHub.com\n",
            "Date : Thu, 19 Oct 2023 15:07:57 GMT\n",
            "Cache-Control : public, max-age=60, s-maxage=60\n",
            "Vary : Accept, Accept-Encoding, Accept, X-Requested-With\n",
            "ETag : \"4f825cc84e1c733059d46e76e6df9db557ae5254f9625dfe8e1b09499c449438\"\n",
            "x-github-api-version-selected : 2022-11-28\n",
            "Access-Control-Expose-Headers : ETag, Link, Location, Retry-After, X-GitHub-OTP, X-RateLimit-Limit, X-RateLimit-Remaining, X-RateLimit-Used, X-RateLimit-Resource, X-RateLimit-Reset, X-OAuth-Scopes, X-Accepted-OAuth-Scopes, X-Poll-Interval, X-GitHub-Media-Type, X-GitHub-SSO, X-GitHub-Request-Id, Deprecation, Sunset\n",
            "Access-Control-Allow-Origin : *\n",
            "Strict-Transport-Security : max-age=31536000; includeSubdomains; preload\n",
            "X-Frame-Options : deny\n",
            "X-Content-Type-Options : nosniff\n",
            "X-XSS-Protection : 0\n",
            "Referrer-Policy : origin-when-cross-origin, strict-origin-when-cross-origin\n",
            "Content-Security-Policy : default-src 'none'\n",
            "Content-Type : application/json; charset=utf-8\n",
            "X-GitHub-Media-Type : github.v3; format=json\n",
            "Content-Encoding : gzip\n",
            "X-RateLimit-Limit : 60\n",
            "X-RateLimit-Remaining : 58\n",
            "X-RateLimit-Reset : 1697731677\n",
            "X-RateLimit-Resource : core\n",
            "X-RateLimit-Used : 2\n",
            "Accept-Ranges : bytes\n",
            "Content-Length : 510\n",
            "X-GitHub-Request-Id : 98FA:2D9A04:86EE36:8CDAE4:6531464F\n",
            "------------------------------\n",
            "utf-8\n",
            "------------------------------\n",
            "{\"current_user_url\":\"https://api.github.com/user\",\"current_user_authorizations_html_url\":\"https://github.com/settings/connections/applications{/client_id}\",\"authorizations_url\":\"https://api.github.com/authorizations\",\"code_search_url\":\"https://api.github.com/search/code?q={query}{&page,per_page,sort,order}\",\"commit_search_url\":\"https://api.github.com/search/commits?q={query}{&page,per_page,sort,order}\",\"emails_url\":\"https://api.github.com/user/emails\",\"emojis_url\":\"https://api.github.com/emojis\",\"events_url\":\"https://api.github.com/events\",\"feeds_url\":\"https://api.github.com/feeds\",\"followers_url\":\"https://api.github.com/user/followers\",\"following_url\":\"https://api.github.com/user/following{/target}\",\"gists_url\":\"https://api.github.com/gists{/gist_id}\",\"hub_url\":\"https://api.github.com/hub\",\"issue_search_url\":\"https://api.github.com/search/issues?q={query}{&page,per_page,sort,order}\",\"issues_url\":\"https://api.github.com/issues\",\"keys_url\":\"https://api.github.com/user/keys\",\"label_search_url\":\"https://api.github.com/search/labels?q={query}&repository_id={repository_id}{&page,per_page}\",\"notifications_url\":\"https://api.github.com/notifications\",\"organization_url\":\"https://api.github.com/orgs/{org}\",\"organization_repositories_url\":\"https://api.github.com/orgs/{org}/repos{?type,page,per_page,sort}\",\"organization_teams_url\":\"https://api.github.com/orgs/{org}/teams\",\"public_gists_url\":\"https://api.github.com/gists/public\",\"rate_limit_url\":\"https://api.github.com/rate_limit\",\"repository_url\":\"https://api.github.com/repos/{owner}/{repo}\",\"repository_search_url\":\"https://api.github.com/search/repositories?q={query}{&page,per_page,sort,order}\",\"current_user_repositories_url\":\"https://api.github.com/user/repos{?type,page,per_page,sort}\",\"starred_url\":\"https://api.github.com/user/starred{/owner}{/repo}\",\"starred_gists_url\":\"https://api.github.com/gists/starred\",\"topic_search_url\":\"https://api.github.com/search/topics?q={query}{&page,per_page}\",\"user_url\":\"https://api.github.com/users/{user}\",\"user_organizations_url\":\"https://api.github.com/user/orgs\",\"user_repositories_url\":\"https://api.github.com/users/{user}/repos{?type,page,per_page,sort}\",\"user_search_url\":\"https://api.github.com/search/users?q={query}{&page,per_page,sort,order}\"}\n",
            "------------------------------\n",
            "https://api.github.com/\n",
            "------------------------------\n",
            "{'current_user_url': 'https://api.github.com/user', 'current_user_authorizations_html_url': 'https://github.com/settings/connections/applications{/client_id}', 'authorizations_url': 'https://api.github.com/authorizations', 'code_search_url': 'https://api.github.com/search/code?q={query}{&page,per_page,sort,order}', 'commit_search_url': 'https://api.github.com/search/commits?q={query}{&page,per_page,sort,order}', 'emails_url': 'https://api.github.com/user/emails', 'emojis_url': 'https://api.github.com/emojis', 'events_url': 'https://api.github.com/events', 'feeds_url': 'https://api.github.com/feeds', 'followers_url': 'https://api.github.com/user/followers', 'following_url': 'https://api.github.com/user/following{/target}', 'gists_url': 'https://api.github.com/gists{/gist_id}', 'hub_url': 'https://api.github.com/hub', 'issue_search_url': 'https://api.github.com/search/issues?q={query}{&page,per_page,sort,order}', 'issues_url': 'https://api.github.com/issues', 'keys_url': 'https://api.github.com/user/keys', 'label_search_url': 'https://api.github.com/search/labels?q={query}&repository_id={repository_id}{&page,per_page}', 'notifications_url': 'https://api.github.com/notifications', 'organization_url': 'https://api.github.com/orgs/{org}', 'organization_repositories_url': 'https://api.github.com/orgs/{org}/repos{?type,page,per_page,sort}', 'organization_teams_url': 'https://api.github.com/orgs/{org}/teams', 'public_gists_url': 'https://api.github.com/gists/public', 'rate_limit_url': 'https://api.github.com/rate_limit', 'repository_url': 'https://api.github.com/repos/{owner}/{repo}', 'repository_search_url': 'https://api.github.com/search/repositories?q={query}{&page,per_page,sort,order}', 'current_user_repositories_url': 'https://api.github.com/user/repos{?type,page,per_page,sort}', 'starred_url': 'https://api.github.com/user/starred{/owner}{/repo}', 'starred_gists_url': 'https://api.github.com/gists/starred', 'topic_search_url': 'https://api.github.com/search/topics?q={query}{&page,per_page}', 'user_url': 'https://api.github.com/users/{user}', 'user_organizations_url': 'https://api.github.com/user/orgs', 'user_repositories_url': 'https://api.github.com/users/{user}/repos{?type,page,per_page,sort}', 'user_search_url': 'https://api.github.com/search/users?q={query}{&page,per_page,sort,order}'}\n"
          ]
        }
      ]
    },
    {
      "cell_type": "markdown",
      "source": [
        "Иногда мы хотим делать get не просто по сайту, а еще передавать какие-нибудь параметры. Давайте попробуем:"
      ],
      "metadata": {
        "id": "EjkkfYTHGRDh"
      }
    },
    {
      "cell_type": "code",
      "source": [
        "response = requests.get(\n",
        "    'https://api.github.com/search/repositories',\n",
        "    params={'q': 'Deep_Python'}, #делаем поиск с помощью параметра q https://docs.github.com/en/rest/search\n",
        ")\n",
        "\n",
        "# Анализ некоторых атрибутов местонахождения запросов\n",
        "json_response = response.json()\n",
        "repository = json_response['items'][0]\n",
        "print(f'Repository name: {repository[\"name\"]}')\n",
        "print(f'Repository description: {repository[\"description\"]}')"
      ],
      "metadata": {
        "colab": {
          "base_uri": "https://localhost:8080/"
        },
        "id": "qBWsszISGWqy",
        "outputId": "75be1d06-f92d-4ac4-c794-23caf2bb9ed2"
      },
      "execution_count": null,
      "outputs": [
        {
          "output_type": "stream",
          "name": "stdout",
          "text": [
            "Repository name: deep-learning-with-python-notebooks\n",
            "Repository description: Jupyter notebooks for the code samples of the book \"Deep Learning with Python\"\n"
          ]
        }
      ]
    },
    {
      "cell_type": "code",
      "source": [
        "for i in range(len(json_response['items'])):\n",
        "    if json_response['items'][i]['name'] == 'Deep_Python':\n",
        "        print(i)"
      ],
      "metadata": {
        "colab": {
          "base_uri": "https://localhost:8080/"
        },
        "id": "Ihju2CpKG7zR",
        "outputId": "1c404058-6458-40c9-897c-39d91ab43eb3"
      },
      "execution_count": null,
      "outputs": [
        {
          "output_type": "stream",
          "name": "stdout",
          "text": [
            "12\n"
          ]
        }
      ]
    },
    {
      "cell_type": "code",
      "source": [
        "json_response['items'][12]"
      ],
      "metadata": {
        "id": "RkkhEk0OHe4j",
        "colab": {
          "base_uri": "https://localhost:8080/"
        },
        "outputId": "a8f5e382-4410-4f8c-ea6c-bc92983408e1"
      },
      "execution_count": null,
      "outputs": [
        {
          "output_type": "execute_result",
          "data": {
            "text/plain": [
              "{'id': 532479552,\n",
              " 'node_id': 'R_kgDOH7z-QA',\n",
              " 'name': 'Deep_Python',\n",
              " 'full_name': 'Palladain/Deep_Python',\n",
              " 'private': False,\n",
              " 'owner': {'login': 'Palladain',\n",
              "  'id': 34582887,\n",
              "  'node_id': 'MDQ6VXNlcjM0NTgyODg3',\n",
              "  'avatar_url': 'https://avatars.githubusercontent.com/u/34582887?v=4',\n",
              "  'gravatar_id': '',\n",
              "  'url': 'https://api.github.com/users/Palladain',\n",
              "  'html_url': 'https://github.com/Palladain',\n",
              "  'followers_url': 'https://api.github.com/users/Palladain/followers',\n",
              "  'following_url': 'https://api.github.com/users/Palladain/following{/other_user}',\n",
              "  'gists_url': 'https://api.github.com/users/Palladain/gists{/gist_id}',\n",
              "  'starred_url': 'https://api.github.com/users/Palladain/starred{/owner}{/repo}',\n",
              "  'subscriptions_url': 'https://api.github.com/users/Palladain/subscriptions',\n",
              "  'organizations_url': 'https://api.github.com/users/Palladain/orgs',\n",
              "  'repos_url': 'https://api.github.com/users/Palladain/repos',\n",
              "  'events_url': 'https://api.github.com/users/Palladain/events{/privacy}',\n",
              "  'received_events_url': 'https://api.github.com/users/Palladain/received_events',\n",
              "  'type': 'User',\n",
              "  'site_admin': False},\n",
              " 'html_url': 'https://github.com/Palladain/Deep_Python',\n",
              " 'description': 'Курс \"Продвинутый Python\" для 2 курса ПМИ ФКН',\n",
              " 'fork': False,\n",
              " 'url': 'https://api.github.com/repos/Palladain/Deep_Python',\n",
              " 'forks_url': 'https://api.github.com/repos/Palladain/Deep_Python/forks',\n",
              " 'keys_url': 'https://api.github.com/repos/Palladain/Deep_Python/keys{/key_id}',\n",
              " 'collaborators_url': 'https://api.github.com/repos/Palladain/Deep_Python/collaborators{/collaborator}',\n",
              " 'teams_url': 'https://api.github.com/repos/Palladain/Deep_Python/teams',\n",
              " 'hooks_url': 'https://api.github.com/repos/Palladain/Deep_Python/hooks',\n",
              " 'issue_events_url': 'https://api.github.com/repos/Palladain/Deep_Python/issues/events{/number}',\n",
              " 'events_url': 'https://api.github.com/repos/Palladain/Deep_Python/events',\n",
              " 'assignees_url': 'https://api.github.com/repos/Palladain/Deep_Python/assignees{/user}',\n",
              " 'branches_url': 'https://api.github.com/repos/Palladain/Deep_Python/branches{/branch}',\n",
              " 'tags_url': 'https://api.github.com/repos/Palladain/Deep_Python/tags',\n",
              " 'blobs_url': 'https://api.github.com/repos/Palladain/Deep_Python/git/blobs{/sha}',\n",
              " 'git_tags_url': 'https://api.github.com/repos/Palladain/Deep_Python/git/tags{/sha}',\n",
              " 'git_refs_url': 'https://api.github.com/repos/Palladain/Deep_Python/git/refs{/sha}',\n",
              " 'trees_url': 'https://api.github.com/repos/Palladain/Deep_Python/git/trees{/sha}',\n",
              " 'statuses_url': 'https://api.github.com/repos/Palladain/Deep_Python/statuses/{sha}',\n",
              " 'languages_url': 'https://api.github.com/repos/Palladain/Deep_Python/languages',\n",
              " 'stargazers_url': 'https://api.github.com/repos/Palladain/Deep_Python/stargazers',\n",
              " 'contributors_url': 'https://api.github.com/repos/Palladain/Deep_Python/contributors',\n",
              " 'subscribers_url': 'https://api.github.com/repos/Palladain/Deep_Python/subscribers',\n",
              " 'subscription_url': 'https://api.github.com/repos/Palladain/Deep_Python/subscription',\n",
              " 'commits_url': 'https://api.github.com/repos/Palladain/Deep_Python/commits{/sha}',\n",
              " 'git_commits_url': 'https://api.github.com/repos/Palladain/Deep_Python/git/commits{/sha}',\n",
              " 'comments_url': 'https://api.github.com/repos/Palladain/Deep_Python/comments{/number}',\n",
              " 'issue_comment_url': 'https://api.github.com/repos/Palladain/Deep_Python/issues/comments{/number}',\n",
              " 'contents_url': 'https://api.github.com/repos/Palladain/Deep_Python/contents/{+path}',\n",
              " 'compare_url': 'https://api.github.com/repos/Palladain/Deep_Python/compare/{base}...{head}',\n",
              " 'merges_url': 'https://api.github.com/repos/Palladain/Deep_Python/merges',\n",
              " 'archive_url': 'https://api.github.com/repos/Palladain/Deep_Python/{archive_format}{/ref}',\n",
              " 'downloads_url': 'https://api.github.com/repos/Palladain/Deep_Python/downloads',\n",
              " 'issues_url': 'https://api.github.com/repos/Palladain/Deep_Python/issues{/number}',\n",
              " 'pulls_url': 'https://api.github.com/repos/Palladain/Deep_Python/pulls{/number}',\n",
              " 'milestones_url': 'https://api.github.com/repos/Palladain/Deep_Python/milestones{/number}',\n",
              " 'notifications_url': 'https://api.github.com/repos/Palladain/Deep_Python/notifications{?since,all,participating}',\n",
              " 'labels_url': 'https://api.github.com/repos/Palladain/Deep_Python/labels{/name}',\n",
              " 'releases_url': 'https://api.github.com/repos/Palladain/Deep_Python/releases{/id}',\n",
              " 'deployments_url': 'https://api.github.com/repos/Palladain/Deep_Python/deployments',\n",
              " 'created_at': '2022-09-04T08:21:42Z',\n",
              " 'updated_at': '2023-10-11T07:45:32Z',\n",
              " 'pushed_at': '2023-09-26T06:11:51Z',\n",
              " 'git_url': 'git://github.com/Palladain/Deep_Python.git',\n",
              " 'ssh_url': 'git@github.com:Palladain/Deep_Python.git',\n",
              " 'clone_url': 'https://github.com/Palladain/Deep_Python.git',\n",
              " 'svn_url': 'https://github.com/Palladain/Deep_Python',\n",
              " 'homepage': None,\n",
              " 'size': 90655,\n",
              " 'stargazers_count': 27,\n",
              " 'watchers_count': 27,\n",
              " 'language': 'Jupyter Notebook',\n",
              " 'has_issues': True,\n",
              " 'has_projects': True,\n",
              " 'has_downloads': True,\n",
              " 'has_wiki': True,\n",
              " 'has_pages': False,\n",
              " 'has_discussions': False,\n",
              " 'forks_count': 36,\n",
              " 'mirror_url': None,\n",
              " 'archived': False,\n",
              " 'disabled': False,\n",
              " 'open_issues_count': 4,\n",
              " 'license': None,\n",
              " 'allow_forking': True,\n",
              " 'is_template': False,\n",
              " 'web_commit_signoff_required': False,\n",
              " 'topics': [],\n",
              " 'visibility': 'public',\n",
              " 'forks': 36,\n",
              " 'open_issues': 4,\n",
              " 'watchers': 27,\n",
              " 'default_branch': 'main',\n",
              " 'score': 1.0}"
            ]
          },
          "metadata": {},
          "execution_count": 5
        }
      ]
    },
    {
      "cell_type": "markdown",
      "source": [
        "Какие есть функции?\n",
        "\n",
        "Есть самый основные для HTTP-протокола:"
      ],
      "metadata": {
        "id": "A_Tnem8PHs4I"
      }
    },
    {
      "cell_type": "code",
      "source": [
        "requests.post('https://httpbin.org/post', data={'key':'value'}) #запостить инфу\n",
        "requests.put('https://httpbin.org/put', data={'key':'value'}) #полная замена инфы (придется указать все, что даже не меняется)\n",
        "requests.delete('https://httpbin.org/delete') #удалить инфу\n",
        "requests.head('https://httpbin.org/get') #получить информацию без тела\n",
        "requests.patch('https://httpbin.org/patch', data={'key':'value'}) #замена инфы, но без указания того, что не надо заменять"
      ],
      "metadata": {
        "colab": {
          "base_uri": "https://localhost:8080/"
        },
        "id": "N5HBJ6ZOHwy5",
        "outputId": "76b141cf-ad22-4cb3-a9f0-48d4a2c9fb3d"
      },
      "execution_count": null,
      "outputs": [
        {
          "output_type": "execute_result",
          "data": {
            "text/plain": [
              "<Response [200]>"
            ]
          },
          "metadata": {},
          "execution_count": 6
        }
      ]
    },
    {
      "cell_type": "markdown",
      "source": [
        "Иногда для того, чтобы получить доступ, надо сделать авторизацию (аутентификацию), для этого внутри requests есть"
      ],
      "metadata": {
        "id": "Lq7fyeyoI1ox"
      }
    },
    {
      "cell_type": "code",
      "source": [
        "from requests.auth import HTTPBasicAuth #самый простой способ аутентификации, почти везде принимается\n",
        "from getpass import getpass #библиотека из 2 функций: запрос пароля и запрос пользователя\n",
        "\n",
        "requests.get(\n",
        "     'https://api.github.com/user',\n",
        "     auth=HTTPBasicAuth('user', getpass())\n",
        ")"
      ],
      "metadata": {
        "colab": {
          "base_uri": "https://localhost:8080/"
        },
        "id": "Qmebvq4UJKds",
        "outputId": "4f0f2f92-b00a-4ed4-ee8a-8770a0416036"
      },
      "execution_count": null,
      "outputs": [
        {
          "name": "stdout",
          "output_type": "stream",
          "text": [
            "··········\n"
          ]
        },
        {
          "output_type": "execute_result",
          "data": {
            "text/plain": [
              "<Response [401]>"
            ]
          },
          "metadata": {},
          "execution_count": 7
        }
      ]
    },
    {
      "cell_type": "markdown",
      "source": [
        "Давайте себе представим ситуацию: сервер подвис! Что же делать, наш код будет сидеть и ждать, а такого мы не хотим. Внутри requests можно задать время ожидания, который мы используем"
      ],
      "metadata": {
        "id": "_F0uOIbsJ0YQ"
      }
    },
    {
      "cell_type": "code",
      "source": [
        "from requests.exceptions import Timeout\n",
        "\n",
        "try:\n",
        "    response = requests.get('https://api.github.com', timeout=1) #устанавливаем максимальный timeout, если не случилось, то он бросает Timeout\n",
        "except Timeout:\n",
        "    print('The request timed out')\n",
        "else:\n",
        "    print('The request did not time out')"
      ],
      "metadata": {
        "colab": {
          "base_uri": "https://localhost:8080/"
        },
        "id": "pglh36qgJ_hz",
        "outputId": "5a5f75ae-cbfa-4c59-8cdb-eee0d3ff4ac2"
      },
      "execution_count": null,
      "outputs": [
        {
          "output_type": "stream",
          "name": "stdout",
          "text": [
            "The request did not time out\n"
          ]
        }
      ]
    },
    {
      "cell_type": "markdown",
      "source": [
        "И последнее, что мы сегодня разберем, так это Session. Что это такое?\n",
        "\n",
        "Сессия - это возможность сделать несколько обращений, при этом сохранив общие параметры, которые вам нужны (ну, например, если у вас вдруг везде одинаковый логин-пароль, можно его сохранить и использовать для нескольких вызовов)"
      ],
      "metadata": {
        "id": "tKcFZSsDKUl3"
      }
    },
    {
      "cell_type": "code",
      "source": [
        "with requests.Session() as session:\n",
        "    session.auth = ('username', getpass())\n",
        "    session.headers.update({'one': 'true'})\n",
        "    print(session.headers)\n",
        "    response = session.get('https://api.github.com')\n",
        "\n",
        "print(response.headers)\n",
        "print(response.json())"
      ],
      "metadata": {
        "colab": {
          "base_uri": "https://localhost:8080/"
        },
        "id": "cV1D2MJwKfLK",
        "outputId": "1835b948-c0c4-4892-caed-bea13b2e7f55"
      },
      "execution_count": null,
      "outputs": [
        {
          "output_type": "stream",
          "name": "stdout",
          "text": [
            "··········\n",
            "{'User-Agent': 'python-requests/2.23.0', 'Accept-Encoding': 'gzip, deflate', 'Accept': '*/*', 'Connection': 'keep-alive', 'one': 'true'}\n",
            "{'Server': 'GitHub.com', 'Date': 'Sun, 09 Oct 2022 23:57:32 GMT', 'Content-Type': 'application/json; charset=utf-8', 'Transfer-Encoding': 'chunked', 'Cache-Control': 'public, max-age=60, s-maxage=60', 'Vary': 'Accept, Accept-Encoding, Accept, X-Requested-With', 'ETag': 'W/\"4f825cc84e1c733059d46e76e6df9db557ae5254f9625dfe8e1b09499c449438\"', 'X-GitHub-Media-Type': 'github.v3; format=json', 'X-RateLimit-Limit': '60', 'X-RateLimit-Remaining': '55', 'X-RateLimit-Reset': '1665362812', 'X-RateLimit-Used': '5', 'X-RateLimit-Resource': 'core', 'Access-Control-Expose-Headers': 'ETag, Link, Location, Retry-After, X-GitHub-OTP, X-RateLimit-Limit, X-RateLimit-Remaining, X-RateLimit-Used, X-RateLimit-Resource, X-RateLimit-Reset, X-OAuth-Scopes, X-Accepted-OAuth-Scopes, X-Poll-Interval, X-GitHub-Media-Type, X-GitHub-SSO, X-GitHub-Request-Id, Deprecation, Sunset', 'Access-Control-Allow-Origin': '*', 'Strict-Transport-Security': 'max-age=31536000; includeSubdomains; preload', 'X-Frame-Options': 'deny', 'X-Content-Type-Options': 'nosniff', 'X-XSS-Protection': '0', 'Referrer-Policy': 'origin-when-cross-origin, strict-origin-when-cross-origin', 'Content-Security-Policy': \"default-src 'none'\", 'Content-Encoding': 'gzip', 'X-GitHub-Request-Id': 'DFDE:12A5:70A1C05:E5AAE98:63435FEC'}\n",
            "{'current_user_url': 'https://api.github.com/user', 'current_user_authorizations_html_url': 'https://github.com/settings/connections/applications{/client_id}', 'authorizations_url': 'https://api.github.com/authorizations', 'code_search_url': 'https://api.github.com/search/code?q={query}{&page,per_page,sort,order}', 'commit_search_url': 'https://api.github.com/search/commits?q={query}{&page,per_page,sort,order}', 'emails_url': 'https://api.github.com/user/emails', 'emojis_url': 'https://api.github.com/emojis', 'events_url': 'https://api.github.com/events', 'feeds_url': 'https://api.github.com/feeds', 'followers_url': 'https://api.github.com/user/followers', 'following_url': 'https://api.github.com/user/following{/target}', 'gists_url': 'https://api.github.com/gists{/gist_id}', 'hub_url': 'https://api.github.com/hub', 'issue_search_url': 'https://api.github.com/search/issues?q={query}{&page,per_page,sort,order}', 'issues_url': 'https://api.github.com/issues', 'keys_url': 'https://api.github.com/user/keys', 'label_search_url': 'https://api.github.com/search/labels?q={query}&repository_id={repository_id}{&page,per_page}', 'notifications_url': 'https://api.github.com/notifications', 'organization_url': 'https://api.github.com/orgs/{org}', 'organization_repositories_url': 'https://api.github.com/orgs/{org}/repos{?type,page,per_page,sort}', 'organization_teams_url': 'https://api.github.com/orgs/{org}/teams', 'public_gists_url': 'https://api.github.com/gists/public', 'rate_limit_url': 'https://api.github.com/rate_limit', 'repository_url': 'https://api.github.com/repos/{owner}/{repo}', 'repository_search_url': 'https://api.github.com/search/repositories?q={query}{&page,per_page,sort,order}', 'current_user_repositories_url': 'https://api.github.com/user/repos{?type,page,per_page,sort}', 'starred_url': 'https://api.github.com/user/starred{/owner}{/repo}', 'starred_gists_url': 'https://api.github.com/gists/starred', 'topic_search_url': 'https://api.github.com/search/topics?q={query}{&page,per_page}', 'user_url': 'https://api.github.com/users/{user}', 'user_organizations_url': 'https://api.github.com/user/orgs', 'user_repositories_url': 'https://api.github.com/users/{user}/repos{?type,page,per_page,sort}', 'user_search_url': 'https://api.github.com/search/users?q={query}{&page,per_page,sort,order}'}\n"
          ]
        }
      ]
    },
    {
      "cell_type": "markdown",
      "source": [
        "## BeautifulSoup4\n",
        "\n",
        "И начнем с самого простого: парсинг обычных html страниц. Для этого есть прекрасная бибилотека [BeautifulSoup4](https://beautiful-soup-4.readthedocs.io/en/latest/)\n",
        "\n",
        "И в качестве примера возьмем вики нашего факультета)"
      ],
      "metadata": {
        "id": "gHMHY1ueXeIA"
      }
    },
    {
      "cell_type": "markdown",
      "source": [
        "### Основы"
      ],
      "metadata": {
        "id": "ErUlK60mqnA3"
      }
    },
    {
      "cell_type": "code",
      "source": [
        "import requests\n",
        "\n",
        "r = requests.get('http://wiki.cs.hse.ru/Заглавная_страница')\n",
        "page = r.content.decode(\"utf-8\")\n",
        "page ##выглядит как каша какая-то"
      ],
      "metadata": {
        "colab": {
          "base_uri": "https://localhost:8080/",
          "height": 150
        },
        "id": "gfcFHRWuZBhu",
        "outputId": "f23742ce-eb57-4636-db46-70cdddbc4c6c"
      },
      "execution_count": null,
      "outputs": [
        {
          "output_type": "execute_result",
          "data": {
            "text/plain": [
              "'<!DOCTYPE html>\\n<html lang=\"ru\" dir=\"ltr\" class=\"client-nojs\">\\n<head>\\n<meta charset=\"UTF-8\" />\\n<title>Wiki ФКН — Wiki - Факультет компьютерных наук</title>\\n<meta http-equiv=\"X-UA-Compatible\" content=\"IE=EDGE\" />\\n<meta name=\"generator\" content=\"MediaWiki 1.23.2\" />\\n<link rel=\"shortcut icon\" href=\"/skins/favicon.ico\" />\\n<link rel=\"search\" type=\"application/opensearchdescription+xml\" href=\"/opensearch_desc.php\" title=\"Wiki - Факультет компьютерных наук (ru)\" />\\n<link rel=\"EditURI\" type=\"application/rsd+xml\" href=\"http://wiki.cs.hse.ru/api.php?action=rsd\" />\\n<link rel=\"copyright\" href=\"/Wiki_-_%D0%A4%D0%B0%D0%BA%D1%83%D0%BB%D1%8C%D1%82%D0%B5%D1%82_%D0%BA%D0%BE%D0%BC%D0%BF%D1%8C%D1%8E%D1%82%D0%B5%D1%80%D0%BD%D1%8B%D1%85_%D0%BD%D0%B0%D1%83%D0%BA:%D0%9E%D0%BF%D0%B8%D1%81%D0%B0%D0%BD%D0%B8%D0%B5\" />\\n<link rel=\"alternate\" type=\"application/atom+xml\" title=\"Wiki - Факультет компьютерных наук\\xa0— Atom-лента\" href=\"/index.php?title=%D0%A1%D0%BB%D1%83%D0%B6%D0%B5%D0%B1%D0%BD%D0%B0%D1%8F:%D0%A1%D0%B2%D0%B5%D0%B6%D0%B8%D0%B5_%D0%BF%D1%80%D0%B0%D0%B2%D0%BA%D0%B8&amp;feed=atom\" />\\n<link rel=\"canonical\" href=\"/Wiki_%D0%A4%D0%9A%D0%9D\" />\\n<link rel=\"stylesheet\" href=\"http://wiki.cs.hse.ru/load.php?debug=false&amp;lang=ru&amp;modules=mediawiki.legacy.commonPrint%2Cshared%7Cmediawiki.skinning.interface%7Cmediawiki.ui.button%7Cskins.vector.styles&amp;only=styles&amp;skin=vector&amp;*\" />\\n<meta name=\"ResourceLoaderDynamicStyles\" content=\"\" />\\n<link rel=\"stylesheet\" href=\"http://wiki.cs.hse.ru/load.php?debug=false&amp;lang=ru&amp;modules=site&amp;only=styles&amp;skin=vector&amp;*\" />\\n<style>a:lang(ar),a:lang(kk-arab),a:lang(mzn),a:lang(ps),a:lang(ur){text-decoration:none}\\n/* cache key: wiki_cs:resourceloader:filter:minify-css:7:58586133cd57373dc097ce6780f32e37 */</style>\\n<script src=\"http://wiki.cs.hse.ru/load.php?debug=false&amp;lang=ru&amp;modules=startup&amp;only=scripts&amp;skin=vector&amp;*\"></script>\\n<script>if(window.mw){\\nmw.config.set({\"wgCanonicalNamespace\":\"\",\"wgCanonicalSpecialPageName\":false,\"wgNamespaceNumber\":0,\"wgPageName\":\"Wiki_ФКН\",\"wgTitle\":\"Wiki ФКН\",\"wgCurRevisionId\":80769,\"wgRevisionId\":80769,\"wgArticleId\":22465,\"wgIsArticle\":true,\"wgIsRedirect\":false,\"wgAction\":\"view\",\"wgUserName\":null,\"wgUserGroups\":[\"*\"],\"wgCategories\":[],\"wgBreakFrames\":false,\"wgPageContentLanguage\":\"ru\",\"wgPageContentModel\":\"wikitext\",\"wgSeparatorTransformTable\":[\",\\\\t.\",\"\\xa0\\\\t,\"],\"wgDigitTransformTable\":[\"\",\"\"],\"wgDefaultDateFormat\":\"dmy\",\"wgMonthNames\":[\"\",\"январь\",\"февраль\",\"март\",\"апрель\",\"май\",\"июнь\",\"июль\",\"август\",\"сентябрь\",\"октябрь\",\"ноябрь\",\"декабрь\"],\"wgMonthNamesShort\":[\"\",\"янв\",\"фев\",\"мар\",\"апр\",\"май\",\"июн\",\"июл\",\"авг\",\"сен\",\"окт\",\"ноя\",\"дек\"],\"wgRelevantPageName\":\"Wiki_ФКН\",\"wgIsProbablyEditable\":false,\"wgRestrictionEdit\":[],\"wgRestrictionMove\":[],\"wgRedirectedFrom\":\"Заглавная_страница\",\"wgWikiEditorEnabledModules\":{\"toolbar\":true,\"dialogs\":true,\"hidesig\":true,\"preview\":true,\"previewDialog\":false,\"publish\":true}});\\n}</script><script>if(window.mw){\\nmw.loader.implement(\"user.options\",function($,jQuery){mw.user.options.set({\"ccmeonemails\":0,\"cols\":80,\"date\":\"default\",\"diffonly\":0,\"disablemail\":0,\"editfont\":\"default\",\"editondblclick\":0,\"editsectiononrightclick\":0,\"enotifminoredits\":0,\"enotifrevealaddr\":0,\"enotifusertalkpages\":1,\"enotifwatchlistpages\":1,\"extendwatchlist\":0,\"fancysig\":0,\"forceeditsummary\":0,\"gender\":\"unknown\",\"hideminor\":0,\"hidepatrolled\":0,\"imagesize\":2,\"math\":1,\"minordefault\":0,\"newpageshidepatrolled\":0,\"nickname\":\"\",\"norollbackdiff\":0,\"numberheadings\":0,\"previewonfirst\":0,\"previewontop\":1,\"rcdays\":7,\"rclimit\":50,\"rows\":25,\"showhiddencats\":0,\"shownumberswatching\":1,\"showtoolbar\":1,\"skin\":\"vector\",\"stubthreshold\":0,\"thumbsize\":2,\"underline\":2,\"uselivepreview\":0,\"usenewrc\":0,\"watchcreations\":1,\"watchdefault\":1,\"watchdeletion\":0,\"watchlistdays\":3,\"watchlisthideanons\":0,\"watchlisthidebots\":0,\"watchlisthideliu\":0,\"watchlisthideminor\":0,\"watchlisthideown\":0,\"watchlisthidepatrolled\":0,\"watchmoves\":0,\"wllimit\":250,\\n\"useeditwarning\":1,\"prefershttps\":1,\"usebetatoolbar\":1,\"usebetatoolbar-cgd\":1,\"wikieditor-preview\":1,\"wikieditor-publish\":1,\"language\":\"ru\",\"variant-gan\":\"gan\",\"variant-iu\":\"iu\",\"variant-kk\":\"kk\",\"variant-ku\":\"ku\",\"variant-shi\":\"shi\",\"variant-sr\":\"sr\",\"variant-tg\":\"tg\",\"variant-uz\":\"uz\",\"variant-zh\":\"zh\",\"searchNs0\":true,\"searchNs1\":false,\"searchNs2\":false,\"searchNs3\":false,\"searchNs4\":false,\"searchNs5\":false,\"searchNs6\":false,\"searchNs7\":false,\"searchNs8\":false,\"searchNs9\":false,\"searchNs10\":false,\"searchNs11\":false,\"searchNs12\":false,\"searchNs13\":false,\"searchNs14\":false,\"searchNs15\":false,\"variant\":\"ru\"});},{},{});mw.loader.implement(\"user.tokens\",function($,jQuery){mw.user.tokens.set({\"editToken\":\"+\\\\\\\\\",\"patrolToken\":false,\"watchToken\":false});},{},{});\\n/* cache key: wiki_cs:resourceloader:filter:minify-js:7:b320d384680aafba3abb4bb3f6f4ff59 */\\n}</script>\\n<script>if(window.mw){\\nmw.loader.load([\"mediawiki.page.startup\",\"mediawiki.legacy.wikibits\",\"mediawiki.legacy.ajax\",\"skins.vector.js\"]);\\n}</script>\\n<!--[if lt IE 7]><style type=\"text/css\">body{behavior:url(\"/skins/vector/csshover.min.htc\")}</style><![endif]--></head>\\n<body class=\"mediawiki ltr sitedir-ltr ns-0 ns-subject page-Wiki_ФКН skin-vector action-view vector-animateLayout\">\\n\\t\\t<div id=\"mw-page-base\" class=\"noprint\"></div>\\n\\t\\t<div id=\"mw-head-base\" class=\"noprint\"></div>\\n\\t\\t<div id=\"content\" class=\"mw-body\" role=\"main\">\\n\\t\\t\\t<a id=\"top\"></a>\\n\\t\\t\\t<div id=\"mw-js-message\" style=\"display:none;\"></div>\\n\\t\\t\\t\\t\\t\\t<h1 id=\"firstHeading\" class=\"firstHeading\" lang=\"ru\"><span dir=\"auto\">Wiki ФКН</span></h1>\\n\\t\\t\\t\\t\\t\\t<div id=\"bodyContent\">\\n\\t\\t\\t\\t\\t\\t\\t\\t<div id=\"siteSub\">Материал из Wiki - Факультет компьютерных наук</div>\\n\\t\\t\\t\\t\\t\\t\\t\\t<div id=\"contentSub\">(перенаправлено с «<a href=\"/index.php?title=%D0%97%D0%B0%D0%B3%D0%BB%D0%B0%D0%B2%D0%BD%D0%B0%D1%8F_%D1%81%D1%82%D1%80%D0%B0%D0%BD%D0%B8%D1%86%D0%B0&amp;redirect=no\" title=\"Заглавная страница\">Заглавная страница</a>»)</div>\\n\\t\\t\\t\\t\\t\\t\\t\\t\\t\\t\\t\\t<div id=\"jump-to-nav\" class=\"mw-jump\">\\n\\t\\t\\t\\t\\tПерейти к:\\t\\t\\t\\t\\t<a href=\"#mw-navigation\">навигация</a>, \\t\\t\\t\\t\\t<a href=\"#p-search\">поиск</a>\\n\\t\\t\\t\\t</div>\\n\\t\\t\\t\\t<div id=\"mw-content-text\" lang=\"ru\" dir=\"ltr\" class=\"mw-content-ltr\"><p><br />\\n</p>\\n<h1><span class=\"mw-headline\" id=\".D0.A3.D1.87.D0.B5.D0.B1.D0.BD.D1.8B.D0.B5_.D0.BA.D1.83.D1.80.D1.81.D1.8B_.D1.84.D0.B0.D0.BA.D1.83.D0.BB.D1.8C.D1.82.D0.B5.D1.82.D0.B0_.D0.BA.D0.BE.D0.BC.D0.BF.D1.8C.D1.8E.D1.82.D0.B5.D1.80.D0.BD.D1.8B.D1.85_.D0.BD.D0.B0.D1.83.D0.BA\">Учебные курсы факультета компьютерных наук</span></h1>\\n<h2><span class=\"mw-headline\" id=\".D0.9A.D1.83.D1.80.D1.81.D1.8B_.D0.B7.D0.B0_2023.2F24_.D1.83.D1.87.D0.B5.D0.B1.D0.BD.D1.8B.D0.B9_.D0.B3.D0.BE.D0.B4\">Курсы за 2023/24 учебный год</span></h2>\\n<table class=\"wikitable courses\">\\n\\n\\n<tr>\\n<th width=\"21%\"> 1 курс </th>\\n<th width=\"21%\"> 2 курс </th>\\n<th width=\"21%\"> 3 курс </th>\\n<th width=\"21%\"> 4 курс  </th>\\n<th rowspan=\"2\"> майноры и факультативы\\n</th></tr>\\n<tr>\\n<td colspan=\"4\" style=\"text-align: center;\"> <b>ПМИ</b>\\n</td></tr>\\n<tr>\\n<td>\\n<p><b>М+</b>\\n</p><p><a href=\"/%D0%9B%D0%B8%D0%BD%D0%B5%D0%B9%D0%BD%D0%B0%D1%8F_%D0%B0%D0%BB%D0%B3%D0%B5%D0%B1%D1%80%D0%B0_%D0%B8_%D0%B3%D0%B5%D0%BE%D0%BC%D0%B5%D1%82%D1%80%D0%B8%D1%8F_%D0%BD%D0%B0_%D0%9F%D0%9C%D0%98_2023/2024_(%D0%BF%D0%B8%D0%BB%D0%BE%D1%82%D0%BD%D1%8B%D0%B9_%D0%BF%D0%BE%D1%82%D0%BE%D0%BA)\" title=\"Линейная алгебра и геометрия на ПМИ 2023/2024 (пилотный поток)\"> Линейная алгебра и геометрия (пилотный поток)</a>\\n</p><p><a href=\"/%D0%9C%D0%B0%D1%82%D0%B5%D0%BC%D0%B0%D1%82%D0%B8%D1%87%D0%B5%D1%81%D0%BA%D0%B8%D0%B9_%D0%B0%D0%BD%D0%B0%D0%BB%D0%B8%D0%B7_1_2023/24_(%D0%BF%D0%B8%D0%BB%D0%BE%D1%82%D0%BD%D1%8B%D0%B9_%D0%BF%D0%BE%D1%82%D0%BE%D0%BA)\" title=\"Математический анализ 1 2023/24 (пилотный поток)\"> Математический анализ-1 (пилотный поток)</a>\\n</p><p><a href=\"/%D0%94%D0%B8%D1%81%D0%BA%D1%80%D0%B5%D1%82%D0%BD%D0%B0%D1%8F_%D0%BC%D0%B0%D1%82%D0%B5%D0%BC%D0%B0%D1%82%D0%B8%D0%BA%D0%B0_%D0%BD%D0%B0_%D0%9F%D0%9C%D0%98_2023/24_(%D0%BF%D0%B8%D0%BB%D0%BE%D1%82%D0%BD%D1%8B%D0%B9_%D0%BF%D0%BE%D1%82%D0%BE%D0%BA)\" title=\"Дискретная математика на ПМИ 2023/24 (пилотный поток)\"> Дискретная математика (пилотный поток)</a>\\n</p><p><a href=\"/index.php?title=%D0%90%D0%BB%D0%B3%D0%B5%D0%B1%D1%80%D0%B0_%D0%BD%D0%B0_%D0%9F%D0%9C%D0%98_2023/2024_(%D0%BF%D0%B8%D0%BB%D0%BE%D1%82%D0%BD%D1%8B%D0%B9_%D0%BF%D0%BE%D1%82%D0%BE%D0%BA)&amp;action=edit&amp;redlink=1\" class=\"new\" title=\"Алгебра на ПМИ 2023/2024 (пилотный поток) (страница не существует)\"> Алгебра (пилотный поток)</a>\\n</p><p><a href=\"/%D0%A2%D0%B5%D0%BE%D1%80%D0%B8%D1%8F_%D1%87%D0%B8%D1%81%D0%B5%D0%BB_(%D0%BF%D0%B8%D0%BB%D0%BE%D1%82%D0%BD%D1%8B%D0%B9_%D0%BF%D0%BE%D1%82%D0%BE%D0%BA)_2023/24\" title=\"Теория чисел (пилотный поток) 2023/24\"> Теория чисел (пилотный поток)</a>\\n</p><p><b>М</b>\\n</p><p><a href=\"/%D0%9B%D0%B8%D0%BD%D0%B5%D0%B9%D0%BD%D0%B0%D1%8F_%D0%B0%D0%BB%D0%B3%D0%B5%D0%B1%D1%80%D0%B0_%D0%B8_%D0%B3%D0%B5%D0%BE%D0%BC%D0%B5%D1%82%D1%80%D0%B8%D1%8F_%D0%BD%D0%B0_%D0%9F%D0%9C%D0%98_2023/2024_(%D0%BE%D1%81%D0%BD%D0%BE%D0%B2%D0%BD%D0%BE%D0%B9_%D0%BF%D0%BE%D1%82%D0%BE%D0%BA)\" title=\"Линейная алгебра и геометрия на ПМИ 2023/2024 (основной поток)\"> Линейная алгебра и геометрия (основной поток)</a>\\n</p><p><a href=\"/%D0%9C%D0%B0%D1%82%D0%B5%D0%BC%D0%B0%D1%82%D0%B8%D1%87%D0%B5%D1%81%D0%BA%D0%B8%D0%B9_%D0%B0%D0%BD%D0%B0%D0%BB%D0%B8%D0%B7_1_2023/24_(%D0%BE%D1%81%D0%BD%D0%BE%D0%B2%D0%BD%D0%BE%D0%B9_%D0%BF%D0%BE%D1%82%D0%BE%D0%BA)\" title=\"Математический анализ 1 2023/24 (основной поток)\"> Математический анализ-1 (основной поток)</a>\\n</p><p><a href=\"/%D0%9C%D0%B0%D1%82%D0%B5%D0%BC%D0%B0%D1%82%D0%B8%D1%87%D0%B5%D1%81%D0%BA%D0%B8%D0%B9_%D0%B0%D0%BD%D0%B0%D0%BB%D0%B8%D0%B7_1_2023/24_(%D0%BE%D1%81%D0%BD%D0%BE%D0%B2%D0%BD%D0%BE%D0%B9_%D0%BF%D0%BE%D1%82%D0%BE%D0%BA)_%D0%AD%D0%90%D0%94\" title=\"Математический анализ 1 2023/24 (основной поток) ЭАД\"> Математический анализ-1 (основной поток, ЭАД)</a>\\n</p><p><a href=\"/DM1PMIbase-2023-24\" title=\"DM1PMIbase-2023-24\"> Дискретная математика (ПМИ основной поток)</a>\\n</p><p><a href=\"/DM1EAD-2023-24\" title=\"DM1EAD-2023-24\"> Дискретная математика (ЭАД)</a>\\n</p><p><br />\\n<a href=\"/index.php?title=%D0%90%D0%BB%D0%B3%D0%B5%D0%B1%D1%80%D0%B0_%D0%BD%D0%B0_%D0%9F%D0%9C%D0%98_2023/2024_(%D0%BE%D1%81%D0%BD%D0%BE%D0%B2%D0%BD%D0%BE%D0%B9_%D0%BF%D0%BE%D1%82%D0%BE%D0%BA)&amp;action=edit&amp;redlink=1\" class=\"new\" title=\"Алгебра на ПМИ 2023/2024 (основной поток) (страница не существует)\"> Алгебра (основной поток)</a>\\n</p><p><a href=\"/%D0%A2%D0%B5%D0%BE%D1%80%D0%B8%D1%8F_%D1%87%D0%B8%D1%81%D0%B5%D0%BB_(%D0%BE%D1%81%D0%BD%D0%BE%D0%B2%D0%BD%D0%BE%D0%B9_%D0%BF%D0%BE%D1%82%D0%BE%D0%BA)_2023/24\" title=\"Теория чисел (основной поток) 2023/24\"> Теория чисел (основной поток)</a>\\n</p><p><b>П+</b>\\n</p><p><a href=\"/index.php?title=%D0%90%D0%BB%D0%B3%D0%BE%D1%80%D0%B8%D1%82%D0%BC%D1%8B_%D0%B8_%D1%81%D1%82%D1%80%D1%83%D0%BA%D1%82%D1%83%D1%80%D1%8B_%D0%B4%D0%B0%D0%BD%D0%BD%D1%8B%D1%85_%D0%BF%D0%B8%D0%BB%D0%BE%D1%82%D0%BD%D1%8B%D0%B9_%D0%BF%D0%BE%D1%82%D0%BE%D0%BA_2023/24&amp;action=edit&amp;redlink=1\" class=\"new\" title=\"Алгоритмы и структуры данных пилотный поток 2023/24 (страница не существует)\"> Алгоритмы и структуры данных (пилотный поток)</a>\\n</p><p><b>П</b>\\n</p><p><a href=\"/%D0%AF%D0%B7%D1%8B%D0%BA_%D0%BF%D1%80%D0%BE%D0%B3%D1%80%D0%B0%D0%BC%D0%BC%D0%B8%D1%80%D0%BE%D0%B2%D0%B0%D0%BD%D0%B8%D1%8F_Python_2023/24_(%D0%BE%D1%81%D0%BD%D0%BE%D0%B2%D0%BD%D0%BE%D0%B9_%D0%BF%D0%BE%D1%82%D0%BE%D0%BA)\" title=\"Язык программирования Python 2023/24 (основной поток)\">Язык программирования Python 2023/24 (основной поток) </a>\\n</p><p><a href=\"/index.php?title=%D0%90%D0%BB%D0%B3%D0%BE%D1%80%D0%B8%D1%82%D0%BC%D1%8B_%D0%B8_%D1%81%D1%82%D1%80%D1%83%D0%BA%D1%82%D1%83%D1%80%D1%8B_%D0%B4%D0%B0%D0%BD%D0%BD%D1%8B%D1%85_1_(%D0%BE%D1%81%D0%BD%D0%BE%D0%B2%D0%BD%D0%BE%D0%B9_%D0%BF%D0%BE%D1%82%D0%BE%D0%BA)_(4_%D0%BC%D0%BE%D0%B4%D1%83%D0%BB%D1%8C)_2023/2024&amp;action=edit&amp;redlink=1\" class=\"new\" title=\"Алгоритмы и структуры данных 1 (основной поток) (4 модуль) 2023/2024 (страница не существует)\">Алгоритмы и структуры данных 1 (основной поток) (4 модуль) 2023/2024</a>\\n</p>\\n</td>\\n<td>\\n<p><b>М+</b>\\n</p><p><a href=\"/index.php?title=%D0%9C%D0%B0%D1%82%D0%B5%D0%BC%D0%B0%D1%82%D0%B8%D1%87%D0%B5%D1%81%D0%BA%D0%B0%D1%8F_%D1%81%D1%82%D0%B0%D1%82%D0%B8%D1%81%D1%82%D0%B8%D0%BA%D0%B0_2023/24_(%D0%BF%D0%B8%D0%BB%D0%BE%D1%82%D0%BD%D1%8B%D0%B9_%D0%BF%D0%BE%D1%82%D0%BE%D0%BA)&amp;action=edit&amp;redlink=1\" class=\"new\" title=\"Математическая статистика 2023/24 (пилотный поток) (страница не существует)\"> Математическая статистика (пилотный поток)</a>\\n</p><p><a href=\"/%D0%A2%D0%B5%D0%BE%D1%80%D0%B8%D1%8F_%D0%B2%D0%B5%D1%80%D0%BE%D1%8F%D1%82%D0%BD%D0%BE%D1%81%D1%82%D0%B5%D0%B9_2023/24_(%D0%BF%D0%B8%D0%BB%D0%BE%D1%82%D0%BD%D1%8B%D0%B9_%D0%BF%D0%BE%D1%82%D0%BE%D0%BA)\" title=\"Теория вероятностей 2023/24 (пилотный поток)\"> Теория вероятностей (пилотный поток)</a>\\n</p><p><a href=\"/%D0%9C%D0%B0%D1%82%D0%B5%D0%BC%D0%B0%D1%82%D0%B8%D1%87%D0%B5%D1%81%D0%BA%D0%B8%D0%B9_%D0%90%D0%BD%D0%B0%D0%BB%D0%B8%D0%B7_2_%D0%BD%D0%B0_%D0%9F%D0%9C%D0%98_2023/24_(%D0%BF%D0%B8%D0%BB%D0%BE%D1%82%D0%BD%D1%8B%D0%B9_%D0%BF%D0%BE%D1%82%D0%BE%D0%BA)\" title=\"Математический Анализ 2 на ПМИ 2023/24 (пилотный поток)\"> Математический анализ - 2 (пилотный поток)</a>\\n</p><p><b>М</b>\\n</p><p><a href=\"/index.php?title=%D0%9C%D0%B0%D1%82%D0%B5%D0%BC%D0%B0%D1%82%D0%B8%D1%87%D0%B5%D1%81%D0%BA%D0%B0%D1%8F_%D1%81%D1%82%D0%B0%D1%82%D0%B8%D1%81%D1%82%D0%B8%D0%BA%D0%B0_2023/24_(%D0%BE%D1%81%D0%BD%D0%BE%D0%B2%D0%BD%D0%BE%D0%B9_%D0%BF%D0%BE%D1%82%D0%BE%D0%BA)&amp;action=edit&amp;redlink=1\" class=\"new\" title=\"Математическая статистика 2023/24 (основной поток) (страница не существует)\"> Математическая статистика (основной поток)</a>\\n</p><p><a href=\"/%D0%A2%D0%B5%D0%BE%D1%80%D0%B8%D1%8F_%D0%B2%D0%B5%D1%80%D0%BE%D1%8F%D1%82%D0%BD%D0%BE%D1%81%D1%82%D0%B5%D0%B9_2023/24_(%D0%BE%D1%81%D0%BD%D0%BE%D0%B2%D0%BD%D0%BE%D0%B9_%D0%BF%D0%BE%D1%82%D0%BE%D0%BA)\" title=\"Теория вероятностей 2023/24 (основной поток)\"> Теория вероятностей (основной поток)</a>\\n</p><p><a href=\"/%D0%9C%D0%B0%D1%82%D0%B5%D0%BC%D0%B0%D1%82%D0%B8%D1%87%D0%B5%D1%81%D0%BA%D0%B8%D0%B9_%D0%B0%D0%BD%D0%B0%D0%BB%D0%B8%D0%B7_-_2_(2023/24)\" title=\"Математический анализ - 2 (2023/24)\"> Математический анализ - 2 (основной поток)</a>\\n</p><p><b>П+ и П</b>\\n</p><p><a href=\"/CAOS-2023/24\" title=\"CAOS-2023/24\"> Архитектура компьютеров и операционные системы</a>\\n</p><p><a href=\"/%D0%90%D0%BB%D0%B3%D0%BE%D1%80%D0%B8%D1%82%D0%BC%D1%8B_%D0%B8_%D1%81%D1%82%D1%80%D1%83%D0%BA%D1%82%D1%83%D1%80%D1%8B_%D0%B4%D0%B0%D0%BD%D0%BD%D1%8B%D1%85_2_2023/24\" title=\"Алгоритмы и структуры данных 2 2023/24\"> Алгоритмы и структуры данных - 2 </a>\\n</p><p><a href=\"/index.php?title=%D0%98%D0%BD%D1%81%D1%82%D1%80%D1%83%D0%BC%D0%B5%D0%BD%D1%82%D1%8B_%D0%BF%D1%80%D0%BE%D0%BC%D1%8B%D1%88%D0%BB%D0%B5%D0%BD%D0%BD%D0%BE%D0%B9_%D1%80%D0%B0%D0%B7%D1%80%D0%B0%D0%B1%D0%BE%D1%82%D0%BA%D0%B8_2023/24&amp;action=edit&amp;redlink=1\" class=\"new\" title=\"Инструменты промышленной разработки 2023/24 (страница не существует)\"> Инструменты промышленной разработки 2022/2023 </a>\\n</p><p><b>1 из 3:</b>\\n</p><p><a href=\"/%D0%AF%D0%B7%D1%8B%D0%BA_%D0%BF%D1%80%D0%BE%D0%B3%D1%80%D0%B0%D0%BC%D0%BC%D0%B8%D1%80%D0%BE%D0%B2%D0%B0%D0%BD%D0%B8%D1%8F_C%2B%2B_(%D1%83%D0%B3%D0%BB%D1%83%D0%B1%D0%BB%D0%B5%D0%BD%D0%BD%D1%8B%D0%B9_%D0%BA%D1%83%D1%80%D1%81)_2023/24\" title=\"Язык программирования C++ (углубленный курс) 2023/24\"> Язык программирования C++ (углубленный курс)</a>\\n</p><p><a href=\"/%D0%9F%D1%80%D0%BE%D0%B4%D0%B2%D0%B8%D0%BD%D1%83%D1%82%D1%8B%D0%B9_Python_2023/24\" title=\"Продвинутый Python 2023/24\"> Продвинутый Python </a>\\n</p><p><a href=\"/%D0%AF%D0%B7%D1%8B%D0%BA_%D0%BF%D1%80%D0%BE%D0%B3%D1%80%D0%B0%D0%BC%D0%BC%D0%B8%D1%80%D0%BE%D0%B2%D0%B0%D0%BD%D0%B8%D1%8F_Rust_2023/24\" title=\"Язык программирования Rust 2023/24\">Язык программирования Rust 2023/24</a>\\n</p><p><b>2 из 5:</b>\\n</p><p><a href=\"/index.php?title=%D0%94%D0%B8%D1%81%D0%BA%D1%80%D0%B5%D1%82%D0%BD%D0%B0%D1%8F_%D0%BC%D0%B0%D1%82%D0%B5%D0%BC%D0%B0%D1%82%D0%B8%D0%BA%D0%B0_-_2_(%D0%9F%D0%9C%D0%98)_2023/24&amp;action=edit&amp;redlink=1\" class=\"new\" title=\"Дискретная математика - 2 (ПМИ) 2023/24 (страница не существует)\">Дискретная математика - 2 (ПМИ) 2023/24</a>\\n</p><p><a href=\"/index.php?title=%D0%94%D0%B8%D1%84%D1%84%D0%B5%D1%80%D0%B5%D0%BD%D1%86%D0%B8%D0%B0%D0%BB%D1%8C%D0%BD%D1%8B%D0%B5_%D1%83%D1%80%D0%B0%D0%B2%D0%BD%D0%B5%D0%BD%D0%B8%D1%8F_(%D0%9F%D0%9C%D0%98)_2023/24&amp;action=edit&amp;redlink=1\" class=\"new\" title=\"Дифференциальные уравнения (ПМИ) 2023/24 (страница не существует)\">Дифференциальные уравнения (ПМИ) 2023/24</a>\\n</p><p><a href=\"/index.php?title=%D0%9E%D1%81%D0%BD%D0%BE%D0%B2%D1%8B_%D0%BC%D0%B0%D1%82%D1%80%D0%B8%D1%87%D0%BD%D1%8B%D1%85_%D0%B2%D1%8B%D1%87%D0%B8%D1%81%D0%BB%D0%B5%D0%BD%D0%B8%D0%B9_2023/24&amp;action=edit&amp;redlink=1\" class=\"new\" title=\"Основы матричных вычислений 2023/24 (страница не существует)\">Основы матричных вычислений 2023/24</a>\\n</p><p><a href=\"/index.php?title=%D0%9A%D0%BE%D0%BC%D0%BF%D0%BB%D0%B5%D0%BA%D1%81%D0%BD%D1%8B%D0%B9_%D0%B0%D0%BD%D0%B0%D0%BB%D0%B8%D0%B7_2023/24&amp;action=edit&amp;redlink=1\" class=\"new\" title=\"Комплексный анализ 2023/24 (страница не существует)\">Комплексный анализ 2023/24</a>\\n</p><p><a href=\"/index.php?title=%D0%A4%D1%83%D0%BD%D0%BA%D1%86%D0%B8%D0%BE%D0%BD%D0%B0%D0%BB%D1%8C%D0%BD%D1%8B%D0%B9_%D0%B0%D0%BD%D0%B0%D0%BB%D0%B8%D0%B7_2023/24&amp;action=edit&amp;redlink=1\" class=\"new\" title=\"Функциональный анализ 2023/24 (страница не существует)\">Функциональный анализ 2023/24</a>\\n</p>\\n</td>\\n<td>\\n<p><a href=\"/%D0%9C%D0%B0%D1%88%D0%B8%D0%BD%D0%BD%D0%BE%D0%B5_%D0%BE%D0%B1%D1%83%D1%87%D0%B5%D0%BD%D0%B8%D0%B5_1\" title=\"Машинное обучение 1\"> Машинное обучение 1</a> \\n</p><p><a href=\"/Operation_Research_and_Game_Theory\" title=\"Operation Research and Game Theory\">Operation Research and Game Theory</a>\\n</p><p><a href=\"/Statistical_learning_theory_2023/24\" title=\"Statistical learning theory 2023/24\"> Statistical Learning Theory</a>\\n</p><p><a href=\"/%D0%A4%D1%83%D0%BD%D0%BA%D1%86%D0%B8%D0%BE%D0%BD%D0%B0%D0%BB%D1%8C%D0%BD%D0%BE%D0%B5_%D0%BF%D1%80%D0%BE%D0%B3%D1%80%D0%B0%D0%BC%D0%BC%D0%B8%D1%80%D0%BE%D0%B2%D0%B0%D0%BD%D0%B8%D0%B5_23-24\" title=\"Функциональное программирование 23-24\"> Функциональное программирование </a>\\n</p><p><a href=\"/%D0%9E%D1%81%D0%BD%D0%BE%D0%B2%D1%8B_%D1%82%D0%B5%D0%BD%D0%B7%D0%BE%D1%80%D0%BD%D1%8B%D1%85_%D0%B2%D1%8B%D1%87%D0%B8%D1%81%D0%BB%D0%B5%D0%BD%D0%B8%D0%B9_(2023/24)\" title=\"Основы тензорных вычислений (2023/24)\"> Основы тензорных вычислений </a>\\n</p><p><a href=\"/%D0%93%D0%BB%D1%83%D0%B1%D0%B8%D0%BD%D0%BD%D0%BE%D0%B5_%D0%BE%D0%B1%D1%83%D1%87%D0%B5%D0%BD%D0%B8%D0%B5_1_23/24\" title=\"Глубинное обучение 1 23/24\"> Введение в глубинное обучение 23/24</a>\\n</p><p><a href=\"/index.php?title=%D0%9C%D0%B0%D1%82%D0%B5%D0%BC%D0%B0%D1%82%D0%B8%D1%87%D0%B5%D1%81%D0%BA%D0%BE%D0%B5_%D0%BC%D0%BE%D0%B4%D0%B5%D0%BB%D0%B8%D1%80%D0%BE%D0%B2%D0%B0%D0%BD%D0%B8%D0%B5_2023/24&amp;action=edit&amp;redlink=1\" class=\"new\" title=\"Математическое моделирование 2023/24 (страница не существует)\">Математическое моделирование 2023/24</a>\\n</p><p><a href=\"/index.php?title=%D0%9C%D0%BE%D0%B4%D0%B5%D0%BB%D0%B8%D1%80%D0%BE%D0%B2%D0%B0%D0%BD%D0%B8%D0%B5_%D0%B2%D1%80%D0%B5%D0%BC%D0%B5%D0%BD%D0%BD%D1%8B%D1%85_%D1%80%D1%8F%D0%B4%D0%BE%D0%B2_2023/24&amp;action=edit&amp;redlink=1\" class=\"new\" title=\"Моделирование временных рядов 2023/24 (страница не существует)\">Моделирование временных рядов 2023/24</a>\\n</p><p><a href=\"/index.php?title=%D0%A2%D0%B5%D0%BE%D1%80%D0%B8%D1%8F_%D1%87%D0%B8%D1%81%D0%B5%D0%BB_%D0%B8_%D0%BA%D1%80%D0%B8%D0%BF%D1%82%D0%BE%D0%B3%D1%80%D0%B0%D1%84%D0%B8%D1%8F_2023/24&amp;action=edit&amp;redlink=1\" class=\"new\" title=\"Теория чисел и криптография 2023/24 (страница не существует)\"> Теория чисел и криптография</a>\\n</p><p><a href=\"/index.php?title=%D0%9C%D0%B5%D1%82%D0%BE%D0%B4%D1%8B_%D0%BE%D0%BF%D1%82%D0%B8%D0%BC%D0%B8%D0%B7%D0%B0%D1%86%D0%B8%D0%B8_23/24&amp;action=edit&amp;redlink=1\" class=\"new\" title=\"Методы оптимизации 23/24 (страница не существует)\"> Методы оптимизации</a>\\n</p><p><a href=\"/index.php?title=%D0%A3%D1%80%D0%B0%D0%B2%D0%BD%D0%B5%D0%BD%D0%B8%D1%8F_%D1%81_%D1%87%D0%B0%D1%81%D1%82%D0%BD%D1%8B%D0%BC%D0%B8_%D0%BF%D1%80%D0%BE%D0%B8%D0%B7%D0%B2%D0%BE%D0%B4%D0%BD%D1%8B%D0%BC%D0%B8_(2023-2024)&amp;action=edit&amp;redlink=1\" class=\"new\" title=\"Уравнения с частными производными (2023-2024) (страница не существует)\">Уравнения с частными производными (2023-2024)</a>\\n</p><p><a href=\"/ExtMem_23\" title=\"ExtMem 23\"> Алгоритмы во внешней памяти </a>\\n</p><p><b>ПМИ / МОП</b>\\n</p><p><a href=\"/%D0%9C%D0%B0%D1%88%D0%B8%D0%BD%D0%BD%D0%BE%D0%B5_%D0%BE%D0%B1%D1%83%D1%87%D0%B5%D0%BD%D0%B8%D0%B5_2\" title=\"Машинное обучение 2\"> Машинное обучение 2</a> \\n</p><p><a href=\"/%D0%9F%D1%80%D0%B8%D0%BA%D0%BB%D0%B0%D0%B4%D0%BD%D0%B0%D1%8F_%D1%81%D1%82%D0%B0%D1%82%D0%B8%D1%81%D1%82%D0%B8%D0%BA%D0%B0_%D0%B2_%D0%BC%D0%B0%D1%88%D0%B8%D0%BD%D0%BD%D0%BE%D0%BC_%D0%BE%D0%B1%D1%83%D1%87%D0%B5%D0%BD%D0%B8%D0%B8_23/24\" title=\"Прикладная статистика в машинном обучении 23/24\"> Прикладная статистика в машинном обучении 23/24</a>\\n</p><p><a href=\"/%D0%9D%D0%98%D0%A1_%D0%9C%D0%B0%D1%88%D0%B8%D0%BD%D0%BD%D0%BE%D0%B5_%D0%BE%D0%B1%D1%83%D1%87%D0%B5%D0%BD%D0%B8%D0%B5_%D0%B8_%D0%BF%D1%80%D0%B8%D0%BB%D0%BE%D0%B6%D0%B5%D0%BD%D0%B8%D1%8F_3_%D0%BA%D1%83%D1%80%D1%81_2023/2024\" title=\"НИС Машинное обучение и приложения 3 курс 2023/2024\"> НИС Машинное обучение и приложения 3 курс</a>\\n</p><p><a href=\"/%D0%93%D0%BB%D1%83%D0%B1%D0%B8%D0%BD%D0%BD%D0%BE%D0%B5_%D0%BE%D0%B1%D1%83%D1%87%D0%B5%D0%BD%D0%B8%D0%B5_1_23/24\" title=\"Глубинное обучение 1 23/24\">Глубинное обучение 1 23/24</a>\\n</p><p><a href=\"/index.php?title=%D0%9C%D0%B5%D1%82%D0%BE%D0%B4%D1%8B_%D0%BE%D0%BF%D1%82%D0%B8%D0%BC%D0%B8%D0%B7%D0%B0%D1%86%D0%B8%D0%B8_%D0%B2_%D0%BC%D0%B0%D1%88%D0%B8%D0%BD%D0%BD%D0%BE%D0%BC_%D0%BE%D0%B1%D1%83%D1%87%D0%B5%D0%BD%D0%B8%D0%B8_2023/24&amp;action=edit&amp;redlink=1\" class=\"new\" title=\"Методы оптимизации в машинном обучении 2023/24 (страница не существует)\">Методы оптимизации в машинном обучении 2023/24</a>\\n</p><p><b>ПМИ / РС</b>\\n</p><p><a href=\"/Distributed_Systems_2023\" title=\"Distributed Systems 2023\"> Распределенные системы</a>\\n</p><p><a rel=\"nofollow\" class=\"external text\" href=\"https://osukhoroslov-hse.notion.site/2da6d9d4dc5944e59414daea40376d96\">НИС Распределенные системы</a>\\n</p><p><a href=\"/Database_Systems_2023/24\" title=\"Database Systems 2023/24\">Database Systems 2023/24</a>\\n</p><p><b>ПМИ / ТИ</b>\\n</p><p><a href=\"/Theory_of_Computation_2023\" title=\"Theory of Computation 2023\"> Theory of Computation</a>\\n</p><p><a href=\"/NIS-TCS-23-24\" title=\"NIS-TCS-23-24\"> НИС Теоретическая информатика </a>\\n</p><p><a href=\"/index.php?title=KKTI-23-24&amp;action=edit&amp;redlink=1\" class=\"new\" title=\"KKTI-23-24 (страница не существует)\"> Комбинаторные конструкции в теоретической информатике</a>\\n</p>\\n</td>\\n<td>\\n<p>[ ВКР]\\n</p><p><a href=\"/index.php?title=%D0%A1%D0%BB%D1%83%D1%87%D0%B0%D0%B9%D0%BD%D1%8B%D0%B5_%D0%BF%D1%80%D0%BE%D1%86%D0%B5%D1%81%D1%81%D1%8B_(%D0%B7%D0%B8%D0%BC%D0%B0_2024)&amp;action=edit&amp;redlink=1\" class=\"new\" title=\"Случайные процессы (зима 2024) (страница не существует)\"> Случайные процессы (зима 2023)</a>\\n</p><p><a href=\"/%D0%A4%D1%83%D0%BD%D0%BA%D1%86%D0%B8%D0%BE%D0%BD%D0%B0%D0%BB%D1%8C%D0%BD%D0%BE%D0%B5_%D0%BF%D1%80%D0%BE%D0%B3%D1%80%D0%B0%D0%BC%D0%BC%D0%B8%D1%80%D0%BE%D0%B2%D0%B0%D0%BD%D0%B8%D0%B5_23-24\" title=\"Функциональное программирование 23-24\"> Функциональное программирование </a>\\n</p><p><a href=\"/index.php?title=Haskell_23/24&amp;action=edit&amp;redlink=1\" class=\"new\" title=\"Haskell 23/24 (страница не существует)\"> Промышленное программирование на Haskell </a>\\n</p><p><a href=\"/%D0%9E%D1%81%D0%BD%D0%BE%D0%B2%D1%8B_%D1%82%D0%B5%D0%BD%D0%B7%D0%BE%D1%80%D0%BD%D1%8B%D1%85_%D0%B2%D1%8B%D1%87%D0%B8%D1%81%D0%BB%D0%B5%D0%BD%D0%B8%D0%B9_(2023/24)\" title=\"Основы тензорных вычислений (2023/24)\"> Основы тензорных вычислений </a>\\n</p><p><a href=\"/%D0%93%D0%BB%D1%83%D0%B1%D0%B8%D0%BD%D0%BD%D0%BE%D0%B5_%D0%BE%D0%B1%D1%83%D1%87%D0%B5%D0%BD%D0%B8%D0%B5_%D0%B2_%D0%BE%D0%B1%D1%80%D0%B0%D0%B1%D0%BE%D1%82%D0%BA%D0%B5_%D0%B7%D0%B2%D1%83%D0%BA%D0%B0_23/24\" title=\"Глубинное обучение в обработке звука 23/24\"> Глубинное обучение в обработке звука </a>\\n</p><p><a href=\"/%D0%93%D0%BB%D1%83%D0%B1%D0%B8%D0%BD%D0%BD%D0%BE%D0%B5_%D0%BE%D0%B1%D1%83%D1%87%D0%B5%D0%BD%D0%B8%D0%B5_%D0%B4%D0%BB%D1%8F_%D1%82%D0%B5%D0%BA%D1%81%D1%82%D0%BE%D0%B2%D1%8B%D1%85_%D0%B4%D0%B0%D0%BD%D0%BD%D1%8B%D1%85_23/24\" title=\"Глубинное обучение для текстовых данных 23/24\"> Глубинное обучение для текстовых данных </a>\\n</p><p><a href=\"/index.php?title=%D0%9C%D0%B5%D1%82%D0%BE%D0%B4%D1%8B_%D0%BF%D1%80%D0%B5%D0%B4%D0%BE%D0%B1%D1%83%D1%87%D0%B5%D0%BD%D0%B8%D1%8F_%D0%B1%D0%B5%D0%B7_%D1%83%D1%87%D0%B8%D1%82%D0%B5%D0%BB%D1%8F_23/24&amp;action=edit&amp;redlink=1\" class=\"new\" title=\"Методы предобучения без учителя 23/24 (страница не существует)\"> Методы предобучения без учителя </a>\\n</p><p><a href=\"/index.php?title=%D0%A1%D0%B8%D0%BC%D0%B2%D0%BE%D0%BB%D1%8C%D0%BD%D1%8B%D0%B5_%D0%B2%D1%8B%D1%87%D0%B8%D1%81%D0%BB%D0%B5%D0%BD%D0%B8%D1%8F_23/24&amp;action=edit&amp;redlink=1\" class=\"new\" title=\"Символьные вычисления 23/24 (страница не существует)\"> Символьные вычисления </a>\\n</p><p><a href=\"/index.php?title=%D0%AD%D1%84%D1%84%D0%B5%D0%BA%D1%82%D0%B8%D0%B2%D0%BD%D1%8B%D0%B5_%D1%81%D0%B8%D1%81%D1%82%D0%B5%D0%BC%D1%8B_%D0%B3%D0%BB%D1%83%D0%B1%D0%B8%D0%BD%D0%BD%D0%BE%D0%B3%D0%BE_%D0%BE%D0%B1%D1%83%D1%87%D0%B5%D0%BD%D0%B8%D1%8F_23/24&amp;action=edit&amp;redlink=1\" class=\"new\" title=\"Эффективные системы глубинного обучения 23/24 (страница не существует)\">Эффективные системы глубинного обучения</a>\\n</p><p><a href=\"/index.php?title=%D0%A2%D0%B5%D0%BE%D1%80%D0%B8%D1%8F_%D0%B8_%D0%BF%D1%80%D0%B0%D0%BA%D1%82%D0%B8%D0%BA%D0%B0_%D0%BE%D0%BD%D0%BB%D0%B0%D0%B9%D0%BD-%D1%8D%D0%BA%D1%81%D0%BF%D0%B5%D1%80%D0%B8%D0%BC%D0%B5%D0%BD%D1%82%D0%BE%D0%B2_23/24&amp;action=edit&amp;redlink=1\" class=\"new\" title=\"Теория и практика онлайн-экспериментов 23/24 (страница не существует)\"> Теория и практика онлайн-экспериментов</a>\\n</p><p><a href=\"/index.php?title=%D0%94%D0%B5%D1%86%D0%B5%D0%BD%D1%82%D1%80%D0%B0%D0%BB%D0%B8%D0%B7%D0%BE%D0%B2%D0%B0%D0%BD%D0%BD%D1%8B%D0%B5_%D1%81%D0%B8%D1%81%D1%82%D0%B5%D0%BC%D1%8B_2023/24&amp;action=edit&amp;redlink=1\" class=\"new\" title=\"Децентрализованные системы 2023/24 (страница не существует)\"> Децентрализованные системы </a>\\n</p><p><a href=\"/index.php?title=%D0%92%D0%B2%D0%B5%D0%B4%D0%B5%D0%BD%D0%B8%D0%B5_%D0%B2_%D0%B4%D0%B8%D1%84%D1%84%D0%B5%D1%80%D0%B5%D0%BD%D1%86%D0%B8%D0%B0%D0%BB%D1%8C%D0%BD%D1%83%D1%8E_%D0%B3%D0%B5%D0%BE%D0%BC%D0%B5%D1%82%D1%80%D0%B8%D1%8E_23/24&amp;action=edit&amp;redlink=1\" class=\"new\" title=\"Введение в дифференциальную геометрию 23/24 (страница не существует)\"> Введение в дифференциальную геометрию </a>\\n</p><p><a href=\"/%D0%94%D0%B8%D0%B7%D0%B0%D0%B9%D0%BD_%D1%81%D0%B8%D1%81%D1%82%D0%B5%D0%BC_23/24\" title=\"Дизайн систем 23/24\"> Дизайн систем </a>\\n</p><p><a href=\"/Types_23\" title=\"Types 23\"> Типы в языках программирования </a>\\n</p><p><a href=\"/ExtMem_23\" title=\"ExtMem 23\"> Алгоритмы во внешней памяти </a>\\n</p><p><b>ПМИ / МОП</b>\\n</p><p><a href=\"/%D0%9D%D0%98%D0%A1_%D0%9C%D0%B0%D1%88%D0%B8%D0%BD%D0%BD%D0%BE%D0%B5_%D0%BE%D0%B1%D1%83%D1%87%D0%B5%D0%BD%D0%B8%D0%B5_%D0%B8_%D0%BF%D1%80%D0%B8%D0%BB%D0%BE%D0%B6%D0%B5%D0%BD%D0%B8%D1%8F_4_%D0%BA%D1%83%D1%80%D1%81_2023/2024\" title=\"НИС Машинное обучение и приложения 4 курс 2023/2024\"> НИС Машинное обучение и приложения 4 курс</a>  \\n</p><p><a href=\"/%D0%93%D0%BB%D1%83%D0%B1%D0%B8%D0%BD%D0%BD%D0%BE%D0%B5_%D0%BE%D0%B1%D1%83%D1%87%D0%B5%D0%BD%D0%B8%D0%B5_2023/24\" title=\"Глубинное обучение 2023/24\"> Глубинное обучение</a>\\n</p><p><a href=\"/%D0%93%D0%BB%D1%83%D0%B1%D0%B8%D0%BD%D0%BD%D0%BE%D0%B5_%D0%BE%D0%B1%D1%83%D1%87%D0%B5%D0%BD%D0%B8%D0%B5_%D0%B2_%D0%B0%D0%BD%D0%B0%D0%BB%D0%B8%D0%B7%D0%B5_%D0%B3%D1%80%D0%B0%D1%84%D0%BE%D0%B2%D1%8B%D1%85_%D0%B4%D0%B0%D0%BD%D0%BD%D1%8B%D1%85_23/24\" title=\"Глубинное обучение в анализе графовых данных 23/24\"> Глубинное обучение в анализе графовых данных</a>\\n</p><p><a href=\"/index.php?title=LSML_2023/2024&amp;action=edit&amp;redlink=1\" class=\"new\" title=\"LSML 2023/2024 (страница не существует)\"> Машинное обучение для больших данных</a>\\n</p><p><b>ПМИ / РС</b>\\n</p><p><a rel=\"nofollow\" class=\"external text\" href=\"https://osukhoroslov-hse.notion.site/2-013e88a10c204059bff194f838de4ef5?pvs=4\">НИС Распределенные системы 2</a>\\n</p><p><b>ПМИ / ТИ</b>\\n</p><p><a href=\"/index.php?title=A_Theorist%27s_Toolkit_2023_2024&amp;action=edit&amp;redlink=1\" class=\"new\" title=\"A Theorist\\'s Toolkit 2023 2024 (страница не существует)\"> A Theorist\\'s Toolkit, AMI</a>\\n</p><p><a href=\"/OWF2023\" title=\"OWF2023\"> Односторонние функции и их применения</a>\\n</p><p><a href=\"/InfTheory2023\" title=\"InfTheory2023\"> Теория информации</a>\\n</p><p><a href=\"/NIS-TCS-23-24\" title=\"NIS-TCS-23-24\"> НИС Теоретическая информатика </a>\\n</p>\\n</td>\\n<td rowspan=\"7\">\\n<p><a href=\"/%D0%9C%D0%B0%D0%B9%D0%BD%D0%BE%D1%80_%D0%91%D0%B8%D0%BE%D0%B8%D0%BD%D1%84%D0%BE%D1%80%D0%BC%D0%B0%D1%82%D0%B8%D0%BA%D0%B0_1_%D0%B3%D0%BE%D0%B4_2023/24\" title=\"Майнор Биоинформатика 1 год 2023/24\">Биоинформатика 1 год 2023/24</a>\\n</p><p><a href=\"/%D0%9C%D0%B0%D0%B9%D0%BD%D0%BE%D1%80_%D0%91%D0%B8%D0%BE%D0%B8%D0%BD%D1%84%D0%BE%D1%80%D0%BC%D0%B0%D1%82%D0%B8%D0%BA%D0%B0_2_%D0%B3%D0%BE%D0%B4_2023/24\" title=\"Майнор Биоинформатика 2 год 2023/24\">Биоинформатика 2 год 2023/24</a>\\n</p><p><a href=\"/%D0%9E%D1%81%D0%BD%D0%BE%D0%B2%D1%8B_%D0%B3%D0%BB%D1%83%D0%B1%D0%B8%D0%BD%D0%BD%D0%BE%D0%B3%D0%BE_%D0%BE%D0%B1%D1%83%D1%87%D0%B5%D0%BD%D0%B8%D1%8F/2023\" title=\"Основы глубинного обучения/2023\"> Основы глубинного обучения (майнор ИАД)</a>\\n</p><p><a href=\"/%D0%93%D0%B5%D0%BD%D0%B5%D1%80%D0%B0%D1%82%D0%B8%D0%B2%D0%BD%D1%8B%D0%B5_%D0%BC%D0%BE%D0%B4%D0%B5%D0%BB%D0%B8_%D0%BD%D0%B0_%D0%BE%D1%81%D0%BD%D0%BE%D0%B2%D0%B5_ODE_%D0%B8_SDE\" title=\"Генеративные модели на основе ODE и SDE\"> Генеративные модели на основе ODE и SDE</a>\\n</p><p><a href=\"/%D0%92%D0%B2%D0%B5%D0%B4%D0%B5%D0%BD%D0%B8%D0%B5_%D0%B2_%D0%BF%D1%80%D0%BE%D0%B3%D1%80%D0%B0%D0%BC%D0%BC%D0%B8%D1%80%D0%BE%D0%B2%D0%B0%D0%BD%D0%B8%D0%B5_23/24\" title=\"Введение в программирование 23/24\"> Введение в программирование 23/24. Python (майнор ИАД)</a>\\n</p>\\n</td></tr>\\n<tr>\\n<td colspan=\"4\" style=\"text-align: center;\"> <b>ПИ</b>\\n</td></tr>\\n<tr>\\n<td>\\n<p><a href=\"/%D0%94%D0%B8%D1%81%D0%BA%D1%80%D0%B5%D1%82%D0%BD%D0%B0%D1%8F_%D0%BC%D0%B0%D1%82%D0%B5%D0%BC%D0%B0%D1%82%D0%B8%D0%BA%D0%B0_2023-2024\" title=\"Дискретная математика 2023-2024\"> Дискретная математика </a>\\n</p><p><a href=\"/%D0%90%D0%BB%D0%B3%D0%B5%D0%B1%D1%80%D0%B0_%D0%9F%D0%98_2023-2024\" title=\"Алгебра ПИ 2023-2024\"> Алгебра</a>\\n</p><p><a href=\"/%D0%9C%D0%B0%D1%82%D0%B5%D0%BC%D0%B0%D1%82%D0%B8%D1%87%D0%B5%D1%81%D0%BA%D0%B8%D0%B9_%D0%B0%D0%BD%D0%B0%D0%BB%D0%B8%D0%B7_2023-2024\" title=\"Математический анализ 2023-2024\"> Математический анализ</a>\\n</p>\\n</td>\\n<td>\\n<p><a href=\"/index.php?title=%D0%90%D0%BB%D0%B3%D0%BE%D1%80%D0%B8%D1%82%D0%BC%D1%8B_%D0%B8_%D1%81%D1%82%D1%80%D1%83%D0%BA%D1%82%D1%83%D1%80%D1%8B_%D0%B4%D0%B0%D0%BD%D0%BD%D1%8B%D1%85_%D0%BD%D0%B0_%D0%9F%D0%98_2023/2024&amp;action=edit&amp;redlink=1\" class=\"new\" title=\"Алгоритмы и структуры данных на ПИ 2023/2024 (страница не существует)\"> Алгоритмы и структуры данных на ПИ</a>\\n</p><p><a href=\"/%D0%A2%D0%B5%D0%BE%D1%80%D0%B8%D1%8F_%D0%B2%D0%B5%D1%80%D0%BE%D1%8F%D1%82%D0%BD%D0%BE%D1%81%D1%82%D0%B5%D0%B9_%D0%B8_%D0%BC%D0%B0%D1%82%D0%B5%D0%BC%D0%B0%D1%82%D0%B8%D1%87%D0%B5%D1%81%D0%BA%D0%B0%D1%8F_%D1%81%D1%82%D0%B0%D1%82%D0%B8%D1%81%D1%82%D0%B8%D0%BA%D0%B0_2023-2024\" title=\"Теория вероятностей и математическая статистика 2023-2024\"> Теория вероятностей и математическая статистика</a>\\n</p><p><a href=\"/%D0%9D%D0%98%D0%A1_%D0%9C%D0%B5%D1%82%D0%BE%D0%B4%D1%8B_%D0%B8_%D0%B0%D0%BB%D0%B3%D0%BE%D1%80%D0%B8%D1%82%D0%BC%D1%8B_%D0%B7%D0%B0%D1%89%D0%B8%D1%82%D1%8B_%D0%B8%D0%BD%D1%84%D0%BE%D1%80%D0%BC%D0%B0%D1%86%D0%B8%D0%B8_2023/2024\" title=\"НИС Методы и алгоритмы защиты информации 2023/2024\"> НИС Методы и алгоритмы защиты информации </a>\\n</p>\\n</td>\\n<td>\\n<p><a href=\"/index.php?title=SPA_2023/24&amp;action=edit&amp;redlink=1\" class=\"new\" title=\"SPA 2023/24 (страница не существует)\">Принципы статического анализа исходного кода </a>\\n</p>\\n</td></tr>\\n<tr>\\n<td colspan=\"4\" style=\"text-align: center;\"> <b>ПАД</b>\\n</td></tr>\\n<tr>\\n<td>\\n<p><a href=\"/index.php?title=DSBA_Algebra_2023_2024&amp;action=edit&amp;redlink=1\" class=\"new\" title=\"DSBA Algebra 2023 2024 (страница не существует)\"> Algebra (DSBA)</a>\\n</p><p><a href=\"/Calculus_DSBA_2023/2024\" title=\"Calculus DSBA 2023/2024\"> Calculus (DSBA)</a>\\n</p><p><a href=\"/English_DSBA_2023/2024\" title=\"English DSBA 2023/2024\"> English (DSBA)</a>\\n</p><p><a href=\"/LAaG_DSBA_2023/2024\" title=\"LAaG DSBA 2023/2024\"> LAaG (DSBA)</a>\\n</p><p><a href=\"/Discrete_Mathematics_DSBA_2023/2024\" title=\"Discrete Mathematics DSBA 2023/2024\"> Discrete Mathematics (DSBA)</a>\\n</p><p><a href=\"/Python_Programming_DSBA_2023/24\" title=\"Python Programming DSBA 2023/24\"> Python Programming (DSBA)</a>\\n</p><p><a href=\"/index.php?title=C%2B%2B_Programming_Language_DSBA_2023/24&amp;action=edit&amp;redlink=1\" class=\"new\" title=\"C++ Programming Language DSBA 2023/24 (страница не существует)\"> C++ Programming Language (DSBA)</a>\\n</p><p><a href=\"/Law_DSBA_2023/24\" title=\"Law DSBA 2023/24\"> Law DSBA 2023/24</a>\\n</p><p><a href=\"/index.php?title=Introduction_to_Economics_DSBA_2023/24&amp;action=edit&amp;redlink=1\" class=\"new\" title=\"Introduction to Economics DSBA 2023/24 (страница не существует)\"> Introduction to Economics DSBA 2023/24</a>\\n</p><p><br />\\n</p>\\n</td>\\n<td>\\n<p><a href=\"/Discrete_Mathematics_2_DSBA_2023/24\" title=\"Discrete Mathematics 2 DSBA 2023/24\"> Discrete Mathematics 2 (DSBA)</a>\\n</p><p><a href=\"/Business_and_Management_in_Global_Context_23/24\" title=\"Business and Management in Global Context 23/24\"> Business and Management in Global Context 23/24</a>\\n</p><p><a href=\"/Calculus-2_2023/24\" title=\"Calculus-2 2023/24\">Calculus-2 2023/24</a>\\n</p><p><a href=\"/Algorithms_and_Data_Structures_DSBA_2023/24\" title=\"Algorithms and Data Structures DSBA 2023/24\"> Algorithms and Data Structures</a>\\n</p><p><a href=\"/index.php?title=Probability_and_Statistics_(DSBA)_2023/24&amp;action=edit&amp;redlink=1\" class=\"new\" title=\"Probability and Statistics (DSBA) 2023/24 (страница не существует)\">Probability and Statistics (DSBA) 2023/24</a>\\n</p><p><a href=\"/Introduction_to_Micro_and_Macroeconomics_DSBA_2022/2023\" title=\"Introduction to Micro and Macroeconomics DSBA 2022/2023\">Introduction to Micro and Macroeconomics DSBA 2022/2023</a>\\n</p><p><a href=\"/index.php?title=Differential_Equations_2023/24&amp;action=edit&amp;redlink=1\" class=\"new\" title=\"Differential Equations 2023/24 (страница не существует)\">Differential Equations 2023/24</a>\\n</p><p><a href=\"/index.php?title=ACOS_DSBA_2023/24&amp;action=edit&amp;redlink=1\" class=\"new\" title=\"ACOS DSBA 2023/24 (страница не существует)\"> Computer Architecture and Operating Systems</a>\\n</p>\\n</td>\\n<td>\\n<p><a href=\"/Tssp-2023-24\" title=\"Tssp-2023-24\"> Time series and stochastic processes 2023-24</a>\\n</p><p><a href=\"/Elements_of_Econometrics\" title=\"Elements of Econometrics\"> Elements of Econometrics</a>\\n</p><p><a href=\"/index.php?title=BAFE-2023-24&amp;action=edit&amp;redlink=1\" class=\"new\" title=\"BAFE-2023-24 (страница не существует)\"> Business Analytics and Financial Engineering 2023-2024</a>\\n</p><p><a href=\"/Machine_learning_1_DSBA_2023/2024\" title=\"Machine learning 1 DSBA 2023/2024\">Machine learning 1 DSBA 2023/2024</a>\\n</p><p><a href=\"/index.php?title=Databases_2023/24&amp;action=edit&amp;redlink=1\" class=\"new\" title=\"Databases 2023/24 (страница не существует)\">Databases 2023/24</a>\\n</p><p><a href=\"/Optimisation_methods_2023/24\" title=\"Optimisation methods 2023/24\">Optimisation methods 2023/24</a>\\n</p><p><a href=\"/index.php?title=MACE1_DSBA_23-24&amp;action=edit&amp;redlink=1\" class=\"new\" title=\"MACE1 DSBA 23-24 (страница не существует)\"> Research Seminar \"Mathematical and Computational Engineering in Science and Business 1\"</a>\\n</p><p><a href=\"/index.php?title=DAF1_DSBA_23-24&amp;action=edit&amp;redlink=1\" class=\"new\" title=\"DAF1 DSBA 23-24 (страница не существует)\"> Research Seminar \"Data Analysis in Finance 1\"</a>\\n</p><p><a href=\"/Financial_Engineering_2023-2024\" title=\"Financial Engineering 2023-2024\">Financial Engineering 2023-2024</a>\\n</p><p><a href=\"/Sociology_of_financial_behaviour_DSBA_2023/24\" title=\"Sociology of financial behaviour DSBA 2023/24\">Sociology of financial behaviour DSBA 2023/24</a>\\n</p><p><a href=\"/Financial_Economics_DSBA_2023/24\" title=\"Financial Economics DSBA 2023/24\">Financial Economics DSBA 2023/24</a>\\n</p>\\n</td>\\n<td>\\n<p><a href=\"/Philosophy_of_artificial_intelligence_DSBA_2023/24\" title=\"Philosophy of artificial intelligence DSBA 2023/24\">Philosophy of artificial intelligence DSBA 2023/24</a>\\n</p><p><a href=\"/Introduction_to_the_Study_of_Language_for_Computer_Scientists\" title=\"Introduction to the Study of Language for Computer Scientists\">Introduction to the Study of Language for Computer Scientists</a>\\n</p><p><a href=\"/index.php?title=Statistics4MR-2023-24&amp;action=edit&amp;redlink=1\" class=\"new\" title=\"Statistics4MR-2023-24 (страница не существует)\"> Statistics for Market Research 2023-24</a>\\n</p><p><a href=\"/index.php?title=Strategy_23-24_DSBA&amp;action=edit&amp;redlink=1\" class=\"new\" title=\"Strategy 23-24 DSBA (страница не существует)\"> Decision Making Strategy 2023-2024</a>\\n</p><p><a href=\"/APFM_23-24\" title=\"APFM 23-24\"> Asset Pricing and Financial Markets 2023-2024</a>\\n</p><p><a href=\"/index.php?title=CMC_DSBA_23-24&amp;action=edit&amp;redlink=1\" class=\"new\" title=\"CMC DSBA 23-24 (страница не существует)\"> Core management concepts </a>\\n</p><p><a href=\"/index.php?title=Machine_learning_2_DSBA_2023/2024&amp;action=edit&amp;redlink=1\" class=\"new\" title=\"Machine learning 2 DSBA 2023/2024 (страница не существует)\">Machine learning 2 DSBA 2023/2024</a>\\n</p><p><a href=\"/index.php?title=MACE2_DSBA_23-24&amp;action=edit&amp;redlink=1\" class=\"new\" title=\"MACE2 DSBA 23-24 (страница не существует)\"> Research Seminar \"Mathematical and Computational Engineering in Science and Business 2\"</a>\\n</p><p><a href=\"/index.php?title=DAF2_DSBA_23-24&amp;action=edit&amp;redlink=1\" class=\"new\" title=\"DAF2 DSBA 23-24 (страница не существует)\"> Research Seminar \"Data Analysis in Finance 2\"</a>\\n</p><p><a href=\"/index.php?title=DANS_DSBA_23-24&amp;action=edit&amp;redlink=1\" class=\"new\" title=\"DANS DSBA 23-24 (страница не существует)\"> Research Seminar \"Data Analysis in the Natural Sciences\" </a>\\n</p><p><a href=\"/index.php?title=Risk-Management_DSBA_23-24&amp;action=edit&amp;redlink=1\" class=\"new\" title=\"Risk-Management DSBA 23-24 (страница не существует)\"> Research Seminar \"Risk-Management\" </a>\\n</p><p><a href=\"/index.php?title=Quantitative_finance_DSBA_2023/24&amp;action=edit&amp;redlink=1\" class=\"new\" title=\"Quantitative finance DSBA 2023/24 (страница не существует)\">Quantitative finance DSBA 2023/24</a>\\n</p><p><a href=\"/Agile_Basics:_Product_Management_and_Teamwork\" title=\"Agile Basics: Product Management and Teamwork\"> Agile Basics: Product Management and Teamwork </a>\\n</p><p><br />\\n</p>\\n</td></tr>\\n<tr>\\n<td colspan=\"4\" style=\"text-align: center;\"> <b>КНАД</b>\\n</td></tr>\\n<tr>\\n<td>\\n<p><a href=\"/%D0%94%D0%B8%D1%81%D0%BA%D1%80%D0%B5%D1%82%D0%BD%D0%B0%D1%8F_%D0%BC%D0%B0%D1%82%D0%B5%D0%BC%D0%B0%D1%82%D0%B8%D0%BA%D0%B0_%D0%9A%D0%9D%D0%90%D0%94_23/24\" title=\"Дискретная математика КНАД 23/24\">Дискретная математика КНАД 23/24</a>\\n</p><p><a href=\"/%D0%9C%D0%B0%D1%82%D0%B5%D0%BC%D0%B0%D1%82%D0%B8%D1%87%D0%B5%D1%81%D0%BA%D0%B8%D0%B9_%D0%B0%D0%BD%D0%B0%D0%BB%D0%B8%D0%B7_%D0%9A%D0%9D%D0%90%D0%94_23/24\" title=\"Математический анализ КНАД 23/24\">Математический анализ КНАД 23/24</a>\\n</p><p><a href=\"/%D0%9B%D0%B8%D0%BD%D0%B5%D0%B9%D0%BD%D0%B0%D1%8F_%D0%B0%D0%BB%D0%B3%D0%B5%D0%B1%D1%80%D0%B0_%D0%9A%D0%9D%D0%90%D0%94_23/24\" title=\"Линейная алгебра КНАД 23/24\">Линейная алгебра КНАД 23/24</a>\\n</p><p><a href=\"/%D0%9F%D1%80%D0%BE%D0%B3%D1%80%D0%B0%D0%BC%D0%BC%D0%B8%D1%80%D0%BE%D0%B2%D0%B0%D0%BD%D0%B8%D0%B5_%D0%BD%D0%B0_Python_%D0%9A%D0%9D%D0%90%D0%94_23/24\" title=\"Программирование на Python КНАД 23/24\">Программирование на Python КНАД 23/24</a>\\n</p><p><a href=\"/index.php?title=%D0%90%D0%BB%D0%B3%D0%BE%D1%80%D0%B8%D1%82%D0%BC%D1%8B_%D0%B8_%D1%81%D1%82%D1%80%D1%83%D0%BA%D1%82%D1%83%D1%80%D1%8B_%D0%B4%D0%B0%D0%BD%D0%BD%D1%8B%D1%85_-_1_2023/2024_2_%D0%BC%D0%BE%D0%B4%D1%83%D0%BB%D1%8C_(%D0%AD%D0%90%D0%94_%D0%9A%D0%9D%D0%90%D0%94_%D0%92%D0%A1%D0%9D)&amp;action=edit&amp;redlink=1\" class=\"new\" title=\"Алгоритмы и структуры данных - 1 2023/2024 2 модуль (ЭАД КНАД ВСН) (страница не существует)\">Алгоритмы и структуры данных - 1 2023/2024 2 модуль (ЭАД КНАД ВСН)</a>\\n</p><p><a href=\"/index.php?title=%D0%90%D0%BB%D0%B3%D0%BE%D1%80%D0%B8%D1%82%D0%BC%D1%8B_%D0%B8_%D1%81%D1%82%D1%80%D1%83%D0%BA%D1%82%D1%83%D1%80%D1%8B_%D0%B4%D0%B0%D0%BD%D0%BD%D1%8B%D1%85_-_1_2023/2024_4_%D0%BC%D0%BE%D0%B4%D1%83%D0%BB%D1%8C_(%D0%AD%D0%90%D0%94_%D0%9A%D0%9D%D0%90%D0%94_%D0%92%D0%A1%D0%9D)&amp;action=edit&amp;redlink=1\" class=\"new\" title=\"Алгоритмы и структуры данных - 1 2023/2024 4 модуль (ЭАД КНАД ВСН) (страница не существует)\">Алгоритмы и структуры данных - 1 2023/2024 4 модуль (ЭАД КНАД ВСН)</a>\\n</p><p><a href=\"/Python_%D0%B4%D0%BB%D1%8F_%D1%81%D0%B1%D0%BE%D1%80%D0%B0_%D0%B8_%D0%B0%D0%BD%D0%B0%D0%BB%D0%B8%D0%B7%D0%B0_%D0%B4%D0%B0%D0%BD%D0%BD%D1%8B%D1%85_%D0%9A%D0%9D%D0%90%D0%94_23/24\" title=\"Python для сбора и анализа данных КНАД 23/24\">Python для сбора и анализа данных КНАД 23/24</a>\\n</p><p><a href=\"/index.php?title=%D0%9F%D1%80%D0%BE%D0%B3%D1%80%D0%B0%D0%BC%D0%BC%D0%B8%D1%80%D0%BE%D0%B2%D0%B0%D0%BD%D0%B8%D0%B5_%D0%BD%D0%B0_%D0%A1%2B%2B_%D0%9A%D0%9D%D0%90%D0%94_23/24&amp;action=edit&amp;redlink=1\" class=\"new\" title=\"Программирование на С++ КНАД 23/24 (страница не существует)\">Программирование на С++ КНАД 23/24</a>\\n</p><p><a href=\"/index.php?title=%D0%98%D0%9F%D0%A0_%D0%9A%D0%9D%D0%90%D0%94_23/24&amp;action=edit&amp;redlink=1\" class=\"new\" title=\"ИПР КНАД 23/24 (страница не существует)\"> Инструменты промышленной разработки</a>\\n</p>\\n</td>\\n<td>\\n<p><a href=\"/%D0%90%D0%BB%D0%B3%D0%B5%D0%B1%D1%80%D0%B0_%D0%9A%D0%9D%D0%90%D0%94_2023/2024\" title=\"Алгебра КНАД 2023/2024\"> Алгебра</a>\\n</p><p><a href=\"/%D0%9C%D0%B0%D1%82%D0%B5%D0%BC%D0%B0%D1%82%D0%B8%D1%87%D0%B5%D1%81%D0%BA%D0%B8%D0%B9_%D0%B0%D0%BD%D0%B0%D0%BB%D0%B8%D0%B7_--_2_(2023/24)\" title=\"Математический анализ -- 2 (2023/24)\"> Математический анализ -- 2</a>\\n</p><p><a href=\"/%D0%90%D0%BB%D0%B3%D0%BE%D1%80%D0%B8%D1%82%D0%BC%D1%8B_%D0%B8_%D1%81%D1%82%D1%80%D1%83%D0%BA%D1%82%D1%83%D1%80%D1%8B_%D0%B4%D0%B0%D0%BD%D0%BD%D1%8B%D1%85_2_%D0%9A%D0%9D%D0%90%D0%94_23/24\" title=\"Алгоритмы и структуры данных 2 КНАД 23/24\"> Алгоритмы и структуры данных 2</a>\\n</p><p><a href=\"/%D0%A2%D0%B5%D0%BE%D1%80%D0%B8%D1%8F_%D0%B2%D0%B5%D1%80%D0%BE%D1%8F%D1%82%D0%BD%D0%BE%D1%81%D1%82%D0%B5%D0%B9_%D0%9A%D0%9D%D0%90%D0%94_23/24\" title=\"Теория вероятностей КНАД 23/24\"> Теория вероятностей </a>\\n</p><p><a href=\"/index.php?title=ACOS_COMPDS_2023/2024&amp;action=edit&amp;redlink=1\" class=\"new\" title=\"ACOS COMPDS 2023/2024 (страница не существует)\"> Архитектура Компьютера и Операционные Системы</a>\\n</p><p><a href=\"/index.php?title=%D0%9C%D0%B0%D1%82%D0%B5%D0%BC%D0%B0%D1%82%D0%B8%D1%87%D0%B5%D1%81%D0%BA%D0%B0%D1%8F_%D1%81%D1%82%D0%B0%D1%82%D0%B8%D1%81%D1%82%D0%B8%D0%BA%D0%B0_%D0%9A%D0%9D%D0%90%D0%94_23/24&amp;action=edit&amp;redlink=1\" class=\"new\" title=\"Математическая статистика КНАД 23/24 (страница не существует)\"> Математическая статистика</a>\\n</p><p><a href=\"/index.php?title=%D0%A7%D0%B8%D1%81%D0%BB%D0%B5%D0%BD%D0%BD%D1%8B%D0%B5_%D0%BC%D0%B5%D1%82%D0%BE%D0%B4%D1%8B_%D0%9A%D0%9D%D0%90%D0%94_23/24&amp;action=edit&amp;redlink=1\" class=\"new\" title=\"Численные методы КНАД 23/24 (страница не существует)\"> Численные методы</a>\\n</p>\\n</td>\\n<td>\\n<p><br />\\n</p>\\n</td>\\n<td>\\n</td></tr></table>\\n<h2><span class=\"mw-headline\" id=\".D0.9A.D1.83.D1.80.D1.81.D1.8B_.D0.B2_.D1.80.D0.B0.D0.BC.D0.BA.D0.B0.D1.85_.D0.BF.D1.80.D0.BE.D0.B5.D0.BA.D1.82.D0.B0_Data_Culture\">Курсы в рамках проекта <a rel=\"nofollow\" class=\"external text\" href=\"https://www.hse.ru/dataculture/\">Data Culture</a></span></h2>\\n<table class=\"wikitable\">\\n\\n<tr>\\n<th> Осенний семестр </th>\\n<th> Весенний семестр\\n</th></tr>\\n<tr>\\n<td>\\n<p><a href=\"/%D0%9E%D1%81%D0%BD%D0%BE%D0%B2%D1%8B_Python_%D0%B4%D0%BB%D1%8F_%D1%8E%D1%80%D0%B8%D1%81%D1%82%D0%BE%D0%B2_2023-24\" title=\"Основы Python для юристов 2023-24\">Основы Python для юристов 23/24</a> (2 курс, 1 модуль)\\n</p><p><a href=\"/%D0%A6%D0%B8%D1%84%D1%80%D0%BE%D0%B2%D0%B0%D1%8F_%D0%B3%D1%80%D0%B0%D0%BC%D0%BE%D1%82%D0%BD%D0%BE%D1%81%D1%82%D1%8C_(2023)_%D0%96%D1%83%D1%80%D0%BD%D0%B0%D0%BB%D0%B8%D1%81%D1%82%D0%B8%D0%BA%D0%B0\" title=\"Цифровая грамотность (2023) Журналистика\">Цифровая грамотность для журналистов</a> (1 курс, 1-2 модуль)\\n</p><p><a href=\"/%D0%A6%D0%B8%D1%84%D1%80%D0%BE%D0%B2%D0%B0%D1%8F_%D0%B3%D1%80%D0%B0%D0%BC%D0%BE%D1%82%D0%BD%D0%BE%D1%81%D1%82%D1%8C_(2023)_%D0%9C%D0%B5%D0%B4%D0%B8%D0%B0%D0%BA%D0%BE%D0%BC%D0%BC%D1%83%D0%BD%D0%B8%D0%BA%D0%B0%D1%86%D0%B8%D0%B8\" title=\"Цифровая грамотность (2023) Медиакоммуникации\">Цифровая грамотность для медиакоммуникаций</a> (1 курс, 1-2 модуль)\\n</p>\\n</td>\\n<td>\\n</td></tr></table>\\n<h2><span class=\"mw-headline\" id=\".D0.9A.D1.83.D1.80.D1.81.D1.8B_.D0.BC.D0.B0.D0.B3.D0.B8.D1.81.D1.82.D1.80.D0.B0.D1.82.D1.83.D1.80.D1.8B_.D0.A4.D0.9A.D0.9D\">Курсы магистратуры ФКН</span></h2>\\n<table class=\"wikitable\">\\n\\n<tr>\\n<td> <a href=\"/NIS-TCS-23-24\" title=\"NIS-TCS-23-24\"> НИС Теоретическая информатика </a> </td>\\n<td> СКН\\n</td></tr>\\n<tr>\\n<td> <a href=\"/RecSys_2023\" title=\"RecSys 2023\"> Рекомендательные системы</a> </td>\\n<td> ФТИАД </td>\\n<td> 2 year\\n</td></tr>\\n<tr>\\n<td> <a href=\"/MOTV_2023\" title=\"MOTV 2023\"> Mathematical foundations of probability theory</a> </td>\\n<td> Math of Machine Learning, MML </td>\\n<td> 1 year\\n</td></tr>\\n</table>\\n<h2><span class=\"mw-headline\" id=\".D0.9A.D1.83.D1.80.D1.81.D1.8B_.D0.B4.D1.80.D1.83.D0.B3.D0.B8.D1.85_.D1.84.D0.B0.D0.BA.D1.83.D0.BB.D1.8C.D1.82.D0.B5.D1.82.D0.BE.D0.B2\">Курсы других факультетов</span></h2>\\n<table class=\"wikitable\">\\n\\n<tr>\\n<th> Дисциплина </th>\\n<th> Курс </th>\\n<th> Период\\n</th></tr>\\n<tr>\\n<td> <a href=\"/Econ_metrics_2023-24\" title=\"Econ metrics 2023-24\">Эконометрика ип 2023-24</a> </td>\\n<td> фэн, 3 курс </td>\\n<td> 1-4 модуль\\n</td></tr>\\n<tr>\\n<td> <a href=\"/Econ_probability_2023-24\" title=\"Econ probability 2023-24\">Теория вероятностей и математическая статистика 2023-24</a> </td>\\n<td> фэн, 2 курс </td>\\n<td> 1-4 модуль\\n</td></tr>\\n<tr>\\n<td> <a href=\"/Dse_2023-24\" title=\"Dse 2023-24\">Data Science for Economists, fall 2023</a> </td>\\n<td> icef, 3-4 year </td>\\n<td> 1-2 modules\\n</td></tr>\\n<tr>\\n<td>\\n</td></tr></table>\\n<h2><span class=\"mw-headline\" id=\".D0.A4.D0.B0.D0.BA.D1.83.D0.BB.D1.8C.D1.82.D0.B0.D1.82.D0.B8.D0.B2.D1.8B\">Факультативы</span></h2>\\n<table class=\"wikitable\">\\n\\n<tr>\\n<th> Дисциплина </th>\\n<th> Период\\n</th></tr>\\n<tr>\\n<td> <a href=\"/%D0%AD%D0%BB%D0%BB%D0%B8%D0%BF%D1%82%D0%B8%D1%87%D0%B5%D1%81%D0%BA%D0%B8%D0%B5_%D1%84%D1%83%D0%BD%D0%BA%D1%86%D0%B8%D0%B8_23/24\" title=\"Эллиптические функции 23/24\">Эллиптические функции</a> </td>\\n<td> 1-2 модуль\\n</td></tr>\\n</table>\\n<h1><span class=\"mw-headline\" id=\".D0.90.D1.80.D1.85.D0.B8.D0.B2\">Архив</span></h1>\\n<h2><span class=\"mw-headline\" id=\".D0.9A.D1.83.D1.80.D1.81.D1.8B_.D0.B7.D0.B0_2022.2F23_.D1.83.D1.87.D0.B5.D0.B1.D0.BD.D1.8B.D0.B9_.D0.B3.D0.BE.D0.B4\">Курсы за 2022/23 учебный год</span></h2>\\n<table class=\"wikitable courses\">\\n\\n\\n<tr>\\n<th width=\"21%\"> 1 курс </th>\\n<th width=\"21%\"> 2 курс </th>\\n<th width=\"21%\"> 3 курс </th>\\n<th width=\"21%\"> 4 курс  </th>\\n<th rowspan=\"2\"> майноры и факультативы\\n</th></tr>\\n<tr>\\n<td colspan=\"4\" style=\"text-align: center;\"> <b>ПМИ</b>\\n</td></tr>\\n<tr>\\n<td>\\n<p><a href=\"/%D0%9B%D0%B8%D0%BD%D0%B5%D0%B9%D0%BD%D0%B0%D1%8F_%D0%B0%D0%BB%D0%B3%D0%B5%D0%B1%D1%80%D0%B0_%D0%B8_%D0%B3%D0%B5%D0%BE%D0%BC%D0%B5%D1%82%D1%80%D0%B8%D1%8F_%D0%BD%D0%B0_%D0%9F%D0%9C%D0%98_2022/2023_(%D0%BF%D0%B8%D0%BB%D0%BE%D1%82%D0%BD%D1%8B%D0%B9_%D0%BF%D0%BE%D1%82%D0%BE%D0%BA)\" title=\"Линейная алгебра и геометрия на ПМИ 2022/2023 (пилотный поток)\"> Линейная алгебра и геометрия (пилотный поток)</a>\\n</p><p><a href=\"/%D0%9B%D0%B8%D0%BD%D0%B5%D0%B9%D0%BD%D0%B0%D1%8F_%D0%B0%D0%BB%D0%B3%D0%B5%D0%B1%D1%80%D0%B0_%D0%B8_%D0%B3%D0%B5%D0%BE%D0%BC%D0%B5%D1%82%D1%80%D0%B8%D1%8F_%D0%BD%D0%B0_%D0%9F%D0%9C%D0%98_2022/2023_(%D0%BE%D1%81%D0%BD%D0%BE%D0%B2%D0%BD%D0%BE%D0%B9_%D0%BF%D0%BE%D1%82%D0%BE%D0%BA)\" title=\"Линейная алгебра и геометрия на ПМИ 2022/2023 (основной поток)\"> Линейная алгебра и геометрия (основной поток)</a>\\n</p><p><a href=\"/%D0%90%D0%BB%D0%B3%D0%B5%D0%B1%D1%80%D0%B0_%D0%BD%D0%B0_%D0%9F%D0%9C%D0%98_2022/2023_(%D0%BF%D0%B8%D0%BB%D0%BE%D1%82%D0%BD%D1%8B%D0%B9_%D0%BF%D0%BE%D1%82%D0%BE%D0%BA)\" title=\"Алгебра на ПМИ 2022/2023 (пилотный поток)\"> Алгебра (пилотный поток)</a>\\n</p><p><a href=\"/%D0%90%D0%BB%D0%B3%D0%B5%D0%B1%D1%80%D0%B0_%D0%BD%D0%B0_%D0%9F%D0%9C%D0%98_2022/2023_(%D0%BE%D1%81%D0%BD%D0%BE%D0%B2%D0%BD%D0%BE%D0%B9_%D0%BF%D0%BE%D1%82%D0%BE%D0%BA)\" title=\"Алгебра на ПМИ 2022/2023 (основной поток)\"> Алгебра (основной поток)</a>\\n</p><p><a href=\"/%D0%9C%D0%B0%D1%82%D0%B5%D0%BC%D0%B0%D1%82%D0%B8%D1%87%D0%B5%D1%81%D0%BA%D0%B8%D0%B9_%D0%B0%D0%BD%D0%B0%D0%BB%D0%B8%D0%B7_1_2022/2023_(%D0%BE%D1%81%D0%BD%D0%BE%D0%B2%D0%BD%D0%BE%D0%B9_%D0%BF%D0%BE%D1%82%D0%BE%D0%BA)\" title=\"Математический анализ 1 2022/2023 (основной поток)\"> Математический анализ-1 (основной поток)</a>\\n</p><p><a href=\"/%D0%9C%D0%B0%D1%82%D0%B5%D0%BC%D0%B0%D1%82%D0%B8%D1%87%D0%B5%D1%81%D0%BA%D0%B8%D0%B9_%D0%B0%D0%BD%D0%B0%D0%BB%D0%B8%D0%B7_1_2022/2023_(%D0%BF%D0%B8%D0%BB%D0%BE%D1%82%D0%BD%D1%8B%D0%B9_%D0%BF%D0%BE%D1%82%D0%BE%D0%BA)\" title=\"Математический анализ 1 2022/2023 (пилотный поток)\"> Математический анализ-1 (пилотный поток)</a>\\n</p><p><a href=\"/DM1base-2022-23\" title=\"DM1base-2022-23\"> Дискретная математика (ПМИ основной поток + ЭАД)</a>\\n</p><p><a href=\"/%D0%94%D0%B8%D1%81%D0%BA%D1%80%D0%B5%D1%82%D0%BD%D0%B0%D1%8F_%D0%BC%D0%B0%D1%82%D0%B5%D0%BC%D0%B0%D1%82%D0%B8%D0%BA%D0%B0_%D0%BD%D0%B0_%D0%9F%D0%9C%D0%98_2022/23_(%D0%BF%D0%B8%D0%BB%D0%BE%D1%82%D0%BD%D1%8B%D0%B9_%D0%BF%D0%BE%D1%82%D0%BE%D0%BA)\" title=\"Дискретная математика на ПМИ 2022/23 (пилотный поток)\">Дискретная математика на ПМИ 2022/23 (пилотный поток)</a>\\n</p><p><a href=\"/%D0%AF%D0%B7%D1%8B%D0%BA_%D0%BF%D1%80%D0%BE%D0%B3%D1%80%D0%B0%D0%BC%D0%BC%D0%B8%D1%80%D0%BE%D0%B2%D0%B0%D0%BD%D0%B8%D1%8F_Python_2022/2023_(%D0%BE%D1%81%D0%BD%D0%BE%D0%B2%D0%BD%D0%BE%D0%B9_%D0%BF%D0%BE%D1%82%D0%BE%D0%BA)\" title=\"Язык программирования Python 2022/2023 (основной поток)\">Язык программирования Python 2022/2023 (основной поток) </a>\\n</p><p><a href=\"/%D0%90%D0%BB%D0%B3%D0%BE%D1%80%D0%B8%D1%82%D0%BC%D1%8B_%D0%B8_%D1%81%D1%82%D1%80%D1%83%D0%BA%D1%82%D1%83%D1%80%D1%8B_%D0%B4%D0%B0%D0%BD%D0%BD%D1%8B%D1%85_%D0%BF%D0%B8%D0%BB%D0%BE%D1%82%D0%BD%D1%8B%D0%B9_%D0%BF%D0%BE%D1%82%D0%BE%D0%BA_2022/2023\" title=\"Алгоритмы и структуры данных пилотный поток 2022/2023\"> Алгоритмы и структуры данных (пилотный поток)</a>\\n</p><p><a href=\"/%D0%A2%D0%B5%D0%BE%D1%80%D0%B8%D1%8F_%D1%87%D0%B8%D1%81%D0%B5%D0%BB_(%D0%BF%D0%B8%D0%BB%D0%BE%D1%82%D0%BD%D1%8B%D0%B9_%D0%BF%D0%BE%D1%82%D0%BE%D0%BA)_2022/23\" title=\"Теория чисел (пилотный поток) 2022/23\"> Теория чисел (пилотный поток)</a>\\n</p><p><a href=\"/%D0%A2%D0%B5%D0%BE%D1%80%D0%B8%D1%8F_%D1%87%D0%B8%D1%81%D0%B5%D0%BB_(%D0%BE%D1%81%D0%BD%D0%BE%D0%B2%D0%BD%D0%BE%D0%B9_%D0%BF%D0%BE%D1%82%D0%BE%D0%BA)_2022/23\" title=\"Теория чисел (основной поток) 2022/23\"> Теория чисел (основной поток)</a>\\n</p><p><a href=\"/%D0%90%D0%BB%D0%B3%D0%BE%D1%80%D0%B8%D1%82%D0%BC%D1%8B_%D0%B8_%D1%81%D1%82%D1%80%D1%83%D0%BA%D1%82%D1%83%D1%80%D1%8B_%D0%B4%D0%B0%D0%BD%D0%BD%D1%8B%D1%85_1_(%D0%BE%D1%81%D0%BD%D0%BE%D0%B2%D0%BD%D0%BE%D0%B9_%D0%BF%D0%BE%D1%82%D0%BE%D0%BA)_(4_%D0%BC%D0%BE%D0%B4%D1%83%D0%BB%D1%8C)\" title=\"Алгоритмы и структуры данных 1 (основной поток) (4 модуль)\"> Алгоритмы и структуры данных 1 (основной поток) (4 модуль) 2022/2023</a>\\n</p>\\n</td>\\n<td>\\n<p><a href=\"/%D0%9C%D0%B0%D1%82%D0%B5%D0%BC%D0%B0%D1%82%D0%B8%D1%87%D0%B5%D1%81%D0%BA%D0%B0%D1%8F_%D1%81%D1%82%D0%B0%D1%82%D0%B8%D1%81%D1%82%D0%B8%D0%BA%D0%B0_2022/2023_(%D0%BF%D0%B8%D0%BB%D0%BE%D1%82%D0%BD%D1%8B%D0%B9_%D0%BF%D0%BE%D1%82%D0%BE%D0%BA)\" title=\"Математическая статистика 2022/2023 (пилотный поток)\"> Математическая статистика (пилотный поток)</a>\\n</p><p><a href=\"/%D0%9C%D0%B0%D1%82%D0%B5%D0%BC%D0%B0%D1%82%D0%B8%D1%87%D0%B5%D1%81%D0%BA%D0%B0%D1%8F_%D1%81%D1%82%D0%B0%D1%82%D0%B8%D1%81%D1%82%D0%B8%D0%BA%D0%B0_2022/2023_(%D0%BE%D1%81%D0%BD%D0%BE%D0%B2%D0%BD%D0%BE%D0%B9_%D0%BF%D0%BE%D1%82%D0%BE%D0%BA)\" title=\"Математическая статистика 2022/2023 (основной поток)\"> Математическая статистика (основной поток)</a>\\n</p><p><a href=\"/%D0%A2%D0%B5%D0%BE%D1%80%D0%B8%D1%8F_%D0%B2%D0%B5%D1%80%D0%BE%D1%8F%D1%82%D0%BD%D0%BE%D1%81%D1%82%D0%B5%D0%B9_2022/2023_(%D0%BF%D0%B8%D0%BB%D0%BE%D1%82%D0%BD%D1%8B%D0%B9_%D0%BF%D0%BE%D1%82%D0%BE%D0%BA)\" title=\"Теория вероятностей 2022/2023 (пилотный поток)\"> Теория вероятностей (пилотный поток)</a>\\n</p><p><a href=\"/%D0%A2%D0%B5%D0%BE%D1%80%D0%B8%D1%8F_%D0%B2%D0%B5%D1%80%D0%BE%D1%8F%D1%82%D0%BD%D0%BE%D1%81%D1%82%D0%B5%D0%B9_2022/2023_(%D0%BE%D1%81%D0%BD%D0%BE%D0%B2%D0%BD%D0%BE%D0%B9_%D0%BF%D0%BE%D1%82%D0%BE%D0%BA)\" title=\"Теория вероятностей 2022/2023 (основной поток)\"> Теория вероятностей (основной поток)</a>\\n</p><p><a href=\"/%D0%9C%D0%B0%D1%82%D0%B5%D0%BC%D0%B0%D1%82%D0%B8%D1%87%D0%B5%D1%81%D0%BA%D0%B8%D0%B9_%D0%90%D0%BD%D0%B0%D0%BB%D0%B8%D0%B7_2_%D0%BD%D0%B0_%D0%9F%D0%9C%D0%98_2022/2023_(%D0%BF%D0%B8%D0%BB%D0%BE%D1%82%D0%BD%D1%8B%D0%B9_%D0%BF%D0%BE%D1%82%D0%BE%D0%BA)\" title=\"Математический Анализ 2 на ПМИ 2022/2023 (пилотный поток)\"> Математический анализ - 2 (пилотный поток)</a>\\n</p><p><a href=\"/%D0%9C%D0%B0%D1%82%D0%B5%D0%BC%D0%B0%D1%82%D0%B8%D1%87%D0%B5%D1%81%D0%BA%D0%B8%D0%B9_%D0%B0%D0%BD%D0%B0%D0%BB%D0%B8%D0%B7_-_2_(2022/23)\" title=\"Математический анализ - 2 (2022/23)\"> Математический анализ - 2 (основной поток)</a>\\n</p><p><a href=\"/%D0%AF%D0%B7%D1%8B%D0%BA_%D0%BF%D1%80%D0%BE%D0%B3%D1%80%D0%B0%D0%BC%D0%BC%D0%B8%D1%80%D0%BE%D0%B2%D0%B0%D0%BD%D0%B8%D1%8F_C%2B%2B_(%D1%83%D0%B3%D0%BB%D1%83%D0%B1%D0%BB%D0%B5%D0%BD%D0%BD%D1%8B%D0%B9_%D0%BA%D1%83%D1%80%D1%81)_2022\" title=\"Язык программирования C++ (углубленный курс) 2022\"> Язык программирования C++ (углубленный курс)</a>\\n</p><p><a href=\"/%D0%9C%D0%B0%D1%82%D0%B5%D0%BC%D0%B0%D1%82%D0%B8%D1%87%D0%B5%D1%81%D0%BA%D0%B0%D1%8F_%D0%BB%D0%BE%D0%B3%D0%B8%D0%BA%D0%B0_%D0%9F%D0%9C%D0%98_22/23\" title=\"Математическая логика ПМИ 22/23\"> Математическая логика </a>\\n</p><p><a href=\"/%D0%9F%D1%80%D0%BE%D0%B4%D0%B2%D0%B8%D0%BD%D1%83%D1%82%D1%8B%D0%B9_Python_2022/2023\" title=\"Продвинутый Python 2022/2023\"> Продвинутый Python </a>\\n</p><p><a href=\"/%D0%90%D0%BB%D0%B3%D0%BE%D1%80%D0%B8%D1%82%D0%BC%D1%8B_%D0%B8_%D1%81%D1%82%D1%80%D1%83%D0%BA%D1%82%D1%83%D1%80%D1%8B_%D0%B4%D0%B0%D0%BD%D0%BD%D1%8B%D1%85_2_2022/2023\" title=\"Алгоритмы и структуры данных 2 2022/2023\"> Алгоритмы и структуры данных - 2 </a>\\n</p><p><a href=\"/%D0%98%D0%BD%D1%81%D1%82%D1%80%D1%83%D0%BC%D0%B5%D0%BD%D1%82%D1%8B_%D0%BF%D1%80%D0%BE%D0%BC%D1%8B%D1%88%D0%BB%D0%B5%D0%BD%D0%BD%D0%BE%D0%B9_%D1%80%D0%B0%D0%B7%D1%80%D0%B0%D0%B1%D0%BE%D1%82%D0%BA%D0%B8_2022/2023\" title=\"Инструменты промышленной разработки 2022/2023\"> Инструменты промышленной разработки 2022/2023 </a>\\n</p><p><a href=\"/CAOS-2022\" title=\"CAOS-2022\"> Архитектура компьютеров и операционные системы</a>\\n</p><p><a href=\"/%D0%94%D0%B8%D1%84%D1%84%D0%B5%D1%80%D0%B5%D0%BD%D1%86%D0%B8%D0%B0%D0%BB%D1%8C%D0%BD%D1%8B%D0%B5_%D1%83%D1%80%D0%B0%D0%B2%D0%BD%D0%B5%D0%BD%D0%B8%D1%8F_(%D0%9F%D0%9C%D0%98)_2022/23\" title=\"Дифференциальные уравнения (ПМИ) 2022/23\">Дифференциальные уравнения (ПМИ) 2022/23</a>\\n</p><p><a href=\"/%D0%9E%D1%81%D0%BD%D0%BE%D0%B2%D1%8B_%D0%BC%D0%B0%D1%82%D1%80%D0%B8%D1%87%D0%BD%D1%8B%D1%85_%D0%B2%D1%8B%D1%87%D0%B8%D1%81%D0%BB%D0%B5%D0%BD%D0%B8%D0%B9_2022/2023\" title=\"Основы матричных вычислений 2022/2023\"> Основы матричных вычислений </a>\\n</p>\\n</td>\\n<td>\\n<p><a href=\"/%D0%9C%D0%B0%D1%88%D0%B8%D0%BD%D0%BD%D0%BE%D0%B5_%D0%BE%D0%B1%D1%83%D1%87%D0%B5%D0%BD%D0%B8%D0%B5_1/2022_2023\" title=\"Машинное обучение 1/2022 2023\"> Машинное обучение 1</a>\\n</p><p><a href=\"/%D0%9A%D0%BE%D0%BC%D0%BF%D1%8C%D1%8E%D1%82%D0%B5%D1%80%D0%BD%D1%8B%D0%B5_%D1%81%D0%B5%D1%82%D0%B8_2022/2023\" title=\"Компьютерные сети 2022/2023\"> Компьютерные сети 2022/2023</a>\\n</p><p><a href=\"/Operation_Research_and_Game_Theory\" title=\"Operation Research and Game Theory\"> Operation Research and Game Theory</a>\\n</p><p><a href=\"/Statistical_learning_theory_2022\" title=\"Statistical learning theory 2022\"> Statistical Learning Theory</a>\\n</p><p><a href=\"/%D0%A4%D1%83%D0%BD%D0%BA%D1%86%D0%B8%D0%BE%D0%BD%D0%B0%D0%BB%D1%8C%D0%BD%D0%BE%D0%B5_%D0%BF%D1%80%D0%BE%D0%B3%D1%80%D0%B0%D0%BC%D0%BC%D0%B8%D1%80%D0%BE%D0%B2%D0%B0%D0%BD%D0%B8%D0%B5_22-23\" title=\"Функциональное программирование 22-23\"> Функциональное программирование </a>\\n</p><p><a href=\"/%D0%9E%D1%81%D0%BD%D0%BE%D0%B2%D1%8B_%D1%82%D0%B5%D0%BD%D0%B7%D0%BE%D1%80%D0%BD%D1%8B%D1%85_%D0%B2%D1%8B%D1%87%D0%B8%D1%81%D0%BB%D0%B5%D0%BD%D0%B8%D0%B9_(2022/2023)\" title=\"Основы тензорных вычислений (2022/2023)\"> Основы тензорных вычислений </a>\\n</p><p><a href=\"/%D0%93%D0%BB%D1%83%D0%B1%D0%B8%D0%BD%D0%BD%D0%BE%D0%B5_%D0%BE%D0%B1%D1%83%D1%87%D0%B5%D0%BD%D0%B8%D0%B5_1_22/23\" title=\"Глубинное обучение 1 22/23\"> Введение в глубинное обучение 22/23</a>\\n</p><p><a href=\"/%D0%9C%D0%B0%D1%82%D0%B5%D0%BC%D0%B0%D1%82%D0%B8%D1%87%D0%B5%D1%81%D0%BA%D0%BE%D0%B5_%D0%BC%D0%BE%D0%B4%D0%B5%D0%BB%D0%B8%D1%80%D0%BE%D0%B2%D0%B0%D0%BD%D0%B8%D0%B5_2022\" title=\"Математическое моделирование 2022\"> Математическое моделирование 2022</a>\\n</p><p><a href=\"/Time_series_modelling_22_23\" title=\"Time series modelling 22 23\"> Моделирование временных рядов 22/23</a>\\n</p><p><a href=\"/%D0%A2%D0%B5%D0%BE%D1%80%D0%B8%D1%8F_%D1%87%D0%B8%D1%81%D0%B5%D0%BB_%D0%B8_%D0%BA%D1%80%D0%B8%D0%BF%D1%82%D0%BE%D0%B3%D1%80%D0%B0%D1%84%D0%B8%D1%8F\" title=\"Теория чисел и криптография\"> Теория чисел и криптография</a>\\n</p><p><a href=\"/%D0%9C%D0%B5%D1%82%D0%BE%D0%B4%D1%8B_%D0%BE%D0%BF%D1%82%D0%B8%D0%BC%D0%B8%D0%B7%D0%B0%D1%86%D0%B8%D0%B8_22/23\" title=\"Методы оптимизации 22/23\"> Методы оптимизации</a>\\n</p><p><a href=\"/%D0%A3%D1%80%D0%B0%D0%B2%D0%BD%D0%B5%D0%BD%D0%B8%D1%8F_%D1%81_%D1%87%D0%B0%D1%81%D1%82%D0%BD%D1%8B%D0%BC%D0%B8_%D0%BF%D1%80%D0%BE%D0%B8%D0%B7%D0%B2%D0%BE%D0%B4%D0%BD%D1%8B%D0%BC%D0%B8_(2022-2023)\" title=\"Уравнения с частными производными (2022-2023)\">Уравнения с частными производными (2022-2023)</a>\\n</p><p><b>ПМИ / МОП</b>\\n</p><p><a href=\"/%D0%9C%D0%B0%D1%88%D0%B8%D0%BD%D0%BD%D0%BE%D0%B5_%D0%BE%D0%B1%D1%83%D1%87%D0%B5%D0%BD%D0%B8%D0%B5_2\" title=\"Машинное обучение 2\"> Машинное обучение 2</a>\\n</p><p><a href=\"/%D0%9F%D1%80%D0%B8%D0%BA%D0%BB%D0%B0%D0%B4%D0%BD%D0%B0%D1%8F_%D1%81%D1%82%D0%B0%D1%82%D0%B8%D1%81%D1%82%D0%B8%D0%BA%D0%B0_%D0%B2_%D0%BC%D0%B0%D1%88%D0%B8%D0%BD%D0%BD%D0%BE%D0%BC_%D0%BE%D0%B1%D1%83%D1%87%D0%B5%D0%BD%D0%B8%D0%B8_22/23\" title=\"Прикладная статистика в машинном обучении 22/23\"> Прикладная статистика в машинном обучении 22/23</a>\\n</p><p><a href=\"/%D0%9D%D0%98%D0%A1_%D0%9C%D0%B0%D1%88%D0%B8%D0%BD%D0%BD%D0%BE%D0%B5_%D0%BE%D0%B1%D1%83%D1%87%D0%B5%D0%BD%D0%B8%D0%B5_%D0%B8_%D0%BF%D1%80%D0%B8%D0%BB%D0%BE%D0%B6%D0%B5%D0%BD%D0%B8%D1%8F_3_%D0%BA%D1%83%D1%80%D1%81_2022/2023\" title=\"НИС Машинное обучение и приложения 3 курс 2022/2023\"> НИС Машинное обучение и приложения 3 курс</a>\\n</p><p><a href=\"/%D0%93%D0%BB%D1%83%D0%B1%D0%B8%D0%BD%D0%BD%D0%BE%D0%B5_%D0%BE%D0%B1%D1%83%D1%87%D0%B5%D0%BD%D0%B8%D0%B5_1_22/23\" title=\"Глубинное обучение 1 22/23\"> Глубинное обучение 1 22/23</a>\\n</p><p><a href=\"/%D0%9C%D0%B5%D1%82%D0%BE%D0%B4%D1%8B_%D0%BE%D0%BF%D1%82%D0%B8%D0%BC%D0%B8%D0%B7%D0%B0%D1%86%D0%B8%D0%B8_%D0%B2_%D0%BC%D0%B0%D1%88%D0%B8%D0%BD%D0%BD%D0%BE%D0%BC_%D0%BE%D0%B1%D1%83%D1%87%D0%B5%D0%BD%D0%B8%D0%B8_2023\" title=\"Методы оптимизации в машинном обучении 2023\">Методы оптимизации в машинном обучении 2023</a>\\n</p><p><b>ПМИ / РС</b>\\n</p><p><a rel=\"nofollow\" class=\"external text\" href=\"https://osukhoroslov-hse.notion.site/a35a6a40088b44a7a9e374727a0f2548\">Распределенные системы</a>\\n</p><p><a rel=\"nofollow\" class=\"external text\" href=\"https://osukhoroslov-hse.notion.site/dbce4f5101ed47dca0b363122f139aac\">НИС Распределенные системы</a>\\n</p><p><a href=\"/Database_Systems_2023\" title=\"Database Systems 2023\">Database Systems 2023</a>\\n</p><p><b>ПМИ / ТИ</b>\\n</p><p><a href=\"/Theory_of_Computation_2022\" title=\"Theory of Computation 2022\"> Theory of Computation</a>\\n</p><p><a href=\"/NIS-TCS-22-23\" title=\"NIS-TCS-22-23\"> НИС Теоретическая информатика </a>\\n</p><p><a href=\"/KKTI-22-23\" title=\"KKTI-22-23\"> Комбинаторные конструкции в теоретической информатике</a>\\n</p>\\n</td>\\n<td>\\n<p><a rel=\"nofollow\" class=\"external text\" href=\"https://www.notion.so/2022-2023-12475421ada6400c8bd5bf24a2a30c01\">ВКР</a>\\n</p><p><a href=\"/%D0%A1%D0%BB%D1%83%D1%87%D0%B0%D0%B9%D0%BD%D1%8B%D0%B5_%D0%BF%D1%80%D0%BE%D1%86%D0%B5%D1%81%D1%81%D1%8B_(%D0%B7%D0%B8%D0%BC%D0%B0_2023)\" title=\"Случайные процессы (зима 2023)\"> Случайные процессы (зима 2023)</a>\\n</p><p><a href=\"/%D0%A4%D1%83%D0%BD%D0%BA%D1%86%D0%B8%D0%BE%D0%BD%D0%B0%D0%BB%D1%8C%D0%BD%D0%BE%D0%B5_%D0%BF%D1%80%D0%BE%D0%B3%D1%80%D0%B0%D0%BC%D0%BC%D0%B8%D1%80%D0%BE%D0%B2%D0%B0%D0%BD%D0%B8%D0%B5_22-23\" title=\"Функциональное программирование 22-23\"> Функциональное программирование </a>\\n</p><p><a href=\"/Haskell_23\" title=\"Haskell 23\"> Промышленное программирование на Haskell </a>\\n</p><p><a href=\"/%D0%9E%D1%81%D0%BD%D0%BE%D0%B2%D1%8B_%D1%82%D0%B5%D0%BD%D0%B7%D0%BE%D1%80%D0%BD%D1%8B%D1%85_%D0%B2%D1%8B%D1%87%D0%B8%D1%81%D0%BB%D0%B5%D0%BD%D0%B8%D0%B9_(2022/2023)\" title=\"Основы тензорных вычислений (2022/2023)\"> Основы тензорных вычислений </a>\\n</p><p><a href=\"/%D0%93%D0%BB%D1%83%D0%B1%D0%B8%D0%BD%D0%BD%D0%BE%D0%B5_%D0%BE%D0%B1%D1%83%D1%87%D0%B5%D0%BD%D0%B8%D0%B5_%D0%B2_%D0%BE%D0%B1%D1%80%D0%B0%D0%B1%D0%BE%D1%82%D0%BA%D0%B5_%D0%B7%D0%B2%D1%83%D0%BA%D0%B0_22/23\" title=\"Глубинное обучение в обработке звука 22/23\"> Глубинное обучение в обработке звука </a>\\n</p><p><a href=\"/%D0%9C%D0%B5%D1%82%D0%BE%D0%B4%D1%8B_%D0%BF%D1%80%D0%B5%D0%B4%D0%BE%D0%B1%D1%83%D1%87%D0%B5%D0%BD%D0%B8%D1%8F_%D0%B1%D0%B5%D0%B7_%D1%83%D1%87%D0%B8%D1%82%D0%B5%D0%BB%D1%8F_22/23\" title=\"Методы предобучения без учителя 22/23\"> Методы предобучения без учителя </a>\\n</p><p><a href=\"/%D0%A1%D0%B8%D0%BC%D0%B2%D0%BE%D0%BB%D1%8C%D0%BD%D1%8B%D0%B5_%D0%B2%D1%8B%D1%87%D0%B8%D1%81%D0%BB%D0%B5%D0%BD%D0%B8%D1%8F_22/23\" title=\"Символьные вычисления 22/23\"> Символьные вычисления </a>\\n</p><p><a href=\"/%D0%AD%D1%84%D1%84%D0%B5%D0%BA%D1%82%D0%B8%D0%B2%D0%BD%D1%8B%D0%B5_%D1%81%D0%B8%D1%81%D1%82%D0%B5%D0%BC%D1%8B_%D0%B3%D0%BB%D1%83%D0%B1%D0%B8%D0%BD%D0%BD%D0%BE%D0%B3%D0%BE_%D0%BE%D0%B1%D1%83%D1%87%D0%B5%D0%BD%D0%B8%D1%8F_22/23\" title=\"Эффективные системы глубинного обучения 22/23\">Эффективные системы глубинного обучения</a>\\n</p><p><a href=\"/%D0%A2%D0%B5%D0%BE%D1%80%D0%B8%D1%8F_%D0%B8_%D0%BF%D1%80%D0%B0%D0%BA%D1%82%D0%B8%D0%BA%D0%B0_%D0%BE%D0%BD%D0%BB%D0%B0%D0%B9%D0%BD-%D1%8D%D0%BA%D1%81%D0%BF%D0%B5%D1%80%D0%B8%D0%BC%D0%B5%D0%BD%D1%82%D0%BE%D0%B2_22/23\" title=\"Теория и практика онлайн-экспериментов 22/23\"> Теория и практика онлайн-экспериментов</a>\\n</p><p><a href=\"/%D0%94%D0%B5%D1%86%D0%B5%D0%BD%D1%82%D1%80%D0%B0%D0%BB%D0%B8%D0%B7%D0%BE%D0%B2%D0%B0%D0%BD%D0%BD%D1%8B%D0%B5_%D1%81%D0%B8%D1%81%D1%82%D0%B5%D0%BC%D1%8B\" title=\"Децентрализованные системы\"> Децентрализованные системы </a>\\n</p><p><a href=\"/%D0%92%D0%B2%D0%B5%D0%B4%D0%B5%D0%BD%D0%B8%D0%B5_%D0%B2_%D0%B4%D0%B8%D1%84%D1%84%D0%B5%D1%80%D0%B5%D0%BD%D1%86%D0%B8%D0%B0%D0%BB%D1%8C%D0%BD%D1%83%D1%8E_%D0%B3%D0%B5%D0%BE%D0%BC%D0%B5%D1%82%D1%80%D0%B8%D1%8E_22/23\" title=\"Введение в дифференциальную геометрию 22/23\"> Введение в дифференциальную геометрию </a>\\n</p><p><b>ПМИ / МОП</b>\\n</p><p><a href=\"/%D0%9D%D0%98%D0%A1_%D0%9C%D0%B0%D1%88%D0%B8%D0%BD%D0%BD%D0%BE%D0%B5_%D0%BE%D0%B1%D1%83%D1%87%D0%B5%D0%BD%D0%B8%D0%B5_%D0%B8_%D0%BF%D1%80%D0%B8%D0%BB%D0%BE%D0%B6%D0%B5%D0%BD%D0%B8%D1%8F_4_%D0%BA%D1%83%D1%80%D1%81_2022/2023\" title=\"НИС Машинное обучение и приложения 4 курс 2022/2023\"> НИС Машинное обучение и приложения 4 курс</a>  \\n</p><p><a href=\"/%D0%93%D0%BB%D1%83%D0%B1%D0%B8%D0%BD%D0%BD%D0%BE%D0%B5_%D0%BE%D0%B1%D1%83%D1%87%D0%B5%D0%BD%D0%B8%D0%B5_2022\" title=\"Глубинное обучение 2022\"> Глубинное обучение</a>\\n</p><p><a href=\"/%D0%93%D0%BB%D1%83%D0%B1%D0%B8%D0%BD%D0%BD%D0%BE%D0%B5_%D0%BE%D0%B1%D1%83%D1%87%D0%B5%D0%BD%D0%B8%D0%B5_%D0%B2_%D0%B0%D0%BD%D0%B0%D0%BB%D0%B8%D0%B7%D0%B5_%D0%B3%D1%80%D0%B0%D1%84%D0%BE%D0%B2%D1%8B%D1%85_%D0%B4%D0%B0%D0%BD%D0%BD%D1%8B%D1%85_22/23\" title=\"Глубинное обучение в анализе графовых данных 22/23\"> Глубинное обучение в анализе графовых данных</a>\\n</p><p><a href=\"/LSML_2022/2023\" title=\"LSML 2022/2023\"> Машинное обучение для больших данных</a>\\n</p><p><b>ПМИ / РС</b>\\n</p><p><a rel=\"nofollow\" class=\"external text\" href=\"https://osukhoroslov-hse.notion.site/2-b1c2d4487ac8478f89cd4fa427da3e27\">НИС Распределенные системы</a>\\n</p><p><b>ПМИ / ТИ</b>\\n</p><p><a href=\"/A_Theorist%27s_Toolkit_2022_2023\" title=\"A Theorist\\'s Toolkit 2022 2023\"> A Theorist\\'s Toolkit, AMI</a>\\n</p><p><a href=\"/OWF2022\" title=\"OWF2022\"> Односторонние функции и их применения</a>\\n</p><p><a href=\"/InfTheory2022\" title=\"InfTheory2022\"> Теория информации</a>\\n</p><p><a href=\"/NIS-TCS-22-23\" title=\"NIS-TCS-22-23\"> НИС Теоретическая информатика </a>\\n</p>\\n</td>\\n<td rowspan=\"7\">\\n<p><a href=\"/%D0%94%D0%BE%D0%BF%D0%BE%D0%BB%D0%BD%D0%B8%D1%82%D0%B5%D0%BB%D1%8C%D0%BD%D1%8B%D0%B5_%D0%B3%D0%BB%D0%B0%D0%B2%D1%8B_%D1%82%D0%B5%D0%BE%D1%80%D0%B8%D0%B8_%D1%87%D0%B8%D1%81%D0%B5%D0%BB\" title=\"Дополнительные главы теории чисел\">Дополнительные главы теории чисел</a>\\n</p><p><a href=\"/%D0%94%D0%BE%D0%BF%D0%BE%D0%BB%D0%BD%D0%B8%D1%82%D0%B5%D0%BB%D1%8C%D0%BD%D1%8B%D0%B5_%D0%B3%D0%BB%D0%B0%D0%B2%D1%8B_%D1%82%D0%B5%D0%BE%D1%80%D0%B8%D0%B8_%D0%B2%D0%B5%D1%80%D0%BE%D1%8F%D1%82%D0%BD%D0%BE%D1%81%D1%82%D0%B5%D0%B9_2023\" title=\"Дополнительные главы теории вероятностей 2023\">ДГТВ</a>\\n</p><p><a href=\"/%D0%A2%D0%B5%D0%BE%D1%80%D0%B8%D1%8F_%D0%B2%D1%8B%D1%87%D0%B8%D1%81%D0%BB%D0%B5%D0%BD%D0%B8%D0%B9_2023\" title=\"Теория вычислений 2023\">Теория вычислений</a>\\n</p><p><a href=\"/%D0%A1%D0%BB%D1%83%D1%87%D0%B0%D0%B9%D0%BD%D1%8B%D0%B5_%D0%B3%D1%80%D0%B0%D1%84%D1%8B_2022\" title=\"Случайные графы 2022\"> Случайные графы</a>\\n</p><p><a href=\"/%D0%9C%D0%B0%D0%B9%D0%BD%D0%BE%D1%80_%D0%91%D0%B8%D0%BE%D0%B8%D0%BD%D1%84%D0%BE%D1%80%D0%BC%D0%B0%D1%82%D0%B8%D0%BA%D0%B0_1_%D0%B3%D0%BE%D0%B4_2022/23\" title=\"Майнор Биоинформатика 1 год 2022/23\"> Биоинформатика 1 год 2022/23</a>\\n</p><p><a href=\"/%D0%9C%D0%B0%D0%B9%D0%BD%D0%BE%D1%80_%D0%91%D0%B8%D0%BE%D0%B8%D0%BD%D1%84%D0%BE%D1%80%D0%BC%D0%B0%D1%82%D0%B8%D0%BA%D0%B0_2_%D0%B3%D0%BE%D0%B4_2022/23\" title=\"Майнор Биоинформатика 2 год 2022/23\"> Биоинформатика 2 год</a>\\n</p><p><a href=\"/%D0%9E%D1%81%D0%BD%D0%BE%D0%B2%D1%8B_%D0%BC%D0%B0%D1%88%D0%B8%D0%BD%D0%BD%D0%BE%D0%B3%D0%BE_%D0%BE%D0%B1%D1%83%D1%87%D0%B5%D0%BD%D0%B8%D1%8F\" title=\"Основы машинного обучения\" class=\"mw-redirect\"> Основы машинного обучения (майнор ИАД)</a>\\n</p><p><a href=\"/%D0%9E%D1%81%D0%BD%D0%BE%D0%B2%D1%8B_%D0%B3%D0%BB%D1%83%D0%B1%D0%B8%D0%BD%D0%BD%D0%BE%D0%B3%D0%BE_%D0%BE%D0%B1%D1%83%D1%87%D0%B5%D0%BD%D0%B8%D1%8F\" title=\"Основы глубинного обучения\"> Основы глубинного обучения (майнор ИАД)</a>\\n</p><p><a href=\"/%D0%9F%D1%80%D0%B8%D0%BA%D0%BB%D0%B0%D0%B4%D0%BD%D1%8B%D0%B5_%D0%B7%D0%B0%D0%B4%D0%B0%D1%87%D0%B8_%D0%B0%D0%BD%D0%B0%D0%BB%D0%B8%D0%B7%D0%B0_%D0%B4%D0%B0%D0%BD%D0%BD%D1%8B%D1%85\" title=\"Прикладные задачи анализа данных\"> Прикладные задачи анализа данных (майнор ИАД)</a>\\n</p><p><a href=\"/%D0%92%D0%B2%D0%B5%D0%B4%D0%B5%D0%BD%D0%B8%D0%B5_%D0%B2_%D0%BF%D1%80%D0%BE%D0%B3%D1%80%D0%B0%D0%BC%D0%BC%D0%B8%D1%80%D0%BE%D0%B2%D0%B0%D0%BD%D0%B8%D0%B5_22/23_(%D0%BC%D0%B0%D0%B9%D0%BD%D0%BE%D1%80_%D0%98%D0%90%D0%94)\" title=\"Введение в программирование 22/23 (майнор ИАД)\"> Введение в программирование 22/23 (майнор ИАД)</a>\\n</p><p><a href=\"/%D0%91%D0%B0%D0%B7%D1%8B_%D0%B4%D0%B0%D0%BD%D0%BD%D1%8B%D1%85_22/23_(%D0%BC%D0%B0%D0%B9%D0%BD%D0%BE%D1%80_%D0%98%D0%90%D0%94)\" title=\"Базы данных 22/23 (майнор ИАД)\"> Базы данных 22/23 (майнор ИАД)</a>\\n</p><p><a href=\"/Adaptation_course_in_Discrete_Math_(%D1%84%D0%B0%D0%BA%D1%83%D0%BB%D1%8C%D1%82%D0%B0%D1%82%D0%B8%D0%B2)\" title=\"Adaptation course in Discrete Math (факультатив)\">Adaptation course in Discrete Math (факультатив)</a>\\n</p><p><a href=\"/%D0%A3%D1%80%D0%B0%D0%B2%D0%BD%D0%B5%D0%BD%D0%B8%D1%8F_%D1%81_%D1%87%D0%B0%D1%81%D1%82%D0%BD%D1%8B%D0%BC%D0%B8_%D0%BF%D1%80%D0%BE%D0%B8%D0%B7%D0%B2%D0%BE%D0%B4%D0%BD%D1%8B%D0%BC%D0%B8_(2022-2023)\" title=\"Уравнения с частными производными (2022-2023)\">Уравнения с частными производными (2022-2023)</a>\\n</p><p><br />\\n</p>\\n</td></tr>\\n<tr>\\n<td colspan=\"4\" style=\"text-align: center;\"> <b>ПИ</b>\\n</td></tr>\\n<tr>\\n<td>\\n<p><a href=\"/%D0%94%D0%B8%D1%81%D0%BA%D1%80%D0%B5%D1%82%D0%BD%D0%B0%D1%8F_%D0%BC%D0%B0%D1%82%D0%B5%D0%BC%D0%B0%D1%82%D0%B8%D0%BA%D0%B0_2022-2023\" title=\"Дискретная математика 2022-2023\"> Дискретная математика </a>\\n</p><p><a href=\"/%D0%90%D0%BB%D0%B3%D0%B5%D0%B1%D1%80%D0%B0_%D0%9F%D0%98_2022-2023\" title=\"Алгебра ПИ 2022-2023\"> Алгебра</a>\\n</p><p><a href=\"/%D0%9C%D0%B0%D1%82%D0%B5%D0%BC%D0%B0%D1%82%D0%B8%D1%87%D0%B5%D1%81%D0%BA%D0%B8%D0%B9_%D0%B0%D0%BD%D0%B0%D0%BB%D0%B8%D0%B7_2022-2023\" title=\"Математический анализ 2022-2023\"> Математический анализ</a>\\n</p>\\n</td>\\n<td>\\n<p><a href=\"/%D0%90%D0%BB%D0%B3%D0%BE%D1%80%D0%B8%D1%82%D0%BC%D1%8B_%D0%B8_%D1%81%D1%82%D1%80%D1%83%D0%BA%D1%82%D1%83%D1%80%D1%8B_%D0%B4%D0%B0%D0%BD%D0%BD%D1%8B%D1%85_%D0%BD%D0%B0_%D0%9F%D0%98_2022/2023\" title=\"Алгоритмы и структуры данных на ПИ 2022/2023\"> Алгоритмы и структуры данных на ПИ</a>\\n</p><p><a href=\"/%D0%A2%D0%B5%D0%BE%D1%80%D0%B8%D1%8F_%D0%B2%D0%B5%D1%80%D0%BE%D1%8F%D1%82%D0%BD%D0%BE%D1%81%D1%82%D0%B5%D0%B9_%D0%B8_%D0%BC%D0%B0%D1%82%D0%B5%D0%BC%D0%B0%D1%82%D0%B8%D1%87%D0%B5%D1%81%D0%BA%D0%B0%D1%8F_%D1%81%D1%82%D0%B0%D1%82%D0%B8%D1%81%D1%82%D0%B8%D0%BA%D0%B0_2022-2023\" title=\"Теория вероятностей и математическая статистика 2022-2023\"> Теория вероятностей и математическая статистика</a>\\n</p><p><a href=\"/%D0%9D%D0%98%D0%A1_%D0%9C%D0%B5%D1%82%D0%BE%D0%B4%D1%8B_%D0%B8_%D0%B0%D0%BB%D0%B3%D0%BE%D1%80%D0%B8%D1%82%D0%BC%D1%8B_%D0%B7%D0%B0%D1%89%D0%B8%D1%82%D1%8B_%D0%B8%D0%BD%D1%84%D0%BE%D1%80%D0%BC%D0%B0%D1%86%D0%B8%D0%B8_2022/2023\" title=\"НИС Методы и алгоритмы защиты информации 2022/2023\"> НИС Методы и алгоритмы защиты информации </a>\\n</p>\\n</td>\\n<td>\\n<p><a href=\"/SPA_2022\" title=\"SPA 2022\">Принципы статического анализа исходного кода </a>\\n</p>\\n</td></tr>\\n<tr>\\n<td colspan=\"4\" style=\"text-align: center;\"> <b>ПАД</b>\\n</td></tr>\\n<tr>\\n<td>\\n<p><a href=\"/DSBA_Algebra_2022_2023\" title=\"DSBA Algebra 2022 2023\"> Algebra (DSBA)</a>\\n</p><p><a href=\"/Calculus_DSBA_2022/2023\" title=\"Calculus DSBA 2022/2023\"> Calculus (DSBA)</a>\\n</p><p><a href=\"/English_DSBA_2022/2023\" title=\"English DSBA 2022/2023\"> English DSBA (DSBA)</a>\\n</p><p><a href=\"/LAaG_DSBA_2022/2023\" title=\"LAaG DSBA 2022/2023\"> LAaG (DSBA)</a>\\n</p><p><a href=\"/Discrete_Mathematics_DSBA_2022/2023\" title=\"Discrete Mathematics DSBA 2022/2023\"> Discrete Mathematics (DSBA)</a>\\n</p><p><a href=\"/Introduction_to_Programming_DSBA_2022/2023\" title=\"Introduction to Programming DSBA 2022/2023\"> Introduction to Programming on Python (DSBA)</a>\\n</p><p><a href=\"/Introduction_to_Programming_2_DSBA_2022/2023\" title=\"Introduction to Programming 2 DSBA 2022/2023\"> Introduction to Programming on C++ (DSBA)</a>\\n</p><p><a href=\"/Foundations_of_Law_DSBA_2022/2023\" title=\"Foundations of Law DSBA 2022/2023\"> Foundations of Law (DSBA)</a>\\n</p><p><a href=\"/Introduction_to_Economics_DSBA_2022/2023\" title=\"Introduction to Economics DSBA 2022/2023\">Introduction to Economics DSBA 2022/2023</a>\\n</p>\\n</td>\\n<td>\\n<p><a href=\"/Discrete_Mathematics_2_DSBA_2022/2023\" title=\"Discrete Mathematics 2 DSBA 2022/2023\"> Discrete Mathematics 2 (DSBA)</a>\\n</p><p><a href=\"/Business_and_Management_in_Global_Context_22/23\" title=\"Business and Management in Global Context 22/23\"> Business and Management in Global Context 22/23</a>\\n</p><p><a href=\"/Calculus-2\" title=\"Calculus-2\">Calculus-2</a>\\n</p><p><a href=\"/Algorithms_and_Data_Structures_DSBA_2022/2023\" title=\"Algorithms and Data Structures DSBA 2022/2023\"> Algorithms and Data Structures</a>\\n</p><p><a href=\"/Probability_and_Statistics_(DSBA)\" title=\"Probability and Statistics (DSBA)\">Probability and Statistics (DSBA)</a>\\n</p><p><a href=\"/Introduction_to_Micro_and_Macroeconomics_DSBA_2022/2023\" title=\"Introduction to Micro and Macroeconomics DSBA 2022/2023\">Introduction to Micro and Macroeconomics DSBA 2022/2023</a>\\n</p><p><a href=\"/Differential_Equations_2023\" title=\"Differential Equations 2023\"> Differential Equations </a>\\n</p><p><a href=\"/ACOS_DSBA_2022/2023\" title=\"ACOS DSBA 2022/2023\"> Computer Architecture and Operating Systems</a>\\n</p>\\n</td>\\n<td>\\n<p><a href=\"/Tssp-2022-23\" title=\"Tssp-2022-23\"> Time series and stochastic processes 2022-23</a>\\n</p><p><a rel=\"nofollow\" class=\"external text\" href=\"https://github.com/xenakas/dsba_ecm_2022\">Elements of Econometrics</a>\\n</p><p><a href=\"/BAFE-2022-23\" title=\"BAFE-2022-23\" class=\"mw-redirect\"> Business Analytics and Financial Engineering 2022-2023</a>\\n</p><p><a href=\"/Machine_learning_1_DSBA_2022/2023\" title=\"Machine learning 1 DSBA 2022/2023\">Machine learning 1 DSBA 2022/2023</a>\\n</p><p><a href=\"/index.php?title=Databases&amp;action=edit&amp;redlink=1\" class=\"new\" title=\"Databases (страница не существует)\">Databases</a>\\n</p><p><a href=\"/Optimisation_methods\" title=\"Optimisation methods\">Optimisation methods</a>\\n</p><p><a href=\"/MACE1_DSBA_22-23\" title=\"MACE1 DSBA 22-23\" class=\"mw-redirect\"> Research Seminar \"Mathematical and Computational Engineering in Science and Business 1\"</a>\\n</p><p><a href=\"/DAF1_DSBA_22-23\" title=\"DAF1 DSBA 22-23\" class=\"mw-redirect\"> Research Seminar \"Data Analysis in Finance 1\"</a>\\n</p>\\n</td>\\n<td>\\n<p><a href=\"/Statistics4MR-2022-23\" title=\"Statistics4MR-2022-23\"> Statistics for Market Research 2022-23</a>\\n</p><p><a href=\"/Strategy_22-23_DSBA\" title=\"Strategy 22-23 DSBA\" class=\"mw-redirect\"> Decision Making Strategy 2022-2023</a>\\n</p><p><a href=\"/APFM_22-23\" title=\"APFM 22-23\" class=\"mw-redirect\"> Asset Pricing and Financial Markets 2022-2023</a>\\n</p><p><a href=\"/CMC_DSBA_22-23\" title=\"CMC DSBA 22-23\" class=\"mw-redirect\"> Core management concepts </a>\\n</p><p><a href=\"/Machine_learning_2_DSBA_2022/2023\" title=\"Machine learning 2 DSBA 2022/2023\">Machine learning 2 DSBA 2022/2023</a>\\n</p><p><a href=\"/MACE2_DSBA_22-23\" title=\"MACE2 DSBA 22-23\" class=\"mw-redirect\"> Research Seminar \"Mathematical and Computational Engineering in Science and Business 2\"</a>\\n</p><p><a href=\"/DAF2_DSBA_22-23\" title=\"DAF2 DSBA 22-23\" class=\"mw-redirect\"> Research Seminar \"Data Analysis in Finance 2\"</a>\\n</p><p><a href=\"/DANS_DSBA_22-23\" title=\"DANS DSBA 22-23\" class=\"mw-redirect\"> Research Seminar \"Data Analysis in the Natural Sciences\" </a>\\n</p><p><a href=\"/Risk-Management_DSBA_22-23\" title=\"Risk-Management DSBA 22-23\"> Research Seminar \"Risk-Management\" </a>\\n</p><p><a href=\"/Quantitative_finance_DSBA\" title=\"Quantitative finance DSBA\">Quantitative finance DSBA</a>\\n</p><p><br />\\n</p>\\n</td></tr>\\n<tr>\\n<td colspan=\"4\" style=\"text-align: center;\"> <b>КНАД</b>\\n</td></tr>\\n<tr>\\n<td>\\n<p><a href=\"/%D0%94%D0%B8%D1%81%D0%BA%D1%80%D0%B5%D1%82%D0%BD%D0%B0%D1%8F_%D0%BC%D0%B0%D1%82%D0%B5%D0%BC%D0%B0%D1%82%D0%B8%D0%BA%D0%B0_%D0%9A%D0%9D%D0%90%D0%94_22/23\" title=\"Дискретная математика КНАД 22/23\"> Дискретная математика (КНАД) </a>\\n</p><p><a href=\"/%D0%9C%D0%B0%D1%82%D0%B5%D0%BC%D0%B0%D1%82%D0%B8%D1%87%D0%B5%D1%81%D0%BA%D0%B8%D0%B9_%D0%B0%D0%BD%D0%B0%D0%BB%D0%B8%D0%B7_%D0%9A%D0%9D%D0%90%D0%94_22/23\" title=\"Математический анализ КНАД 22/23\"> Математический анализ (КНАД) </a>\\n</p><p><a href=\"/%D0%9B%D0%B8%D0%BD%D0%B5%D0%B9%D0%BD%D0%B0%D1%8F_%D0%B0%D0%BB%D0%B3%D0%B5%D0%B1%D1%80%D0%B0_%D0%9A%D0%9D%D0%90%D0%94_22/23\" title=\"Линейная алгебра КНАД 22/23\"> Линейная алгебра (КНАД) </a>\\n</p><p><a href=\"/%D0%9F%D1%80%D0%BE%D0%B3%D1%80%D0%B0%D0%BC%D0%BC%D0%B8%D1%80%D0%BE%D0%B2%D0%B0%D0%BD%D0%B8%D0%B5_%D0%BD%D0%B0_Python_%D0%9A%D0%9D%D0%90%D0%94_22/23\" title=\"Программирование на Python КНАД 22/23\"> Программирование на Python (КНАД) </a>\\n</p><p><a href=\"/%D0%90%D0%BB%D0%B3%D0%BE%D1%80%D0%B8%D1%82%D0%BC%D1%8B_%D0%B8_%D1%81%D1%82%D1%80%D1%83%D0%BA%D1%82%D1%83%D1%80%D1%8B_%D0%B4%D0%B0%D0%BD%D0%BD%D1%8B%D1%85_-_1_2022/2023_2_%D0%BC%D0%BE%D0%B4%D1%83%D0%BB%D1%8C_(%D0%AD%D0%90%D0%94_%D0%9A%D0%9D%D0%90%D0%94_%D0%92%D0%A1%D0%9D)\" title=\"Алгоритмы и структуры данных - 1 2022/2023 2 модуль (ЭАД КНАД ВСН)\"> Алгоритмы и структуры данных 2022/2023 2 модуль (ЭАД КНАД ВСН)</a>\\n</p><p><a href=\"/%D0%90%D0%BB%D0%B3%D0%BE%D1%80%D0%B8%D1%82%D0%BC%D1%8B_%D0%B8_%D1%81%D1%82%D1%80%D1%83%D0%BA%D1%82%D1%83%D1%80%D1%8B_%D0%B4%D0%B0%D0%BD%D0%BD%D1%8B%D1%85_-_1_2022/2023_4_%D0%BC%D0%BE%D0%B4%D1%83%D0%BB%D1%8C_(%D0%AD%D0%90%D0%94_%D0%9A%D0%9D%D0%90%D0%94_%D0%92%D0%A1%D0%9D)\" title=\"Алгоритмы и структуры данных - 1 2022/2023 4 модуль (ЭАД КНАД ВСН)\"> Алгоритмы и структуры данных 2022/2023 4 модуль (ЭАД КНАД ВСН)</a>\\n</p><p><a href=\"/Python_%D0%B4%D0%BB%D1%8F_%D1%81%D0%B1%D0%BE%D1%80%D0%B0_%D0%B8_%D0%B0%D0%BD%D0%B0%D0%BB%D0%B8%D0%B7%D0%B0_%D0%B4%D0%B0%D0%BD%D0%BD%D1%8B%D1%85_%D0%9A%D0%9D%D0%90%D0%94_22/23\" title=\"Python для сбора и анализа данных КНАД 22/23\"> Python для сбора и анализа данных (КНАД)</a>\\n</p><p><a href=\"/%D0%9F%D1%80%D0%BE%D0%B3%D1%80%D0%B0%D0%BC%D0%BC%D0%B8%D1%80%D0%BE%D0%B2%D0%B0%D0%BD%D0%B8%D0%B5_%D0%BD%D0%B0_%D0%A1%2B%2B_%D0%9A%D0%9D%D0%90%D0%94_22/23\" title=\"Программирование на С++ КНАД 22/23\"> Программирование на С++</a>\\n</p><p><a href=\"/%D0%98%D0%9F%D0%A0_%D0%9A%D0%9D%D0%90%D0%94_23\" title=\"ИПР КНАД 23\"> Инструменты промышленной разработки</a>\\n</p>\\n</td>\\n<td>\\n<p><a href=\"/%D0%90%D0%BB%D0%B3%D0%B5%D0%B1%D1%80%D0%B0_%D0%9A%D0%9D%D0%90%D0%94_2022/2023\" title=\"Алгебра КНАД 2022/2023\"> Алгебра</a>\\n</p><p><a href=\"/%D0%9C%D0%B0%D1%82%D0%B5%D0%BC%D0%B0%D1%82%D0%B8%D1%87%D0%B5%D1%81%D0%BA%D0%B8%D0%B9_%D0%B0%D0%BD%D0%B0%D0%BB%D0%B8%D0%B7_--_2_(2022/23)\" title=\"Математический анализ -- 2 (2022/23)\"> Математический анализ -- 2</a>\\n</p><p><a href=\"/%D0%90%D0%BB%D0%B3%D0%BE%D1%80%D0%B8%D1%82%D0%BC%D1%8B_%D0%B8_%D1%81%D1%82%D1%80%D1%83%D0%BA%D1%82%D1%83%D1%80%D1%8B_%D0%B4%D0%B0%D0%BD%D0%BD%D1%8B%D1%85_2_%D0%9A%D0%9D%D0%90%D0%94_22/23\" title=\"Алгоритмы и структуры данных 2 КНАД 22/23\"> Алгоритмы и структуры данных 2</a>\\n</p><p><a href=\"/%D0%A2%D0%B5%D0%BE%D1%80%D0%B8%D1%8F_%D0%B2%D0%B5%D1%80%D0%BE%D1%8F%D1%82%D0%BD%D0%BE%D1%81%D1%82%D0%B5%D0%B9_%D0%9A%D0%9D%D0%90%D0%94_22/23\" title=\"Теория вероятностей КНАД 22/23\"> Теория вероятностей </a>\\n</p><p><a href=\"/ACOS_COMPDS_2022/2023\" title=\"ACOS COMPDS 2022/2023\"> Архитектура Компьютера и Операционные Системы</a>\\n</p><p><a href=\"/%D0%9C%D0%B0%D1%82%D0%B5%D0%BC%D0%B0%D1%82%D0%B8%D1%87%D0%B5%D1%81%D0%BA%D0%B0%D1%8F_%D1%81%D1%82%D0%B0%D1%82%D0%B8%D1%81%D1%82%D0%B8%D0%BA%D0%B0_%D0%9A%D0%9D%D0%90%D0%94_22/23\" title=\"Математическая статистика КНАД 22/23\"> Математическая статистика</a>\\n</p><p><a href=\"/%D0%A7%D0%B8%D1%81%D0%BB%D0%B5%D0%BD%D0%BD%D1%8B%D0%B5_%D0%BC%D0%B5%D1%82%D0%BE%D0%B4%D1%8B_%D0%9A%D0%9D%D0%90%D0%94_22/23\" title=\"Численные методы КНАД 22/23\"> Численные методы</a>\\n</p>\\n</td>\\n<td>\\n<p><br />\\n</p>\\n</td>\\n<td>\\n</td></tr></table>\\n<h2><span class=\"mw-headline\" id=\".D0.9A.D1.83.D1.80.D1.81.D1.8B_.D0.B2_.D1.80.D0.B0.D0.BC.D0.BA.D0.B0.D1.85_.D0.BF.D1.80.D0.BE.D0.B5.D0.BA.D1.82.D0.B0_Data_Culture_2\">Курсы в рамках проекта <a rel=\"nofollow\" class=\"external text\" href=\"https://www.hse.ru/dataculture/\">Data Culture</a></span></h2>\\n<table class=\"wikitable\">\\n\\n<tr>\\n<th> Осенний семестр </th>\\n<th> Весенний семестр\\n</th></tr>\\n<tr>\\n<td>\\n<p><a href=\"/%D0%A6%D0%B8%D1%84%D1%80%D0%BE%D0%B2%D0%B0%D1%8F_%D0%B3%D1%80%D0%B0%D0%BC%D0%BE%D1%82%D0%BD%D0%BE%D1%81%D1%82%D1%8C_%D0%B4%D0%BB%D1%8F_%D0%BC%D0%B5%D0%B6%D0%B4%D1%83%D0%BD%D0%B0%D1%80%D0%BE%D0%B4%D0%BD%D1%8B%D1%85_%D0%BE%D1%82%D0%BD%D0%BE%D1%88%D0%B5%D0%BD%D0%B8%D0%B9_22/23\" title=\"Цифровая грамотность для международных отношений 22/23\">Цифровая грамотность для международных отношений 22/23</a> (1 курс, 1-2 модуль)\\n</p><p><a href=\"/%D0%9E%D1%81%D0%BD%D0%BE%D0%B2%D1%8B_%D0%B0%D0%BD%D0%B0%D0%BB%D0%B8%D0%B7%D0%B0_%D0%B4%D0%B0%D0%BD%D0%BD%D1%8B%D1%85_%D0%B2_%D0%BC%D0%B5%D0%B6%D0%B4%D1%83%D0%BD%D0%B0%D1%80%D0%BE%D0%B4%D0%BD%D1%8B%D1%85_%D0%BE%D1%82%D0%BD%D0%BE%D1%88%D0%B5%D0%BD%D0%B8%D1%8F%D1%85_22/23\" title=\"Основы анализа данных в международных отношениях 22/23\">Основы анализа данных в международных отношениях 22/23</a> (2 курс, 1-2 модуль)\\n</p><p><a href=\"/%D0%9E%D1%81%D0%BD%D0%BE%D0%B2%D1%8B_%D0%BF%D1%80%D0%BE%D0%B3%D1%80%D0%B0%D0%BC%D0%BC%D0%B8%D1%80%D0%BE%D0%B2%D0%B0%D0%BD%D0%B8%D1%8F_%D0%BD%D0%B0_Python_%D0%BE%D1%81%D0%B5%D0%BD%D1%8C_2022_%D0%BC%D0%B0%D1%82%D1%84%D0%B0%D0%BA\" title=\"Основы программирования на Python осень 2022 матфак\">Основы программирования на Python осень 2022 матфак</a> (2-4 курс бакалавриата или 1-2 курс магистратуры, 1-2 модуль) \\n</p><p><a href=\"/%D0%90%D0%BD%D0%B0%D0%BB%D0%B8%D0%B7_%D0%B4%D0%B0%D0%BD%D0%BD%D1%8B%D1%85_2022_(%D0%9E%D0%9F_%22%D0%96%D1%83%D1%80%D0%BD%D0%B0%D0%BB%D0%B8%D1%81%D1%82%D0%B8%D0%BA%D0%B0%22_%D0%B8_%22%D0%9C%D0%B5%D0%B4%D0%B8%D0%B0%D0%BA%D0%BE%D0%BC%D0%BC%D1%83%D0%BD%D0%B8%D0%BA%D0%B0%D1%86%D0%B8%D0%B8%22)\" title=\"Анализ данных 2022 (ОП &quot;Журналистика&quot; и &quot;Медиакоммуникации&quot;)\"> Анализ данных</a> (2 курс, 1-2 модуль)\\n</p><p><a href=\"/%D0%9C%D0%B0%D1%88%D0%B8%D0%BD%D0%BD%D0%BE%D0%B5_%D0%BE%D0%B1%D1%83%D1%87%D0%B5%D0%BD%D0%B8%D0%B5_(%D0%A4%D0%AD%D0%9D)_-_2022-2023\" title=\"Машинное обучение (ФЭН) - 2022-2023\">Машинное обучение (ФЭН) - 2022-2023</a> (3,4 курс, 1-2 модули)\\n</p>\\n</td>\\n<td>\\n<p><a href=\"/%D0%9F%D1%80%D0%B8%D0%BA%D0%BB%D0%B0%D0%B4%D0%BD%D0%BE%D0%B5_%D0%BF%D1%80%D0%BE%D0%B3%D1%80%D0%B0%D0%BC%D0%BC%D0%BD%D0%BE%D0%B5_%D0%BE%D0%B1%D0%B5%D1%81%D0%BF%D0%B5%D1%87%D0%B5%D0%BD%D0%B8%D0%B5_(%D0%BE%D1%81%D0%BD%D0%BE%D0%B2%D1%8B_Python)_%D0%B4%D0%BB%D1%8F_%D1%81%D0%BE%D1%86%D0%B8%D0%BE%D0%BB%D0%BE%D0%B3%D0%B8%D0%B8_2022/23\" title=\"Прикладное программное обеспечение (основы Python) для социологии 2022/23\">Прикладное программное обеспечение (основы Python) для социологии 2022/23</a> (1 курс, 3 модуль)\\n</p><p><a href=\"/%D0%9F%D1%80%D0%BE%D0%B3%D1%80%D0%B0%D0%BC%D0%BC%D0%B8%D1%80%D0%BE%D0%B2%D0%B0%D0%BD%D0%B8%D0%B5_%D0%BD%D0%B0_%D1%8F%D0%B7%D1%8B%D0%BA%D0%B5_Python_%D0%B4%D0%BB%D1%8F_%D0%93%D0%BE%D1%81%D0%9C%D1%83%D0%BD%D0%A3%D0%BF%D1%80_2022/23\" title=\"Программирование на языке Python для ГосМунУпр 2022/23\"> Программирование на языке Python для гос. и муницип. управления 2022/23</a> (1 курс, 3-4 модуль)\\n</p><p><a href=\"/%D0%9E%D1%81%D0%BD%D0%BE%D0%B2%D1%8B_%D0%BF%D1%80%D0%BE%D0%B3%D1%80%D0%B0%D0%BC%D0%BC%D0%B8%D1%80%D0%BE%D0%B2%D0%B0%D0%BD%D0%B8%D1%8F_%D0%B2_Python_%D0%B4%D0%BB%D1%8F_%D0%BF%D0%BE%D0%BB%D0%B8%D1%82%D0%BE%D0%BB%D0%BE%D0%B3%D0%B8%D0%B8_2022/23\" title=\"Основы программирования в Python для политологии 2022/23\">Основы программирования в Python для политологии 2022/23</a> (2 курс, 3-4 модули)\\n</p><p><a href=\"/%D0%9E%D1%81%D0%BD%D0%BE%D0%B2%D1%8B_%D0%BF%D1%80%D0%BE%D0%B3%D1%80%D0%B0%D0%BC%D0%BC%D0%B8%D1%80%D0%BE%D0%B2%D0%B0%D0%BD%D0%B8%D1%8F_%D0%B2_Python_%D0%B4%D0%BB%D1%8F_%D1%88%D0%BA%D0%BE%D0%BB%D1%8B_%D0%B4%D0%B8%D0%B7%D0%B0%D0%B9%D0%BD%D0%B0_2022/23\" title=\"Основы программирования в Python для школы дизайна 2022/23\">Основы программирования в Python для школы дизайна 2022/23</a> (2 курс, 3-4 модули)\\n</p><p><a href=\"/%D0%9E%D1%81%D0%BD%D0%BE%D0%B2%D1%8B_%D0%BF%D1%80%D0%BE%D0%B3%D1%80%D0%B0%D0%BC%D0%BC%D0%B8%D1%80%D0%BE%D0%B2%D0%B0%D0%BD%D0%B8%D1%8F_%D0%B2_Python_%D0%B4%D0%BB%D1%8F_%D0%92%D0%A8%D0%91_2022/23\" title=\"Основы программирования в Python для ВШБ 2022/23\">Основы программирования в Python для ВШБ 2022/23</a> (2 курс, 3 модуль)\\n</p><p><a href=\"/%D0%9F%D1%80%D0%BE%D0%B3%D1%80%D0%B0%D0%BC%D0%BC%D0%B8%D1%80%D0%BE%D0%B2%D0%B0%D0%BD%D0%B8%D0%B5_%D0%BD%D0%B0_Python_%D0%B4%D0%BB%D1%8F_%D0%9C%D0%9E_22/23\" title=\"Программирование на Python для МО 22/23\">Программирование на Python для МО 22/23</a> (1 курс, 3 модуль)\\n</p><p><a href=\"/%D0%9C%D0%B0%D1%88%D0%B8%D0%BD%D0%BD%D0%BE%D0%B5_%D0%BE%D0%B1%D1%83%D1%87%D0%B5%D0%BD%D0%B8%D0%B5_22/23_%D0%9C%D0%B0%D1%82%D1%84%D0%B0%D0%BA\" title=\"Машинное обучение 22/23 Матфак\">Машинное обучение 22/23 Матфак</a> (3 курс, 3-4 модули)\\n</p><p><a href=\"/%D0%90%D0%BD%D0%B0%D0%BB%D0%B8%D0%B7_%D0%94%D0%B0%D0%BD%D0%BD%D1%8B%D1%85_22/23_%D0%9F%D0%BE%D0%BB%D0%B8%D1%82%D0%BE%D0%BB%D0%BE%D0%B3%D0%B8\" title=\"Анализ Данных 22/23 Политологи\">Анализ Данных 22/23 Политологи</a> (3 курс, 3-4 модули)\\n</p><p><a href=\"/%D0%92%D0%B2%D0%B5%D0%B4%D0%B5%D0%BD%D0%B8%D0%B5_%D0%B2_Data_Science_%D0%B4%D0%BB%D1%8F_%D0%92%D0%A8%D0%91_2022/23\" title=\"Введение в Data Science для ВШБ 2022/23\">Введение в Data Science для ВШБ 2022/23</a> (2 курс, 4 модуль)\\n</p>\\n</td></tr></table>\\n<h2><span class=\"mw-headline\" id=\".D0.9A.D1.83.D1.80.D1.81.D1.8B_.D0.BC.D0.B0.D0.B3.D0.B8.D1.81.D1.82.D1.80.D0.B0.D1.82.D1.83.D1.80.D1.8B_.D0.A4.D0.9A.D0.9D_2\">Курсы магистратуры ФКН</span></h2>\\n<table class=\"wikitable\">\\n\\n<tr>\\n<td> <a href=\"/%D0%9B%D0%B8%D0%BA%D0%B1%D0%B5%D0%B7_%D1%80%D0%B0%D0%B7%D1%80%D0%B0%D0%B1%D0%BE%D1%82%D1%87%D0%B8%D0%BA%D0%B0_(2022)\" title=\"Ликбез разработчика (2022)\"> Ликбез разработчика</a> </td>\\n<td> Машинное обучение и высоконагруженные системы</td>\\n<td> 1 year\\n</td></tr>\\n<tr>\\n<td> <a href=\"/RecSys_2022_2023\" title=\"RecSys 2022 2023\"> Рекомендательные системы</a> </td>\\n<td> ФТИАД </td>\\n<td> 2 year\\n</td></tr>\\n<tr>\\n<td> <a href=\"/Linear_Algebra_for_Data_Science_(2022)\" title=\"Linear Algebra for Data Science (2022)\"> Linear Algebra for Data Science</a> </td>\\n<td> Data Science </td>\\n<td> 1 year\\n</td></tr>\\n<tr>\\n<td> <a href=\"/Ordered_Sets_in_Data_Analysis_(2022)\" title=\"Ordered Sets in Data Analysis (2022)\"> Ordered Sets in Data Analysis</a> </td>\\n<td> Data Science </td>\\n<td> 1 year\\n</td></tr>\\n<tr>\\n<td> <a href=\"/NIS-TCS-22-23\" title=\"NIS-TCS-22-23\"> НИС Теоретическая информатика </a> </td>\\n<td> Науки о данных, специализация ТИ </td>\\n<td>\\n</td></tr>\\n<tr>\\n<td> <a href=\"/Mathematical_Foundations_of_Probability_theory\" title=\"Mathematical Foundations of Probability theory\"> Mathematical foundations of probability theory</a> </td>\\n<td> Math of Machine Learning </td>\\n<td> 1 year\\n</td></tr>\\n<tr>\\n<td> <a href=\"/Markov_Chains\" title=\"Markov Chains\"> Markov Chains</a> </td>\\n<td> Math of Machine Learning </td>\\n<td> 1 year\\n</td></tr>\\n<tr>\\n<td> <a href=\"/Reinforcement_learning_2022_2023\" title=\"Reinforcement learning 2022 2023\"> Математические основы обучения с подкреплением </a> </td>\\n<td> Math of Machine Learning </td>\\n<td> 2 year\\n</td></tr>\\n<tr>\\n<td> <a href=\"/Theoretical_computer_science_spring_2023\" title=\"Theoretical computer science spring 2023\"> Theoretical computer science spring 2023</a> </td>\\n<td> PhD </td>\\n<td> 1 year\\n</td></tr></table>\\n<h2><span class=\"mw-headline\" id=\".D0.9A.D1.83.D1.80.D1.81.D1.8B_.D0.B4.D1.80.D1.83.D0.B3.D0.B8.D1.85_.D1.84.D0.B0.D0.BA.D1.83.D0.BB.D1.8C.D1.82.D0.B5.D1.82.D0.BE.D0.B2_2\">Курсы других факультетов</span></h2>\\n<table class=\"wikitable\">\\n\\n<tr>\\n<th> Дисциплина </th>\\n<th> Курс </th>\\n<th> Период\\n</th></tr>\\n<tr>\\n<td> <a href=\"/Econ_probability_2022-23\" title=\"Econ probability 2022-23\">Теория вероятностей и математическая статистика</a> </td>\\n<td> фэн, 2 курс </td>\\n<td> 1-4 модуль\\n</td></tr>\\n<tr>\\n<td> <a href=\"/Econ_metrics_2022-23\" title=\"Econ metrics 2022-23\">Эконометрика ип 2022-23</a> </td>\\n<td> фэн, 3 курс </td>\\n<td> 1-4 модуль\\n</td></tr>\\n<tr>\\n<td> <a href=\"/index.php?title=Econ_dynamic_opt_2022-23&amp;action=edit&amp;redlink=1\" class=\"new\" title=\"Econ dynamic opt 2022-23 (страница не существует)\">Динамическая оптимизация в экономике и финансах</a> </td>\\n<td> фэн, 3-4 курс </td>\\n<td> 1-2 модуль\\n</td></tr>\\n<tr>\\n<td> <a href=\"/Icef-dse-2022-23\" title=\"Icef-dse-2022-23\">Data Science for Economics 2022-23</a> </td>\\n<td>icef, 3-4 year </td>\\n<td> 1-2 module\\n</td></tr>\\n<tr>\\n<td> <a href=\"/%D0%9B%D0%B8%D1%86%D0%B5%D0%B9_%D0%92%D0%A8%D0%AD._%D0%9F%D1%80%D0%B0%D0%BA%D1%82%D0%B8%D0%BA%D1%83%D0%BC_%D0%BF%D0%BE_%D0%BF%D1%80%D0%BE%D0%B3%D1%80%D0%B0%D0%BC%D0%BC%D0%B8%D1%80%D0%BE%D0%B2%D0%B0%D0%BD%D0%B8%D1%8E_10_%D0%BA%D0%BB%D0%B0%D1%81%D1%81_2022-23\" title=\"Лицей ВШЭ. Практикум по программированию 10 класс 2022-23\"> Лицей ВШЭ. Практикум по программированию 10 класс</a> </td>\\n<td> Лицей ВШЭ </td>\\n<td> 10 класс\\n</td></tr>\\n<tr>\\n<td> <a href=\"/Icef-scalc-2022-fall\" title=\"Icef-scalc-2022-fall\">Stochastic Calculus Fall 2022</a> </td>\\n<td>icef, master 1 year </td>\\n<td> 2 module\\n</td></tr>\\n<tr>\\n<td> <a href=\"/Econ_metrics_smfe_2022-23\" title=\"Econ metrics smfe 2022-23\">Эконометрика (продвинутый уровень) 2022-23</a> </td>\\n<td> фэн, магистратура, 1 курс </td>\\n<td> 3-4 модуль\\n</td></tr></table>\\n<h1><span class=\"mw-headline\" id=\".D0.90.D1.80.D1.85.D0.B8.D0.B2_.D0.B4.D0.BE_2021.2F22_.D1.83.D1.87.D0.B5.D0.B1.D0.BD.D0.BE.D0.B3.D0.BE_.D0.B3.D0.BE.D0.B4.D0.B0_.D0.B2.D0.BA.D0.BB.D1.8E.D1.87.D0.B8.D1.82.D0.B5.D0.BB.D1.8C.D0.BD.D0.BE\">Архив до 2021/22 учебного года включительно</span></h1>\\n<p><a href=\"/Wiki_%D0%A4%D0%9A%D0%9D/%D0%90%D1%80%D1%85%D0%B8%D0%B2\" title=\"Wiki ФКН/Архив\">Wiki ФКН/Архив</a>\\n</p>\\n<!-- \\nNewPP limit report\\nCPU time usage: 0.200 seconds\\nReal time usage: 0.209 seconds\\nPreprocessor visited node count: 58/1000000\\nPreprocessor generated node count: 76/1000000\\nPost‐expand include size: 0/2097152 bytes\\nTemplate argument size: 0/2097152 bytes\\nHighest expansion depth: 2/40\\nExpensive parser function count: 0/100\\n-->\\n\\n<!-- Saved in parser cache with key wiki_cs:pcache:idhash:22465-0!*!0!!*!*!* and timestamp 20231019104452 and revision id 80769\\n -->\\n</div>\\t\\t\\t\\t\\t\\t\\t\\t<div class=\"printfooter\">\\n\\t\\t\\t\\tИсточник — «<a href=\"http://wiki.cs.hse.ru/index.php?title=Wiki_ФКН&amp;oldid=80769\">http://wiki.cs.hse.ru/index.php?title=Wiki_ФКН&amp;oldid=80769</a>»\\t\\t\\t\\t</div>\\n\\t\\t\\t\\t\\t\\t\\t\\t\\t\\t\\t\\t<div id=\\'catlinks\\' class=\\'catlinks catlinks-allhidden\\'></div>\\t\\t\\t\\t\\t\\t\\t\\t\\t\\t\\t\\t<div class=\"visualClear\"></div>\\n\\t\\t\\t\\t\\t\\t\\t</div>\\n\\t\\t</div>\\n\\t\\t<div id=\"mw-navigation\">\\n\\t\\t\\t<h2>Навигация</h2>\\n\\t\\t\\t<div id=\"mw-head\">\\n\\t\\t\\t\\t<div id=\"p-personal\" role=\"navigation\" class=\"\" aria-labelledby=\"p-personal-label\">\\n\\t<h3 id=\"p-personal-label\">Персональные инструменты</h3>\\n\\t<ul>\\n<li id=\"pt-login\"><a href=\"/index.php?title=%D0%A1%D0%BB%D1%83%D0%B6%D0%B5%D0%B1%D0%BD%D0%B0%D1%8F:%D0%92%D1%85%D0%BE%D0%B4&amp;returnto=Wiki+%D0%A4%D0%9A%D0%9D\" title=\"Здесь можно зарегистрироваться в системе, но это необязательно. [o]\" accesskey=\"o\">Войти</a></li>\\t</ul>\\n</div>\\n\\t\\t\\t\\t<div id=\"left-navigation\">\\n\\t\\t\\t\\t\\t<div id=\"p-namespaces\" role=\"navigation\" class=\"vectorTabs\" aria-labelledby=\"p-namespaces-label\">\\n\\t<h3 id=\"p-namespaces-label\">Пространства имён</h3>\\n\\t<ul>\\n\\t\\t\\t\\t\\t<li  id=\"ca-nstab-main\" class=\"selected\"><span><a href=\"/Wiki_%D0%A4%D0%9A%D0%9D\"  title=\"Просмотр основной страницы [c]\" accesskey=\"c\">Статья</a></span></li>\\n\\t\\t\\t\\t\\t<li  id=\"ca-talk\"><span><a href=\"/%D0%9E%D0%B1%D1%81%D1%83%D0%B6%D0%B4%D0%B5%D0%BD%D0%B8%D0%B5:Wiki_%D0%A4%D0%9A%D0%9D\"  title=\"Обсуждение основной страницы [t]\" accesskey=\"t\">Обсуждение</a></span></li>\\n\\t\\t\\t</ul>\\n</div>\\n<div id=\"p-variants\" role=\"navigation\" class=\"vectorMenu emptyPortlet\" aria-labelledby=\"p-variants-label\">\\n\\t<h3 id=\"mw-vector-current-variant\">\\n\\t\\t</h3>\\n\\t<h3 id=\"p-variants-label\"><span>Варианты</span><a href=\"#\"></a></h3>\\n\\t<div class=\"menu\">\\n\\t\\t<ul>\\n\\t\\t\\t\\t\\t</ul>\\n\\t</div>\\n</div>\\n\\t\\t\\t\\t</div>\\n\\t\\t\\t\\t<div id=\"right-navigation\">\\n\\t\\t\\t\\t\\t<div id=\"p-views\" role=\"navigation\" class=\"vectorTabs\" aria-labelledby=\"p-views-label\">\\n\\t<h3 id=\"p-views-label\">Просмотры</h3>\\n\\t<ul>\\n\\t\\t\\t\\t\\t<li id=\"ca-view\" class=\"selected\"><span><a href=\"/Wiki_%D0%A4%D0%9A%D0%9D\" >Читать</a></span></li>\\n\\t\\t\\t\\t\\t<li id=\"ca-viewsource\"><span><a href=\"/index.php?title=Wiki_%D0%A4%D0%9A%D0%9D&amp;action=edit\"  title=\"Эта страница защищена от изменений, но вы можете посмотреть и скопировать её исходный текст [e]\" accesskey=\"e\">Просмотр</a></span></li>\\n\\t\\t\\t\\t\\t<li id=\"ca-history\" class=\"collapsible\"><span><a href=\"/index.php?title=Wiki_%D0%A4%D0%9A%D0%9D&amp;action=history\"  title=\"Журнал изменений страницы [h]\" accesskey=\"h\">История</a></span></li>\\n\\t\\t\\t</ul>\\n</div>\\n<div id=\"p-cactions\" role=\"navigation\" class=\"vectorMenu emptyPortlet\" aria-labelledby=\"p-cactions-label\">\\n\\t<h3 id=\"p-cactions-label\"><span>Действия</span><a href=\"#\"></a></h3>\\n\\t<div class=\"menu\">\\n\\t\\t<ul>\\n\\t\\t\\t\\t\\t</ul>\\n\\t</div>\\n</div>\\n<div id=\"p-search\" role=\"search\">\\n\\t<h3><label for=\"searchInput\">Поиск</label></h3>\\n\\t<form action=\"/index.php\" id=\"searchform\">\\n\\t\\t\\t\\t\\t<div id=\"simpleSearch\">\\n\\t\\t\\t\\t\\t<input type=\"search\" name=\"search\" placeholder=\"Поиск\" title=\"Искать в Wiki - Факультет компьютерных наук [f]\" accesskey=\"f\" id=\"searchInput\" /><input type=\"hidden\" value=\"Служебная:Поиск\" name=\"title\" /><input type=\"submit\" name=\"fulltext\" value=\"Найти\" title=\"Найти страницы, содержащие указанный текст\" id=\"mw-searchButton\" class=\"searchButton mw-fallbackSearchButton\" /><input type=\"submit\" name=\"go\" value=\"Перейти\" title=\"Перейти к странице, имеющей в точности такое название\" id=\"searchButton\" class=\"searchButton\" />\\t\\t</div>\\n\\t</form>\\n</div>\\n\\t\\t\\t\\t</div>\\n\\t\\t\\t</div>\\n\\t\\t\\t<div id=\"mw-panel\">\\n\\t\\t\\t\\t\\t<div id=\"p-logo\" role=\"banner\"><a style=\"background-image: url(/skins/logo.png);\" href=\"/%D0%97%D0%B0%D0%B3%D0%BB%D0%B0%D0%B2%D0%BD%D0%B0%D1%8F_%D1%81%D1%82%D1%80%D0%B0%D0%BD%D0%B8%D1%86%D0%B0\"  title=\"Перейти на заглавную страницу\"></a></div>\\n\\t\\t\\t\\t<div class=\"portal\" role=\"navigation\" id=\\'p-navigation\\' aria-labelledby=\\'p-navigation-label\\'>\\n\\t<h3 id=\\'p-navigation-label\\'>Навигация</h3>\\n\\t<div class=\"body\">\\n\\t\\t<ul>\\n\\t\\t\\t<li id=\"n-mainpage-description\"><a href=\"/%D0%97%D0%B0%D0%B3%D0%BB%D0%B0%D0%B2%D0%BD%D0%B0%D1%8F_%D1%81%D1%82%D1%80%D0%B0%D0%BD%D0%B8%D1%86%D0%B0\" title=\"Перейти на заглавную страницу [z]\" accesskey=\"z\">Заглавная страница</a></li>\\n\\t\\t</ul>\\n\\t</div>\\n</div>\\n<div class=\"portal\" role=\"navigation\" id=\\'p-tb\\' aria-labelledby=\\'p-tb-label\\'>\\n\\t<h3 id=\\'p-tb-label\\'>Инструменты</h3>\\n\\t<div class=\"body\">\\n\\t\\t<ul>\\n\\t\\t\\t<li id=\"t-whatlinkshere\"><a href=\"/%D0%A1%D0%BB%D1%83%D0%B6%D0%B5%D0%B1%D0%BD%D0%B0%D1%8F:%D0%A1%D1%81%D1%8B%D0%BB%D0%BA%D0%B8_%D1%81%D1%8E%D0%B4%D0%B0/Wiki_%D0%A4%D0%9A%D0%9D\" title=\"Список всех страниц, ссылающихся на данную [j]\" accesskey=\"j\">Ссылки сюда</a></li>\\n\\t\\t\\t<li id=\"t-recentchangeslinked\"><a href=\"/%D0%A1%D0%BB%D1%83%D0%B6%D0%B5%D0%B1%D0%BD%D0%B0%D1%8F:%D0%A1%D0%B2%D1%8F%D0%B7%D0%B0%D0%BD%D0%BD%D1%8B%D0%B5_%D0%BF%D1%80%D0%B0%D0%B2%D0%BA%D0%B8/Wiki_%D0%A4%D0%9A%D0%9D\" title=\"Последние изменения в страницах, на которые ссылается эта страница [k]\" accesskey=\"k\">Связанные правки</a></li>\\n\\t\\t\\t<li id=\"t-specialpages\"><a href=\"/%D0%A1%D0%BB%D1%83%D0%B6%D0%B5%D0%B1%D0%BD%D0%B0%D1%8F:%D0%A1%D0%BF%D0%B5%D1%86%D1%81%D1%82%D1%80%D0%B0%D0%BD%D0%B8%D1%86%D1%8B\" title=\"Список служебных страниц [q]\" accesskey=\"q\">Спецстраницы</a></li>\\n\\t\\t\\t<li id=\"t-print\"><a href=\"/index.php?title=Wiki_%D0%A4%D0%9A%D0%9D&amp;printable=yes\" rel=\"alternate\" title=\"Версия этой страницы для печати [p]\" accesskey=\"p\">Версия для печати</a></li>\\n\\t\\t\\t<li id=\"t-permalink\"><a href=\"/index.php?title=Wiki_%D0%A4%D0%9A%D0%9D&amp;oldid=80769\" title=\"Постоянная ссылка на эту версию страницы\">Постоянная ссылка</a></li>\\n\\t\\t\\t<li id=\"t-info\"><a href=\"/index.php?title=Wiki_%D0%A4%D0%9A%D0%9D&amp;action=info\">Сведения о странице</a></li>\\n\\t\\t</ul>\\n\\t</div>\\n</div>\\n\\t\\t\\t</div>\\n\\t\\t</div>\\n\\t\\t<div id=\"footer\" role=\"contentinfo\">\\n\\t\\t\\t\\t\\t\\t\\t<ul id=\"footer-info\">\\n\\t\\t\\t\\t\\t\\t\\t\\t\\t\\t\\t<li id=\"footer-info-lastmod\"> Последнее изменение этой страницы: 23:15, 10 октября 2023.</li>\\n\\t\\t\\t\\t\\t\\t\\t\\t\\t\\t\\t<li id=\"footer-info-viewcount\">К этой странице обращались 1\\xa0805\\xa0279 раз.</li>\\n\\t\\t\\t\\t\\t\\t\\t\\t\\t\\t\\t<li id=\"footer-info-copyright\">Содержимое доступно по лицензии <a href=\"/Wiki_-_%D0%A4%D0%B0%D0%BA%D1%83%D0%BB%D1%8C%D1%82%D0%B5%D1%82_%D0%BA%D0%BE%D0%BC%D0%BF%D1%8C%D1%8E%D1%82%D0%B5%D1%80%D0%BD%D1%8B%D1%85_%D0%BD%D0%B0%D1%83%D0%BA:%D0%9E%D0%BF%D0%B8%D1%81%D0%B0%D0%BD%D0%B8%D0%B5\" title=\"Wiki - Факультет компьютерных наук:Описание\">Wiki - Факультет компьютерных наук:Описание</a> (если не указано иное).</li>\\n\\t\\t\\t\\t\\t\\t\\t\\t\\t</ul>\\n\\t\\t\\t\\t\\t\\t\\t<ul id=\"footer-places\">\\n\\t\\t\\t\\t\\t\\t\\t\\t\\t\\t\\t<li id=\"footer-places-privacy\"><a href=\"/Wiki_-_%D0%A4%D0%B0%D0%BA%D1%83%D0%BB%D1%8C%D1%82%D0%B5%D1%82_%D0%BA%D0%BE%D0%BC%D0%BF%D1%8C%D1%8E%D1%82%D0%B5%D1%80%D0%BD%D1%8B%D1%85_%D0%BD%D0%B0%D1%83%D0%BA:%D0%9F%D0%BE%D0%BB%D0%B8%D1%82%D0%B8%D0%BA%D0%B0_%D0%BA%D0%BE%D0%BD%D1%84%D0%B8%D0%B4%D0%B5%D0%BD%D1%86%D0%B8%D0%B0%D0%BB%D1%8C%D0%BD%D0%BE%D1%81%D1%82%D0%B8\" title=\"Wiki - Факультет компьютерных наук:Политика конфиденциальности\">Политика конфиденциальности</a></li>\\n\\t\\t\\t\\t\\t\\t\\t\\t\\t\\t\\t<li id=\"footer-places-about\"><a href=\"/Wiki_-_%D0%A4%D0%B0%D0%BA%D1%83%D0%BB%D1%8C%D1%82%D0%B5%D1%82_%D0%BA%D0%BE%D0%BC%D0%BF%D1%8C%D1%8E%D1%82%D0%B5%D1%80%D0%BD%D1%8B%D1%85_%D0%BD%D0%B0%D1%83%D0%BA:%D0%9E%D0%BF%D0%B8%D1%81%D0%B0%D0%BD%D0%B8%D0%B5\" title=\"Wiki - Факультет компьютерных наук:Описание\">Описание Wiki - Факультет компьютерных наук</a></li>\\n\\t\\t\\t\\t\\t\\t\\t\\t\\t\\t\\t<li id=\"footer-places-disclaimer\"><a href=\"/Wiki_-_%D0%A4%D0%B0%D0%BA%D1%83%D0%BB%D1%8C%D1%82%D0%B5%D1%82_%D0%BA%D0%BE%D0%BC%D0%BF%D1%8C%D1%8E%D1%82%D0%B5%D1%80%D0%BD%D1%8B%D1%85_%D0%BD%D0%B0%D1%83%D0%BA:%D0%9E%D1%82%D0%BA%D0%B0%D0%B7_%D0%BE%D1%82_%D0%BE%D1%82%D0%B2%D0%B5%D1%82%D1%81%D1%82%D0%B2%D0%B5%D0%BD%D0%BD%D0%BE%D1%81%D1%82%D0%B8\" title=\"Wiki - Факультет компьютерных наук:Отказ от ответственности\">Отказ от ответственности</a></li>\\n\\t\\t\\t\\t\\t\\t\\t\\t\\t</ul>\\n\\t\\t\\t\\t\\t\\t\\t\\t\\t\\t<ul id=\"footer-icons\" class=\"noprint\">\\n\\t\\t\\t\\t\\t<li id=\"footer-poweredbyico\">\\n\\t\\t\\t\\t\\t\\t<a href=\"//www.mediawiki.org/\"><img src=\"/skins/common/images/poweredby_mediawiki_88x31.png\" alt=\"Powered by MediaWiki\" width=\"88\" height=\"31\" /></a>\\n\\t\\t\\t\\t\\t</li>\\n\\t\\t\\t\\t</ul>\\n\\t\\t\\t\\t\\t\\t<div style=\"clear:both\"></div>\\n\\t\\t</div>\\n\\t\\t<script>/*<![CDATA[*/window.jQuery && jQuery.ready();/*]]>*/</script><script>if(window.mw){\\nmw.loader.state({\"site\":\"loading\",\"user\":\"ready\",\"user.groups\":\"ready\"});\\n}</script>\\n<script>if(window.mw){\\nmw.loader.load([\"mediawiki.action.view.postEdit\",\"mediawiki.user\",\"mediawiki.hidpi\",\"mediawiki.page.ready\",\"mediawiki.searchSuggest\",\"skins.vector.collapsibleNav\"],null,true);\\n}</script>\\n<script src=\"http://wiki.cs.hse.ru/load.php?debug=false&amp;lang=ru&amp;modules=site&amp;only=scripts&amp;skin=vector&amp;*\"></script>\\n<script>if(window.mw){\\nmw.config.set({\"wgBackendResponseTime\":85});\\n}</script>\\n\\t</body>\\n</html>\\n'"
            ],
            "application/vnd.google.colaboratory.intrinsic+json": {
              "type": "string"
            }
          },
          "metadata": {},
          "execution_count": 9
        }
      ]
    },
    {
      "cell_type": "code",
      "source": [
        "from bs4 import BeautifulSoup\n",
        "\n",
        "soup = BeautifulSoup(page, 'html.parser') # указываем парсер\n",
        "print(soup.prettify()) # выглядит уже более структурно"
      ],
      "metadata": {
        "id": "2KV5oaSbYmgt"
      },
      "execution_count": null,
      "outputs": []
    },
    {
      "cell_type": "markdown",
      "source": [
        "Здесь есть аргумент parser, что это такое? Внутри BeautifulSoup есть несколько различных парсеров, которые можно использовать (в зависимости сложности документа)\n",
        "\n",
        "* html.parser - самый простой и достаточно быстрй парсер, включенный уже внутри BS (чаще всего ничего более не требуется для HTML-документов), а еще он менее строгий к документу (то есть игнорирует всякую фигню)\n",
        "\n",
        "* lxml - парсер из другой бибилотеки (тоже в разделе про XML)\n",
        "\n",
        "* xml - парсер для XML документов (про них позже)\n",
        "\n",
        "* html5lib - парсит как реальный веб-браузер это делает (но его еще отдельно надо установить, работает медленно), очень строгий к формату"
      ],
      "metadata": {
        "id": "ykHLySeqaoGN"
      }
    },
    {
      "cell_type": "markdown",
      "source": [
        "Базово, что мы хотим от парсера? Ходить по тэгам и вытягивать оттуда информацию. В каком-то смысле для этого не требуется знать HTML-язык разметки, но в качестве общего ознакомления почитать про [тэги](https://developer.mozilla.org/ru/docs/Web/HTML) следует\n",
        "\n",
        "Давайте вытянем название странички:"
      ],
      "metadata": {
        "id": "Oa1SDEyMbyXf"
      }
    },
    {
      "cell_type": "code",
      "source": [
        "print(soup.title) #навигация идет по названиям тэгов, например, здесь взяли тэг title\n",
        "print(soup.title.name) # получили название тэга\n",
        "print(soup.title.string) # получили текст внутри тэга - бинго!"
      ],
      "metadata": {
        "colab": {
          "base_uri": "https://localhost:8080/"
        },
        "id": "007CWk5NcEZP",
        "outputId": "996ed73a-d532-4ae2-e5bf-76953c80053b"
      },
      "execution_count": null,
      "outputs": [
        {
          "output_type": "stream",
          "name": "stdout",
          "text": [
            "<title>Wiki ФКН — Wiki - Факультет компьютерных наук</title>\n",
            "title\n",
            "Wiki ФКН — Wiki - Факультет компьютерных наук\n"
          ]
        }
      ]
    },
    {
      "cell_type": "markdown",
      "source": [
        "А теперь давайте разбираться вообще в структуре HTML-странички в целом:\n",
        "\n",
        "- Все, что находится внутри < и > - это тэг. Тэг сам по себе задает различные действия (например, < a > - это ссылка, < h1 > - заголовок первого уровня, самый большой)\n",
        "\n",
        "Все, что внутри тэга - это его контент, то есть то, к чему относится данный тэг. А также у тэга могут быть свои аттрибуты\n",
        "\n",
        "На примере:\n",
        "\n",
        "```\n",
        "        <p>\n",
        "         <a href=\"/%D0%9B%D0%B8%D0%BD%D0%B5%D0%B9%D0%BD%D0%B0%D1%8F_%D0%B0%D0%BB%D0%B3%D0%B5%D0%B1%D1%80%D0%B0_%D0%B8_%D0%B3%D0%B5%D0%BE%D0%BC%D0%B5%D1%82%D1%80%D0%B8%D1%8F_%D0%BD%D0%B0_%D0%9F%D0%9C%D0%98_2022/2023_(%D0%BF%D0%B8%D0%BB%D0%BE%D1%82%D0%BD%D1%8B%D0%B9_%D0%BF%D0%BE%D1%82%D0%BE%D0%BA)\" title=\"Линейная алгебра и геометрия на ПМИ 2022/2023 (пилотный поток)\">\n",
        "          Линейная алгебра и геометрия (пилотный поток)\n",
        "         </a>\n",
        "        </p>\n",
        "```\n",
        "\n",
        "Что видим? Тэг p - абзац, тэг a - ссылка. То есть получаем абзац с текстом \"Линейная алгебра и геометрия (пилотный поток)\", на котором лежит ссылка с адресом href\n",
        "\n",
        "Внутри тэга a есть два аттрибута: href и title (ссылка и название)"
      ],
      "metadata": {
        "id": "X_zyTQNtmFx4"
      }
    },
    {
      "cell_type": "markdown",
      "source": [
        "![](https://younghtml5studynote.files.wordpress.com/2011/12/1.jpg)\n"
      ],
      "metadata": {
        "id": "Je4n64c-ol7H"
      }
    },
    {
      "cell_type": "markdown",
      "source": [
        "Базово внутри любого HTML-документа есть head, body и footer. (Вообще такие тэги появились только в HTML-5, раньше делали просто div)\n",
        "\n",
        "- **Head** - заглавие (где указывается название сайта, а так же отрисовки, стиль, скрипты etc)\n",
        "\n",
        "- **Body** - основное тело документа, где лежит вся информация\n",
        "\n",
        "- **Footer** - это все, что находится внизу. Многие не любят делать footer отдельно, а тупо вгоняют его в body, выделяя отдельно место (с помощью div)\n",
        "\n",
        "Также скрипты могут встречаться в любом случае, если надо что-то подятнуть\n",
        "\n",
        "Это вот такая база для понимания, как страница устроена"
      ],
      "metadata": {
        "id": "AbiOGBeMnrDE"
      }
    },
    {
      "cell_type": "markdown",
      "source": [
        "Нас, наверное, не очень интересует header и footer, так как хотим доставать основную информацию. Давайте по коду определим, где находится то, что нам нужно.\n",
        "\n",
        "Оно находится внутри ```<div id=\"bodyContent\"> ```. Давайте туда и перейдем"
      ],
      "metadata": {
        "id": "GgFpJIQWpDvY"
      }
    },
    {
      "cell_type": "code",
      "source": [
        "root = soup.find(id=\"bodyContent\") #с помощью функции find можно искать необходимые тэги, id.\n",
        "# Если какой-то более сложный атрибут, то можно передать через словарь attrs"
      ],
      "metadata": {
        "id": "Zs2AHEPnp5lq"
      },
      "execution_count": null,
      "outputs": []
    },
    {
      "cell_type": "markdown",
      "source": [
        "### Ищем данные"
      ],
      "metadata": {
        "id": "8XNYG2UGqicJ"
      }
    },
    {
      "cell_type": "markdown",
      "source": [
        "Давайте теперь вытянем все названия второго уровня с сайта (то есть это на сайте будет \"Курсы за 2022/23 год\", \"Курсы в рамках проекта Data Culture\" etc)\n",
        "\n",
        "Все они находятся в тэгах < h2 >. Значит надо найти все такие тэги и вывести текст!\n",
        "\n",
        "Для этого есть функция ```find_all```"
      ],
      "metadata": {
        "id": "6NRE97zFcgSN"
      }
    },
    {
      "cell_type": "code",
      "source": [
        "root.find_all('h2')[0].contents #Вывели самый первый такой, но при этом он еще в какой-то мишуре в виде span"
      ],
      "metadata": {
        "colab": {
          "base_uri": "https://localhost:8080/"
        },
        "id": "SIz21_gOdEzM",
        "outputId": "ec85390c-9ccc-4579-f141-bfde9f813964"
      },
      "execution_count": null,
      "outputs": [
        {
          "output_type": "execute_result",
          "data": {
            "text/plain": [
              "[<span class=\"mw-headline\" id=\".D0.9A.D1.83.D1.80.D1.81.D1.8B_.D0.B7.D0.B0_2022.2F23_.D1.83.D1.87.D0.B5.D0.B1.D0.BD.D1.8B.D0.B9_.D0.B3.D0.BE.D0.B4\">Курсы за 2022/23 учебный год</span>]"
            ]
          },
          "metadata": {},
          "execution_count": 56
        }
      ]
    },
    {
      "cell_type": "code",
      "source": [
        "root.find_all('h2')[0].span.string # Хопа, прошли по span и вывели сам текст!"
      ],
      "metadata": {
        "colab": {
          "base_uri": "https://localhost:8080/"
        },
        "id": "2bRBnKUEda_q",
        "outputId": "7c66066e-5d99-4765-c9cb-b65bf016bc48"
      },
      "execution_count": null,
      "outputs": [
        {
          "output_type": "execute_result",
          "data": {
            "text/plain": [
              "'Курсы за 2022/23 учебный год'"
            ],
            "application/vnd.google.colaboratory.intrinsic+json": {
              "type": "string"
            }
          },
          "metadata": {},
          "execution_count": 59
        }
      ]
    },
    {
      "cell_type": "code",
      "source": [
        "root.find_all('h2') # Вытянули все значения, осталось проитерироваться и достать все"
      ],
      "metadata": {
        "colab": {
          "base_uri": "https://localhost:8080/"
        },
        "id": "DflkhxBXd31r",
        "outputId": "b8797beb-ab4f-4ac5-ed34-a97ba2802f3c"
      },
      "execution_count": null,
      "outputs": [
        {
          "output_type": "execute_result",
          "data": {
            "text/plain": [
              "[<h2><span class=\"mw-headline\" id=\".D0.9A.D1.83.D1.80.D1.81.D1.8B_.D0.B7.D0.B0_2022.2F23_.D1.83.D1.87.D0.B5.D0.B1.D0.BD.D1.8B.D0.B9_.D0.B3.D0.BE.D0.B4\">Курсы за 2022/23 учебный год</span></h2>,\n",
              " <h2><span class=\"mw-headline\" id=\".D0.9A.D1.83.D1.80.D1.81.D1.8B_.D0.B2_.D1.80.D0.B0.D0.BC.D0.BA.D0.B0.D1.85_.D0.BF.D1.80.D0.BE.D0.B5.D0.BA.D1.82.D0.B0_Data_Culture\">Курсы в рамках проекта <a class=\"external text\" href=\"https://www.hse.ru/dataculture/\" rel=\"nofollow\">Data Culture</a></span></h2>,\n",
              " <h2><span class=\"mw-headline\" id=\".D0.9A.D1.83.D1.80.D1.81.D1.8B_.D0.BC.D0.B0.D0.B3.D0.B8.D1.81.D1.82.D1.80.D0.B0.D1.82.D1.83.D1.80.D1.8B_.D0.A4.D0.9A.D0.9D\">Курсы магистратуры ФКН</span></h2>,\n",
              " <h2><span class=\"mw-headline\" id=\".D0.9A.D1.83.D1.80.D1.81.D1.8B_.D0.B4.D1.80.D1.83.D0.B3.D0.B8.D1.85_.D1.84.D0.B0.D0.BA.D1.83.D0.BB.D1.8C.D1.82.D0.B5.D1.82.D0.BE.D0.B2\">Курсы других факультетов</span></h2>,\n",
              " <h2><span class=\"mw-headline\" id=\".D0.9A.D1.83.D1.80.D1.81.D1.8B_.D0.B7.D0.B0_2021.2F22_.D1.83.D1.87.D0.B5.D0.B1.D0.BD.D1.8B.D0.B9_.D0.B3.D0.BE.D0.B4\">Курсы за 2021/22 учебный год</span></h2>,\n",
              " <h2><span class=\"mw-headline\" id=\".D0.9A.D1.83.D1.80.D1.81.D1.8B_.D0.B2_.D1.80.D0.B0.D0.BC.D0.BA.D0.B0.D1.85_.D0.BF.D1.80.D0.BE.D0.B5.D0.BA.D1.82.D0.B0_Data_Culture_2\">Курсы в рамках проекта <a class=\"external text\" href=\"https://www.hse.ru/dataculture/\" rel=\"nofollow\">Data Culture</a></span></h2>,\n",
              " <h2><span class=\"mw-headline\" id=\".D0.9A.D1.83.D1.80.D1.81.D1.8B_.D0.BC.D0.B0.D0.B3.D0.B8.D1.81.D1.82.D1.80.D0.B0.D1.82.D1.83.D1.80.D1.8B_.D0.A4.D0.9A.D0.9D_2\">Курсы магистратуры ФКН</span></h2>,\n",
              " <h2><span class=\"mw-headline\" id=\".D0.9A.D1.83.D1.80.D1.81.D1.8B_.D0.B4.D1.80.D1.83.D0.B3.D0.B8.D1.85_.D1.84.D0.B0.D0.BA.D1.83.D0.BB.D1.8C.D1.82.D0.B5.D1.82.D0.BE.D0.B2_2\">Курсы других факультетов</span></h2>]"
            ]
          },
          "metadata": {},
          "execution_count": 60
        }
      ]
    },
    {
      "cell_type": "code",
      "source": [
        "for k in root.find_all('h2'):\n",
        "    print(k.span.contents) # Почему берем именно contents? Потому что если внутри есть еще один тэг, то это дополнительно дробление (a)"
      ],
      "metadata": {
        "colab": {
          "base_uri": "https://localhost:8080/"
        },
        "id": "90lha17ueSIb",
        "outputId": "5df315f7-71af-4338-fd0e-b5c03647ebd5"
      },
      "execution_count": null,
      "outputs": [
        {
          "output_type": "stream",
          "name": "stdout",
          "text": [
            "['Курсы за 2022/23 учебный год']\n",
            "['Курсы в рамках проекта ', <a class=\"external text\" href=\"https://www.hse.ru/dataculture/\" rel=\"nofollow\">Data Culture</a>]\n",
            "['Курсы магистратуры ФКН']\n",
            "['Курсы других факультетов']\n",
            "['Курсы за 2021/22 учебный год']\n",
            "['Курсы в рамках проекта ', <a class=\"external text\" href=\"https://www.hse.ru/dataculture/\" rel=\"nofollow\">Data Culture</a>]\n",
            "['Курсы магистратуры ФКН']\n",
            "['Курсы других факультетов']\n"
          ]
        }
      ]
    },
    {
      "cell_type": "markdown",
      "source": [
        "В чем проблема? Так в том, что тут еще есть ссылки, из которых надо тоже все это вытягивать:"
      ],
      "metadata": {
        "id": "NSE3MId2hKJY"
      }
    },
    {
      "cell_type": "code",
      "source": [
        "for k in root.find_all('h2'):\n",
        "    res = \"\"\n",
        "    if k.a is not None:\n",
        "        res += k.span.contents[0]\n",
        "        res += k.span.a.string\n",
        "    else:\n",
        "        res += k.span.string\n",
        "    print(res)"
      ],
      "metadata": {
        "colab": {
          "base_uri": "https://localhost:8080/"
        },
        "id": "MPigc7QphQkz",
        "outputId": "25481490-a9e1-4919-9e7b-7e60a9538b66"
      },
      "execution_count": null,
      "outputs": [
        {
          "output_type": "stream",
          "name": "stdout",
          "text": [
            "Курсы за 2022/23 учебный год\n",
            "Курсы в рамках проекта Data Culture\n",
            "Курсы магистратуры ФКН\n",
            "Курсы других факультетов\n",
            "Курсы за 2021/22 учебный год\n",
            "Курсы в рамках проекта Data Culture\n",
            "Курсы магистратуры ФКН\n",
            "Курсы других факультетов\n"
          ]
        }
      ]
    },
    {
      "cell_type": "markdown",
      "source": [
        "### Поиск текста и ссылок"
      ],
      "metadata": {
        "id": "8j8LM8ufrNaJ"
      }
    },
    {
      "cell_type": "markdown",
      "source": [
        "Ура, получилось! Чуть-чуть глиномесно, но представьте делать это совсем руками...\n",
        "\n",
        "Хорошо, допустим, что теперь мы хотим просто получить весь текст с сайта, как бы сделать?"
      ],
      "metadata": {
        "id": "7n7HPVWViN3e"
      }
    },
    {
      "cell_type": "code",
      "source": [
        "print(root.stripped_strings) # получаем генератор, который очищает от тэгов и внутри них ищет текст\n",
        "print(root.strings)"
      ],
      "metadata": {
        "colab": {
          "base_uri": "https://localhost:8080/"
        },
        "id": "cARVQtbar--D",
        "outputId": "add15183-ddb1-41fb-af60-a2a1754b5730"
      },
      "execution_count": null,
      "outputs": [
        {
          "output_type": "stream",
          "name": "stdout",
          "text": [
            "<generator object Tag.stripped_strings at 0x7f17b4ca2f50>\n",
            "<generator object Tag._all_strings at 0x7f17b4ca2f50>\n"
          ]
        }
      ]
    },
    {
      "cell_type": "markdown",
      "source": [
        "В чем разница?"
      ],
      "metadata": {
        "id": "ng3AqPtcsWfk"
      }
    },
    {
      "cell_type": "code",
      "source": [
        "print(next(root.stripped_strings)) # убирает всякие переносы строк, табуляицю etc\n",
        "print(next(root.strings))"
      ],
      "metadata": {
        "colab": {
          "base_uri": "https://localhost:8080/"
        },
        "id": "k1L9S626sYbl",
        "outputId": "b6b23a94-6395-4260-c249-9daaf1169d21"
      },
      "execution_count": null,
      "outputs": [
        {
          "output_type": "stream",
          "name": "stdout",
          "text": [
            "Материал из Wiki - Факультет компьютерных наук\n",
            "\n",
            "\n"
          ]
        }
      ]
    },
    {
      "cell_type": "markdown",
      "source": [
        "Давайте теперь все напечатаем:"
      ],
      "metadata": {
        "id": "U7g2X1y_yrKA"
      }
    },
    {
      "cell_type": "code",
      "source": [
        "for text in root.stripped_strings:\n",
        "    print(text)"
      ],
      "metadata": {
        "id": "X2yeRFWhyu1b"
      },
      "execution_count": null,
      "outputs": []
    },
    {
      "cell_type": "markdown",
      "source": [
        "А теперь хотим найти ссылки - достаточн частая задача.\n",
        "\n",
        "Ссылки (кликабельные) всегда находятся в тэге a. Поэтому давайте икать в них атрибут href (который задает ссылку)\n",
        "\n",
        "Внутри любого тэга можно достать атрибут с помощью get():"
      ],
      "metadata": {
        "id": "ZmVeZjvuy9Sv"
      }
    },
    {
      "cell_type": "code",
      "source": [
        "for a in root.find_all('a'):\n",
        "    print(a.get('href'))"
      ],
      "metadata": {
        "id": "aHTZlccYj9uV"
      },
      "execution_count": null,
      "outputs": []
    },
    {
      "cell_type": "markdown",
      "source": [
        "В чем проблема? В том, что мы находим None (есть тэг, но нет ссылки) и что есть навигация по внутренним страничкам (Вики же)\n",
        "\n",
        "Давайте оставим именно ссылки:"
      ],
      "metadata": {
        "id": "b9MtDLC-zWTr"
      }
    },
    {
      "cell_type": "code",
      "source": [
        "for a in root.find_all('a'):\n",
        "    if a.get('href') is not None and 'http' in a.get('href'):\n",
        "        print(a.get('href'))"
      ],
      "metadata": {
        "id": "vtgSjgy1zjDR"
      },
      "execution_count": null,
      "outputs": []
    },
    {
      "cell_type": "markdown",
      "source": [
        "### Дополнительно"
      ],
      "metadata": {
        "id": "lrjgjhC5Q2mj"
      }
    },
    {
      "cell_type": "markdown",
      "source": [
        "Что еще умеем? Хотим по родителям, детям и соседям (вверх, вниз, вправо-влево)"
      ],
      "metadata": {
        "id": "oLZ4vdPKQ6_I"
      }
    },
    {
      "cell_type": "code",
      "source": [
        "k = root.find(\"a\")\n",
        "print(root.find(\"a\"))\n",
        "print(k.next_element) #следующий элемент\n",
        "print(k.previous_element) #прошлый элемент\n",
        "print(k.parent) # внутри какого уровня находимя\n",
        "print(k.child) #что внутри по уровню"
      ],
      "metadata": {
        "colab": {
          "base_uri": "https://localhost:8080/"
        },
        "id": "u1t15snkRBz0",
        "outputId": "667f9111-b9fa-4b28-f5e6-19880f2c680a"
      },
      "execution_count": null,
      "outputs": [
        {
          "output_type": "stream",
          "name": "stdout",
          "text": [
            "<a href=\"/index.php?title=%D0%97%D0%B0%D0%B3%D0%BB%D0%B0%D0%B2%D0%BD%D0%B0%D1%8F_%D1%81%D1%82%D1%80%D0%B0%D0%BD%D0%B8%D1%86%D0%B0&amp;redirect=no\" title=\"Заглавная страница\">Заглавная страница</a>\n",
            "Заглавная страница\n",
            "(перенаправлено с «\n",
            "<div id=\"contentSub\">(перенаправлено с «<a href=\"/index.php?title=%D0%97%D0%B0%D0%B3%D0%BB%D0%B0%D0%B2%D0%BD%D0%B0%D1%8F_%D1%81%D1%82%D1%80%D0%B0%D0%BD%D0%B8%D1%86%D0%B0&amp;redirect=no\" title=\"Заглавная страница\">Заглавная страница</a>»)</div>\n",
            "None\n"
          ]
        }
      ]
    },
    {
      "cell_type": "markdown",
      "source": [
        "Отдельно есть функция select, с помощью которой можно задавать более конкретно, что мы ищем:"
      ],
      "metadata": {
        "id": "Mj00SBzqSV3X"
      }
    },
    {
      "cell_type": "code",
      "source": [
        "root.select(\"h2 > span\") #найти все тэги h2, внутри которых лежит span"
      ],
      "metadata": {
        "colab": {
          "base_uri": "https://localhost:8080/"
        },
        "id": "gvVH5xzzSj9t",
        "outputId": "edee7f6c-f98a-4156-accf-e86b5ccd091a"
      },
      "execution_count": null,
      "outputs": [
        {
          "output_type": "execute_result",
          "data": {
            "text/plain": [
              "[<span class=\"mw-headline\" id=\".D0.9A.D1.83.D1.80.D1.81.D1.8B_.D0.B7.D0.B0_2022.2F23_.D1.83.D1.87.D0.B5.D0.B1.D0.BD.D1.8B.D0.B9_.D0.B3.D0.BE.D0.B4\">Курсы за 2022/23 учебный год</span>,\n",
              " <span class=\"mw-headline\" id=\".D0.9A.D1.83.D1.80.D1.81.D1.8B_.D0.B2_.D1.80.D0.B0.D0.BC.D0.BA.D0.B0.D1.85_.D0.BF.D1.80.D0.BE.D0.B5.D0.BA.D1.82.D0.B0_Data_Culture\">Курсы в рамках проекта <a class=\"external text\" href=\"https://www.hse.ru/dataculture/\" rel=\"nofollow\">Data Culture</a></span>,\n",
              " <span class=\"mw-headline\" id=\".D0.9A.D1.83.D1.80.D1.81.D1.8B_.D0.BC.D0.B0.D0.B3.D0.B8.D1.81.D1.82.D1.80.D0.B0.D1.82.D1.83.D1.80.D1.8B_.D0.A4.D0.9A.D0.9D\">Курсы магистратуры ФКН</span>,\n",
              " <span class=\"mw-headline\" id=\".D0.9A.D1.83.D1.80.D1.81.D1.8B_.D0.B4.D1.80.D1.83.D0.B3.D0.B8.D1.85_.D1.84.D0.B0.D0.BA.D1.83.D0.BB.D1.8C.D1.82.D0.B5.D1.82.D0.BE.D0.B2\">Курсы других факультетов</span>,\n",
              " <span class=\"mw-headline\" id=\".D0.9A.D1.83.D1.80.D1.81.D1.8B_.D0.B7.D0.B0_2021.2F22_.D1.83.D1.87.D0.B5.D0.B1.D0.BD.D1.8B.D0.B9_.D0.B3.D0.BE.D0.B4\">Курсы за 2021/22 учебный год</span>,\n",
              " <span class=\"mw-headline\" id=\".D0.9A.D1.83.D1.80.D1.81.D1.8B_.D0.B2_.D1.80.D0.B0.D0.BC.D0.BA.D0.B0.D1.85_.D0.BF.D1.80.D0.BE.D0.B5.D0.BA.D1.82.D0.B0_Data_Culture_2\">Курсы в рамках проекта <a class=\"external text\" href=\"https://www.hse.ru/dataculture/\" rel=\"nofollow\">Data Culture</a></span>,\n",
              " <span class=\"mw-headline\" id=\".D0.9A.D1.83.D1.80.D1.81.D1.8B_.D0.BC.D0.B0.D0.B3.D0.B8.D1.81.D1.82.D1.80.D0.B0.D1.82.D1.83.D1.80.D1.8B_.D0.A4.D0.9A.D0.9D_2\">Курсы магистратуры ФКН</span>,\n",
              " <span class=\"mw-headline\" id=\".D0.9A.D1.83.D1.80.D1.81.D1.8B_.D0.B4.D1.80.D1.83.D0.B3.D0.B8.D1.85_.D1.84.D0.B0.D0.BA.D1.83.D0.BB.D1.8C.D1.82.D0.B5.D1.82.D0.BE.D0.B2_2\">Курсы других факультетов</span>]"
            ]
          },
          "metadata": {},
          "execution_count": 90
        }
      ]
    },
    {
      "cell_type": "code",
      "source": [
        "soup.select(\"#right-navigation\") #поиск по id"
      ],
      "metadata": {
        "colab": {
          "base_uri": "https://localhost:8080/"
        },
        "id": "fbgSp7HyTNzo",
        "outputId": "42143ca5-ac58-4cd4-9684-5b79aa942454"
      },
      "execution_count": null,
      "outputs": [
        {
          "output_type": "execute_result",
          "data": {
            "text/plain": [
              "[<div id=\"right-navigation\">\n",
              " <div aria-labelledby=\"p-views-label\" class=\"vectorTabs\" id=\"p-views\" role=\"navigation\">\n",
              " <h3 id=\"p-views-label\">Просмотры</h3>\n",
              " <ul>\n",
              " <li class=\"selected\" id=\"ca-view\"><span><a href=\"/Wiki_%D0%A4%D0%9A%D0%9D\">Читать</a></span></li>\n",
              " <li id=\"ca-viewsource\"><span><a accesskey=\"e\" href=\"/index.php?title=Wiki_%D0%A4%D0%9A%D0%9D&amp;action=edit\" title=\"Эта страница защищена от изменений, но вы можете посмотреть и скопировать её исходный текст [e]\">Просмотр</a></span></li>\n",
              " <li class=\"collapsible\" id=\"ca-history\"><span><a accesskey=\"h\" href=\"/index.php?title=Wiki_%D0%A4%D0%9A%D0%9D&amp;action=history\" title=\"Журнал изменений страницы [h]\">История</a></span></li>\n",
              " </ul>\n",
              " </div>\n",
              " <div aria-labelledby=\"p-cactions-label\" class=\"vectorMenu emptyPortlet\" id=\"p-cactions\" role=\"navigation\">\n",
              " <h3 id=\"p-cactions-label\"><span>Действия</span><a href=\"#\"></a></h3>\n",
              " <div class=\"menu\">\n",
              " <ul>\n",
              " </ul>\n",
              " </div>\n",
              " </div>\n",
              " <div id=\"p-search\" role=\"search\">\n",
              " <h3><label for=\"searchInput\">Поиск</label></h3>\n",
              " <form action=\"/index.php\" id=\"searchform\">\n",
              " <div id=\"simpleSearch\">\n",
              " <input accesskey=\"f\" id=\"searchInput\" name=\"search\" placeholder=\"Поиск\" title=\"Искать в Wiki - Факультет компьютерных наук [f]\" type=\"search\"/><input name=\"title\" type=\"hidden\" value=\"Служебная:Поиск\"/><input class=\"searchButton mw-fallbackSearchButton\" id=\"mw-searchButton\" name=\"fulltext\" title=\"Найти страницы, содержащие указанный текст\" type=\"submit\" value=\"Найти\"/><input class=\"searchButton\" id=\"searchButton\" name=\"go\" title=\"Перейти к странице, имеющей в точности такое название\" type=\"submit\" value=\"Перейти\"/> </div>\n",
              " </form>\n",
              " </div>\n",
              " </div>]"
            ]
          },
          "metadata": {},
          "execution_count": 91
        }
      ]
    },
    {
      "cell_type": "markdown",
      "source": [
        "Можно усилить BeautifulSoup: там можно и изменять HTML-код (добавлять-удалять-менять тэги, аттрибуты etc)\n",
        "\n",
        "Но главное, что BS умеет работать с паттернами регулярок и ходят бок о бок!"
      ],
      "metadata": {
        "id": "sbttAtotTj8Y"
      }
    },
    {
      "cell_type": "markdown",
      "source": [
        "## Попугай дня"
      ],
      "metadata": {
        "id": "A4MnvHjmDNQy"
      }
    },
    {
      "cell_type": "markdown",
      "source": [
        "![](https://upload.wikimedia.org/wikipedia/commons/thumb/c/ca/Rose-ringed_parakeet_%28Psittacula_krameri_manillensis%29.jpg/1024px-Rose-ringed_parakeet_%28Psittacula_krameri_manillensis%29.jpg)"
      ],
      "metadata": {
        "id": "_Do1QwYBEKr6"
      }
    },
    {
      "cell_type": "markdown",
      "source": [
        "А это ожереловый попугай (или индийский кольчатый попугай). Этот вид явно выделяет наличие такого колечка на шее. Самый распространенный попугай в мире\n",
        "\n",
        "Они очень хорошо и быстро летают, но ходят максимально неуклюже)\n",
        "\n",
        "В отличии от многих попугаев, для которых человеческая деятельность является вредом и уменьшает их естественный ареал обитания, то как раз для этих птиц человеческая деятельность - это плюс, потому что они находят корм внутри человеческих обществ (не боятся людей, лучше всего приспосабливаются, едят пшеницу). Поговаривают, что в качестве домашних попугаев их держали еще в древней Греции и Риме, а в  средневековой Индии ожереловые попугаи часто были питомцами знатных особ и монархов, причём владение этим попугаем считалось элементом роскоши и престижа"
      ],
      "metadata": {
        "id": "2aljCpwJEM-z"
      }
    }
  ]
}
