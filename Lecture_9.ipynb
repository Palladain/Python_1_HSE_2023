{
  "nbformat": 4,
  "nbformat_minor": 0,
  "metadata": {
    "colab": {
      "provenance": [],
      "collapsed_sections": [
        "-2k_UncjnhHQ",
        "c11qThyDs5tj",
        "g5mUKTcO5Cv2",
        "XQyJ09DF9DEN",
        "qrLg4waSKBCh",
        "gMFY_bf533vm"
      ]
    },
    "kernelspec": {
      "name": "python3",
      "display_name": "Python 3"
    },
    "language_info": {
      "name": "python"
    }
  },
  "cells": [
    {
      "cell_type": "markdown",
      "source": [
        "# Python-1, лекция 9\n",
        "\n",
        "Лектор: Петров Тимур"
      ],
      "metadata": {
        "id": "hprOLVzS5nOp"
      }
    },
    {
      "cell_type": "markdown",
      "source": [
        "# Регулярные выражения"
      ],
      "metadata": {
        "id": "xSQAp0rw6-Qr"
      }
    },
    {
      "cell_type": "markdown",
      "metadata": {
        "id": "NZiBXLMElWND"
      },
      "source": [
        "## Что такое регулярные выражения?\n",
        "\n",
        "Регулярное выражение - это строка, которая задает некоторый паттерн (шаблон) для поиска внутри строки. С его помощью можно находить в тексте необходимые части (например, все города внутри текста, слова на русском и так далее), а также проверять строки на правильность (например, проверка e-mail, телефона и тому подобное)\n",
        "\n",
        "Это очень удобная и сильная вещь, но палка о двух концах (об этом будет далее). Итак, приступим:"
      ]
    },
    {
      "cell_type": "markdown",
      "metadata": {
        "id": "IK83DxlUmx83"
      },
      "source": [
        "## Где потренироваться и проверять регулярку\n",
        "\n",
        "Ответ очевиден - в Питоне с помощью библиотеки re 🐍\n",
        "\n",
        "[Ссылка на документацию](https://docs.python.org/3/library/re.html) (осторожно, english)\n",
        "\n",
        "Но если лень писать код, или хочется видеть результат в режиме онлайн, то существует множество сайтов, где можно это посмотреть, например, [вот здесь](https://https://regex101.com/) (не забудьте слева выбрать Flavor Python, потому что реализация различается, хоть и не сильно)"
      ]
    },
    {
      "cell_type": "markdown",
      "metadata": {
        "id": "-2k_UncjnhHQ"
      },
      "source": [
        "## Основы и квантификаторы"
      ]
    },
    {
      "cell_type": "markdown",
      "source": [
        "Допустим, вам нужно найти просто все вхождения слова внутри текста. Тогда регулярное выражение не будет иметь в себе никаких сложностей и будет состоять из самого слова:"
      ],
      "metadata": {
        "id": "jYQTZCgj6Ke3"
      }
    },
    {
      "cell_type": "code",
      "metadata": {
        "colab": {
          "base_uri": "https://localhost:8080/"
        },
        "id": "r1O9hf6OlQOT",
        "outputId": "2c6a3869-222f-4bfe-c803-e984788310c6"
      },
      "source": [
        "import re # библиотека для регулярок в Питоне\n",
        "\n",
        "# re.search(pattern, text) - поиск первого паттерна вида pattern внутри строки text.\n",
        "\n",
        "match = re.search(r'ah', r'ahahah aha') # r перед строкой - считываем строку как есть (raw)\n",
        "print(match)\n",
        "print(match.group(0))\n",
        "\n",
        "# re.findall(pattern, text) - поиск всех паттернов вида pattern внутри строки text. Возвращает список всех совпадений\n",
        "\n",
        "match = re.findall(r'aha', r'ahahah aha') # r перед строкой - считываем строку как есть (raw)\n",
        "print(match)\n",
        "\n",
        "# re.compile(pattern, flags) - запись паттерна, который можно использовать в дальнейшем. Flags дает дополнительные фичи\n",
        "\n",
        "pattern = re.compile(r'aha', flags = re.A)\n",
        "print(pattern)\n",
        "match = re.findall(pattern, r'ahahah aha')\n",
        "print(match)"
      ],
      "execution_count": null,
      "outputs": [
        {
          "output_type": "stream",
          "name": "stdout",
          "text": [
            "<re.Match object; span=(0, 2), match='ah'>\n",
            "ah\n",
            "['aha', 'aha']\n",
            "re.compile('aha', re.ASCII)\n",
            "['aha', 'aha']\n"
          ]
        }
      ]
    },
    {
      "cell_type": "markdown",
      "metadata": {
        "id": "nba8w_oPqrLw"
      },
      "source": [
        "Усложним задачу. Допустим, что мы ищем слово цвет на английском, которое может записываться как color (Ам), так и colour (Бр)\n",
        "\n",
        "Для этого есть квантификаторы, которые могут учитывать, сколько раз может встречаться та или иная буква:\n",
        "\n",
        "*   {a} - встречается ровно a раз\n",
        "*   {a,b} - встречается от a до b раз\n",
        "*   {,b} - максимум b раз\n",
        "*   {a,} - минимум a раз\n",
        "\n",
        "Квантификатор будет ставится после буквы (или простого шаблона), для которого он нужен.\n",
        "\n",
        "В нашем случае это будет выглядеть так:\n",
        "\n"
      ]
    },
    {
      "cell_type": "code",
      "metadata": {
        "colab": {
          "base_uri": "https://localhost:8080/"
        },
        "id": "TLPeBBLTrcyY",
        "outputId": "2b0855fc-ffd0-489e-9624-48ed24aa0851"
      },
      "source": [
        "pattern = re.compile(r'colou{,1}r') # color, colour - будет засчитано\n",
        "s = 'color, colour'\n",
        "match = re.findall(pattern, s)\n",
        "print(match)"
      ],
      "execution_count": null,
      "outputs": [
        {
          "output_type": "stream",
          "name": "stdout",
          "text": [
            "['color', 'colour']\n"
          ]
        }
      ]
    },
    {
      "cell_type": "markdown",
      "metadata": {
        "id": "1fKP3cBFsI-m"
      },
      "source": [
        "Некоторые квантификаторы используется достаточно часто, поэтому для них есть особенные символы:\n",
        "\n",
        "*   $?$ = {0,1} - встречается 0 или 1 раз\n",
        "*   $*$ = {0,} - встречается от 0 раз и больше\n",
        "*   $+$ = {1,} - встречается от 1 раза и больше\n",
        "\n",
        "Можем упростить наше выражение:"
      ]
    },
    {
      "cell_type": "code",
      "metadata": {
        "colab": {
          "base_uri": "https://localhost:8080/"
        },
        "id": "WjuB9ryNsoYP",
        "outputId": "e3bd799b-5d0f-420b-9a73-1ce85102d1d0"
      },
      "source": [
        "pattern = re.compile(r'c?o?l?o?u?r')\n",
        "s = 'color, colour, olur'\n",
        "match = re.findall(pattern, s)\n",
        "print(match)\n",
        "\n",
        "pattern = re.compile(r'colou*r')\n",
        "s = 'color, colour colouuuuuuuuuuuuuuuuuur'\n",
        "match = re.findall(pattern, s)\n",
        "print(match)\n",
        "\n",
        "pattern = re.compile(r'colo.*r')\n",
        "s = 'color, colour colouuuuuuuuuuuuuuuuuur'\n",
        "match = re.findall(pattern, s)\n",
        "print(match)"
      ],
      "execution_count": null,
      "outputs": [
        {
          "output_type": "stream",
          "name": "stdout",
          "text": [
            "['color', 'colour', 'olur']\n",
            "['color', 'colour', 'colouuuuuuuuuuuuuuuuuur']\n",
            "['color, colour colouuuuuuuuuuuuuuuuuur']\n"
          ]
        }
      ]
    },
    {
      "cell_type": "markdown",
      "metadata": {
        "id": "c11qThyDs5tj"
      },
      "source": [
        "## Особые символы"
      ]
    },
    {
      "cell_type": "markdown",
      "source": [
        "Для того, чтобы сделать поиск уникальным, нам теперь надо добавить дополнительные символы, с помощью которых можно осуществлять поиск. Среди таких:\n",
        "\n",
        "*   $.$ - любой символ, кроме начала строки\n",
        "*   $[]$ - набор символов (символы можно перечислять через -, например [A-Z] = все заглавные символы английского алфавита)\n",
        "*   [^] - отрицание набора символов (то есть [^A-Z] = все, кроме заглавных букв английского алфавита)\n",
        "*   ^ - начало текста\n",
        "*   $ - конец текста\n",
        "\n",
        "Отдельные символы для букв, цифр и символов:\n",
        "\n",
        "*   \\d - цифра\n",
        "*   \\D - все, кроме цифры\n",
        "*   \\w - любая буква, цифра, а также нижнее подчеркивание (буква - это все, что считается буквой в Unicode, то есть и русские буквы, и так далее)\n",
        "*   \\W - все, кроме букв, цифр и нижнего подчеркивания\n",
        "*   \\s - пробельные символы (пробел, табуляция, перенос строки и так далее)\n",
        "*   \\S - все, кроме пробельного символа\n",
        "*   \\b - начало слова (слева \\W, справа \\w) - ставится по позиции, а не по символу\n",
        "*   \\B - не начало слова\n",
        "\n",
        "И есть еще один отдельный символ: \\ - символ экранирования. Экранирование дает прочесть символ как символ, а не как шаблон (например, точку). Внутри набора экранируют только символы ] и \\\\.\n"
      ],
      "metadata": {
        "id": "_uf6kR6J6HSb"
      }
    },
    {
      "cell_type": "code",
      "metadata": {
        "colab": {
          "base_uri": "https://localhost:8080/"
        },
        "id": "dNMcq7nZxdmK",
        "outputId": "650a1274-c71d-4927-8539-6ebe3f62855f"
      },
      "source": [
        "# Хотим найти все слова на английском\n",
        "\n",
        "pattern = re.compile(r'[a-zA-Z]+')\n",
        "s = 'color, colour, sfasdas, lfosdlf5lsfl..'\n",
        "match = re.findall(pattern, s)\n",
        "print(match)\n",
        "\n",
        "# Хотим найти даты вида дд.мм.гггг\n",
        "\n",
        "pattern = re.compile(r'\\d{2}\\.\\d{2}\\.\\d{4}')\n",
        "s = 'color, colour, sfasdas, lfosdlf5lsfl 19.04.2012'\n",
        "match = re.findall(pattern, s)\n",
        "print(match)\n",
        "\n",
        "# Хотим найти все слова на английском, перед которыми нет ничего\n",
        "\n",
        "pattern = re.compile(r'\\b[a-zA-Z]+')\n",
        "s = 'color, colour, 4sfasdas, lfosdlf5lsfl'\n",
        "match = re.findall(pattern, s)\n",
        "print(match)"
      ],
      "execution_count": null,
      "outputs": [
        {
          "output_type": "stream",
          "name": "stdout",
          "text": [
            "['color', 'colour', 'sfasdas', 'lfosdlf', 'lsfl']\n",
            "['19.04.2012']\n",
            "['color', 'colour', 'lfosdlf']\n"
          ]
        }
      ]
    },
    {
      "cell_type": "markdown",
      "metadata": {
        "id": "DebQA-MszGjD"
      },
      "source": [
        "## Группировки"
      ]
    },
    {
      "cell_type": "markdown",
      "source": [
        "Допустим, что наш шаблон нужно повторить несколько раз. Например, нам нужно найти MAC-адрес в тексте (MAC-адрес - это физический адрес устройства в Интернете). Он представляет из себя 6 групп из чисел в шестнадцатеричной системе, которая разделена - или : (пример: 01-23-45-67-89-ab)\n",
        "\n",
        "Если писать, как есть, то это будет выглядеть как:\n",
        "\n",
        "[0-9a-fA-F]{2}[:-][0-9a-fA-F]{2}[:-][0-9a-fA-F]{2}[:-][0-9a-fA-F]{2}[:-][0-9a-fA-F]{2}[:-][0-9a-fA-F]{2}\n",
        "\n",
        "Громоздко и некрасиво, читать сложно. Но здесь есть повторяющийся паттерн [0-9a-fA-F]{2}[:-]\n",
        "\n",
        "Паттерны можно группировать с помощью скобок:\n",
        "\n",
        "*   (?:) - внутри указывается паттерн\n",
        "\n",
        "К ней уже можно применять те же самые квантификаторы. И тогда у нас будет:"
      ],
      "metadata": {
        "id": "IXp3GtlW6RU8"
      }
    },
    {
      "cell_type": "code",
      "metadata": {
        "colab": {
          "base_uri": "https://localhost:8080/"
        },
        "id": "-P3leAtj0oQe",
        "outputId": "b5a450a9-2e7f-402c-b30e-8f9c3f4a8719"
      },
      "source": [
        "pattern = re.compile(r'[0-9a-fA-F]{2}(?:[:-][0-9a-fA-F]{2}){5}')\n",
        "s = 'color, colour, sfasdas, lfosdlf5lsfl 19.04.2012 01:89:14:16:a1:a2'\n",
        "match = re.findall(pattern, s)\n",
        "print(match)"
      ],
      "execution_count": null,
      "outputs": [
        {
          "output_type": "stream",
          "name": "stdout",
          "text": [
            "['01:89:14:16:a1:a2']\n"
          ]
        }
      ]
    },
    {
      "cell_type": "markdown",
      "metadata": {
        "id": "nyWWInNv06nP"
      },
      "source": [
        "Кроме того, внутри группировки можно использовать перечисление (логическое OR). Делается это с помощью |\n",
        "\n",
        "Например, пусть часть адреса зашифрована с помощью комбинации xx. Тогда, чтобы найти адрес, надо сделать вот так:"
      ]
    },
    {
      "cell_type": "code",
      "metadata": {
        "colab": {
          "base_uri": "https://localhost:8080/"
        },
        "id": "K_6yJHch1PS2",
        "outputId": "a5e350e1-d0c2-4746-fdad-261b19b32fe2"
      },
      "source": [
        "pattern = re.compile(r'(?:[0-9a-fA-F]{2}|[Xx]{2})(?:[:-][0-9a-fA-F]{2}|[:-][Xx]{2}){5}')\n",
        "s = 'color, colour, sfasdas, lfosdlf5lsfl 19.04.2012 01:22:14:16:a1:a2 xx:-2:14:XX:a1:a2'\n",
        "match = re.findall(pattern, s)\n",
        "print(match)"
      ],
      "execution_count": null,
      "outputs": [
        {
          "output_type": "stream",
          "name": "stdout",
          "text": [
            "['01:12:14:16:a1:a2', 'xx:-2:14:XX:a1:a2']\n"
          ]
        }
      ]
    },
    {
      "cell_type": "markdown",
      "metadata": {
        "id": "PED9_cke2qAW"
      },
      "source": [
        "Группировки могут также использоваться для различных проверок. Скажем, если нам нужно проверить, что перед нужным текстом находятся что-то нужное (например, ищем, когда у нас встречается II только перед именем Николай). Для этого есть так называемые условия lookaround:\n",
        "\n",
        "*   (?=) - проверить, встречается ли этот паттерн после нужного паттерна\n",
        "*   (?!) - проверить, не встречается ли этот паттерн после нужного паттерна\n",
        "*   (?<=) - проверить, встречается ли этот паттерн до нужного паттерна (но только фиксированной длины паттерн)\n",
        "*   (?<!) - проверить, не встречается ли этот паттерн до нужного паттерна\n",
        "\n",
        "Пример:"
      ]
    },
    {
      "cell_type": "code",
      "metadata": {
        "colab": {
          "base_uri": "https://localhost:8080/"
        },
        "id": "WbJWWWX-31Dp",
        "outputId": "0e4a7cd2-2220-4514-b751-2c5b1b806a26"
      },
      "source": [
        "pattern = re.compile(r'(?<=Николай) ?II')\n",
        "s = 'color, colour, sfasdas, lfosdlf5lsfl 19.04.2012 01:12:14:16:a1:a2 xx:12:14:xx:a1:a2 Николай II Александр II НиколайII'\n",
        "match = re.findall(pattern, s)\n",
        "print(match)"
      ],
      "execution_count": null,
      "outputs": [
        {
          "output_type": "stream",
          "name": "stdout",
          "text": [
            "[' II', 'II']\n"
          ]
        }
      ]
    },
    {
      "cell_type": "markdown",
      "metadata": {
        "id": "g5mUKTcO5Cv2"
      },
      "source": [
        "## А теперь про библиотеку re"
      ]
    },
    {
      "cell_type": "markdown",
      "metadata": {
        "id": "tinKFUgv5Rfj"
      },
      "source": [
        "Помимо того, что мы использовали, в библиотеке есть еще куча полезных фич:\n",
        "\n",
        "*   re.sub(pattern, s, text) - заменить все паттерны pattern на строку s. Если не найдет, то вернет исходную строку\n",
        "*   re.split(pattern, text) - разрезать text по pattern. Работает, по сути, как split, только теперь вместо конкретной подстроки паттерн (ура!)\n",
        "*   re.search(pattern, text) - находит первое вхождение pattern в строке и выводит его\n",
        "*   re.match(pattern, text) - проверяет с начала строки, есть ли pattern в text\n",
        "*   re.fullmatch(pattern, text) - проверяет, подходит ли текст под pattern. Если нет, выводит None, иначе объект match"
      ]
    },
    {
      "cell_type": "markdown",
      "metadata": {
        "id": "s0kBCI1x67f4"
      },
      "source": [
        "Внимательные обратили внимание в начале, что у re.compile есть параметр flags. Данный параметр позволяет облегчить работу с паттерном или же добавить условия. На самом деле их несколько, но я приведу только самые частые:\n",
        "\n",
        "*   re.A (или re.ASCII) - для всех особых символов букв-цифр считает только значения по ASCII. Стоит использовать, если не нужно остальное (ускоряет работу)\n",
        "*   re.I (или re.IGNORECASE) - сопоставление без учета регистра (строчные=заглавным)\n",
        "*   re.M (или re.MULTILINE) - символы ^ и $ применяются не только для начала/конца текста, но и для начала/конца строки"
      ]
    },
    {
      "cell_type": "markdown",
      "metadata": {
        "id": "XQyJ09DF9DEN"
      },
      "source": [
        "# Collections"
      ]
    },
    {
      "cell_type": "markdown",
      "metadata": {
        "id": "S2TXmqq79HQ5"
      },
      "source": [
        "Collections - полезная библиотека, в которой содержится несколько дополнительных структур из коробки, с помощью которых можно эффективнее решать задачи. Очень часто бывают нужны и полезны (так что лучше это знать)"
      ]
    },
    {
      "cell_type": "markdown",
      "metadata": {
        "id": "gDTOu7Jd_ANg"
      },
      "source": [
        "Что есть в collections?\n",
        "\n",
        "* Counter - счетчик, можно использовать как словарь-счетчик или мультимножество\n",
        "\n",
        "* deque - двусторонняя очередь (из которой можно сделать и стек, и очередь)\n",
        "\n",
        "* defaultdict - словарь, в котором можно задать дефолтное значение (то есть не надо мучаться с проверкой ключей)"
      ]
    },
    {
      "cell_type": "markdown",
      "metadata": {
        "id": "FQUn7O8dASMO"
      },
      "source": [
        "## Counter\n",
        "\n",
        "Подкласс dict, используется как счетчик. Встроено очень удобное взаимодействие"
      ]
    },
    {
      "cell_type": "code",
      "metadata": {
        "colab": {
          "base_uri": "https://localhost:8080/"
        },
        "id": "gq_0gGrD8xgh",
        "outputId": "3d771833-018b-4537-b859-99142c1f6347"
      },
      "source": [
        "from collections import Counter\n",
        "\n",
        "s = ['ab', 'ab', 'bc', 'cd', 'ab']\n",
        "c = Counter(s)\n",
        "\n",
        "print(c)"
      ],
      "execution_count": null,
      "outputs": [
        {
          "output_type": "stream",
          "name": "stdout",
          "text": [
            "Counter({'ab': 3, 'bc': 1, 'cd': 1})\n"
          ]
        }
      ]
    },
    {
      "cell_type": "code",
      "metadata": {
        "colab": {
          "base_uri": "https://localhost:8080/"
        },
        "id": "pu7_qjzuA0nF",
        "outputId": "7179d710-c3a8-4466-c51b-6d8009dcd717"
      },
      "source": [
        "# обращение к существующему ключу\n",
        "\n",
        "print('ab:', c['ab'])\n",
        "\n",
        "# обращение к несуществующему ключу\n",
        "\n",
        "print('cc:', c['cc'])\n",
        "\n",
        "# вывести все элементы (выводит в порядке, как заносилось, уменьшает тоже в порядке)\n",
        "\n",
        "c['cc'] = 5\n",
        "c['ab'] -= 1\n",
        "print(list(c.elements()))\n",
        "print('-' * 30)\n",
        "# Вывести i самых частых элементов\n",
        "\n",
        "i = 3\n",
        "print(c.most_common(i))\n",
        "print('-' * 30)\n",
        "# Арифметические операции с Counter\n",
        "\n",
        "d = Counter(ab=5, bc=8, dd=1) # можно и так инициализировать, еще можно запихнуть словарь-счетчик\n",
        "print(c)\n",
        "print(d)\n",
        "print(c + d)\n",
        "print(c - d)\n",
        "print(c & d) # минимум по элементам\n",
        "print(c | d) # максимум по элементам\n",
        "print('-' * 30)\n",
        "# получение ключей и значений\n",
        "\n",
        "print(list(c))\n",
        "print(list(c.items()))\n",
        "print(list(c.values()))"
      ],
      "execution_count": null,
      "outputs": [
        {
          "output_type": "stream",
          "name": "stdout",
          "text": [
            "ab: 3\n",
            "cc: 0\n",
            "['ab', 'ab', 'bc', 'cd', 'cc', 'cc', 'cc', 'cc', 'cc']\n",
            "------------------------------\n",
            "[('cc', 5), ('ab', 2), ('bc', 1)]\n",
            "------------------------------\n",
            "Counter({'cc': 5, 'ab': 2, 'bc': 1, 'cd': 1})\n",
            "Counter({'bc': 8, 'ab': 5, 'dd': 1})\n",
            "Counter({'bc': 9, 'ab': 7, 'cc': 5, 'cd': 1, 'dd': 1})\n",
            "Counter({'cc': 5, 'cd': 1})\n",
            "Counter({'ab': 2, 'bc': 1})\n",
            "Counter({'bc': 8, 'ab': 5, 'cc': 5, 'cd': 1, 'dd': 1})\n",
            "------------------------------\n",
            "['ab', 'bc', 'cd', 'cc']\n",
            "[('ab', 2), ('bc', 1), ('cd', 1), ('cc', 5)]\n",
            "[2, 1, 1, 5]\n"
          ]
        }
      ]
    },
    {
      "cell_type": "markdown",
      "metadata": {
        "id": "rwOFD3slETxO"
      },
      "source": [
        "## Deque\n",
        "\n",
        "Двусторонняя очередь. Казалось бы, зачем этим пользоваться, если просто есть список? Экономия по времени для операций вставки и удаления элемента!\n"
      ]
    },
    {
      "cell_type": "markdown",
      "source": [
        "* Stack - LIFO (last in first out) - гора тарелок\n",
        "\n",
        "* Queue - FIFO (first in first out) - очередь в банке\n",
        "\n",
        "* Priority Queue - очередь с приоритетами (value, priority) (1) вначале по приоритету, (2) по вхождению. Реализуется с помощью куч\n",
        "\n",
        "* Deque - Двусторонняя очередь (можно добавлять и забирать как с конца, так и с начала)"
      ],
      "metadata": {
        "id": "bCq_Caxw4R8E"
      }
    },
    {
      "cell_type": "code",
      "source": [
        "a = [1, 2, 3] #Stack ok\n",
        "\n",
        "#a.append() - O(1)\n",
        "#a.pop() - O(1)\n",
        "\n",
        "a = [1, 2, 3] #Queue not ok\n",
        "\n",
        "#a.append() - O(1)\n",
        "#a.remove(0) - O(n) - плохо"
      ],
      "metadata": {
        "id": "HBKiVAUc5XKu"
      },
      "execution_count": null,
      "outputs": []
    },
    {
      "cell_type": "code",
      "metadata": {
        "colab": {
          "base_uri": "https://localhost:8080/"
        },
        "id": "PYeArPSjD_ei",
        "outputId": "186e05c1-0e97-453d-b60a-6927ce4eed02"
      },
      "source": [
        "from collections import deque\n",
        "\n",
        "s = ['ab', 'ab', 'bc', 'cd', 'ab']\n",
        "d = deque(s)\n",
        "print(d)\n",
        "\n",
        "print('-' * 30)\n",
        "\n",
        "for elem in d:\n",
        "    print(elem)\n",
        "\n",
        "print('-' * 30)\n",
        "\n",
        "# Добавление элементов\n",
        "\n",
        "d.append('aa')\n",
        "d.appendleft('dd')\n",
        "d.extend(['hh', 'pp'])\n",
        "d.extendleft(['hh', 'pp'])\n",
        "print(d)\n",
        "\n",
        "print('-' * 30)\n",
        "\n",
        "# Удаление элементов\n",
        "\n",
        "print(d.pop())\n",
        "print(d.popleft())\n",
        "print(d)\n",
        "\n",
        "print('-' * 30)\n",
        "\n",
        "# Обращение к элементам\n",
        "\n",
        "print(d[0])\n",
        "print(d[-2])\n",
        "print(d.count('hh'))\n",
        "\n",
        "print('-' * 30)\n",
        "\n",
        "# Смещение очереди влево-вправо\n",
        "\n",
        "d.rotate(1) # влево\n",
        "# 1-2-3-4-5 -> rotate(1) -> 2-3-4-5-1\n",
        "print(d)\n",
        "d.rotate(-2) # вправо\n",
        "# 1-2-3-4-5 -> rotate(-2) -> 4-5-1-2-3\n",
        "print(d)\n",
        "d.reverse() # перевернуть очередь\n",
        "print(d)\n",
        "\n",
        "print('-' * 30)\n",
        "\n",
        "# вставка и удаление\n",
        "\n",
        "d.insert(1, 'x')\n",
        "print(d)\n",
        "print(d.index('x'))\n",
        "d.remove('x')\n",
        "print(d)"
      ],
      "execution_count": null,
      "outputs": [
        {
          "output_type": "stream",
          "name": "stdout",
          "text": [
            "deque(['ab', 'ab', 'bc', 'cd', 'ab'])\n",
            "------------------------------\n",
            "ab\n",
            "ab\n",
            "bc\n",
            "cd\n",
            "ab\n",
            "------------------------------\n",
            "deque(['pp', 'hh', 'dd', 'ab', 'ab', 'bc', 'cd', 'ab', 'aa', 'hh', 'pp'])\n",
            "------------------------------\n",
            "pp\n",
            "pp\n",
            "deque(['hh', 'dd', 'ab', 'ab', 'bc', 'cd', 'ab', 'aa', 'hh'])\n",
            "------------------------------\n",
            "hh\n",
            "aa\n",
            "2\n",
            "------------------------------\n",
            "deque(['hh', 'hh', 'dd', 'ab', 'ab', 'bc', 'cd', 'ab', 'aa'])\n",
            "deque(['dd', 'ab', 'ab', 'bc', 'cd', 'ab', 'aa', 'hh', 'hh'])\n",
            "deque(['hh', 'hh', 'aa', 'ab', 'cd', 'bc', 'ab', 'ab', 'dd'])\n",
            "------------------------------\n",
            "deque(['hh', 'x', 'hh', 'aa', 'ab', 'cd', 'bc', 'ab', 'ab', 'dd'])\n",
            "1\n",
            "deque(['hh', 'hh', 'aa', 'ab', 'cd', 'bc', 'ab', 'ab', 'dd'])\n"
          ]
        }
      ]
    },
    {
      "cell_type": "markdown",
      "metadata": {
        "id": "Ym-9IZhSHabA"
      },
      "source": [
        "## Defaultdict"
      ]
    },
    {
      "cell_type": "markdown",
      "metadata": {
        "id": "dJVyj9IvHejV"
      },
      "source": [
        "Словарь, где можно задать дефолтное значение для ключей, которых пока нет в словаре. При добавлении не надо использовать get или же проверять, есть ли ключ в словаре\n",
        "\n",
        "Работает полностью как словарь"
      ]
    },
    {
      "cell_type": "code",
      "metadata": {
        "colab": {
          "base_uri": "https://localhost:8080/"
        },
        "id": "S4dCDUDRFJa0",
        "outputId": "6ddc3256-5bc4-4e7d-f141-ccb2aec954b3"
      },
      "source": [
        "from collections import defaultdict\n",
        "\n",
        "d = defaultdict(int) # задаем тип значения по дефолту (если int - то это 0)\n",
        "s = ['ab', 'ab', 'bc', 'cd', 'ab']\n",
        "for elem in s:\n",
        "    d[elem] += 1\n",
        "print(d)\n",
        "\n",
        "print('-' * 30)\n",
        "\n",
        "d = defaultdict(list) # задаем тип значения по дефолту (если int - то это 0)\n",
        "s = ['ab', 'ab', 'bc', 'cd', 'ab']\n",
        "for elem in s:\n",
        "    d[elem].append(elem)\n",
        "print(d)\n",
        "\n",
        "print('-' * 30)\n",
        "\n",
        "d = defaultdict(lambda: '') # в качестве значения по дефолту можно использовать функцию\n",
        "s = ['ab', 'ab', 'bc', 'cd', 'ab']\n",
        "for elem in s:\n",
        "    d[elem] += elem\n",
        "print(d)"
      ],
      "execution_count": null,
      "outputs": [
        {
          "output_type": "stream",
          "name": "stdout",
          "text": [
            "defaultdict(<class 'int'>, {'ab': 3, 'bc': 1, 'cd': 1})\n",
            "------------------------------\n",
            "defaultdict(<class 'list'>, {'ab': ['ab', 'ab', 'ab'], 'bc': ['bc'], 'cd': ['cd']})\n",
            "------------------------------\n",
            "defaultdict(<function <lambda> at 0x7ff35d14e830>, {'ab': 'ababab', 'bc': 'bc', 'cd': 'cd'})\n"
          ]
        }
      ]
    },
    {
      "cell_type": "markdown",
      "metadata": {
        "id": "qrLg4waSKBCh"
      },
      "source": [
        "# Itertools"
      ]
    },
    {
      "cell_type": "markdown",
      "metadata": {
        "id": "9jCNYYPJKFW-"
      },
      "source": [
        "Itertools - библиотека с некоторыми полезными реализованными итераторами. Полезно при генерации последовательностей, создании комбинаций, перестановок, произведений"
      ]
    },
    {
      "cell_type": "code",
      "metadata": {
        "colab": {
          "base_uri": "https://localhost:8080/"
        },
        "id": "r1INzY7SKwXS",
        "outputId": "0f69f9ca-6d5d-456c-d70e-7fb6c9b7be75"
      },
      "source": [
        "from itertools import count, cycle, repeat\n",
        "\n",
        "# Арифметическая прогрессия\n",
        "\n",
        "i = count(10, 2)\n",
        "print(next(i))\n",
        "print(next(i))\n",
        "print(next(i))\n",
        "print(next(i))\n",
        "\n",
        "print('-' * 30)\n",
        "\n",
        "# Цикл\n",
        "\n",
        "i = cycle('ABC')\n",
        "print(next(i))\n",
        "print(next(i))\n",
        "print(next(i))\n",
        "print(next(i))\n",
        "print(next(i))\n",
        "print(next(i))\n",
        "print(next(i))\n",
        "print(next(i))\n",
        "\n",
        "print('-' * 30)\n",
        "\n",
        "# Повтор\n",
        "\n",
        "i = repeat('ABC', 5)\n",
        "print(next(i))\n",
        "print(next(i))\n",
        "print(next(i))\n",
        "print(next(i))\n",
        "print(next(i))"
      ],
      "execution_count": null,
      "outputs": [
        {
          "output_type": "stream",
          "name": "stdout",
          "text": [
            "10\n",
            "12\n",
            "14\n",
            "16\n",
            "------------------------------\n",
            "A\n",
            "B\n",
            "C\n",
            "A\n",
            "B\n",
            "C\n",
            "A\n",
            "B\n",
            "------------------------------\n",
            "ABC\n",
            "ABC\n",
            "ABC\n",
            "ABC\n",
            "ABC\n"
          ]
        }
      ]
    },
    {
      "cell_type": "code",
      "metadata": {
        "colab": {
          "base_uri": "https://localhost:8080/"
        },
        "id": "sCnRkCu3LUMC",
        "outputId": "197e7961-dc36-4ce6-8df3-171bad20b49b"
      },
      "source": [
        "from itertools import zip_longest, accumulate\n",
        "\n",
        "z = zip_longest('ABCD', 'xy', fillvalue='-')\n",
        "\n",
        "for a, b in z:\n",
        "    print(a, b)\n",
        "\n",
        "print('-' * 30)\n",
        "\n",
        "a = accumulate([1, 2, 3, 4])\n",
        "print(next(a))\n",
        "print(next(a))\n",
        "print(next(a))\n",
        "print(next(a))\n"
      ],
      "execution_count": null,
      "outputs": [
        {
          "output_type": "stream",
          "name": "stdout",
          "text": [
            "A x\n",
            "B y\n",
            "C -\n",
            "D -\n",
            "------------------------------\n",
            "1\n",
            "3\n",
            "6\n",
            "10\n"
          ]
        }
      ]
    },
    {
      "cell_type": "markdown",
      "metadata": {
        "id": "FttrJXZlMpnN"
      },
      "source": [
        "Но самое интересное - это комбинаторные итераторы:\n",
        "\n",
        "* product(iter, repeat) - repeat число декартово произведение элементов iter\n",
        "* permutations(iter, r) - все перестановки длины r из iter\n",
        "* combinations(iter, r) - все комбинации длины r из iter (упорядоченные)\n",
        "* combinations_with_replacement(iter, r) - все комбинации с повторениями длины r (упорядоченные)"
      ]
    },
    {
      "cell_type": "code",
      "metadata": {
        "colab": {
          "base_uri": "https://localhost:8080/"
        },
        "id": "HrmFcTymNjAS",
        "outputId": "2fef013a-d9ba-40fe-902b-c0dae7a4f648"
      },
      "source": [
        "from itertools import product, permutations, combinations, combinations_with_replacement\n",
        "\n",
        "a = product('ABCD', repeat=3)\n",
        "print(next(a))\n",
        "print(next(a))\n",
        "print(next(a))\n",
        "print(next(a))\n",
        "\n",
        "print('-' * 30)\n",
        "\n",
        "a = permutations([1, 2, 3], r=3)\n",
        "print(next(a))\n",
        "print(next(a))\n",
        "print(next(a))\n",
        "print(next(a))\n",
        "print(next(a))\n",
        "print(next(a))\n",
        "\n",
        "print('-' * 30)\n",
        "\n",
        "a = combinations('ABACD', r=3)\n",
        "print(next(a))\n",
        "print(next(a))\n",
        "print(next(a))\n",
        "print(next(a))\n",
        "\n",
        "print('-' * 30)\n",
        "\n",
        "a = combinations_with_replacement('ABCD', r=3)\n",
        "print(next(a))\n",
        "print(next(a))\n",
        "print(next(a))\n",
        "print(next(a))\n",
        "\n",
        "print('-' * 30)"
      ],
      "execution_count": null,
      "outputs": [
        {
          "output_type": "stream",
          "name": "stdout",
          "text": [
            "('A', 'A', 'A')\n",
            "('A', 'A', 'B')\n",
            "('A', 'A', 'C')\n",
            "('A', 'A', 'D')\n",
            "------------------------------\n",
            "(1, 2, 3)\n",
            "(1, 3, 2)\n",
            "(2, 1, 3)\n",
            "(2, 3, 1)\n",
            "(3, 1, 2)\n",
            "(3, 2, 1)\n",
            "------------------------------\n",
            "('A', 'B', 'A')\n",
            "('A', 'B', 'C')\n",
            "('A', 'B', 'D')\n",
            "('A', 'A', 'C')\n",
            "------------------------------\n",
            "('A', 'A', 'A')\n",
            "('A', 'A', 'B')\n",
            "('A', 'A', 'C')\n",
            "('A', 'A', 'D')\n",
            "------------------------------\n"
          ]
        }
      ]
    },
    {
      "cell_type": "markdown",
      "source": [
        "# Попугай дня"
      ],
      "metadata": {
        "id": "gMFY_bf533vm"
      }
    },
    {
      "cell_type": "markdown",
      "source": [
        "![Жако](https://petshop-vrn.ru/wp-content/uploads/6/c/a/6ca4dd99334ae553c70fbc4ed4165506.jpeg)"
      ],
      "metadata": {
        "id": "16jPvyffWRlR"
      }
    },
    {
      "cell_type": "markdown",
      "source": [
        "А это Жако, или серый попугай. Считаются самыми умными попугаями в мире, потому что они способны не просто на подражание звуков (как это делают многие попугаи)\n",
        "\n",
        "В 1980-х годах ученая Ирэн Пепперберг проводила исследования по языковому мышлению различных животных, и одним из подопытных был серый попугай по имени Алекс. По результатам эксперимента Алекс мог произносить очень много слов, причем он верно отвечал на вопросы и в целом коммуницировал исходя не из подражания, а из логики. В целом было показано, что у него было мышление, как у шестилетнего ребенка, что стало полным открытием для ученых.\n",
        "\n",
        "Хотя, на самом деле, сравнивать мышление попугаев и людей сложно, потому что мышление животных и не должно быть похожим на человеческое"
      ],
      "metadata": {
        "id": "l7vAW4LpWacC"
      }
    }
  ]
}